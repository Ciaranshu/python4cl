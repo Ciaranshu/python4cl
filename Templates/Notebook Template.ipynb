{
 "cells": [
  {
   "cell_type": "markdown",
   "metadata": {},
   "source": [
    "# Notebook Template"
   ]
  },
  {
   "cell_type": "markdown",
   "metadata": {},
   "source": [
    "This notebook provides a template for the course *Python for Linguists*.\n",
    "\n",
    "Before you start, we **strongly** recommend you to read [Markdown's specifications](https://daringfireball.net/projects/markdown/) and IPython's own [Markdown tutorial](https://jupyter-notebook.readthedocs.io/en/stable/examples/Notebook/Working%20With%20Markdown%20Cells.html)."
   ]
  },
  {
   "cell_type": "markdown",
   "metadata": {},
   "source": [
    "## Markdown good practices"
   ]
  },
  {
   "cell_type": "markdown",
   "metadata": {},
   "source": [
    "Markdown offers lots of built-in tools. We won't cover the basics (*italics*, **bold**, $\\LaTeX, \\dots$) as we assume you are already familiar with Markdown by reading its tutorials."
   ]
  },
  {
   "cell_type": "markdown",
   "metadata": {},
   "source": [
    "## Notebook structure\n",
    "\n",
    "Your notebook should be roughly structured as follows:\n",
    "\n",
    "1. The course header.\n",
    "2. Warm up exercise from the previous lecture\n",
    "3. One or more content sections, which:\n",
    "    - **Should** contain one or two ''Try it yourself'' subsections, where students can write some code to practice what you're explaining;\n",
    "    - **May** contain an ''Example'' section, where you show them real world examples;\n",
    "    - **Must** end with a quiz, where you will put a multiple answer quiz to check what they have learned during the section.\n",
    "4. An assessment test, which they will complete on their own.\n",
    "\n",
    "These section **must** be marked with the graphics below. To insert them, please just copy-paste the code in a Markdown cell in your notebook.\n",
    "\n",
    "The icons used are made by <a href=\"https://www.flaticon.com/authors/freepik\" title=\"Freepik\">Freepik</a> from <a href=\"https://www.flaticon.com/\"             title=\"Flaticon\">www.flaticon.com</a> and are licensed with a <a href=\"http://creativecommons.org/licenses/by/3.0/\"             title=\"Creative Commons BY 3.0\" target=\"_blank\">CC 3.0 BY</a> permissive license."
   ]
  },
  {
   "cell_type": "markdown",
   "metadata": {},
   "source": [
    "## Logo"
   ]
  },
  {
   "cell_type": "markdown",
   "metadata": {},
   "source": [
    "Logo 1:\n",
    "\n",
    "<img src=\"../resources/header.jpg\" style=\"width:100%; float:left; margin-right: 1em\" />"
   ]
  },
  {
   "cell_type": "markdown",
   "metadata": {},
   "source": [
    "Logo 2:\n",
    "\n",
    "<img src=\"../resources/python_logo.png\" style=\"width:75%; float:left;\" />"
   ]
  },
  {
   "cell_type": "markdown",
   "metadata": {},
   "source": [
    "<p style=\"font-size:1.5em; font-weight: bold\">\n",
    "<img src=\"../resources/warmup.png\" style=\"height:36pt; display:inline; vertical-align:bottom; margin-right: 4pt\" /> \n",
    "Warm up excercise <hr>\n",
    "</p>\n",
    "\n",
    "```html\n",
    "<p style=\"font-size:1.5em; font-weight: bold\">\n",
    "<img src=\"../../resources/warmup.png\" style=\"height:36pt; display:inline; vertical-align:bottom; margin-right: 4pt\" /> \n",
    "Warm up excercise <hr>\n",
    "</p>\n",
    "```"
   ]
  },
  {
   "cell_type": "markdown",
   "metadata": {},
   "source": [
    "<p style=\"font-size:1.5em; font-weight: bold\">\n",
    "<img src=\"../resources/exercise.png\" style=\"height:36pt; display:inline; vertical-align:bottom; margin-right: 4pt\" /> \n",
    "Try it yourself! <hr>\n",
    "</p>\n",
    "\n",
    "```html\n",
    "<p style=\"font-size:1.5em; font-weight: bold\">\n",
    "<img src=\"../../resources/exercise.png\" style=\"height:36pt; display:inline; vertical-align:bottom; margin-right: 4pt\" /> \n",
    "Try it yourself! <hr>\n",
    "</p>\n",
    "```"
   ]
  },
  {
   "cell_type": "markdown",
   "metadata": {},
   "source": [
    "<p style=\"font-size:1.5em; font-weight: bold\">\n",
    "<img src=\"../resources/quiz.png\" style=\"height:36pt; display:inline; vertical-align:bottom; margin-right: 4pt\" /> \n",
    "Quiz <hr>\n",
    "</p>\n",
    "\n",
    "```html\n",
    "<p style=\"font-size:1.5em; font-weight: bold\">\n",
    "<img src=\"../../resources/quiz.png\" style=\"height:36pt; display:inline; vertical-align:bottom; margin-right: 4pt\" /> \n",
    "Quiz <hr>\n",
    "</p>\n",
    "```"
   ]
  },
  {
   "cell_type": "markdown",
   "metadata": {},
   "source": [
    "<p style=\"font-size:1.5em; font-weight: bold\">\n",
    "<img src=\"../resources/example.png\" style=\"height:36pt; display:inline; vertical-align:bottom; margin-right: 4pt\" /> \n",
    "Example <hr>\n",
    "</p>\n",
    "\n",
    "```html\n",
    "<p style=\"font-size:1.5em; font-weight: bold\">\n",
    "<img src=\"../../resources/example.png\" style=\"height:36pt; display:inline; vertical-align:bottom; margin-right: 4pt\" /> \n",
    "Example <hr>\n",
    "</p>\n",
    "```"
   ]
  },
  {
   "cell_type": "markdown",
   "metadata": {},
   "source": [
    "<p style=\"font-size:1.5em; font-weight: bold\">\n",
    "<img src=\"../resources/assessment.png\" style=\"height:36pt; display:inline; vertical-align:bottom; margin-right: 4pt\" /> \n",
    "Assessment <hr>\n",
    "</p>\n",
    "\n",
    "```html\n",
    "<p style=\"font-size:1.5em; font-weight: bold\">\n",
    "<img src=\"../../resources/assessment.png\" style=\"height:36pt; display:inline; vertical-align:bottom; margin-right: 4pt\" /> \n",
    "Assessment <hr>\n",
    "</p>\n",
    "```"
   ]
  },
  {
   "cell_type": "markdown",
   "metadata": {},
   "source": [
    "## Python Code\n",
    "\n",
    "You should **always** format Python code using Markdown's `monospaced` markup. \n",
    "\n",
    "### Basic Code Markup\n",
    "\n",
    "You should use the monospaced font for everything Python, including:\n",
    "\n",
    "- function names, e.g. `print`;\n",
    "- variables, e.g. `x`, `y`, `a`, etc;\n",
    "- types, e.g. `int`, `string`, etc;\n",
    "- class names, e.g. `Iterable`, `Model`, etc;\n",
    "- exceptions, e.g. `BaseException`, `SyntaxError`, etc.\n",
    "\n",
    "### Function Names\n",
    "\n",
    "You should denote methods and function names with trailing parentheses, e.g. `method()`, `find()`, etc., to help the reader discriminate them from variables.\n",
    "\n",
    "### Code Blocks\n",
    "\n",
    "If you write long code samples, e.g. a function, you should use the multiline code block:\n",
    "\n",
    "    ```python    \n",
    "    def func(x):\n",
    "        return 2 * x    \n",
    "    ```\n",
    "    \n",
    "Is rendered as:\n",
    "\n",
    "```python\n",
    "def func(x):\n",
    "    return 2 * x\n",
    "```\n",
    "\n",
    "Please note that you **must** write `python` after the three backticks to enable syntax highlighting."
   ]
  },
  {
   "cell_type": "markdown",
   "metadata": {},
   "source": [
    "## Code Conventions\n",
    "\n",
    "Please start by reading [CONTRIBUTING.md](https://github.com/cambridgeltl/python4cl/blob/master/CONTRIBUTING.md#code-conventions).\n",
    "\n",
    "We will follow the standard Python code conventions, as described in [PEP 8](https://www.python.org/dev/peps/pep-0008/) \n",
    "and [PEP 257](https://www.python.org/dev/peps/pep-0257/).\n",
    "Here we present a quick summary of the most important conventions:\n",
    "\n",
    "- All files **must** be encoded in UTF-8 format.\n",
    "- Indentation: use 4 spaces per indentation level.\n",
    "- Function and variable names: function names should be lowercase, with words separated by underscores as necessary to improve readability. Variable names follow the same convention as function names.\n",
    "  - Examples: ```def function_name(x), variable_name = 5```\n",
    "- Constants: \n",
    "  - Constants are usually defined on a module level and written in all capital letters with underscores separating words, e.g. `MAX_OVERFLOW` and `TOTAL`.\n",
    "  - If you use constants, please **always** define them at the top of the notebook.\n",
    "- Class names should normally use the CapWords convention, e.g. `ClassName`.\n",
    "- Avoid variable and function names that avoid built-in functions or libraries, as for example `sys`, `type`, `string`, \n",
    "`global`, `lambda`, etc.\n",
    "- If you write externals classes or functions, please comment them with [docstrings](https://www.python.org/dev/peps/pep-0257/).\n",
    "\n",
    "An example of well-written code is:\n",
    "```python\n",
    "def function_name(parameter_one, parameter_two=1):\n",
    "    \"\"\"Returns the first parameter to the power of the second parameter.\n",
    "\n",
    "    Arguments:\n",
    "    parameter_one -- a base.\n",
    "    parameter_two -- an exponent (default 1).\n",
    "    \"\"\"\n",
    "    return parameter_one ** parameter_two\n",
    "```\n",
    "\n",
    "\n",
    "Please keep the spacing consistent. A good idea is to use a code prettifier; \n",
    "there is one available for Jupyter in the [extensions](jupyter_contrib_nbextensions). \n",
    "After you enable the extensions (see below), you can install the prettifier by running\n",
    "```jupyter nbextension enable code_prettify/code_prettify``` in a terminal, or using\n",
    "the provided web interface as explained below."
   ]
  },
  {
   "cell_type": "markdown",
   "metadata": {},
   "source": [
    "## Maths\n",
    "\n",
    "For an aesthetically coherent course, please use $\\LaTeX$ whenever you write maths. \n",
    "\n",
    "For example,\n",
    "- write $x > 1$, instead of ''x > 1'';\n",
    "- write $\\frac{3}{4}$, instead of 3/4;\n",
    "- write $\\pi$, $\\alpha$, $\\Gamma$, instead of pi, alpha, Gamma.\n",
    "\n",
    "If an equation is very complex, you should put it in its own line using the double dollar syntax, i.e.\n",
    "\n",
    "    $$ equation $$\n",
    "    \n",
    "For example:\n",
    "\n",
    "$$i \\hbar \\frac{d}{d t}\\vert\\Psi(t)\\rangle = \\hat H\\vert\\Psi(t)\\rangle$$\n"
   ]
  },
  {
   "cell_type": "markdown",
   "metadata": {},
   "source": [
    "## Self-assessment quizzes"
   ]
  },
  {
   "cell_type": "markdown",
   "metadata": {},
   "source": [
    "<p style=\"font-size:1.5em; font-weight: bold\">\n",
    "<img src=\"../resources/quiz.png\" style=\"height:36pt; display:inline; vertical-align:bottom; margin-right: 4pt\" /> \n",
    "Quiz <hr>\n",
    "</p>\n",
    "\n",
    "What is the correct way of writing a quiz?\n",
    "\n",
    "1. Writing custom CSS/JS code.\n",
    "2. Using HTML5's `<details>` tag.\n",
    "3. Using an external plugin.\n",
    "\n",
    "<hr>    <!-- please remember this! -->\n",
    "<details>\n",
    "  <summary>Click <b>here</b> to see the answer.</summary>\n",
    "  <p>The correct answer is the number 2.</p>\n",
    "  <p>Answers 1 and 3 are wrong, because...</p>\n",
    "</details> \n",
    "\n",
    "### HTML5 Code:\n",
    "\n",
    "```html\n",
    "<p style=\"font-size:1.5em; font-weight: bold\">\n",
    "<img src=\"../../resources/quiz.png\" style=\"height:36pt; display:inline; vertical-align:bottom; margin-right: 4pt\" /> \n",
    "Quiz <hr>\n",
    "</p>\n",
    "\n",
    "Quiz text.\n",
    "\n",
    "1. Answer\n",
    "2. Answer\n",
    "3. Answer\n",
    "\n",
    "<hr>    <!-- please remember this! -->\n",
    "<details>\n",
    "  <summary>Click <b>here</b> to see the answer.</summary>\n",
    "  <p>The correct answer is the number 2.</p>\n",
    "  <p>Answers 1 and 3 are wrong, because...</p>\n",
    "</details> \n",
    "```"
   ]
  },
  {
   "cell_type": "code",
   "execution_count": null,
   "metadata": {},
   "outputs": [],
   "source": []
  }
 ],
 "metadata": {
  "kernelspec": {
   "display_name": "Python 3",
   "language": "python",
   "name": "python3"
  },
  "language_info": {
   "codemirror_mode": {
    "name": "ipython",
    "version": 3
   },
   "file_extension": ".py",
   "mimetype": "text/x-python",
   "name": "python",
   "nbconvert_exporter": "python",
   "pygments_lexer": "ipython3",
   "version": "3.6.9"
  },
  "toc": {
   "base_numbering": 1,
   "nav_menu": {},
   "number_sections": true,
   "sideBar": true,
   "skip_h1_title": false,
   "title_cell": "Table of Contents",
   "title_sidebar": "Contents",
   "toc_cell": false,
   "toc_position": {},
   "toc_section_display": true,
   "toc_window_display": false
  },
  "varInspector": {
   "cols": {
    "lenName": 16,
    "lenType": 16,
    "lenVar": 40
   },
   "kernels_config": {
    "python": {
     "delete_cmd_postfix": "",
     "delete_cmd_prefix": "del ",
     "library": "var_list.py",
     "varRefreshCmd": "print(var_dic_list())"
    },
    "r": {
     "delete_cmd_postfix": ") ",
     "delete_cmd_prefix": "rm(",
     "library": "var_list.r",
     "varRefreshCmd": "cat(var_dic_list()) "
    }
   },
   "types_to_exclude": [
    "module",
    "function",
    "builtin_function_or_method",
    "instance",
    "_Feature"
   ],
   "window_display": false
  }
 },
 "nbformat": 4,
 "nbformat_minor": 2
}
