{
 "cells": [
  {
   "cell_type": "code",
   "execution_count": 1,
   "metadata": {
    "tags": [
     "remove_input"
    ]
   },
   "outputs": [
    {
     "data": {
      "text/html": [
       "\n",
       "<center>\n",
       "<iframe src=\"https://docs.google.com/forms/d/e/1FAIpQLSf2aY7y67T0Ucf-PUzCHg5-ramGsh9Ii5HngYQtYTEXb9nTiQ/viewform?embedded=true\" \n",
       "width=\"640\" height=\"1435\" frameborder=\"0\" marginheight=\"0\" marginwidth=\"0\">Loading...</iframe></center>\n"
      ],
      "text/plain": [
       "<IPython.core.display.HTML object>"
      ]
     },
     "execution_count": 1,
     "metadata": {},
     "output_type": "execute_result"
    }
   ],
   "source": [
    "from IPython.display import HTML\n",
    "HTML(\n",
    "\"\"\"\n",
    "<center>\n",
    "<iframe src=\"https://docs.google.com/forms/d/e/1FAIpQLSf2aY7y67T0Ucf-PUzCHg5-ramGsh9Ii5HngYQtYTEXb9nTiQ/viewform?embedded=true\" \n",
    "width=\"640\" height=\"1435\" frameborder=\"0\" marginheight=\"0\" marginwidth=\"0\">Loading...</iframe></center>\n",
    "\"\"\"\n",
    ")"
   ]
  },
  {
   "cell_type": "code",
   "execution_count": null,
   "metadata": {},
   "outputs": [],
   "source": []
  }
 ],
 "metadata": {
  "kernelspec": {
   "display_name": "Python 3",
   "language": "python",
   "name": "python3"
  },
  "language_info": {
   "codemirror_mode": {
    "name": "ipython",
    "version": 3
   },
   "file_extension": ".py",
   "mimetype": "text/x-python",
   "name": "python",
   "nbconvert_exporter": "python",
   "pygments_lexer": "ipython3",
   "version": "3.6.8"
  }
 },
 "nbformat": 4,
 "nbformat_minor": 2
}
