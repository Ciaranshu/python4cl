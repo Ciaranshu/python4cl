{
  "cells": [
    {
      "metadata": {
        "tags": [
          "remove_input"
        ],
        "trusted": true
      },
      "cell_type": "code",
      "source": "from IPython.display import HTML\nHTML(\n\"\"\"\n<center>\n<iframe src=\"https://docs.google.com/forms/d/e/1FAIpQLSf2aY7y67T0Ucf-PUzCHg5-ramGsh9Ii5HngYQtYTEXb9nTiQ/viewform?embedded=true\" \nwidth=\"640\" height=\"1435\" frameborder=\"0\" marginheight=\"0\" marginwidth=\"0\">Loading...</iframe></center>\n\"\"\"\n)",
      "execution_count": 1,
      "outputs": [
        {
          "output_type": "error",
          "ename": "SyntaxError",
          "evalue": "EOF while scanning triple-quoted string literal (<ipython-input-1-5d27a542d29b>, line 49)",
          "traceback": [
            "\u001b[0;36m  File \u001b[0;32m\"<ipython-input-1-5d27a542d29b>\"\u001b[0;36m, line \u001b[0;32m49\u001b[0m\n\u001b[0;31m    quiz()\u001b[0m\n\u001b[0m          \n^\u001b[0m\n\u001b[0;31mSyntaxError\u001b[0m\u001b[0;31m:\u001b[0m EOF while scanning triple-quoted string literal\n"
          ]
        }
      ]
    },
    {
      "metadata": {
        "trusted": true
      },
      "cell_type": "code",
      "source": "",
      "execution_count": null,
      "outputs": []
    }
  ],
  "metadata": {
    "kernelspec": {
      "name": "python36",
      "display_name": "Python 3.6",
      "language": "python"
    }
  },
  "nbformat": 4,
  "nbformat_minor": 2
}