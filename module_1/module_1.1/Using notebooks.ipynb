{
  "cells": [
    {
      "metadata": {},
      "cell_type": "markdown",
      "source": "<div style='background-image: url(\"header2.jpg\") ; padding: 0px ; background-size: cover ; border-radius: 5px ; height: 250px'>\n    <div style=\"float: right ; margin: 50px ; padding: 20px ; background: rgba(255 , 255 , 255 , 0.7) ; width: 50% ; height: 150px\">\n        <div style=\"position: relative ; top: 50% ; transform: translatey(-50%)\">\n            <div style=\"font-size: x-large ; font-weight: 900 ; color: rgba(0 , 115 , 207 , 0.9) ; line-height: 100%\">Python for Computational Linguists</div>\n            <div style=\"font-size: x-large ; padding-top: 20px ; color: rgba(0 , 115 , 207, 0.7)\">Using Jupyter notebooks </div>\n        </div>\n    </div>\n</div>"
    },
    {
      "metadata": {
        "collapsed": true
      },
      "cell_type": "markdown",
      "source": "# Jupyter notebooks\n\n\n<p> [Jupyter notebooks](https://jupyter.org/) are designed to give you practice learning and writing short snippets of code. We'll use them in Modules 1 and 2 to teach you Python from basic principles. When you've acquired some skill and confidence we'll then move on in Modules 3 and 4 to working on Python in a more realistic programming environment called [Spyder](https://en.wikipedia.org/wiki/Spyder_(software)) which is part of the [Anaconda distribution of Python](https://en.wikipedia.org/wiki/Anaconda_(Python_distribution)). Both Jupyter and Spyder are examples of what we call  *integrated development environments* or [IDEs](https://en.wikipedia.org/wiki/Integrated_development_environment) where you can practice editing, running and debugging your programs. More about Spyder later in the course!   \n    \n<p>For now it's enough to know that Jupyter notebooks provide an interactive environment where you can mix text, equations, computer code\nand visual outputs. This is new technology that is increasingly widely used, and it is all free and open-source.</p>    \n\n## Using the Azure notebook service\n\n<p> Microsoft's [Azure notebook service](https://notebooks.azure.com/) provides a cloud-based environment for running Jupyter notebooks. \nYou can log in with your CRSid by navigating to https://notebooks.azure.com/.</p>\n\n## Running and viewing the course material\n\n<p>There are 12 notebook activities for this course, plus some other helper notebooks (including this one), arranged in a library.</p>\n\n- Click on a notebook to view it.\n\n- Click 'Clone' to get your own, runnable and editable copy of the library. If you are not logged in you will be \n  prompted to log in. Use your CRSid.\n  \n- Experiment freely with your clone of the activity notebooks - you can always return to the master version.\n\nOnce you have your own version of the notebooks, open a notebook and run it \nvia the menu bar with  `Kernel -> Restart & Run All`. Try making an edit and then run the notebook again to see\nyour change.\n\n<p>The notebooks are designed to be completed in order. To complete an activity:</p>\n\n* Read through a notebook, and change parts of the programs if you want to experiment with what happens - this will help your understanding.\n* Complete the exercises for the notebook before moving onto the next activity.\n\n<p>As you move through the activities you might need to revise some of the earlier notebooks.</p>\n\n\n# Editing and running notebooks\n\n<p>Jupyter notebooks have *text* cells and *code* cells. If you double-click on part of a notebook\nin a Jupyter environment (see above for creating a Jupyter environment on Azure), the cell\nwill become editable. You will see in the menu bar whether it is a text cell ('Markdown') or a code cell ('Code').\nYou can use the drop-down box at the top of a notebook to change the cell type.\nYou can use `Insert` from the menu bar to insert a new cell.</p>\n\n<p>The current cell can be 'run' using `shift-return` (the current cell is highlighted by a bar on the left-hand\nside of the page). When run, a text cell will be typeset, and the code in a 'code cell' will be executed. \nAny output from a code cell will appear below the code.</p>\n\n<p>Often you will want to run all cells from the start of a notebook. You can do this with `Kernel -> Restart & Run All` from the notebook menu bar. In this case the cells are executed in order (first through to last).</p>\n\n<p>Below is a code cell containing a Python command - try running it. Did you see the answer displayed?</p>"
    },
    {
      "metadata": {
        "trusted": true
      },
      "cell_type": "code",
      "source": "print(3 + 4)",
      "execution_count": 3,
      "outputs": [
        {
          "output_type": "stream",
          "text": "7\n",
          "name": "stdout"
        }
      ]
    },
    {
      "metadata": {},
      "cell_type": "markdown",
      "source": "# Formatting text cells\n\n<p>Text cells are formatted using *Markdown*, and using *LaTeX* syntax for mathematics. Make good use of text cells to explain what your program does, and how it does it. If you need to you can use mathematical typesetting to express yourself mathematically.</p>\n\n##  Markdown\n\nYou can find all the details in the [Jupyter Markdown documentation](http://jupyter-notebook.readthedocs.io/en/latest/examples/Notebook/Working%20With%20Markdown%20Cells.html).\n\nBelow is a brief summary.\n\n### Headings \n\nUsing Markdown, headings are indicated by '`#`':\n```\n# Top level heading\n## Second level heading\n### Third level heading\n```\n\n### Text style\n\nThe Markdown input\n```\nOpening passage\n\n`A passage of text`\n\n*Some more text*\n\n**Yet more text**\n\n```\n\nappears as:\n\n\nOpening passage\n\n`A passage of text`\n\n*Some more text*\n\n**Yet more text**\n"
    },
    {
      "metadata": {},
      "cell_type": "markdown",
      "source": "### Lists\n\nYou can create bulleted lists using:\n```\n- Option A\n- Option B\n```\nto show\n- Option A\n- Option B\n\nand enumerated lists using\n```\n1. Old approach\n1. New approach\n```\nto show\n1. Old approach\n1. New approach\n\nMarkdown resolves the list number for you."
    },
    {
      "metadata": {},
      "cell_type": "markdown",
      "source": "### Code\n\nCode can be typeset using:\n\n    ```python\n    def f(x):\n        return x*x\n    ```\n\nwhich produces\n\n```python\ndef f(x):\n    return x*x\n```"
    },
    {
      "metadata": {},
      "cell_type": "markdown",
      "source": "You can include images in Jupyter notebooks - see [Jupyter Markdown documentation](http://jupyter-notebook.readthedocs.io/en/latest/examples/Notebook/Working%20With%20Markdown%20Cells.html)."
    },
    {
      "metadata": {},
      "cell_type": "markdown",
      "source": "## LaTeX\n\nMarkdown cells support [LaTeX](https://www.latex-project.org/) syntax for typesetting mathematics. LaTeX is the leading tool for technical documents and presenting mathematics, and is available for free.\n\n> There are alternatives but learning LaTeX is a good investment for writing really beautiful dissertations. You might want to try https://www.overleaf.com/ for an online LaTeX environment. \n\nTo typeset an inline equation, use:\n```\nAnd the likelihood, $P(w_{1}^{n}|t_{1}^{n})$, can be approximated from the lexicon obtained from the corpus as $P(w^{n}_{1}|t_{1}^{n}) \\approx \\prod_{i=1}^{n} P(w_{i}|t_{i})$.\n```\nwhich will appear as:\n\n'And the likelihood, $P(w_{1}^{n}|t_{1}^{n})$, can be approximated from the lexicon obtained from the corpus as $P(w^{n}_{1}|t_{1}^{n}) \\approx \\prod_{i=1}^{n} P(w_{i}|t_{i})$'\n\nSearch online to learn the LaTeX commands for different mathematical symbols. If \nyou see an example of mathematical typesetting in a notebook, you can also double-click \nit in a Jupyter environment\nto see the syntax. There\nare lots of examples at https://notebooks.azure.com/library/1A-maths."
    },
    {
      "metadata": {},
      "cell_type": "markdown",
      "source": "# Acknowledgements\n\nThis notebook is based on an earlier version by Garth Wells at the Department of Engineering at University of Cambridge. Any mistakes of course are all my own."
    }
  ],
  "metadata": {
    "kernelspec": {
      "name": "python36",
      "display_name": "Python 3.6",
      "language": "python"
    },
    "language_info": {
      "mimetype": "text/x-python",
      "nbconvert_exporter": "python",
      "name": "python",
      "pygments_lexer": "ipython3",
      "version": "3.6.6",
      "file_extension": ".py",
      "codemirror_mode": {
        "version": 3,
        "name": "ipython"
      }
    }
  },
  "nbformat": 4,
  "nbformat_minor": 2
}