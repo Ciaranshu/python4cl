{
 "cells": [
  {
   "cell_type": "markdown",
   "metadata": {},
   "source": [
    "<div style='background-image: url(\"../../resources/section_header.jpg\") ; padding: 0px ; background-size: cover ; border-radius: 5px ; height: 250px'>\n",
    "    <div style=\"float: right ; margin: 50px ; padding: 20px ; background: rgba(255 , 255 , 255 , 0.7) ; width: 50% ; height: 150px\">\n",
    "        <div style=\"position: relative ; top: 50% ; transform: translatey(-50%)\">\n",
    "            <div style=\"font-size: x-large ; font-weight: 900 ; color: rgba(0 , 115 , 207 , 0.9) ; line-height: 100%\">Python for Computational Linguists</div>\n",
    "            <div style=\"font-size: x-large ; padding-top: 20px ; color: rgba(0 , 115 , 207, 0.7)\">1.1 About the course </div>\n",
    "        </div>\n",
    "    </div>\n",
    "</div>"
   ]
  },
  {
   "cell_type": "markdown",
   "metadata": {},
   "source": [
    "# 1.1 About Python for Computational Linguists (And why study Python?)\n",
    "\n",
    "><span style=\"color:blue\">**2019 STUDENTS PLEASE NOTE:** The actual PyCompLing will *officially start* in October 2020. This is a draft of the course material and is subject to change. For students who want to volunteer to have a go in October 2019 a trial will be open for Modules 1 and 2. **No official credit for this trial will be awarded towards the Li18 course**. However students who complete the Python course assignments and provide feedback will be able to receive a Departmental Certificate in recognition of their efforts.</span>\n",
    "\n",
    "\n",
    "\n",
    "## Welcome!\n",
    "\n",
    "<img src=\"nigel.jpg\"/>\n",
    "\n",
    "<p>Welcome everyone! This Jupyter Notebook that you're looking at right now is part of the **Python for Computational Linguists lab** which is specially designed to accompany the Li18 Computational Linguistics course in the School of Arts and Humanities at the University of Cambridge.</p>\n",
    "\n",
    "<p>The Python practical is aimed at those new to programming and provides an introduction to **Python version 3.6** with a focus specifically on Natural Language Processing (NLP). By the end of this course, you should feel confident to write simple Python programs for a variety of purposes and understand more complex Python programs written by others.</p>\n",
    "\n",
    "<p>*Why study Python programming?*</p>\n",
    "\n",
    "<p>Good question! The short answer is that Python is a great practical skill if you want to work with data to answer linguistic questions (corpus linguistics) or build models that can analyse, process and generate text (NLP). Learning programming also helps you develop problem solving skills which are very transferable.</p>\n",
    "\n",
    "<p>And here's the long answer ...</p>\n",
    "\n",
    "* Computational Linguistics is a broad and intellectually demanding subject that draws on several academic disciplines but at its core it is also essentially a practical subject. We believe that part of the training to become a great Computational Linguist should be to become confident in applying NLP methods to gain real insights from real corpus data. Our aim in this these Python labs ('PyCompLing') is to give you a gentle introduction to Python 3 programming that is *custom-made* for Computational Linguists. If your interest at the moment is more on the theory (we hope you'll soon get hooked on programming!) then you can think that the skills you learn in the Python classes will provide a functional context for the concepts you are studying in the lectures. And if you wish to pursue the subject further then the skills you learn here should equip you for more advanced study, e.g. in a 3rd year project or in MPhil research.  \n",
    "\n",
    "* Python 3 is one of the most widely taught programming languages at universities. But why the popularity? Essentially Python is fairly easy to learn and comes with a powerful set of libraries that allow you to quickly get up and running with your own NLP tasks and applications. Or in other words you can draw on a wide body of pre-built programs that others have already built so you don't have to re-invent the wheel! \n",
    "\n",
    "* Programming languages like Python tend to be glue-like, good at linking together assorted software libraries ('libraries'). Quite soon you'll start hearing about some libraries with names like:\n",
    "\n",
    "    * *spaCy*: a high performance NLP toolkit\n",
    "    * *NLTK*: the NLP Toolkit ([there's a book](http://www.nltk.org/book/))\n",
    "    * *scikit-learn*: machine learning\n",
    "    * *gensim*: topic modeling \n",
    "\n",
    "Libraries are what enables Python code to be so concise and expressive, and also fast at working with large amounts of data. It means you need to know your way around some big libraries, so you don't spend all your time endlessly rewriting code that others have already made available.\n",
    "  \n",
    "* Finally, Python also offers lots of support to programmers with a huge following in forums such as StackOverFlow (https://stackoverflow.com/) and CodeAcademy (https://www.codecademy.com/). If you've got a question about Python the chances are that somebody in one of these forums has already provided an answer!\n",
    "\n",
    "\n",
    "\n",
    "### Pre-requisites\n",
    "\n",
    "- No prior programming experience is expected.\n",
    "- You will need to ensure that you have set aside some time after each PyCompLing lab for completing the exercise(s). \n",
    "- In Modules 3 and 4 (Lent term) you will install and use a software package called Anaconda on a PC to create, run and debug Python programs on the PC itself. Modules 1 and 2 (Michaelmas term) will take place within a Jupyter Notebook environment on the Azure cloud so you don't need to worry about setting up anything. \n",
    "\n",
    "\n",
    "## The course structure\n",
    "\n",
    "<p>Python for Computational Linguists will run in 4 Modules:</p>\n",
    "    \n",
    "* Module 1: [Basic Python concepts for corpus processing](../module_1.2/module_1.2.ipynb) (Michaelmas, weeks 1 to 4)\n",
    "* Module 2: [Text classification and evaluation](../module_2/module_2.1/module_2.1.ipynb) (Michaelmas, weeks 5 to 8)\n",
    "* Module 3: [Word vectors and word meaning](../module_3/module_3.1/module_3.1.ipynb) (Lent, weeks 1 to 4)\n",
    "* Module 4: [Introduction to neural networks](../module_4/module_4.1/module_4.1.ipynb) (Lent, weeks 5 to 8)\n",
    "    \n",
    "<p>Each Module is expected to be run over 4 weeks with 2 hours per week of laboratory time. Labs 1 to 3 in each Module will be to learn and practice Python. Lab 4 in each Module is set aside for assessing the exercises you will do:</p>\n",
    "\n",
    "<img src=\"overview1a.jpg\" width=\"50%\" height=\"50%\"/>\n",
    "\n",
    "<p>The content of each Module has been designed to carefully align with the topics we are studying in the lecture classes. For example Module 1 aligns with Regular Expressions and Text Normalization which you will study in Lecture 2.</p>\n",
    "\n",
    "<p>Unlike the lectures where we will focus on fundamental techniques, PyCompLing will emphasize the use of practical hands-on skills for solving NLP problems. By the end of Module 2 you should be well along the road to building your own text processing pipelines using open source Python libraries like spaCy and NLTK, and by the end of the course you should be able to evaluate various NLP techniques and explore data to answer your own questions.</p>\n",
    "\n",
    "\n",
    "### Textbook\n",
    "\n",
    "The main Li18 course text book is Jurafsky and Martin (J&amp;M, *[version 2](https://www.amazon.co.uk/Speech-Language-Processing-International-Version/dp/0135041961/ref=asc_df_0135041961/?tag=googshopuk-21&linkCode=df0&hvadid=310848077451&hvpos=1o3&hvnetw=g&hvrand=4910692407652136116&hvpone=&hvptwo=&hvqmt=&hvdev=c&hvdvcmdl=&hvlocint=&hvlocphy=9044913&hvtargid=pla-453380309962&psc=1&th=1&psc=1)*) with supplementary material from J&amp;M version 3 (*[draft online](https://web.stanford.edu/~jurafsky/slp3/)*). These textbooks and the accompanying lectures explain *theoretical concepts* that we won’t have time to explain in the practical lab. We don’t yet have a course textbook for the Python practical so these Jupyter notebooks will be your primary source.\n",
    "\n",
    "### Lecture notes\n",
    "\n",
    "<p>All lecture notes covering NLP theory are available to you in PDF format on Moodle. The Jupyter Notebooks for the Python practicals are available to you on *[Microsoft Azure](https://notebooks.azure.com/)*. As a student at the University you should not need to request an Azure account – this is already available for you to access with your Raven login. More on getting started very soon!</p>\n",
    "\n",
    "## Assignments\n",
    "\n",
    "<p>In the 2020 lectures you will continue to receive weekly theory-led assignments which you will hand in for discussion during supervisions. To balance for the increased workload the number of theory-led assignments will be reduced. In 2020 what will change is that you will also receive Python assignments in the PyCompLing labs.</p>\n",
    "\n",
    "* At various points within each Module there will be a variety of **formative assessments** with feedback by an *automated grader* to allow you to find out what you know. In this way you can better focus your own learning. The automated grader is for you to use as a debugging aide: run it as many times as you need until your code gives the right answer. You should aim to answer all the questions. The automatic grader will show you your progress. Remember that the formative assessments are for your information - they will not count towards your grade on the module. You can see and try an [example exercise here](Sample%20exercise.ipynb).\n",
    "    \n",
    "* At the end of each Module **summative assessment questions** (SAQs) will be worth TBD% of the final assessment for the course, i.e. you can score a maximum of TBD marks for each of the four Modules making up TBD% of the course marks (<span style=\"color:blue\">**Reminder: this will apply from October 2020, not from October 2019**</span>). The expectation is that SAQs should be completable within the 2 hour laboratory session. However don't worry if you can't complete the work within the lab time, SAQs can be completed away from the lab, e.g. on a Chromebook in the MML library. SAQs are checked in person at a sign-up session by Teaching Assistants (TAs) in the fourth week of each module (e.g Weeks 4 and 8 in Michaelmas term). At the sign-up session TAs will choose some parts of the SAQs and ask you to explain your answers. The grading session is for the examiners to guard against plagiarism. ** Please do not search for or view solutions to the SAQs on the Web or share SAQ solutions with friends**. At the sign-up session you should have your notebooks ready and open in a browser, and your code should execute without errors.  You may also be called on by the course coordinator to explain your answer so we can verify its originality. \n",
    "\n",
    "<p>Use Markdown cells, to describe what your program is doing.</p>\n",
    "\n",
    "- For longer exercises, you may want to break your program into multiple cells, with descriptions in \n",
    "  Markdown before cells with code.\n",
    "- Most exercises include some automated testing to provide feedback on the correctness of \n",
    "  your implementations. You are not expected to understand the test syntax to start.   \n",
    "  \n",
    "<p>Remember that you are required to present your summative exercise solutions at a marking session. Check the lab rota for your timetabled marking slot.</p>\n",
    "\n",
    "\n",
    "## Getting help\n",
    "\n",
    "<p>You need to understand what your programs are doing and in the sign-up session you will be asked to justify your answers to the assignments. However, it's fine to get help, almost everyone will get stuck from time to time, so find the best way to get help whenever you need it.</p>\n",
    "\n",
    "<p>First things first: *Don't Panic*. Here are some strategies to get you back on track:</p>\n",
    "\n",
    "1. Double check the instructions in the Jupyter notebook\n",
    "2. One of the best sources of help is the Internet. Do a Google search (e.g. \"Python regular expressions\") or a StackOverflow search (e.g. \"stack overflow Python regular expressions\")\n",
    "3. Do a quick search of the Li18 Moodle forum to see if the topic is covered there\n",
    "4. Ask a buddy (you will be teamed up in groups of two for the duration of the course)\n",
    "5. Ask a TA during lab time (*but only when the course is up and running in October 2020*)\n",
    "\n",
    "\n",
    "## Providing help\n",
    "\n",
    "<p> Please do consider sharing your questions and answers with other students on the Li18 Moodle Forum (although not obviously for the summative assessments!). </p>\n",
    "\n",
    "\n",
    "## Complete the short pre-course survey\n",
    "\n",
    "<p>To make the best of your experience with this Python course it's helpful for you to reflect on your progress. The following questions are intended to help you think about your starting position. You'll have a chance at the end of the course to reflect on these questions again. The questions will also provide valuable insights to help us keep improving the course. To get started click on the cell below and type control plus enter (CTRL+ENTER)</p>\n",
    "\n"
   ]
  },
  {
   "cell_type": "code",
   "execution_count": 1,
   "metadata": {},
   "outputs": [
    {
     "data": {
      "text/html": [
       "\n",
       "<center>\n",
       "<iframe src=\"https://docs.google.com/forms/d/e/1FAIpQLSf2aY7y67T0Ucf-PUzCHg5-ramGsh9Ii5HngYQtYTEXb9nTiQ/viewform?usp=sf_link\" \n",
       "width=\"480\" height=\"2435\" frameborder=\"0\" marginheight=\"0\" marginwidth=\"0\">Loading...</iframe></center>\n"
      ],
      "text/plain": [
       "<IPython.core.display.HTML object>"
      ]
     },
     "execution_count": 1,
     "metadata": {},
     "output_type": "execute_result"
    }
   ],
   "source": [
    "\n",
    "from IPython.display import HTML\n",
    "HTML(\n",
    "\"\"\"\n",
    "<center>\n",
    "<iframe src=\"https://docs.google.com/forms/d/e/1FAIpQLSf2aY7y67T0Ucf-PUzCHg5-ramGsh9Ii5HngYQtYTEXb9nTiQ/viewform?usp=sf_link\" \n",
    "width=\"480\" height=\"2435\" frameborder=\"0\" marginheight=\"0\" marginwidth=\"0\">Loading...</iframe></center>\n",
    "\"\"\"\n",
    ")\n",
    "\n"
   ]
  },
  {
   "cell_type": "markdown",
   "metadata": {},
   "source": [
    "<p>Thank you for taking the time to complete this survey, it's really appreciated.  We hope that you enjoy the course!</p>"
   ]
  },
  {
   "cell_type": "markdown",
   "metadata": {},
   "source": [
    "## And finally ...\n",
    "\n",
    "You're now ready to start work.  Move on to [Module 1.2](../module_1.2/module_1.2.ipynb) to get started learning Python!"
   ]
  },
  {
   "cell_type": "markdown",
   "metadata": {},
   "source": [
    "## Acknowledgements\n",
    "\n",
    "Firstly huge thanks to all the members of the [Language Technology Lab](http://ltl.mml.cam.ac.uk/) at Cambridge University who have given their time so generously to designing, coding and testing PyCompLing!  This includes Costanza Conforti, Edoardo Ponti, Flora Liu, Yi Zhu, Simon Baker, Haim Dubossarsky and Marco Basaldella.  Also thank you to Garth Wells and to Damon Wischik in the Department of Engineering and the Computer Lab respectively for inspirational discussions about their own Python courses. Some parts of these notebooks are derived from those of Garth and Damon's."
   ]
  }
 ],
 "metadata": {
  "kernelspec": {
   "display_name": "Python 3",
   "language": "python",
   "name": "python3"
  },
  "language_info": {
   "codemirror_mode": {
    "name": "ipython",
    "version": 3
   },
   "file_extension": ".py",
   "mimetype": "text/x-python",
   "name": "python",
   "nbconvert_exporter": "python",
   "pygments_lexer": "ipython3",
   "version": "3.6.9"
  },
  "toc": {
   "base_numbering": 1,
   "nav_menu": {},
   "number_sections": false,
   "sideBar": true,
   "skip_h1_title": false,
   "title_cell": "Table of Contents",
   "title_sidebar": "Contents",
   "toc_cell": false,
   "toc_position": {},
   "toc_section_display": true,
   "toc_window_display": false
  },
  "varInspector": {
   "cols": {
    "lenName": 16,
    "lenType": 16,
    "lenVar": 40
   },
   "kernels_config": {
    "python": {
     "delete_cmd_postfix": "",
     "delete_cmd_prefix": "del ",
     "library": "var_list.py",
     "varRefreshCmd": "print(var_dic_list())"
    },
    "r": {
     "delete_cmd_postfix": ") ",
     "delete_cmd_prefix": "rm(",
     "library": "var_list.r",
     "varRefreshCmd": "cat(var_dic_list()) "
    }
   },
   "types_to_exclude": [
    "module",
    "function",
    "builtin_function_or_method",
    "instance",
    "_Feature"
   ],
   "window_display": false
  }
 },
 "nbformat": 4,
 "nbformat_minor": 2
}
