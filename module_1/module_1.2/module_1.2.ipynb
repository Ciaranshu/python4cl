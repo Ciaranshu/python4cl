{
  "nbformat": 4,
  "nbformat_minor": 0,
  "metadata": {
    "kernelspec": {
      "display_name": "Python 3",
      "language": "python",
      "name": "python3"
    },
    "language_info": {
      "codemirror_mode": {
        "name": "ipython",
        "version": 3
      },
      "file_extension": ".py",
      "mimetype": "text/x-python",
      "name": "python",
      "nbconvert_exporter": "python",
      "pygments_lexer": "ipython3",
      "version": "3.6.9"
    },
    "toc": {
      "base_numbering": 1,
      "nav_menu": {},
      "number_sections": true,
      "sideBar": true,
      "skip_h1_title": false,
      "title_cell": "Table of Contents",
      "title_sidebar": "Contents",
      "toc_cell": false,
      "toc_position": {
        "height": "calc(100% - 180px)",
        "left": "10px",
        "top": "150px",
        "width": "371px"
      },
      "toc_section_display": true,
      "toc_window_display": false
    },
    "varInspector": {
      "cols": {
        "lenName": 16,
        "lenType": 16,
        "lenVar": 40
      },
      "kernels_config": {
        "python": {
          "delete_cmd_postfix": "",
          "delete_cmd_prefix": "del ",
          "library": "var_list.py",
          "varRefreshCmd": "print(var_dic_list())"
        },
        "r": {
          "delete_cmd_postfix": ") ",
          "delete_cmd_prefix": "rm(",
          "library": "var_list.r",
          "varRefreshCmd": "cat(var_dic_list()) "
        }
      },
      "types_to_exclude": [
        "module",
        "function",
        "builtin_function_or_method",
        "instance",
        "_Feature"
      ],
      "window_display": false
    },
    "colab": {
      "name": "module_1.2.ipynb",
      "provenance": []
    }
  },
  "cells": [
    {
      "cell_type": "markdown",
      "metadata": {
        "id": "vIp9q5JUTkjG",
        "colab_type": "text"
      },
      "source": [
        "# Python for Computational Linguists: 1.2 - Introduction to Python"
      ]
    },
    {
      "cell_type": "markdown",
      "metadata": {
        "id": "3AATENhqTkjI",
        "colab_type": "text"
      },
      "source": [
        "# Python for Linguists"
      ]
    },
    {
      "cell_type": "markdown",
      "metadata": {
        "id": "PSQh4MfTTkjL",
        "colab_type": "text"
      },
      "source": [
        "Hello and welcome to the first module of Python for Computational Linguistics!\n",
        "\n",
        "This module will introduce to Python, the programming language that we will use throughout this course. We recommend you to go through this module even if you're already familiar with Python - a reminder is always good.\n",
        "\n",
        "## What is Python?\n",
        "\n",
        "Python is a simple programming language which aim is to aid programmers to write clear, readable code quickly, and it's particularly suitable for beginners due to its simple syntax. However, don't be fooled by its simplicity - Python is a full-fledged programming language which, later in this course, will allow us to build complex language models and train huge neural networks! \n",
        "\n",
        "> 💻 **<font color='teal'>Try it yourself!</font>**\n",
        "\n",
        "To begin your career as a programmer, you can run your first Python code in the box below by clicking inside the box with your mouse and pressing simultaneously the keys `Control` and `Enter` on your keyboard:"
      ]
    },
    {
      "cell_type": "code",
      "metadata": {
        "id": "RboXmbfATkjN",
        "colab_type": "code",
        "colab": {}
      },
      "source": [
        "2 + 2"
      ],
      "execution_count": null,
      "outputs": []
    },
    {
      "cell_type": "markdown",
      "metadata": {
        "id": "M6rieVFuTkjZ",
        "colab_type": "text"
      },
      "source": [
        "Did the number `4` appear just below the equation? Congratulations! You just have solved a very difficult mathematical problem with Python."
      ]
    },
    {
      "cell_type": "markdown",
      "metadata": {
        "id": "OP0v8nbnTkja",
        "colab_type": "text"
      },
      "source": [
        "# Jupyter Notebooks"
      ]
    },
    {
      "cell_type": "markdown",
      "metadata": {
        "id": "y1wzFO5qTkjb",
        "colab_type": "text"
      },
      "source": [
        "The web page you are visiting right now is a *Jupyter Notebook*. A Jupyter Notebook is an environment which allows you to run Python code within your browser.\n",
        "\n",
        "Actually, the code does not run *in* your browser, but on a [*server*](https://en.wikipedia.org/wiki/Client%E2%80%93server_model); if you're running this notebook on Azure, for example, the instructions you write run on Microsoft's servers somewhere in the world, which then send back the results on this page. However, you can also run a Jupyter server, for example, on your laptop; this way, the code will effectively run on your machine.\n",
        "\n",
        "We write code in *cells*, which are the grey boxes you see in this page. \n",
        "\n",
        "> 💻 **<font color='teal'>Try it yourself!</font>**\n",
        "\n",
        "Try to write\n",
        "\n",
        "`print('Hello world!')`\n",
        "\n",
        "In the cell below. To run the code, press `Control` and `Enter` on your keyboard, as you did before. "
      ]
    },
    {
      "cell_type": "code",
      "metadata": {
        "id": "balBHez-Tkjd",
        "colab_type": "code",
        "colab": {}
      },
      "source": [
        "print('Hello world!')"
      ],
      "execution_count": null,
      "outputs": []
    },
    {
      "cell_type": "markdown",
      "metadata": {
        "id": "Xxv6gKwZTkjl",
        "colab_type": "text"
      },
      "source": [
        "You should see the string `Hello world!` appearing under the cell!\n",
        "\n",
        "Now that we know how to run code, let's begin with some programming basics. When you encounter a cell code, please always assume that you should run it by using the usual `Control` and `Enter` keyboard combination, unless specified otherwise."
      ]
    },
    {
      "cell_type": "markdown",
      "metadata": {
        "id": "TTe_dbrITkjm",
        "colab_type": "text"
      },
      "source": [
        "# Basic programming concepts"
      ]
    },
    {
      "cell_type": "markdown",
      "metadata": {
        "id": "jzzRsKswTkjo",
        "colab_type": "text"
      },
      "source": [
        "## Statements"
      ]
    },
    {
      "cell_type": "markdown",
      "metadata": {
        "id": "JsGQeRr7Tkjo",
        "colab_type": "text"
      },
      "source": [
        "A computer program is usually divided into many *instructions*, called statements, which tell the computer what operations should run. Please note that from now on we will use the term *statement* and *instruction* interchangeably.\n",
        "\n",
        "For example, run the cell below: "
      ]
    },
    {
      "cell_type": "code",
      "metadata": {
        "id": "tYE28gSXTkjq",
        "colab_type": "code",
        "colab": {}
      },
      "source": [
        "print('This is a statement')\n",
        "print('This is another statement')"
      ],
      "execution_count": null,
      "outputs": []
    },
    {
      "cell_type": "markdown",
      "metadata": {
        "id": "T2a7-_H_Tkjx",
        "colab_type": "text"
      },
      "source": [
        "As you can see, in Python, each line corresponds to a statement. If we need, we can break a instruction in multiple lines, but this works only on special cases. For example, if you run the cell below, you will see that"
      ]
    },
    {
      "cell_type": "code",
      "metadata": {
        "id": "BEicR0R-Tkjy",
        "colab_type": "code",
        "colab": {}
      },
      "source": [
        "print(\n",
        "    'A multiline instruction'\n",
        ")"
      ],
      "execution_count": null,
      "outputs": []
    },
    {
      "cell_type": "markdown",
      "metadata": {
        "id": "dvXrDVBKTkj4",
        "colab_type": "text"
      },
      "source": [
        "Is a valid instruction. On the other hand, if you run the cell below, you will gen an **`Error`**:"
      ]
    },
    {
      "cell_type": "code",
      "metadata": {
        "scrolled": true,
        "id": "DTmdVI-jTkj5",
        "colab_type": "code",
        "colab": {}
      },
      "source": [
        "2 +\n",
        "2"
      ],
      "execution_count": null,
      "outputs": []
    },
    {
      "cell_type": "markdown",
      "metadata": {
        "id": "g9CPNTeeTkj-",
        "colab_type": "text"
      },
      "source": [
        "This happens because Python does not know how to read the code in the cell, so it will *raise* a an error and try to display an informative message about what is happening.\n",
        "\n",
        "As a rule of thumb, statements inside parentheses can be split on multiple lines, in order to improve the readability of the code. However, until you are more confident with the language, we advise you to write an instruction per line.\n",
        "\n",
        "Please note that when you encounter errors, you should **always** read the error type and message to understand what is happening; however, we will delve into this topic later."
      ]
    },
    {
      "cell_type": "markdown",
      "metadata": {
        "id": "hD2DXa4YTkj_",
        "colab_type": "text"
      },
      "source": [
        "We will start by using Python as a calculator. In Python, numbers support the basic mathematical operations, as `+`, `-`, `*, /`.\n",
        "\n",
        "For example, we can sum two numbers by writing:"
      ]
    },
    {
      "cell_type": "code",
      "metadata": {
        "id": "qCqMlf9WTkkB",
        "colab_type": "code",
        "colab": {}
      },
      "source": [
        "134 + 25"
      ],
      "execution_count": null,
      "outputs": []
    },
    {
      "cell_type": "markdown",
      "metadata": {
        "id": "20mRpl6vTkkH",
        "colab_type": "text"
      },
      "source": [
        "And we can multiply them by writing:"
      ]
    },
    {
      "cell_type": "code",
      "metadata": {
        "id": "MCB4D_cDTkkH",
        "colab_type": "code",
        "colab": {}
      },
      "source": [
        "13.4 * 4"
      ],
      "execution_count": null,
      "outputs": []
    },
    {
      "cell_type": "markdown",
      "metadata": {
        "id": "a84MCWhVTkkN",
        "colab_type": "text"
      },
      "source": [
        "However, Python supports more complex operations as well, such as the power. For example, $2^3$ can be written as:"
      ]
    },
    {
      "cell_type": "code",
      "metadata": {
        "id": "nBBAg8L0TkkN",
        "colab_type": "code",
        "colab": {}
      },
      "source": [
        "2 ** 3 "
      ],
      "execution_count": null,
      "outputs": []
    },
    {
      "cell_type": "markdown",
      "metadata": {
        "id": "l36R7nmLTkkT",
        "colab_type": "text"
      },
      "source": [
        "We can also group operations using parentheses:"
      ]
    },
    {
      "cell_type": "code",
      "metadata": {
        "id": "9WHp8FY4TkkU",
        "colab_type": "code",
        "colab": {}
      },
      "source": [
        "(2 ** 3) / 3"
      ],
      "execution_count": null,
      "outputs": []
    },
    {
      "cell_type": "markdown",
      "metadata": {
        "id": "CaCKcN2GTkkZ",
        "colab_type": "text"
      },
      "source": [
        "> 💻 **<font color='teal'>Try it yourself!</font>**\n",
        "\n",
        "Play with basic maths operations in the cell below. "
      ]
    },
    {
      "cell_type": "code",
      "metadata": {
        "id": "BZ1EGc2aTkkc",
        "colab_type": "code",
        "colab": {}
      },
      "source": [
        ""
      ],
      "execution_count": null,
      "outputs": []
    },
    {
      "cell_type": "markdown",
      "metadata": {
        "id": "gbCpihXtTkkg",
        "colab_type": "text"
      },
      "source": [
        "## Variables"
      ]
    },
    {
      "cell_type": "markdown",
      "metadata": {
        "id": "odgKmnzMTkkh",
        "colab_type": "text"
      },
      "source": [
        "While playing with a calculator is surely amusing, if we could only do mathematical operations in Python, it would be obviously quite limited. For example, what if we wanted to store the result of an operation, to reuse it again later?\n",
        "\n",
        "For this reason, virtually all programming languages offer the possibility of storing data in  **variables**. This way, we can store a datum in the computer's memory and reuse it later, e.g. to form more complex expressions, to pass it to external programs, and so on.\n",
        "\n",
        "The syntax for assigning variables is\n",
        "\n",
        "`variable_name = value`\n",
        "\n",
        "For example, if we write and run:"
      ]
    },
    {
      "cell_type": "code",
      "metadata": {
        "id": "CcF-LHeOTkki",
        "colab_type": "code",
        "colab": {}
      },
      "source": [
        "a = 5"
      ],
      "execution_count": null,
      "outputs": []
    },
    {
      "cell_type": "markdown",
      "metadata": {
        "id": "WbRBygOuTkkn",
        "colab_type": "text"
      },
      "source": [
        "We saved the value `5` in the variable `a`. To see the value stored in a variable, we can simply write its name in a cell, e.g.:"
      ]
    },
    {
      "cell_type": "code",
      "metadata": {
        "id": "222DTkIlTkkq",
        "colab_type": "code",
        "colab": {}
      },
      "source": [
        "a"
      ],
      "execution_count": null,
      "outputs": []
    },
    {
      "cell_type": "markdown",
      "metadata": {
        "id": "qVG_voBpTkkv",
        "colab_type": "text"
      },
      "source": [
        "> 💻 **<font color='teal'>Try it yourself!</font>**\n",
        "\n",
        "Let's play with some variables! Can you guess the results of the cells below before running them?"
      ]
    },
    {
      "cell_type": "code",
      "metadata": {
        "id": "EHsszbUXTkkw",
        "colab_type": "code",
        "colab": {}
      },
      "source": [
        "a = 5 \n",
        "b = 2 "
      ],
      "execution_count": null,
      "outputs": []
    },
    {
      "cell_type": "code",
      "metadata": {
        "scrolled": true,
        "id": "Zi5TlQfSTkk1",
        "colab_type": "code",
        "colab": {}
      },
      "source": [
        "a ** b"
      ],
      "execution_count": null,
      "outputs": []
    },
    {
      "cell_type": "code",
      "metadata": {
        "scrolled": true,
        "id": "nJmKnVsmTkk6",
        "colab_type": "code",
        "colab": {}
      },
      "source": [
        "(a + b) / 3"
      ],
      "execution_count": null,
      "outputs": []
    },
    {
      "cell_type": "code",
      "metadata": {
        "id": "y0depIHnTkk9",
        "colab_type": "code",
        "colab": {}
      },
      "source": [
        "(b * 2) / a - 3"
      ],
      "execution_count": null,
      "outputs": []
    },
    {
      "cell_type": "code",
      "metadata": {
        "id": "dp937AtZTklC",
        "colab_type": "code",
        "colab": {}
      },
      "source": [
        "string1 = 'hello'\n",
        "string2 = 'world'\n",
        "print(string1 + ' ' + string2)"
      ],
      "execution_count": null,
      "outputs": []
    },
    {
      "cell_type": "markdown",
      "metadata": {
        "id": "Tyd7OJ2eTklG",
        "colab_type": "text"
      },
      "source": [
        "You can also **update** the content of a variable:"
      ]
    },
    {
      "cell_type": "code",
      "metadata": {
        "id": "gRWTzbdFTklH",
        "colab_type": "code",
        "colab": {}
      },
      "source": [
        "d = a + 3\n",
        "d"
      ],
      "execution_count": null,
      "outputs": []
    },
    {
      "cell_type": "code",
      "metadata": {
        "id": "mTFYxLxATklL",
        "colab_type": "code",
        "colab": {}
      },
      "source": [
        "a = 1\n",
        "d = a + 3\n",
        "d"
      ],
      "execution_count": null,
      "outputs": []
    },
    {
      "cell_type": "markdown",
      "metadata": {
        "id": "B6P2LDcLTklP",
        "colab_type": "text"
      },
      "source": [
        "Please note that in Python variable names **can't** contain spaces. In fact, a variable name can contain only alphanumeric characters (i.e. letters and numbers) and underscores, i.e. the character `_`. Moreover, a variable name can't begin with a number.\n",
        "\n",
        "> 💻 **<font color='teal'>Try it yourself!</font>**\n",
        "\n",
        "Which of the following instruction will run, and which of them will fail?"
      ]
    },
    {
      "cell_type": "code",
      "metadata": {
        "id": "G_copXluTklQ",
        "colab_type": "code",
        "colab": {}
      },
      "source": [
        "a_number = 2"
      ],
      "execution_count": null,
      "outputs": []
    },
    {
      "cell_type": "code",
      "metadata": {
        "id": "CCL81RXHTklV",
        "colab_type": "code",
        "colab": {}
      },
      "source": [
        "_a_number = 2"
      ],
      "execution_count": null,
      "outputs": []
    },
    {
      "cell_type": "code",
      "metadata": {
        "id": "pSdfff0LTklb",
        "colab_type": "code",
        "colab": {}
      },
      "source": [
        "2_number = 22"
      ],
      "execution_count": null,
      "outputs": []
    },
    {
      "cell_type": "code",
      "metadata": {
        "id": "6jFAe1K_Tkle",
        "colab_type": "code",
        "colab": {}
      },
      "source": [
        "a_number = \n",
        "2"
      ],
      "execution_count": null,
      "outputs": []
    },
    {
      "cell_type": "code",
      "metadata": {
        "id": "J-VpBg7LTklh",
        "colab_type": "code",
        "colab": {}
      },
      "source": [
        "twoIs__anumber = (\n",
        "    2)"
      ],
      "execution_count": null,
      "outputs": []
    },
    {
      "cell_type": "markdown",
      "metadata": {
        "id": "0O4b-h_HTkln",
        "colab_type": "text"
      },
      "source": [
        "> 💻 **<font color='teal'>Try it yourself!</font>**\n",
        "\n",
        "Knowing that the area of a rectangle is base $\\times$ height, calculate the area of a rectangle with base 4 and height 9 in the cell below.\n",
        "\n",
        "1. Create a variable `base` with value 4;\n",
        "1. Create a variable `height` with value 9;\n",
        "1. Multiply the two variables to see the result."
      ]
    },
    {
      "cell_type": "code",
      "metadata": {
        "id": "lrYfcFEPTkln",
        "colab_type": "code",
        "colab": {}
      },
      "source": [
        ""
      ],
      "execution_count": null,
      "outputs": []
    },
    {
      "cell_type": "markdown",
      "metadata": {
        "id": "ijbxh3EwTklr",
        "colab_type": "text"
      },
      "source": [
        "## Comments"
      ]
    },
    {
      "cell_type": "markdown",
      "metadata": {
        "id": "QAw568lDTklt",
        "colab_type": "text"
      },
      "source": [
        "Sometimes, when you write code, you may want to describe what a line does, in order to help the future you to understand what that code means. This is achieved using **comments**, special instructions which are *ignored* by Python when you run the code.\n",
        "\n",
        "In particular, \n",
        "- Everything written after a `#` is ignored **until the end of the line**\n",
        "- Everything written between **triple quotes** (`'''` or `\"\"\"`) is ignored.\n",
        "\n",
        "For example, if we write:"
      ]
    },
    {
      "cell_type": "code",
      "metadata": {
        "id": "5yycuxV5Tklt",
        "colab_type": "code",
        "colab": {}
      },
      "source": [
        "# 2 + 3"
      ],
      "execution_count": null,
      "outputs": []
    },
    {
      "cell_type": "markdown",
      "metadata": {
        "id": "fBk5p2SOTklw",
        "colab_type": "text"
      },
      "source": [
        "Nothing happens! Other examples of comments are:"
      ]
    },
    {
      "cell_type": "code",
      "metadata": {
        "id": "4lSpyYeYTklx",
        "colab_type": "code",
        "colab": {}
      },
      "source": [
        "3 + 2  # this is a comment"
      ],
      "execution_count": null,
      "outputs": []
    },
    {
      "cell_type": "code",
      "metadata": {
        "id": "TpfJZFJ6Tkl0",
        "colab_type": "code",
        "colab": {}
      },
      "source": [
        "\"\"\" This is \n",
        "another comment\n",
        "\"\"\""
      ],
      "execution_count": null,
      "outputs": []
    },
    {
      "cell_type": "markdown",
      "metadata": {
        "id": "A8EZKeOWTkl3",
        "colab_type": "text"
      },
      "source": [
        "However, these comments are **not valid**:"
      ]
    },
    {
      "cell_type": "code",
      "metadata": {
        "id": "iYlQBrufTkl5",
        "colab_type": "code",
        "colab": {}
      },
      "source": [
        "3 + 2 # this is\n",
        "a broken comment"
      ],
      "execution_count": null,
      "outputs": []
    },
    {
      "cell_type": "code",
      "metadata": {
        "id": "ReaW1qQGTkl8",
        "colab_type": "code",
        "colab": {}
      },
      "source": [
        "3 + 2 \"\"\" This comment style work only on non-code lines \"\"\""
      ],
      "execution_count": null,
      "outputs": []
    },
    {
      "cell_type": "code",
      "metadata": {
        "id": "LigXuiDnTkmA",
        "colab_type": "code",
        "colab": {}
      },
      "source": [
        "3 + \"\"\" For example, we can't split a code line like this \"\"\" 2"
      ],
      "execution_count": null,
      "outputs": []
    },
    {
      "cell_type": "markdown",
      "metadata": {
        "id": "-6GpoMraTkmD",
        "colab_type": "text"
      },
      "source": [
        "## Errors"
      ]
    },
    {
      "cell_type": "markdown",
      "metadata": {
        "id": "H55suWY1TkmD",
        "colab_type": "text"
      },
      "source": [
        "So now we have seen what happens when we write bad code: Python refuses to run it and returns an **`Error`**. However, one can (and will) make many, many kinds of errors while writing code, and it's always important to understand them to fix and, possibly, do not repeat them.\n",
        "\n",
        "For example, the expressions we've seen when talking about variables work because the variables `a`, `b`, and `d` have been previously created. Look what happens if we try to use a variable which has never been assigned:"
      ]
    },
    {
      "cell_type": "code",
      "metadata": {
        "id": "zrgsRcA1TkmD",
        "colab_type": "code",
        "colab": {}
      },
      "source": [
        "z + 5"
      ],
      "execution_count": null,
      "outputs": []
    },
    {
      "cell_type": "markdown",
      "metadata": {
        "id": "PRivbpkcTkmH",
        "colab_type": "text"
      },
      "source": [
        "Now this error is different from the ones we encountered before. If we read the messages, in fact, the previous errors were `SyntaxError`s, i.e. errors related to the syntax of the code we wrote; now the error is a `NameError`, i.e. Python is telling us that we're referencing the name of a variable that does not exist.\n",
        "\n",
        "When you encounter an error, you should **always** read the error type and message to know what you're doing wrong. Messages are usually informative and [will help you to solve the problem](https://geekandpoke.typepad.com/geekandpoke/2009/06/the-art-of-bugfixing-chapter-1.html).\n",
        "\n",
        "There are two kinds of errors:\n",
        "- `Error` and `Exception` are serious errors that will make your program stop and crash (in other words, bugs).\n",
        "- `Warnings` are errors that *won't* make your program crash. However, you should always read the warning messages, because they may point to potential errors in your code."
      ]
    },
    {
      "cell_type": "markdown",
      "metadata": {
        "id": "wcr6YdbjTkmI",
        "colab_type": "text"
      },
      "source": [
        "# Built-in data types and functions"
      ]
    },
    {
      "cell_type": "markdown",
      "metadata": {
        "id": "QYEuDhSjTkmJ",
        "colab_type": "text"
      },
      "source": [
        "## Built-in functions"
      ]
    },
    {
      "cell_type": "markdown",
      "metadata": {
        "id": "xq7FAKoHTkmJ",
        "colab_type": "text"
      },
      "source": [
        "Python offers a set of built-in functions to perform some basic operations. We have already encountered the simplest of them all: the `print` instruction, which allowed us to write some text below the code cells.\n",
        "\n",
        "Functions are defined this way:\n",
        "\n",
        "```\n",
        "function_name(argument_1, argument_2, ... )\n",
        "```\n",
        "\n",
        "For example, `print()` accepts some text as argument and prints it out in the browser (or on a console). Let's see again how it works:"
      ]
    },
    {
      "cell_type": "code",
      "metadata": {
        "id": "D9SSajxQTkmK",
        "colab_type": "code",
        "colab": {}
      },
      "source": [
        "print(\"Nothing will come of nothing.\")"
      ],
      "execution_count": null,
      "outputs": []
    },
    {
      "cell_type": "markdown",
      "metadata": {
        "id": "NbWGVTCTTkmN",
        "colab_type": "text"
      },
      "source": [
        "`print` will actually try to, um, print everything you pass to it. For example:"
      ]
    },
    {
      "cell_type": "code",
      "metadata": {
        "id": "pTsbaZp_TkmN",
        "colab_type": "code",
        "colab": {}
      },
      "source": [
        "print(a)\n",
        "print(3 ** 2)\n",
        "print(a - b ** 7)"
      ],
      "execution_count": null,
      "outputs": []
    },
    {
      "cell_type": "markdown",
      "metadata": {
        "id": "xaGbkSxGTkmQ",
        "colab_type": "text"
      },
      "source": [
        "Some functions also may **return** a value and/or accept more arguments.\n",
        "\n",
        "Please note that when we run the cells below, a red label `Out [xx]` appears below the result of our computation, while when we `print()` something is does not happen. This is because the functions below (can you guess what they're doing?) *return* a value, while `print()` merely shows something to the screen.\n",
        "\n",
        "For example:"
      ]
    },
    {
      "cell_type": "code",
      "metadata": {
        "id": "nR66DE2YTkmQ",
        "colab_type": "code",
        "colab": {}
      },
      "source": [
        "abs(-3)"
      ],
      "execution_count": null,
      "outputs": []
    },
    {
      "cell_type": "code",
      "metadata": {
        "id": "KNWv4WK6TkmS",
        "colab_type": "code",
        "colab": {}
      },
      "source": [
        "pow(2,3)"
      ],
      "execution_count": null,
      "outputs": []
    },
    {
      "cell_type": "markdown",
      "metadata": {
        "id": "5cEYkcBYTkmV",
        "colab_type": "text"
      },
      "source": [
        "You can use the return value of a function as you wish. For example, you can store it in a variable, you can use it in another computation, and so on."
      ]
    },
    {
      "cell_type": "code",
      "metadata": {
        "id": "0MDMt_wWTkmY",
        "colab_type": "code",
        "colab": {}
      },
      "source": [
        "a = pow(-2,3)\n",
        "print(a)\n",
        "b = abs(a) * 2\n",
        "print(b)"
      ],
      "execution_count": null,
      "outputs": []
    },
    {
      "cell_type": "markdown",
      "metadata": {
        "id": "TlHmtx9ITkmb",
        "colab_type": "text"
      },
      "source": [
        "> 💻 **<font color='teal'>Try it yourself!</font>**\n",
        "\n",
        "Try to write the following expression in the cell below: $ | (3 * (-2))^{-2} |$\n",
        "\n",
        "Note:\n",
        "- $|a|$ denotes the absolute value of $a$.\n",
        "- The result should be $0.2\\overline{7}$."
      ]
    },
    {
      "cell_type": "code",
      "metadata": {
        "id": "TkTerkpxTkmc",
        "colab_type": "code",
        "colab": {}
      },
      "source": [
        ""
      ],
      "execution_count": null,
      "outputs": []
    },
    {
      "cell_type": "markdown",
      "metadata": {
        "id": "IQ-ZvFRITkmf",
        "colab_type": "text"
      },
      "source": [
        "<details>\n",
        "    <summary>Click <b>here</b> to see the answer.</summary>\n",
        "    <p><code>abs(pow((3 * (-2)),-2))</code></p>\n",
        "</details>"
      ]
    },
    {
      "cell_type": "markdown",
      "metadata": {
        "id": "iAiblcrTTkmg",
        "colab_type": "text"
      },
      "source": [
        "Will the code in the cell below work? Can you explain why?"
      ]
    },
    {
      "cell_type": "code",
      "metadata": {
        "id": "PobSzvsbTkmg",
        "colab_type": "code",
        "colab": {}
      },
      "source": [
        "print(2 + print(3))"
      ],
      "execution_count": null,
      "outputs": []
    },
    {
      "cell_type": "markdown",
      "metadata": {
        "id": "T_-nGLIHTkmj",
        "colab_type": "text"
      },
      "source": [
        "<details>\n",
        "    <summary>Click <b>here</b> to see the answer.</summary>\n",
        "    <p>As explained before, <code>print</code> only shows content to the screen, but it does not return any value. For this reason, Python does not understand what you are trying to do here, because it expects to sum 3 with another number, while <code>print</code> isn't actually returning anything (hence the <code>NoneType</code> in the error message).</p>\n",
        "</details>"
      ]
    },
    {
      "cell_type": "markdown",
      "metadata": {
        "id": "79d9pssQTkmk",
        "colab_type": "text"
      },
      "source": [
        "## Types"
      ]
    },
    {
      "cell_type": "markdown",
      "metadata": {
        "id": "zZi6cdg4Tkmk",
        "colab_type": "text"
      },
      "source": [
        "The built-in function `type()` tells us what is the **type** of something. For example, "
      ]
    },
    {
      "cell_type": "code",
      "metadata": {
        "id": "0TdoDviZTkml",
        "colab_type": "code",
        "colab": {}
      },
      "source": [
        "type(2)"
      ],
      "execution_count": null,
      "outputs": []
    },
    {
      "cell_type": "markdown",
      "metadata": {
        "id": "qnB7w7wqTkmo",
        "colab_type": "text"
      },
      "source": [
        "Do you remember the variables we defined above? Let's check their types:"
      ]
    },
    {
      "cell_type": "code",
      "metadata": {
        "id": "urqUjn9ZTkmq",
        "colab_type": "code",
        "colab": {}
      },
      "source": [
        "print(a)\n",
        "type(a)"
      ],
      "execution_count": null,
      "outputs": []
    },
    {
      "cell_type": "code",
      "metadata": {
        "id": "n1FGsQaQTkmt",
        "colab_type": "code",
        "colab": {}
      },
      "source": [
        "print(string1)\n",
        "type(string1)"
      ],
      "execution_count": null,
      "outputs": []
    },
    {
      "cell_type": "markdown",
      "metadata": {
        "id": "u7em37ieTkmw",
        "colab_type": "text"
      },
      "source": [
        "The **type** is a property which tells Python (or, in general, any programming language) how to deal with the object we are giving him, and which operations we can perform on it.\n",
        "\n",
        "\n",
        "Now, `a` is an **`integer`**, i.e. a number. Hence, Python knows that it can sum, multiply, and divide it. `string1`, instead, is a **string**, i.e. a textual variable. While it's obvious that we can't \"divide\" a string, we can perform other kinds of operations on it, e.g.:"
      ]
    },
    {
      "cell_type": "code",
      "metadata": {
        "id": "88lynHOqTkmx",
        "colab_type": "code",
        "colab": {}
      },
      "source": [
        "print(string1)\n",
        "print(string1[0])   # get the first character of 'hello'\n",
        "string1 + string2   # concatenate two strings"
      ],
      "execution_count": null,
      "outputs": []
    },
    {
      "cell_type": "markdown",
      "metadata": {
        "id": "kDv0LI__TknD",
        "colab_type": "text"
      },
      "source": [
        "We will see later what this operations mean; by know, you can try to guess what we're doing here. \n",
        "\n",
        "Python offers this built-in types, which we will describe in detail below:\n",
        "\n",
        "- Numbers, i.e. integers, floating point numbers (i.e. non-integers), and complex numbers.\n",
        "- Strings, i.e. text\n",
        "- Booleans, i.e. the truth values `True` and `False` of the [Boolean Algebra](https://en.wikipedia.org/wiki/Boolean_algebra) \n",
        "\n",
        "You don't need to know much else about types for now. However, we will sometime use `type` to see how Python handles data. "
      ]
    },
    {
      "cell_type": "markdown",
      "metadata": {
        "id": "yP2rk7DpTknD",
        "colab_type": "text"
      },
      "source": [
        "## Numbers"
      ]
    },
    {
      "cell_type": "markdown",
      "metadata": {
        "id": "4dnDP-JMTknE",
        "colab_type": "text"
      },
      "source": [
        "We already encountered numbers. Now, we'll see some operations that Python offers to handle them."
      ]
    },
    {
      "cell_type": "code",
      "metadata": {
        "id": "QkL8ZxVHTknE",
        "colab_type": "code",
        "colab": {}
      },
      "source": [
        "print(1 + 2)    # sum\n",
        "print(3 - 7)    # subtraction\n",
        "print(2 * 3)    # multiplication\n",
        "print(5 / 6)    # division\n",
        "print(2 ** 3)   # power"
      ],
      "execution_count": null,
      "outputs": []
    },
    {
      "cell_type": "markdown",
      "metadata": {
        "id": "0vKKrZrnTknJ",
        "colab_type": "text"
      },
      "source": [
        "Python offers the several built-int mathematical functions (any many more):"
      ]
    },
    {
      "cell_type": "code",
      "metadata": {
        "id": "WbKSn3bLTknJ",
        "colab_type": "code",
        "colab": {}
      },
      "source": [
        "print(pow(2,3))             # power\n",
        "print(abs(-3))              # absolute value\n",
        "print(round(987.654321,3))  # rounding to the nth decimal\n",
        "print(round(22/7,2))        # does this ring any bell?\n",
        "print(max(10,1000))         # maximum value between two numbers\n",
        "print(min(-1000,-10))       # minumum value between two numbers"
      ],
      "execution_count": null,
      "outputs": []
    },
    {
      "cell_type": "markdown",
      "metadata": {
        "id": "pzUiNVOvTknN",
        "colab_type": "text"
      },
      "source": [
        "> 💻 **<font color='teal'>Try it yourself!</font>**\n",
        "\n",
        "Can you guess the difference between the two division operators?"
      ]
    },
    {
      "cell_type": "code",
      "metadata": {
        "id": "LKq-BzfZTknN",
        "colab_type": "code",
        "colab": {}
      },
      "source": [
        "7/2"
      ],
      "execution_count": null,
      "outputs": []
    },
    {
      "cell_type": "code",
      "metadata": {
        "id": "gjB8MNFSTknQ",
        "colab_type": "code",
        "colab": {}
      },
      "source": [
        "7//2"
      ],
      "execution_count": null,
      "outputs": []
    },
    {
      "cell_type": "markdown",
      "metadata": {
        "id": "e-V4q23LTknT",
        "colab_type": "text"
      },
      "source": [
        "As we know, computers store information using bits. For this reason, numbers are stored using the [floating point representation](https://en.wikipedia.org/wiki/Floating-point_arithmetic). You don't need to know the details of how does it work; however, you should be aware that `1` and `1.0` are two different things in Python.\n",
        "\n",
        "In fact, let's see their types:"
      ]
    },
    {
      "cell_type": "code",
      "metadata": {
        "id": "FuWUJhonTknU",
        "colab_type": "code",
        "colab": {}
      },
      "source": [
        "print(type(1))     # Ask Python to save 1 as an integer\n",
        "print(type(1.0))   # Ask Python to save 1 as a real number "
      ],
      "execution_count": null,
      "outputs": []
    },
    {
      "cell_type": "markdown",
      "metadata": {
        "id": "XMen0F-WTknV",
        "colab_type": "text"
      },
      "source": [
        "Now that you know that, what is the difference between `/` and `//`?"
      ]
    },
    {
      "cell_type": "markdown",
      "metadata": {
        "id": "dZyXT01ZTknV",
        "colab_type": "text"
      },
      "source": [
        "<details>\n",
        "    <summary>Click <b>here</b> to see the answer.</summary>\n",
        "    <p><code>/</code> is called <i>floating point division</i>, i.e. it always return the true result of the division.</p>\n",
        "    <p><code>//</code> is called <i>floor division</i>, i.e. it always round the result of the division to the closest lower integer - or, in other words, it will remove the decimal part from the result of the division.</p>\n",
        "</details>"
      ]
    },
    {
      "cell_type": "markdown",
      "metadata": {
        "id": "sETCVbA_TknX",
        "colab_type": "text"
      },
      "source": [
        "## Booleans"
      ]
    },
    {
      "cell_type": "markdown",
      "metadata": {
        "id": "1-LJ9mbsTknX",
        "colab_type": "text"
      },
      "source": [
        "The Boolean values `True` and `False` are the *truth values* associated to a statement; for example, `Shakespeare was an English poet` is a true statement, and `Claudius is a character in Romeo and Juliet` is a false statement.\n",
        "\n",
        "Unfortunately, Python can't understand natural language statements. However, [Boolean algebra](https://en.wikipedia.org/wiki/Boolean_algebra) is vastly used when programming; for example, we can compare numerical values using the classic comparison operations:\n",
        "\n",
        "+ greater `<` and lesser `>`\n",
        "+ greater or equal `<=` and lesser or equal `>=`\n",
        "+ equal `==` and not equal `!=`\n",
        "\n",
        "The results of comparison operations are of type **Boolean**."
      ]
    },
    {
      "cell_type": "code",
      "metadata": {
        "id": "Z2zrWG6VTknX",
        "colab_type": "code",
        "colab": {}
      },
      "source": [
        "2 < 3"
      ],
      "execution_count": null,
      "outputs": []
    },
    {
      "cell_type": "code",
      "metadata": {
        "id": "N3vaGeiWTknb",
        "colab_type": "code",
        "colab": {}
      },
      "source": [
        "a = 4\n",
        "b = 3\n",
        "c = 3\n",
        "\n",
        "# Can you guess the result of this operations before running the cell?\n",
        "\n",
        "print(a < b)\n",
        "print(b > a)\n",
        "print(b < c)\n",
        "print(b <= c)\n",
        "\n",
        "print(a == b)\n",
        "print(a != b)"
      ],
      "execution_count": null,
      "outputs": []
    },
    {
      "cell_type": "code",
      "metadata": {
        "id": "ElL1HlhVTkne",
        "colab_type": "code",
        "colab": {}
      },
      "source": [
        "d = (a == b)\n",
        "print(type(d))  # What is the type of a Boolean?"
      ],
      "execution_count": null,
      "outputs": []
    },
    {
      "cell_type": "markdown",
      "metadata": {
        "id": "1GCxGKVMTkng",
        "colab_type": "text"
      },
      "source": [
        "## Strings"
      ]
    },
    {
      "cell_type": "markdown",
      "metadata": {
        "id": "m0ydAXkyTkng",
        "colab_type": "text"
      },
      "source": [
        "`string` is the fancy name used by programmers for sequences of characters, i.e. for *textual* variables.\n",
        "\n",
        "As we already encountered them, you should already know how to create a string: you just have to place the text between single (`'`) or double (`''`) quotation marks."
      ]
    },
    {
      "cell_type": "code",
      "metadata": {
        "id": "SEu5I6kPTknh",
        "colab_type": "code",
        "colab": {}
      },
      "source": [
        "s1 = '' # empty string\n",
        "s2 = \"hello\"\n",
        "s3 = 'world'\n",
        "s4 = 'hello world'\n",
        "s5 = \"2345\""
      ],
      "execution_count": null,
      "outputs": []
    },
    {
      "cell_type": "markdown",
      "metadata": {
        "id": "oDYYqchCTknj",
        "colab_type": "text"
      },
      "source": [
        "We can perform a wide range of operations over strings. For example, we can get their length:"
      ]
    },
    {
      "cell_type": "code",
      "metadata": {
        "id": "bSJk00RoTknj",
        "colab_type": "code",
        "colab": {}
      },
      "source": [
        "print(len(s1))\n",
        "print(len(s2))"
      ],
      "execution_count": null,
      "outputs": []
    },
    {
      "cell_type": "markdown",
      "metadata": {
        "id": "DWTXeyCsTknl",
        "colab_type": "text"
      },
      "source": [
        "We can *concatenate* strings using the `+` operator:"
      ]
    },
    {
      "cell_type": "code",
      "metadata": {
        "id": "8BvNPLsATknl",
        "colab_type": "code",
        "colab": {}
      },
      "source": [
        "print(s2 + s3) # we concatenate s2 and s3\n",
        "print(s2 + \" \" + s3)"
      ],
      "execution_count": null,
      "outputs": []
    },
    {
      "cell_type": "markdown",
      "metadata": {
        "id": "ejzx1shkTknn",
        "colab_type": "text"
      },
      "source": [
        "Notice that `s2 + \" \" + s3` is equal to the string `\"hello world\"`:"
      ]
    },
    {
      "cell_type": "code",
      "metadata": {
        "id": "U7WJ9qbKTkno",
        "colab_type": "code",
        "colab": {}
      },
      "source": [
        "(s2 + \" \" + s3) == s4"
      ],
      "execution_count": null,
      "outputs": []
    },
    {
      "cell_type": "markdown",
      "metadata": {
        "id": "BbeSdojyTkns",
        "colab_type": "text"
      },
      "source": [
        "If needed, we can even *multiply* strings, i.e. *repeat* them:"
      ]
    },
    {
      "cell_type": "code",
      "metadata": {
        "id": "fmxy-ZDvTkns",
        "colab_type": "code",
        "colab": {}
      },
      "source": [
        "print(s2 * 3)  # we repeat s2 three times"
      ],
      "execution_count": null,
      "outputs": []
    },
    {
      "cell_type": "markdown",
      "metadata": {
        "id": "MnQnn_H-Tknv",
        "colab_type": "text"
      },
      "source": [
        "### Indexing and slicing\n",
        "\n",
        "Other common operations over strings are *indexing* and *slicing*. **Indexing** allows us to get the $n$-th element of any sequence of elements, using this syntax:\n",
        "    \n",
        "```python\n",
        "variable[index]\n",
        "```\n",
        "\n",
        "returns the $index$-th element of the variable `variable`."
      ]
    },
    {
      "cell_type": "code",
      "metadata": {
        "id": "VL7k_0vcTknw",
        "colab_type": "code",
        "colab": {}
      },
      "source": [
        "s = 'this is an example'\n",
        "\n",
        "# indexing (to access a byte in the string)\n",
        "print(s[0]) # print the first character of the string\n",
        "print(s[1]) # print the second character of the string"
      ],
      "execution_count": null,
      "outputs": []
    },
    {
      "cell_type": "markdown",
      "metadata": {
        "id": "Kcld6O5xTkn0",
        "colab_type": "text"
      },
      "source": [
        "If you're not familiar with programming, you probably are asking yourself why we getting the *zeroth-*element of our string did not end up in error.\n",
        "\n",
        "<a id='zero-based'></a>\n",
        "This happens because in Python indices start with zero. This is called **[Zero-based indexing](https://en.wikipedia.org/wiki/Zero-based_numbering)**, and it is a convention used in most programming language for performance reasons. \n",
        "\n",
        "This also means that, if a string has five characters, e.g. `hello`, its last element will have index 4:"
      ]
    },
    {
      "cell_type": "code",
      "metadata": {
        "id": "-97eRajpTkn1",
        "colab_type": "code",
        "colab": {}
      },
      "source": [
        "'hello'[4]"
      ],
      "execution_count": null,
      "outputs": []
    },
    {
      "cell_type": "markdown",
      "metadata": {
        "id": "dt9Kg1FrTkn4",
        "colab_type": "text"
      },
      "source": [
        "Please note that strings are **immutable**, i.e. you can't change their content. For example, you can't do things like:"
      ]
    },
    {
      "cell_type": "code",
      "metadata": {
        "id": "2pgTczD6Tkn4",
        "colab_type": "code",
        "colab": {}
      },
      "source": [
        "s[2] = 'x'"
      ],
      "execution_count": null,
      "outputs": []
    },
    {
      "cell_type": "markdown",
      "metadata": {
        "id": "DOX3IdXwTkn7",
        "colab_type": "text"
      },
      "source": [
        "However, since `s` is just a variable, you can change its content altogether. Let's see other examples:"
      ]
    },
    {
      "cell_type": "code",
      "metadata": {
        "id": "SD9MTlhFTkn7",
        "colab_type": "code",
        "colab": {}
      },
      "source": [
        "s = 'Romeo and Juliet'\n",
        "print(s[0])\n",
        "print(s[15])\n",
        "\n",
        "# How to we get the last character of a string without having to \n",
        "# count how many character it contains?\n",
        "\n",
        "print(s[len(s) - 1])       # we can use len()\n",
        "print(s[-1])               # or we can use the negative notation"
      ],
      "execution_count": null,
      "outputs": []
    },
    {
      "cell_type": "markdown",
      "metadata": {
        "id": "bkFkA-52Tkn-",
        "colab_type": "text"
      },
      "source": [
        "As we've seen in this last example, negative indexing tells Python to start looking from the last character:"
      ]
    },
    {
      "cell_type": "code",
      "metadata": {
        "id": "ogrubP3iTkn_",
        "colab_type": "code",
        "colab": {}
      },
      "source": [
        "'hello'[-4]"
      ],
      "execution_count": null,
      "outputs": []
    },
    {
      "cell_type": "markdown",
      "metadata": {
        "id": "0CCgAxDyTkoC",
        "colab_type": "text"
      },
      "source": [
        "If we need more than a character from a string, we can use **slicing**. The syntax is:\n",
        "```\n",
        "variable[start_position:end_position]\n",
        "```\n",
        "For example, to get the first two character of a string, we write:"
      ]
    },
    {
      "cell_type": "code",
      "metadata": {
        "id": "f3MiHQi8TkoC",
        "colab_type": "code",
        "colab": {}
      },
      "source": [
        "'hello'[0:2]"
      ],
      "execution_count": null,
      "outputs": []
    },
    {
      "cell_type": "markdown",
      "metadata": {
        "id": "ZxyAkbscTkoF",
        "colab_type": "text"
      },
      "source": [
        "Please note that *spans* will *not* contain the character denoted by the right index.\n",
        "\n",
        "Let's see tome other examples:"
      ]
    },
    {
      "cell_type": "code",
      "metadata": {
        "id": "5mm8Ap2yTkoG",
        "colab_type": "code",
        "colab": {}
      },
      "source": [
        "print(s)\n",
        "print(s[0:2])\n",
        "print(s[:2])  # the same as s[0:2]\n",
        "print(s[5:])  # the same as s[5:len(s) -1]\n",
        "print(s[1:2])\n",
        "print(s[-3:]) # we can use negative indexing too!"
      ],
      "execution_count": null,
      "outputs": []
    },
    {
      "cell_type": "markdown",
      "metadata": {
        "id": "nM9NFx2PTkoH",
        "colab_type": "text"
      },
      "source": [
        "As you have seen in this example, we can **omit** one of the two indices of the span if we want Python to look up from the beginning (omitting the left index) or to the end (omitting the right index) of the string.\n",
        "\n",
        "### Built-in string functions\n",
        "\n",
        "Now we will introduce a new class of functions, i.e. **object methods**. The syntax for this kind of functions is called *dot notation* and works this way:\n",
        "```python\n",
        "object.function()\n",
        "```\n",
        "This particular syntax tells Python that the function `function()` is applied to `object`. Each object (or type) has its peculiar set of functions; for example, it would not make sense to do the square root of a string, or to replace all the threes in a number with the dollar symbol. \n",
        "\n",
        "For example, we can find specific substrings in a string using `string.find()`:"
      ]
    },
    {
      "cell_type": "code",
      "metadata": {
        "scrolled": true,
        "id": "FQsR96ZbTkoH",
        "colab_type": "code",
        "colab": {}
      },
      "source": [
        "print(s)\n",
        "print(s.find(\"Juliet\"))  \n",
        "print(s.find(\"Othello\"))"
      ],
      "execution_count": null,
      "outputs": []
    },
    {
      "cell_type": "markdown",
      "metadata": {
        "id": "Z-fEls_HTkoK",
        "colab_type": "text"
      },
      "source": [
        "`find()` returns the index where the given substring starts, or `-1` if the given substring is not present in the input string.\n",
        "\n",
        "`replace()` allows us to find a substring and replace it with something new:"
      ]
    },
    {
      "cell_type": "code",
      "metadata": {
        "id": "hFuvx_cpTkoL",
        "colab_type": "code",
        "colab": {}
      },
      "source": [
        "d = s.replace(\"Romeo\", \"King Lear\")\n",
        "\n",
        "print(s)\n",
        "print(d)  "
      ],
      "execution_count": null,
      "outputs": []
    },
    {
      "cell_type": "markdown",
      "metadata": {
        "id": "_jVMycItTkoN",
        "colab_type": "text"
      },
      "source": [
        "Please notice how the string assigned to variable `s` is not modified, and the result of the operation is stored in the new variable `d`.\n",
        "\n",
        "You should also be aware that `replace` operation will replace _all_ mentions of the given substring:"
      ]
    },
    {
      "cell_type": "code",
      "metadata": {
        "id": "IiNT7LBnTkoN",
        "colab_type": "code",
        "colab": {}
      },
      "source": [
        "s = s.replace(\" \", \"_\")\n",
        "print(s)"
      ],
      "execution_count": null,
      "outputs": []
    },
    {
      "cell_type": "code",
      "metadata": {
        "id": "pmUvGjX8TkoP",
        "colab_type": "code",
        "colab": {}
      },
      "source": [
        "# what happens if the requested string does not exist in the input one?\n",
        "s.replace(\"Desdemona\",\"Ophelia\")"
      ],
      "execution_count": null,
      "outputs": []
    },
    {
      "cell_type": "markdown",
      "metadata": {
        "id": "cok7QwACTkoR",
        "colab_type": "text"
      },
      "source": [
        "Other useful operations on strings are the following:"
      ]
    },
    {
      "cell_type": "code",
      "metadata": {
        "id": "hejNhsXxTkoS",
        "colab_type": "code",
        "colab": {}
      },
      "source": [
        "x = \"This is a nice University\"\n",
        "\n",
        "# Is a string contained in another substring?\n",
        "print('is' in x)\n",
        "print('ix' in x)\n",
        "\n",
        "# convert to upper/lowercase\n",
        "print(x.upper())\n",
        "print(x.lower())\n",
        "\n",
        "# count how many instances of a substring\n",
        "print(x.count('i'))\n",
        "print(x.count('is'))\n",
        "\n",
        "# concatenate with a given delimiter\n",
        "print(\"-\".join(x))\n",
        "print(\"*\".join(x))\n",
        "\n",
        "# splits string at delimiter.\n",
        "# creates a list (see below) with the obtaines substrings\n",
        "print(x.split(\"nice\"))  \n",
        "print(x.split(\" \"))     # delimiter found multiple times.\n",
        "print(x.split(\"x\"))     # delimiter not found. Creates a list with the entire string as the only element"
      ],
      "execution_count": null,
      "outputs": []
    },
    {
      "cell_type": "markdown",
      "metadata": {
        "id": "-d-MqdyRTkoU",
        "colab_type": "text"
      },
      "source": [
        "We usually cannot mix strings and numbers. If we do that, we may obtain something different then expected:"
      ]
    },
    {
      "cell_type": "code",
      "metadata": {
        "id": "kPpPTbBATkoU",
        "colab_type": "code",
        "colab": {}
      },
      "source": [
        "number142 = 142\n",
        "string142 = '142'\n",
        "\n",
        "print(number142)\n",
        "print(string142)\n",
        "\n",
        "print(type(number142))\n",
        "print(type(string142))\n",
        "\n",
        "print(number142 * 3)\n",
        "print(string142 * 3)\n",
        "\n",
        "print(number142 == string142)"
      ],
      "execution_count": null,
      "outputs": []
    },
    {
      "cell_type": "markdown",
      "metadata": {
        "id": "Sm3Q2wSwTkoW",
        "colab_type": "text"
      },
      "source": [
        "> 💻 **<font color='teal'>Try it yourself!</font>**\n",
        "\n",
        "Play with strings in the cell below.\n",
        "\n",
        "Given the string we saved in variable `othello`, you should:\n",
        "\n",
        "- print the string;\n",
        "- determine if `Desdemona` is a substring;\n",
        "- find the position of `what`;\n",
        "- convert the string to uppercase;\n",
        "- get the first three character of the string, convert them to lowercase, and print them."
      ]
    },
    {
      "cell_type": "code",
      "metadata": {
        "id": "RTubQOKSTkoX",
        "colab_type": "code",
        "colab": {}
      },
      "source": [
        "othello = 'Men should be what they seem'\n",
        "\n",
        "# insert your code below"
      ],
      "execution_count": null,
      "outputs": []
    },
    {
      "cell_type": "markdown",
      "metadata": {
        "id": "2hhD5qZRTkoZ",
        "colab_type": "text"
      },
      "source": [
        "<details>\n",
        "    <summary>Click <b>here</b> to see the answer.</summary>\n",
        "    <p><code>print(othello)\n",
        "print('Desdemona' in othello)\n",
        "print(othello.index('what'))\n",
        "print(othello.upper())\n",
        "print(othello[:3].lower())</code></p>\n",
        "</details>"
      ]
    },
    {
      "cell_type": "markdown",
      "metadata": {
        "id": "UcezqM2XTkoZ",
        "colab_type": "text"
      },
      "source": [
        "## Converting between types"
      ]
    },
    {
      "cell_type": "markdown",
      "metadata": {
        "id": "4lEoxkrETkob",
        "colab_type": "text"
      },
      "source": [
        "What happens if we want to treat a string like a number, of vice versa?\n",
        "\n",
        "For example, way may want to sum the number contained in a string to an actual number, like\n",
        "```python\n",
        "\"10\" + 10\n",
        "```\n",
        "\n",
        "Or, we may want to append a number to a string, like\n",
        "```python\n",
        "\"Shakespeare wrote \" + 17 + \" comedies\"\n",
        "```\n",
        "\n",
        "What happens if we try to do the former?"
      ]
    },
    {
      "cell_type": "code",
      "metadata": {
        "id": "i6HLuYINTkob",
        "colab_type": "code",
        "colab": {}
      },
      "source": [
        "\"10\" + 10"
      ],
      "execution_count": null,
      "outputs": []
    },
    {
      "cell_type": "markdown",
      "metadata": {
        "id": "RS6v4UuHTkoe",
        "colab_type": "text"
      },
      "source": [
        "An error! Obviously, Python tells us that we can't sum strings and numbers. So, in order to do that, we need to **convert** our variable to the desired type:"
      ]
    },
    {
      "cell_type": "code",
      "metadata": {
        "id": "QKhgP4OfTkoe",
        "colab_type": "code",
        "colab": {}
      },
      "source": [
        "int(\"10\") + 10"
      ],
      "execution_count": null,
      "outputs": []
    },
    {
      "cell_type": "code",
      "metadata": {
        "id": "_0cLQSb-Tkoi",
        "colab_type": "code",
        "colab": {}
      },
      "source": [
        "\"Shakespeare wrote \" + str(17) + \" comedies\""
      ],
      "execution_count": null,
      "outputs": []
    },
    {
      "cell_type": "markdown",
      "metadata": {
        "id": "ZP_z8vn2Tkok",
        "colab_type": "text"
      },
      "source": [
        "As you can see, we can use a `type` as a function, in order to convert a variable of one type to the desired one. \n",
        "\n",
        "It is **very** important to always remember the data type of our variables. If not, the results may be very different than expected:"
      ]
    },
    {
      "cell_type": "code",
      "metadata": {
        "id": "-JeSxw51Tkol",
        "colab_type": "code",
        "colab": {}
      },
      "source": [
        "a = \"3\"\n",
        "b = \"4\"\n",
        "\n",
        "print(a + b)\n",
        "print(int(a) + int(b))"
      ],
      "execution_count": null,
      "outputs": []
    },
    {
      "cell_type": "markdown",
      "metadata": {
        "id": "mY3cQ53zTkon",
        "colab_type": "text"
      },
      "source": [
        "# Composite data types: tuples, lists, sets, and dictionaries\n",
        "\n",
        "Now we will see some more complex data types, i.e. tuples, lists, sets, and dictionaries. All this types have in common that they allow us to store *more data* inside a single variable. In fact, while numbers, strings, and so on, allow us to store only *one* number, strings, etc., in a variable, it is often useful to store more than a single information in a variable.\n",
        "\n",
        "For example, what could we do if we wanted what if we wanted to keep all the the titles of Shakespeare's comedies in a single variable, or if we want to associate to each of his plays to their respective main female character? "
      ]
    },
    {
      "cell_type": "markdown",
      "metadata": {
        "id": "V7AYvEFDTkon",
        "colab_type": "text"
      },
      "source": [
        "## Tuples"
      ]
    },
    {
      "cell_type": "markdown",
      "metadata": {
        "id": "RWDAG51iTkon",
        "colab_type": "text"
      },
      "source": [
        "Tuples are the most basic composite data type. A tuple is a sequence of elements, much like a string is a sequence of characters. The syntax for defining tuples is \n",
        "```python\n",
        "( element_1, element_2, ... element_n )\n",
        "```"
      ]
    },
    {
      "cell_type": "markdown",
      "metadata": {
        "id": "s5tha-lVTkon",
        "colab_type": "text"
      },
      "source": [
        "Let's write some example tuples:"
      ]
    },
    {
      "cell_type": "code",
      "metadata": {
        "id": "_8krbD3tTkon",
        "colab_type": "code",
        "colab": {}
      },
      "source": [
        "(1, 2, 3)"
      ],
      "execution_count": null,
      "outputs": []
    },
    {
      "cell_type": "code",
      "metadata": {
        "id": "h_NnQTC3Tkov",
        "colab_type": "code",
        "colab": {}
      },
      "source": [
        "('hello', 'world')"
      ],
      "execution_count": null,
      "outputs": []
    },
    {
      "cell_type": "code",
      "metadata": {
        "id": "K54ZqWF2Tkoy",
        "colab_type": "code",
        "colab": {}
      },
      "source": [
        "x = ('One', 2, 'three', 4.0, False)\n",
        "print(x)"
      ],
      "execution_count": null,
      "outputs": []
    },
    {
      "cell_type": "markdown",
      "metadata": {
        "id": "pbeiFYBjTko0",
        "colab_type": "text"
      },
      "source": [
        "As you can see, elements within tuples can be of any type. You can slice and index tuples exactly as you do with strings:"
      ]
    },
    {
      "cell_type": "code",
      "metadata": {
        "id": "3sfW95NtTko0",
        "colab_type": "code",
        "colab": {}
      },
      "source": [
        "print(x[0])\n",
        "print(x[0:2])\n",
        "print(x[-1])"
      ],
      "execution_count": null,
      "outputs": []
    },
    {
      "cell_type": "markdown",
      "metadata": {
        "id": "Tng2ygQPTko2",
        "colab_type": "text"
      },
      "source": [
        "You can use some of the methods for strings on tuples, too:"
      ]
    },
    {
      "cell_type": "code",
      "metadata": {
        "id": "5WKrmBM5Tko2",
        "colab_type": "code",
        "colab": {}
      },
      "source": [
        "T = (1, 2, 3, 4, 3, 2, 1)\n",
        "print(len(T))\n",
        "print((1,2) + (3,4))\n",
        "print(T.index(4))  # the index of the first matching 4 in the tuple\n",
        "print(T.count(2))  # the number of times 2 occurs in the tuple"
      ],
      "execution_count": null,
      "outputs": []
    },
    {
      "cell_type": "markdown",
      "metadata": {
        "id": "t8JpQLQ4Tko4",
        "colab_type": "text"
      },
      "source": [
        "Because tuples are immutable, we cannot change the tuples (ie. item assignment, appending...) once they are created. "
      ]
    },
    {
      "cell_type": "code",
      "metadata": {
        "id": "XcCJgg6cTko4",
        "colab_type": "code",
        "colab": {}
      },
      "source": [
        "T[0] = 2"
      ],
      "execution_count": null,
      "outputs": []
    },
    {
      "cell_type": "markdown",
      "metadata": {
        "id": "idvPL-nXTko6",
        "colab_type": "text"
      },
      "source": [
        "## Lists"
      ]
    },
    {
      "cell_type": "markdown",
      "metadata": {
        "id": "2vg6E8LrTko7",
        "colab_type": "text"
      },
      "source": [
        "The simplest way to describe lists it's as *mutable tuples*. They are defined this way:\n",
        "\n",
        "```python\n",
        "[ element_1, element_2, ... element_n ]\n",
        "```\n",
        "\n",
        "Let's look at an example:"
      ]
    },
    {
      "cell_type": "code",
      "metadata": {
        "id": "PZrCfvDrTko7",
        "colab_type": "code",
        "colab": {}
      },
      "source": [
        "L = [1,2,3,4,5]\n",
        "print(L)\n",
        "L[3] = 0\n",
        "print(L)"
      ],
      "execution_count": null,
      "outputs": []
    },
    {
      "cell_type": "markdown",
      "metadata": {
        "id": "uV2wvW3_Tko-",
        "colab_type": "text"
      },
      "source": [
        "Note to the reader: if you are asking yourself why we did `L[3] = 0` and the **fourth** element of the array was modified, go back and review [zero-based indexing](#zero-based)!\n",
        "\n",
        "Like strings and tuples, we can use indexing, slicing, and other useful operations:"
      ]
    },
    {
      "cell_type": "code",
      "metadata": {
        "id": "sl5PqRNDTko_",
        "colab_type": "code",
        "colab": {}
      },
      "source": [
        "#indexing\n",
        "print(L[0])\n",
        "\n",
        "#slicing\n",
        "print(L[:-1])\n",
        "\n",
        "#concatenate with another list\n",
        "L = L + [4, 3, 2]\n",
        "print(L)\n",
        "\n",
        "print(L.index(5))\n",
        "print(L.count(3))"
      ],
      "execution_count": null,
      "outputs": []
    },
    {
      "cell_type": "markdown",
      "metadata": {
        "id": "iW5jRQMZTkpA",
        "colab_type": "text"
      },
      "source": [
        "Lists, however, support many more useful methods:"
      ]
    },
    {
      "cell_type": "code",
      "metadata": {
        "id": "MoYZ4wOLTkpB",
        "colab_type": "code",
        "colab": {}
      },
      "source": [
        "L.sort()\n",
        "print(L)\n",
        "\n",
        "L.reverse()\n",
        "print(L)\n",
        "\n",
        "print(max(L))\n",
        "print(min(L))\n",
        "print(sum(L))"
      ],
      "execution_count": null,
      "outputs": []
    },
    {
      "cell_type": "markdown",
      "metadata": {
        "id": "cU_a14sbTkpD",
        "colab_type": "text"
      },
      "source": [
        "> 💻 **<font color='teal'>Try it yourself!</font>**\n",
        "\n",
        "Which of the methods explained above work on strings and tuples too? Try it in the cell below!"
      ]
    },
    {
      "cell_type": "code",
      "metadata": {
        "id": "PWlDmCfrTkpD",
        "colab_type": "code",
        "colab": {}
      },
      "source": [
        "T = (1,2,3)\n",
        "L = [1,2,3]\n",
        "\n",
        "# try T.sort(), L.sort() ..."
      ],
      "execution_count": null,
      "outputs": []
    },
    {
      "cell_type": "markdown",
      "metadata": {
        "id": "d6o3IgQITkpF",
        "colab_type": "text"
      },
      "source": [
        "You may be asking yourself: if tuples are just immutable lists, why bother using them?\n",
        "\n",
        "The answer is for *performance*. Tuples are generally faster and require less memory than lists, so they are often used when you just need to store some data and/or if you want to be sure that these data are not modified by other programmers. On the other hand, if you know that you'll update or iterate over a sequence frequently, lists are much faster, hence they should be preferred.\n",
        "\n",
        "You don't need to know more for now. However, since both structures are extensively used in Python, you'll frequently have to deal with them, hence is important to know their differences."
      ]
    },
    {
      "cell_type": "markdown",
      "metadata": {
        "id": "JLDInm11TkpG",
        "colab_type": "text"
      },
      "source": [
        "### Updating lists"
      ]
    },
    {
      "cell_type": "markdown",
      "metadata": {
        "id": "fK7VRqi2TkpG",
        "colab_type": "text"
      },
      "source": [
        "So, what does it mean that lists are *mutable*?\n",
        "\n",
        "When we studied tuples, we saw that we can't modify them after they have been created. For example, if you run this code:\n",
        "```python\n",
        "T = (1, 2)\n",
        "T[0] = 2\n",
        "```\n",
        "it would raise a `TypeError`.\n",
        "\n",
        "Lists, on the other hand, can be *updated*: we can modify the elements inside a list, add, and remove them. Let's see some examples:"
      ]
    },
    {
      "cell_type": "code",
      "metadata": {
        "id": "V6cRCyWKTkpG",
        "colab_type": "code",
        "colab": {}
      },
      "source": [
        "tragedies = [\n",
        "    \"Antony and Cleopatra\",\n",
        "    \"Coriolanus\",\n",
        "    \"Cymbeline\",\n",
        "    \"Hamlet\",\n",
        "    \"Julius Caesar\",\n",
        "    \"Othello\",\n",
        "    \"Romeo and Julia\",\n",
        "    \"Timon of Athens\",\n",
        "    \"Titus Andronicus\",\n",
        "    \"Troilus and Cressida\",\n",
        "]\n",
        "\n",
        "print(tragedies)"
      ],
      "execution_count": null,
      "outputs": []
    },
    {
      "cell_type": "markdown",
      "metadata": {
        "id": "-Q6AniVgTkpI",
        "colab_type": "text"
      },
      "source": [
        "Do you notice the mistakes in the list? Let's fix them!"
      ]
    },
    {
      "cell_type": "code",
      "metadata": {
        "id": "Y9DK9Nm4TkpI",
        "colab_type": "code",
        "colab": {}
      },
      "source": [
        "# Who's Julia? Let's find the index of the wrong element in the list.\n",
        "tragedies.index(\"Romeo and Julia\")"
      ],
      "execution_count": null,
      "outputs": []
    },
    {
      "cell_type": "code",
      "metadata": {
        "id": "IlulY9lOTkpL",
        "colab_type": "code",
        "colab": {}
      },
      "source": [
        "# Now, let's update it:\n",
        "tragedies[6] = \"Romeo and Juliet\"\n",
        "print(tragedies)"
      ],
      "execution_count": null,
      "outputs": []
    },
    {
      "cell_type": "markdown",
      "metadata": {
        "id": "fZsyeqO3TkpM",
        "colab_type": "text"
      },
      "source": [
        "That's great, but where is Macbeth? We need to insert it in the list! \n",
        "\n",
        "The method `append` adds and element to the end of a list:"
      ]
    },
    {
      "cell_type": "code",
      "metadata": {
        "id": "kRcwfKCJTkpN",
        "colab_type": "code",
        "colab": {}
      },
      "source": [
        "tragedies.append(\"Macbeth\")\n",
        "print(tragedies)"
      ],
      "execution_count": null,
      "outputs": []
    },
    {
      "cell_type": "markdown",
      "metadata": {
        "id": "ZV3k1fcVTkpP",
        "colab_type": "text"
      },
      "source": [
        "Let's sort the list now:"
      ]
    },
    {
      "cell_type": "code",
      "metadata": {
        "id": "JzGPpg2-Tkpg",
        "colab_type": "code",
        "colab": {}
      },
      "source": [
        "tragedies.sort()\n",
        "print(tragedies)"
      ],
      "execution_count": null,
      "outputs": []
    },
    {
      "cell_type": "markdown",
      "metadata": {
        "id": "D2JOZWQGTkpk",
        "colab_type": "text"
      },
      "source": [
        "Lists also allow us to add and remove elements by index, or to remove an exact element (*remove by value*):"
      ]
    },
    {
      "cell_type": "code",
      "metadata": {
        "id": "Nndx0fBMTkpk",
        "colab_type": "code",
        "colab": {}
      },
      "source": [
        "L=[1,'a',True]\n",
        "\n",
        "#append at the end\n",
        "L.append('b')\n",
        "print (L)\n",
        "\n",
        "# delete an item at index 1 and returns the deleted item\n",
        "print (L.pop(1))\n",
        "# delete an item at index 0\n",
        "del L[0]\n",
        "print (L)\n",
        "# delete the first matching item by value in a list:\n",
        "L.remove('b')\n",
        "print(L) # removes 'b'\n",
        "\n",
        "#insert: L.insert (position, item): insert an item at position of L\n",
        "L.insert(0,'a')\n",
        "print (L)"
      ],
      "execution_count": null,
      "outputs": []
    },
    {
      "cell_type": "markdown",
      "metadata": {
        "id": "mGxT-t6hTkpm",
        "colab_type": "text"
      },
      "source": [
        "Did you notice that we did never write `L = L.append(...)` but just `L.append()`? This is because, as we've just seen, lists are mutable, hence most of the operations we perform on lists modify them on the fly.  "
      ]
    },
    {
      "cell_type": "markdown",
      "metadata": {
        "id": "wdFUgyf8Tkpm",
        "colab_type": "text"
      },
      "source": [
        "We can also concatenate lists, exactly as we do with strings:"
      ]
    },
    {
      "cell_type": "code",
      "metadata": {
        "id": "P6w-194PTkpn",
        "colab_type": "code",
        "colab": {}
      },
      "source": [
        "[1,2,3] + [4,5,6]"
      ],
      "execution_count": null,
      "outputs": []
    },
    {
      "cell_type": "markdown",
      "metadata": {
        "id": "HN3Sdjy1Tkpo",
        "colab_type": "text"
      },
      "source": [
        "> 💻 **<font color='teal'>Try it yourself!</font>**\n",
        "\n",
        "Given the lists in the cell below, concatenate and save them in a third variable called `L3`. Then, remove from the list all the male characters. Finally, sort the list, and print its last element."
      ]
    },
    {
      "cell_type": "code",
      "metadata": {
        "id": "O6CJ-60STkpp",
        "colab_type": "code",
        "colab": {}
      },
      "source": [
        "L1 = ['Anthony', 'Othello', 'Lady Macbeth', 'King of France', 'Iago']\n",
        "L2 = ['Hamlet', 'Cleopatra', 'Ophelia', 'Ariel', 'Agamemnon', 'Rosalind']"
      ],
      "execution_count": null,
      "outputs": []
    },
    {
      "cell_type": "markdown",
      "metadata": {
        "id": "t7PkntAvTkpq",
        "colab_type": "text"
      },
      "source": [
        "## Sets"
      ]
    },
    {
      "cell_type": "markdown",
      "metadata": {
        "id": "oNtyXbp5Tkpr",
        "colab_type": "text"
      },
      "source": [
        "Sets are, simply said, lists that do not allow duplicates. Sets are *unordered*, hence we can't access the $n$-th element of a set as we do for lists.\n",
        "\n",
        "The syntax for sets is:\n",
        "```\n",
        "{ element_1, element_2, ... element_n }\n",
        "```\n",
        "\n",
        "As usual, let's see some examples."
      ]
    },
    {
      "cell_type": "code",
      "metadata": {
        "id": "6ZF5QqxmTkpr",
        "colab_type": "code",
        "colab": {}
      },
      "source": [
        "# create a set:\n",
        "a={1,'a','b'}\n",
        "print(a)\n",
        "\n",
        "# we can also create a set from a list: it will only keep the unique items\n",
        "b=set([1,'a','a','b'])\n",
        "print (b)\n",
        "print(len(b))"
      ],
      "execution_count": null,
      "outputs": []
    },
    {
      "cell_type": "markdown",
      "metadata": {
        "id": "E3UGZbGyTkpt",
        "colab_type": "text"
      },
      "source": [
        "We can add and remove elements to a set:\n"
      ]
    },
    {
      "cell_type": "code",
      "metadata": {
        "id": "_ORWQibUTkpt",
        "colab_type": "code",
        "colab": {}
      },
      "source": [
        "tragedies = {\n",
        "    \"Antony and Cleopatra\",\n",
        "    \"Coriolanus\",\n",
        "    \"Cymbeline\",\n",
        "    \"Hamlet\",\n",
        "    \"Julius Caesar\",\n",
        "    \"King Lear\",\n",
        "    \"Othello\",\n",
        "    \"Romeo and Juliet\",\n",
        "    \"Timon of Athens\",\n",
        "    \"Titus Andronicus\",\n",
        "    \"Troilus and Cressida\",\n",
        "    \"Two Gentlemen of Verona\"\n",
        "}\n",
        "tragedies.add(\"Macbeth\")\n",
        "tragedies.remove(\"Two Gentlemen of Verona\")\n",
        "print(tragedies)"
      ],
      "execution_count": null,
      "outputs": []
    },
    {
      "cell_type": "markdown",
      "metadata": {
        "id": "BK9dSO36Tkpw",
        "colab_type": "text"
      },
      "source": [
        "Did you notice that the elements of the sets are shuffled when we `print` it? That's because, as we said before, there is absolutely no guarantee that the elements in a set retain the order in which we inserted them. Keep this in mind!\n",
        "\n",
        "For example, when you transform a dictionary to a list, the elements may be shuffled:"
      ]
    },
    {
      "cell_type": "code",
      "metadata": {
        "id": "CpAe000bTkpw",
        "colab_type": "code",
        "colab": {}
      },
      "source": [
        "list(tragedies)"
      ],
      "execution_count": null,
      "outputs": []
    },
    {
      "cell_type": "markdown",
      "metadata": {
        "id": "Rk47FZinTkpx",
        "colab_type": "text"
      },
      "source": [
        "## Dictionaries"
      ]
    },
    {
      "cell_type": "markdown",
      "metadata": {
        "id": "ZErfwZnwTkpy",
        "colab_type": "text"
      },
      "source": [
        "Dictionaries are a mutable, composite data type that *maps* a *key* to its *value*. You can think of them as a telephone directory, where you name is your *key*, and your phone number is your *value*.\n",
        "\n",
        "The syntax for defining dictionaries is:\n",
        "```\n",
        "{ key_1 : value_1 , key_2 : value_2 , ... , key_n : value_n }\n",
        "```\n",
        "\n",
        "For example, let's build a dictionary about Shakespeare's bio:"
      ]
    },
    {
      "cell_type": "code",
      "metadata": {
        "id": "YNUtgp7xTkpz",
        "colab_type": "code",
        "colab": {}
      },
      "source": [
        "d = {\n",
        "    'name' : 'William',\n",
        "    'surname' : 'Shakespeare',\n",
        "    'year of birth' : 1564,\n",
        "    'year of death' : 1616,\n",
        "    'birthplace' : 'Stratford-upon-Avon'\n",
        "}\n",
        "\n",
        "print(d)"
      ],
      "execution_count": null,
      "outputs": []
    },
    {
      "cell_type": "markdown",
      "metadata": {
        "id": "FCeECOgtTkp0",
        "colab_type": "text"
      },
      "source": [
        "We can add, modify, and remove and remove information in/from a dictionary:"
      ]
    },
    {
      "cell_type": "code",
      "metadata": {
        "id": "7WlRKx3VTkp0",
        "colab_type": "code",
        "colab": {}
      },
      "source": [
        "d['wife'] = 'Anne'\n",
        "print(d)\n",
        "d['wife'] = 'Anne Hathaway'\n",
        "print(d)\n",
        "del(d['wife'])\n",
        "print(d)"
      ],
      "execution_count": null,
      "outputs": []
    },
    {
      "cell_type": "markdown",
      "metadata": {
        "id": "gD0FFqr5Tkp2",
        "colab_type": "text"
      },
      "source": [
        "We will encounter a key error if we fetch a key that does not exist. "
      ]
    },
    {
      "cell_type": "code",
      "metadata": {
        "scrolled": true,
        "id": "zQiTyAYoTkp2",
        "colab_type": "code",
        "colab": {}
      },
      "source": [
        "d['wife']  # now we deleted this information!"
      ],
      "execution_count": null,
      "outputs": []
    },
    {
      "cell_type": "markdown",
      "metadata": {
        "id": "oPK7f17YTkp4",
        "colab_type": "text"
      },
      "source": [
        "Note that *anything* can be used as dictionary key or value:"
      ]
    },
    {
      "cell_type": "code",
      "metadata": {
        "id": "RG5ODwy4Tkp4",
        "colab_type": "code",
        "colab": {}
      },
      "source": [
        "t = 'true'\n",
        "d = {False: 0, 1: t, t: str}\n",
        "print(d[False])\n",
        "print(d[1])\n",
        "print(d[t])"
      ],
      "execution_count": null,
      "outputs": []
    },
    {
      "cell_type": "markdown",
      "metadata": {
        "id": "22Oz2oqOTkp6",
        "colab_type": "text"
      },
      "source": [
        "> 💻 **<font color='teal'>Try it yourself!</font>**\n",
        "\n",
        "Create a dictionary where the keys are 'Macbeth', 'The Tempest', and 'Romeo and Juliet', and the values are the names of the main male character and save it in a variable. Print the dictionary. Then, replace the names of the male characters with the name of a female character from the same play. Finally, print the dictionary again."
      ]
    },
    {
      "cell_type": "code",
      "metadata": {
        "id": "lRFbhCxDTkp7",
        "colab_type": "code",
        "colab": {}
      },
      "source": [
        ""
      ],
      "execution_count": null,
      "outputs": []
    },
    {
      "cell_type": "markdown",
      "metadata": {
        "id": "wLdGGcowTkp9",
        "colab_type": "text"
      },
      "source": [
        "<details>\n",
        "    <summary>Click <b>here</b> to see the answer.</summary>\n",
        "    <p><code>d = {\n",
        "    'Macbeth' : 'Macbeth',\n",
        "    'The Tempest' : 'Prospero',\n",
        "    'Romeo and Juliet' : 'Romeo',\n",
        "}\n",
        "print(d)\n",
        "d['Macbeth'] = 'Lady Macbeth'\n",
        "d['The Tempest'] = 'Ariel'\n",
        "d['Romeo and Juliet'] = 'Juliet'\n",
        "print(d)</code></p>\n",
        "</details>"
      ]
    },
    {
      "cell_type": "markdown",
      "metadata": {
        "id": "k9LyxozvTkp9",
        "colab_type": "text"
      },
      "source": [
        "# Conditional statements and loops"
      ]
    },
    {
      "cell_type": "markdown",
      "metadata": {
        "id": "UpKWvSPJTkp-",
        "colab_type": "text"
      },
      "source": [
        "## Statements - refresher"
      ]
    },
    {
      "cell_type": "markdown",
      "metadata": {
        "id": "HTYr5r_dTkp-",
        "colab_type": "text"
      },
      "source": [
        "Until now, we only worked with simple statements that don't allow us to do much. As you surely remember, a *statement* (or *instruction*) are the commands we issue to Python, to tell him what to do.\n",
        "\n",
        "Right now we worked mainly with assignments, i.e. statements with the syntax\n",
        "\n",
        "```python\n",
        "variable_name = variable_value\n",
        "```\n",
        "\n",
        "However, there are many more complex statements allowed by Python. For example, can you guess what these statements mean by executing them?"
      ]
    },
    {
      "cell_type": "code",
      "metadata": {
        "id": "TQYWMLc1Tkp_",
        "colab_type": "code",
        "colab": {}
      },
      "source": [
        "count = 0\n",
        "print(count)\n",
        "\n",
        "count += 1\n",
        "print(count)"
      ],
      "execution_count": null,
      "outputs": []
    },
    {
      "cell_type": "code",
      "metadata": {
        "id": "nXbf6rQXTkqB",
        "colab_type": "code",
        "colab": {}
      },
      "source": [
        "name, surname = 'William', 'Shakespeare'\n",
        "print(name)\n",
        "print(surname)"
      ],
      "execution_count": null,
      "outputs": []
    },
    {
      "cell_type": "code",
      "metadata": {
        "id": "5pCJzawjTkqD",
        "colab_type": "code",
        "colab": {}
      },
      "source": [
        "the_bard = the_swan_of_avon = 'William Shakespeare'\n",
        "print(the_bard)\n",
        "print(the_swan_of_avon)"
      ],
      "execution_count": null,
      "outputs": []
    },
    {
      "cell_type": "markdown",
      "metadata": {
        "id": "t7jPgpunTkqE",
        "colab_type": "text"
      },
      "source": [
        "Did you guess what the instructions above do?\n",
        "\n",
        "1. `+=` is the increment assignment operator, and is shorthand for `variable = variable + increment` \n",
        "(e.g. `a += 1` is translated as `a = a + 1`).\n",
        "2. This is called *sequence assignment*, i.e we can write `var_1, ..., var_n = value_1, ..., value_n`, \n",
        "and each value$_i$ will be assigned to the respective variable$_i$\n",
        "3. This is instead called *multiple target assignment*, i.e. by writing `var_1, ..., var_n = value` each `var`$_i$ will contain the same value."
      ]
    },
    {
      "cell_type": "markdown",
      "metadata": {
        "id": "-Onzyi6qTkqE",
        "colab_type": "text"
      },
      "source": [
        "You should also remember that some statements *return* a value, while other do no. For example,"
      ]
    },
    {
      "cell_type": "code",
      "metadata": {
        "id": "dDwGWHaXTkqF",
        "colab_type": "code",
        "colab": {}
      },
      "source": [
        "l = [1, 2, 3]\n",
        "len(l)"
      ],
      "execution_count": null,
      "outputs": []
    },
    {
      "cell_type": "markdown",
      "metadata": {
        "id": "CrIjRW6mTkqH",
        "colab_type": "text"
      },
      "source": [
        "Here, `len` returns the length of `l`. On the other hand,"
      ]
    },
    {
      "cell_type": "code",
      "metadata": {
        "id": "riPXWjqmTkqH",
        "colab_type": "code",
        "colab": {}
      },
      "source": [
        "print('Hello')"
      ],
      "execution_count": null,
      "outputs": []
    },
    {
      "cell_type": "markdown",
      "metadata": {
        "id": "SqRBhLh5TkqI",
        "colab_type": "text"
      },
      "source": [
        "Does not return anything, in fact:"
      ]
    },
    {
      "cell_type": "code",
      "metadata": {
        "id": "xFznDKMxTkqJ",
        "colab_type": "code",
        "colab": {}
      },
      "source": [
        "x = print('hello')\n",
        "print(x)"
      ],
      "execution_count": null,
      "outputs": []
    },
    {
      "cell_type": "markdown",
      "metadata": {
        "id": "kGy4Dg_TTkqK",
        "colab_type": "text"
      },
      "source": [
        "Nothing (in Python lingo, the value `None`) is stored within `x`."
      ]
    },
    {
      "cell_type": "markdown",
      "metadata": {
        "id": "1aHvxt_BTkqL",
        "colab_type": "text"
      },
      "source": [
        "But what if we wanted to do something more complex? For example, what if we wanted to apply a function to all the elements of a list, or if we wanted to run the code *when some condition arises*?"
      ]
    },
    {
      "cell_type": "markdown",
      "metadata": {
        "id": "ck1p2XFBTkqL",
        "colab_type": "text"
      },
      "source": [
        "## `if` statements"
      ]
    },
    {
      "cell_type": "markdown",
      "metadata": {
        "id": "z_yoznILTkqL",
        "colab_type": "text"
      },
      "source": [
        "For example, let's define the following variables:\n",
        "\n"
      ]
    },
    {
      "cell_type": "code",
      "metadata": {
        "id": "TGhnbaJxTkqL",
        "colab_type": "code",
        "colab": {}
      },
      "source": [
        "name, surname = 'William', 'shakespeare'\n",
        "print(name)\n",
        "print(surname)"
      ],
      "execution_count": null,
      "outputs": []
    },
    {
      "cell_type": "markdown",
      "metadata": {
        "id": "ZcNh4TIQTkqO",
        "colab_type": "text"
      },
      "source": [
        "If we are to write the content of the variables in person, we could be sure that their content is always OK. But often we deal with data taken from books, scraped from the Internet, and so on, so we may want to clean our variables.\n",
        "\n",
        "In our case, we notice that the Bard's name has the first letter capitalised, while his surname doesn't. So, could we write a generic program to let Python capitalise the first letter of a string, *if needed*?\n",
        "\n",
        "We know that\n",
        "```\n",
        "string.islower()\n",
        "```\n",
        "\n",
        "Returns `True` if a string's characters are all lowercase, and `False` otherwise. So we can tell Python that if our variable contains a lowercase string, we will update it with the string with the first letter capitalised.\n",
        "\n",
        "The code that runs this operation is the following:"
      ]
    },
    {
      "cell_type": "code",
      "metadata": {
        "id": "BGQkDtU3TkqO",
        "colab_type": "code",
        "colab": {}
      },
      "source": [
        "x = surname\n",
        "print(x)"
      ],
      "execution_count": null,
      "outputs": []
    },
    {
      "cell_type": "code",
      "metadata": {
        "id": "R3n-o7DWTkqP",
        "colab_type": "code",
        "colab": {}
      },
      "source": [
        "if x.islower():\n",
        "    x = x[0].upper() + x[1:]\n",
        "print(x)"
      ],
      "execution_count": null,
      "outputs": []
    },
    {
      "cell_type": "markdown",
      "metadata": {
        "id": "n1v6tfBDTkqR",
        "colab_type": "text"
      },
      "source": [
        "If you run the cells above, you will see that the first cell will print `shakespeare`, than the second will print `Shakespeare`, as intended. This is because \n",
        "- The line `if x.islower()` checked if `shakespare` was lowercase. Since it is the case, \n",
        "- The line `x = x[0].upper() + x[1:]` ran, and the first letter of `x` was updated.\n",
        "\n",
        "Now let's see what happens when `islower()` returns `False`:"
      ]
    },
    {
      "cell_type": "code",
      "metadata": {
        "id": "RjdsWEdFTkqR",
        "colab_type": "code",
        "colab": {}
      },
      "source": [
        "x = 'SHakespeare'\n",
        "print(x)"
      ],
      "execution_count": null,
      "outputs": []
    },
    {
      "cell_type": "code",
      "metadata": {
        "id": "EAQmkql1TkqU",
        "colab_type": "code",
        "colab": {}
      },
      "source": [
        "if x.islower():\n",
        "    x = x[0].upper() + x[1:]\n",
        "print(x)"
      ],
      "execution_count": null,
      "outputs": []
    },
    {
      "cell_type": "markdown",
      "metadata": {
        "id": "INa-5RjITkqV",
        "colab_type": "text"
      },
      "source": [
        "Nothing happened, right? The string `SHakespeare` is still badly formatted, because the `if` instruction failed, hence it did not clean up the word.\n",
        "\n",
        "When there are such complex cases, it is often needed to write more complex `if` statement, that include multiple *clauses*. Let's see another example: we want to write a statement that determines if a number is positive, zero, or negative."
      ]
    },
    {
      "cell_type": "code",
      "metadata": {
        "id": "A3evSmaTTkqW",
        "colab_type": "code",
        "colab": {}
      },
      "source": [
        "#check if x is negative, 0 or positive, and print accordingly\n",
        "x = -224\n",
        "if x < 0:\n",
        "    print('x is negative')\n",
        "elif x == 0:\n",
        "    print('x is zero')\n",
        "else:\n",
        "    print('x is positive')"
      ],
      "execution_count": null,
      "outputs": []
    },
    {
      "cell_type": "markdown",
      "metadata": {
        "id": "PTBeYxK5TkqY",
        "colab_type": "text"
      },
      "source": [
        "Now try different values for `x` by changing the `x = 1` instruction and see what happens. \n",
        "\n",
        "In this case, we have three conditions, which are:\n",
        "1. x is negative\n",
        "2. x is zero\n",
        "3. x is negative.\n",
        "\n",
        "Each condition corresponds to a different *branch* of the `if`. They are ran sequentially, i.e. if the first check failed, Python tries with the second one; if the second one fails, Python tries the third; and so on, until there are more `elif` (shorthand for `else if`) or it reaches an `else`.\n",
        "\n",
        "Formally, the syntax if the `if-else` construct is the following:\n",
        "\n",
        "```python\n",
        "if expression_1 :\n",
        "    statement_group_1\n",
        "elif expression_2:\n",
        "    statement_group_2\n",
        "    # ...\n",
        "    # eventual other elifs-statements\n",
        "    # ...    \n",
        "else:\n",
        "    statement_group_n\n",
        "\n",
        "```\n",
        "\n",
        "You should have noticed a couple of things.\n",
        "\n",
        "1. The `else` and `elif` blocks are **optional**, i.e. an if can have one, both, or neither of them.\n",
        "2. The code inside the `if, `elif`, and `else` block is **indentated**, i.e. it begins exactly four spaces after the beginning of the line. What does it mean?\n"
      ]
    },
    {
      "cell_type": "markdown",
      "metadata": {
        "id": "fGHdlVT_TkqY",
        "colab_type": "text"
      },
      "source": [
        "## Indentation and Code Blocks"
      ]
    },
    {
      "cell_type": "markdown",
      "metadata": {
        "id": "WQZEnajPTkqY",
        "colab_type": "text"
      },
      "source": [
        "When we run an `if` instruction, when does Python know which instruction belong to the body of the `if`, and which to the external code flow? \n",
        "\n",
        "Let's try with an example. If we write:"
      ]
    },
    {
      "cell_type": "code",
      "metadata": {
        "id": "jTtpA4g-TkqZ",
        "colab_type": "code",
        "colab": {}
      },
      "source": [
        "x = 1.0\n",
        "if x > 1:\n",
        "    x = x / 2\n",
        "    print(x)"
      ],
      "execution_count": null,
      "outputs": []
    },
    {
      "cell_type": "markdown",
      "metadata": {
        "id": "58Tl2ga2Tkqa",
        "colab_type": "text"
      },
      "source": [
        "We see that nothing happens. Instead, if we write"
      ]
    },
    {
      "cell_type": "code",
      "metadata": {
        "scrolled": true,
        "id": "Qfs3bGr6Tkqa",
        "colab_type": "code",
        "colab": {}
      },
      "source": [
        "x = 1.0\n",
        "if x > 1:\n",
        "    x = x / 2\n",
        "print(x)"
      ],
      "execution_count": null,
      "outputs": []
    },
    {
      "cell_type": "markdown",
      "metadata": {
        "id": "50mb_51qTkqc",
        "colab_type": "text"
      },
      "source": [
        "The `print` instruction runs. Why?\n",
        "\n",
        "This happens because Python uses **indentation**, i.e. the space at the beginning of the line, to distinguish between different code blocks. All the code with the same indentation belongs to the same code block, and instructions like `if` (like `for`, `while`, that we will introduce next) run a code block at a time.\n",
        "\n",
        "The syntax is the following:\n",
        "\n",
        "```python\n",
        "\n",
        "if expression:\n",
        "    code_block_1\n",
        "    code_block_1\n",
        "    if expression:\n",
        "        code_block_2\n",
        "    else:\n",
        "        code_block_3\n",
        "else:\n",
        "    code_block_4\n",
        "    \n",
        "code_block_5\n",
        "```\n",
        "\n",
        "> 💻 **<font color='teal'>Try it yourself!</font>**\n",
        "\n",
        "Can you guess what will the following cells print?"
      ]
    },
    {
      "cell_type": "code",
      "metadata": {
        "id": "R3wY8PPqTkqd",
        "colab_type": "code",
        "colab": {}
      },
      "source": [
        "x = 5\n",
        "if x > 0:\n",
        "    if x % 2 != 0:\n",
        "        print('odd')\n",
        "    else:\n",
        "        print('even')\n",
        "    print('positive')\n",
        "else:\n",
        "    print('zero or negative')"
      ],
      "execution_count": null,
      "outputs": []
    },
    {
      "cell_type": "code",
      "metadata": {
        "id": "DPRgY7LRTkqe",
        "colab_type": "code",
        "colab": {}
      },
      "source": [
        "x = 5\n",
        "if x > 0:\n",
        "    if x % 2 != 0:\n",
        "        print('odd')\n",
        "    else:\n",
        "        print('even')\n",
        "        print('positive')\n",
        "else:\n",
        "    print('zero or negative')"
      ],
      "execution_count": null,
      "outputs": []
    },
    {
      "cell_type": "code",
      "metadata": {
        "id": "dzTVAcvKTkqf",
        "colab_type": "code",
        "colab": {}
      },
      "source": [
        "x = -6\n",
        "if x % 2 != 0:\n",
        "    print('odd')\n",
        "else:\n",
        "    print('even')\n",
        "    \n",
        "if x > 0:\n",
        "    print('positive')\n",
        "else:\n",
        "    print('zero or negative')"
      ],
      "execution_count": null,
      "outputs": []
    },
    {
      "cell_type": "code",
      "metadata": {
        "id": "z4FsxA_0Tkqh",
        "colab_type": "code",
        "colab": {}
      },
      "source": [
        "x = 3\n",
        "if x % 2 != 0:\n",
        "    print('odd')\n",
        "else:\n",
        "    print('even')    \n",
        "    if x > 0:\n",
        "        print('positive')\n",
        "    else:\n",
        "        if x < 0:\n",
        "            print('negative')\n",
        "        else:\n",
        "            print('zero')"
      ],
      "execution_count": null,
      "outputs": []
    },
    {
      "cell_type": "markdown",
      "metadata": {
        "id": "ljCb3YdFTkqj",
        "colab_type": "text"
      },
      "source": [
        "## Loops: `for` and `while`"
      ]
    },
    {
      "cell_type": "markdown",
      "metadata": {
        "id": "IjhwAhdOTkqj",
        "colab_type": "text"
      },
      "source": [
        "`for` and `while` are used to repeat a code block for an arbitrary number of times.\n",
        "\n",
        "For example, if we want to print five zeros, instead of writing five `print`, we could do the following:"
      ]
    },
    {
      "cell_type": "code",
      "metadata": {
        "scrolled": true,
        "id": "Ls35wbcVTkqj",
        "colab_type": "code",
        "colab": {}
      },
      "source": [
        "count = 0\n",
        "while count < 5:\n",
        "    # increment count by 1\n",
        "    count += 1\n",
        "    print('0')"
      ],
      "execution_count": null,
      "outputs": []
    },
    {
      "cell_type": "markdown",
      "metadata": {
        "id": "6xiQBBjjTkql",
        "colab_type": "text"
      },
      "source": [
        "As the name implies, `while` runs until the expression specified is `True`; in this case, it will run five times as requested. Formally, the syntax is:\n",
        "\n",
        "```python\n",
        "while expression:\n",
        "    statement_1\n",
        "    ...\n",
        "    statement_n\n",
        "```\n",
        "\n",
        "Another possible solution would be the following:"
      ]
    },
    {
      "cell_type": "code",
      "metadata": {
        "id": "4AeZ7nO3Tkql",
        "colab_type": "code",
        "colab": {}
      },
      "source": [
        "for x in [0, 0, 0, 0, 0]:\n",
        "    print(x)"
      ],
      "execution_count": null,
      "outputs": []
    },
    {
      "cell_type": "markdown",
      "metadata": {
        "id": "Vlu0nXdkTkqp",
        "colab_type": "text"
      },
      "source": [
        "Again, this print five zeroes. The `for` loops works this:\n",
        "\n",
        "```python\n",
        "for element in sequence:\n",
        "    statement_1\n",
        "    ...\n",
        "    statement_n\n",
        "```\n",
        "\n",
        "This means that Python will **iterate** over the provided sequence, one element at a time, and run the statements inside the code block. Each statement has access to the current element.\n",
        "\n",
        "Let's see other examples of `while` and `for`. Can you guess in advance how these code block work?"
      ]
    },
    {
      "cell_type": "markdown",
      "metadata": {
        "id": "-OCCOzOtTkqp",
        "colab_type": "text"
      },
      "source": [
        "The first of these, the while statement, provides a way to code general loops. "
      ]
    },
    {
      "cell_type": "code",
      "metadata": {
        "scrolled": true,
        "id": "ITNs_9xxTkqp",
        "colab_type": "code",
        "colab": {}
      },
      "source": [
        "# a loop that strip the last letter of a string one by one\n",
        "x = 'spam'\n",
        "while x: # While x is not empty\n",
        "    print(x)\n",
        "    x = x[1:] # Strip first character off x"
      ],
      "execution_count": null,
      "outputs": []
    },
    {
      "cell_type": "code",
      "metadata": {
        "scrolled": true,
        "id": "LjaOjFjqTkqs",
        "colab_type": "code",
        "colab": {}
      },
      "source": [
        "count = 7\n",
        "while count > 5:\n",
        "    # increment count by 1\n",
        "    count -= 1\n",
        "    print('0')"
      ],
      "execution_count": null,
      "outputs": []
    },
    {
      "cell_type": "code",
      "metadata": {
        "id": "MHmT8AtFTkqu",
        "colab_type": "code",
        "colab": {}
      },
      "source": [
        "for x in [10, 9, 8]:\n",
        "    print(x)"
      ],
      "execution_count": null,
      "outputs": []
    },
    {
      "cell_type": "code",
      "metadata": {
        "id": "CTlsn_g_Tkq0",
        "colab_type": "code",
        "colab": {}
      },
      "source": [
        "for x in [10, 9, 8]:\n",
        "    print(x // 2)"
      ],
      "execution_count": null,
      "outputs": []
    },
    {
      "cell_type": "code",
      "metadata": {
        "id": "uOj8yoeRTkq1",
        "colab_type": "code",
        "colab": {}
      },
      "source": [
        "for word in ['Why,', 'such', 'is', \"love's\", 'transgression', '.']:\n",
        "    print(len(word))"
      ],
      "execution_count": null,
      "outputs": []
    },
    {
      "cell_type": "markdown",
      "metadata": {
        "id": "xuHMCP0UTkq3",
        "colab_type": "text"
      },
      "source": [
        "> 💻 **<font color='teal'>Try it yourself!</font>**\n",
        "\n",
        "Given the list of Shakespeare tragedies below, iterate over the list and print each item in all caps."
      ]
    },
    {
      "cell_type": "code",
      "metadata": {
        "id": "p6FHK5akTkq4",
        "colab_type": "code",
        "colab": {}
      },
      "source": [
        "tragedies = [\n",
        "    \"Antony and Cleopatra\",\n",
        "    \"Coriolanus\",\n",
        "    \"Cymbeline\",\n",
        "    \"Hamlet\",\n",
        "    \"Julius Caesar\",\n",
        "    \"Othello\",\n",
        "    \"Macbeth\",\n",
        "    \"Romeo and Juliet\",\n",
        "    \"Timon of Athens\",\n",
        "    \"Titus Andronicus\",\n",
        "    \"Troilus and Cressida\",\n",
        "]\n",
        "\n",
        "# write your code here:\n"
      ],
      "execution_count": null,
      "outputs": []
    },
    {
      "cell_type": "markdown",
      "metadata": {
        "id": "RO2mQtsaTkq6",
        "colab_type": "text"
      },
      "source": [
        "<details>\n",
        "    <summary>Click <b>here</b> to see the answer.</summary>\n",
        "    <p><code>for tragedy in tragedies:\n",
        "        print(tragedy.upper())</code></p>\n",
        "</details>"
      ]
    },
    {
      "cell_type": "markdown",
      "metadata": {
        "id": "J3GkC5vdTkq6",
        "colab_type": "text"
      },
      "source": [
        "### Break\n",
        "\n",
        "`break` is used inside `for` and `while` to stop the loop before its natural conclusion:"
      ]
    },
    {
      "cell_type": "code",
      "metadata": {
        "id": "KghYWVO1Tkq6",
        "colab_type": "code",
        "colab": {}
      },
      "source": [
        "count = 0\n",
        "while count < 5:\n",
        "    # increment count by 1\n",
        "    count += 1\n",
        "    print(count)\n",
        "\n",
        "    if count == 2:\n",
        "        break  # actually stop when count reaches 2"
      ],
      "execution_count": null,
      "outputs": []
    },
    {
      "cell_type": "code",
      "metadata": {
        "id": "nmX4DrHuTkq8",
        "colab_type": "code",
        "colab": {}
      },
      "source": [
        "for x in [1, 2, 3, 4, 5]:\n",
        "    print(x)\n",
        "    if x == 2:\n",
        "        break  # same as before"
      ],
      "execution_count": null,
      "outputs": []
    },
    {
      "cell_type": "markdown",
      "metadata": {
        "id": "79Ioe2HcTkq9",
        "colab_type": "text"
      },
      "source": [
        "### Continue\n",
        "\n",
        "`continue` is used inside `for` and `while` to skip the current iteration of the cycle. For example, the following loops will print only even numbers:"
      ]
    },
    {
      "cell_type": "code",
      "metadata": {
        "id": "yvBwwfazTkq-",
        "colab_type": "code",
        "colab": {}
      },
      "source": [
        "count = 0\n",
        "while count < 11:\n",
        "    \n",
        "    # increment count by 1\n",
        "    count += 1\n",
        "    \n",
        "    if count % 2 != 0:\n",
        "        continue\n",
        "    else:\n",
        "        print(count)\n",
        "    \n",
        "\n",
        "    \n"
      ],
      "execution_count": null,
      "outputs": []
    },
    {
      "cell_type": "code",
      "metadata": {
        "id": "QrjanzzUTkq_",
        "colab_type": "code",
        "colab": {}
      },
      "source": [
        "for x in [1, 2, 3, 4, 5, 6, 7, 8, 9, 10]:\n",
        "    if x % 2 != 0:\n",
        "        continue  # same as before\n",
        "    else:\n",
        "        print(x)"
      ],
      "execution_count": null,
      "outputs": []
    },
    {
      "cell_type": "markdown",
      "metadata": {
        "id": "8PI_bknkTkrC",
        "colab_type": "text"
      },
      "source": [
        "# References and useful links\n",
        "\n",
        "- [Jupyter Homepage](https://jupyter.org/index.html)\n",
        "- [Jupyter Notebook Documentation](https://jupyter-notebook.readthedocs.io/en/stable/)\n",
        "- [The official Python 3.6 Tutorial](https://docs.python.org/3.6/tutorial/index.html)"
      ]
    },
    {
      "cell_type": "markdown",
      "metadata": {
        "id": "0UkwsoGKTkrC",
        "colab_type": "text"
      },
      "source": [
        "# Continue to next module\n",
        "\n",
        "[Click here](../module_1.3/module_1.3.ipynb) to move to the next module."
      ]
    }
  ]
}