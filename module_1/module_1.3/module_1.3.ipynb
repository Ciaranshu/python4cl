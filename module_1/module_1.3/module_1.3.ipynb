{
  "nbformat": 4,
  "nbformat_minor": 0,
  "metadata": {
    "kernelspec": {
      "display_name": "Python 3",
      "language": "python",
      "name": "python3"
    },
    "language_info": {
      "codemirror_mode": {
        "name": "ipython",
        "version": 3
      },
      "file_extension": ".py",
      "mimetype": "text/x-python",
      "name": "python",
      "nbconvert_exporter": "python",
      "pygments_lexer": "ipython3",
      "version": "3.6.9"
    },
    "toc": {
      "base_numbering": 1,
      "nav_menu": {},
      "number_sections": true,
      "sideBar": true,
      "skip_h1_title": false,
      "title_cell": "Table of Contents",
      "title_sidebar": "Contents",
      "toc_cell": false,
      "toc_position": {},
      "toc_section_display": true,
      "toc_window_display": false
    },
    "varInspector": {
      "cols": {
        "lenName": 16,
        "lenType": 16,
        "lenVar": 40
      },
      "kernels_config": {
        "python": {
          "delete_cmd_postfix": "",
          "delete_cmd_prefix": "del ",
          "library": "var_list.py",
          "varRefreshCmd": "print(var_dic_list())"
        },
        "r": {
          "delete_cmd_postfix": ") ",
          "delete_cmd_prefix": "rm(",
          "library": "var_list.r",
          "varRefreshCmd": "cat(var_dic_list()) "
        }
      },
      "types_to_exclude": [
        "module",
        "function",
        "builtin_function_or_method",
        "instance",
        "_Feature"
      ],
      "window_display": false
    },
    "colab": {
      "name": "module_1.3.ipynb",
      "provenance": [],
      "toc_visible": true
    }
  },
  "cells": [
    {
      "cell_type": "markdown",
      "metadata": {
        "id": "StAgzSRNiZ9U",
        "colab_type": "text"
      },
      "source": [
        "# Python for Computational Linguists 1.3: Basic NLP with Python\n"
      ]
    },
    {
      "cell_type": "markdown",
      "metadata": {
        "id": "LvqkJOQriZ9X",
        "colab_type": "text"
      },
      "source": [
        "## Introduction"
      ]
    },
    {
      "cell_type": "markdown",
      "metadata": {
        "id": "NGLNhGYuiZ9Z",
        "colab_type": "text"
      },
      "source": [
        "In this module, we will cover\n",
        "- functions;\n",
        "- regular expressions;\n",
        "- spaCy;"
      ]
    },
    {
      "cell_type": "markdown",
      "metadata": {
        "id": "A1noIyp0iZ9b",
        "colab_type": "text"
      },
      "source": [
        "## Functions"
      ]
    },
    {
      "cell_type": "markdown",
      "metadata": {
        "id": "m5oAlB7YiZ9d",
        "colab_type": "text"
      },
      "source": [
        "This section is built on this [tutorial](https://www.digitalocean.com/community/tutorials/how-to-define-functions-in-python-3), and students are strongly recommended to go through it.\n",
        "\n",
        "> A *function* is a block of instructions that performs an action and, once defined, can be reused. Functions make code more modular, allowing you to use the same code over and over again.\n",
        "\n",
        "Python has a number of built-in functions that you may be familiar with, including:\n",
        "\n",
        "- `print()` which will print an object to the terminal;\n",
        "- `int()` which will convert a string or number data type to an integer data type;\n",
        "- `len()` which returns the length of an objecj."
      ]
    },
    {
      "cell_type": "code",
      "metadata": {
        "id": "q7owoG-OiZ9f",
        "colab_type": "code",
        "colab": {
          "base_uri": "https://localhost:8080/",
          "height": 35
        },
        "outputId": "8c00f068-3058-4b56-88eb-46d4cf406eb1"
      },
      "source": [
        "print('hello world!')"
      ],
      "execution_count": 16,
      "outputs": [
        {
          "output_type": "stream",
          "text": [
            "hello world!\n"
          ],
          "name": "stdout"
        }
      ]
    },
    {
      "cell_type": "code",
      "metadata": {
        "id": "Js33i8qriZ9r",
        "colab_type": "code",
        "colab": {
          "base_uri": "https://localhost:8080/",
          "height": 35
        },
        "outputId": "51f09dfd-cbfa-4807-89d2-3b3c8a4f5609"
      },
      "source": [
        "int(3.5)"
      ],
      "execution_count": 17,
      "outputs": [
        {
          "output_type": "execute_result",
          "data": {
            "text/plain": [
              "3"
            ]
          },
          "metadata": {
            "tags": []
          },
          "execution_count": 17
        }
      ]
    },
    {
      "cell_type": "code",
      "metadata": {
        "id": "jQh4pJuiiZ91",
        "colab_type": "code",
        "colab": {
          "base_uri": "https://localhost:8080/",
          "height": 35
        },
        "outputId": "138adae7-a226-4975-a3c2-4994af24e961"
      },
      "source": [
        "len([1,2,3])"
      ],
      "execution_count": 18,
      "outputs": [
        {
          "output_type": "execute_result",
          "data": {
            "text/plain": [
              "3"
            ]
          },
          "metadata": {
            "tags": []
          },
          "execution_count": 18
        }
      ]
    },
    {
      "cell_type": "markdown",
      "metadata": {
        "id": "c0pPuDHSiZ97",
        "colab_type": "text"
      },
      "source": [
        "Another similar concept is `method`. Check [here](https://stackoverflow.com/questions/155609/whats-the-difference-between-a-method-and-a-function) for their difference."
      ]
    },
    {
      "cell_type": "markdown",
      "metadata": {
        "id": "Z3gWa1jviZ99",
        "colab_type": "text"
      },
      "source": [
        "Now let's learn how to define and call functions."
      ]
    },
    {
      "cell_type": "markdown",
      "metadata": {
        "id": "OyXGSCF-iZ9-",
        "colab_type": "text"
      },
      "source": [
        "### Define a function"
      ]
    },
    {
      "cell_type": "markdown",
      "metadata": {
        "id": "nSWbxxs_iZ9_",
        "colab_type": "text"
      },
      "source": [
        "A function is defined by using the `def` keyword, followed by \n",
        "1. a **function name** of your choosing;\n",
        "2. a set of parentheses which hold any **parameters** the function will take (they can be empty);\n",
        "3. an ending **colon**;\n",
        "4. function **content code**."
      ]
    },
    {
      "cell_type": "markdown",
      "metadata": {
        "id": "jGzPQD11iZ-B",
        "colab_type": "text"
      },
      "source": [
        "Let's define a simple function `hello()`that prints **hello world**."
      ]
    },
    {
      "cell_type": "code",
      "metadata": {
        "id": "JrKBQJtDiZ-C",
        "colab_type": "code",
        "colab": {}
      },
      "source": [
        "def hello():\n",
        "    print('hello world')"
      ],
      "execution_count": 19,
      "outputs": []
    },
    {
      "cell_type": "markdown",
      "metadata": {
        "id": "1hp8kl9niZ-J",
        "colab_type": "text"
      },
      "source": [
        "Note that \n",
        "- We do not have any parameter for this function, and we will discuss on it in more details later;\n",
        "- To start our real function content code, python requires a 4-space indent, as shown above.\n",
        "\n",
        "Now we have defined our first function. In order to let the program run this function, we still need to call the function, just like what we did to the python built-in functions:"
      ]
    },
    {
      "cell_type": "code",
      "metadata": {
        "id": "hOrL3uq7iZ-K",
        "colab_type": "code",
        "colab": {
          "base_uri": "https://localhost:8080/",
          "height": 35
        },
        "outputId": "99858d46-6876-4301-e563-d54501208458"
      },
      "source": [
        "hello()"
      ],
      "execution_count": 20,
      "outputs": [
        {
          "output_type": "stream",
          "text": [
            "hello world\n"
          ],
          "name": "stdout"
        }
      ]
    },
    {
      "cell_type": "markdown",
      "metadata": {
        "id": "lNAXJRIYiZ-P",
        "colab_type": "text"
      },
      "source": [
        "Functions can be more complicated. For example, we can use `for` loops, conditional statements, and more within our function block.\n",
        "\n",
        "For example, the function defined below utilizes a conditional statement to check if the input for the name variable contains a vowel, then uses a for loop to iterate over the letters in the name string."
      ]
    },
    {
      "cell_type": "code",
      "metadata": {
        "id": "edZuOKldiZ-R",
        "colab_type": "code",
        "colab": {}
      },
      "source": [
        "# Define function names()\n",
        "def names():\n",
        "    # Set up name variable with input\n",
        "    name = str(input('Enter your name: '))\n",
        "    # Check whether name has a vowel\n",
        "    if set('aeiou').intersection(name.lower()):\n",
        "        print('Your name contains a vowel.')\n",
        "    else:\n",
        "        print('Your name does not contain a vowel.')\n",
        "\n",
        "    # Iterate over name\n",
        "    for letter in name:\n",
        "        print(letter)"
      ],
      "execution_count": 21,
      "outputs": []
    },
    {
      "cell_type": "code",
      "metadata": {
        "id": "tzd9Ktz7iZ-W",
        "colab_type": "code",
        "colab": {
          "base_uri": "https://localhost:8080/",
          "height": 54
        },
        "outputId": "f200d41d-ffdf-4068-8dd9-a42741cb04d3"
      },
      "source": [
        "# Call the function\n",
        "names()"
      ],
      "execution_count": 22,
      "outputs": [
        {
          "output_type": "stream",
          "text": [
            "Enter your name: \n",
            "Your name does not contain a vowel.\n"
          ],
          "name": "stdout"
        }
      ]
    },
    {
      "cell_type": "markdown",
      "metadata": {
        "id": "q9uY96kIiZ-b",
        "colab_type": "text"
      },
      "source": [
        "The `names()` function sets up a conditional statement and a for loop, showing how code can be organized within a function definition.\n",
        "\n",
        "> Defining functions within a program makes our code modular and reusable so that we can call the same functions without rewriting them."
      ]
    },
    {
      "cell_type": "markdown",
      "metadata": {
        "id": "XzT4hNmQiZ-d",
        "colab_type": "text"
      },
      "source": [
        "### Function parameters"
      ]
    },
    {
      "cell_type": "markdown",
      "metadata": {
        "id": "utzVT3ASiZ-e",
        "colab_type": "text"
      },
      "source": [
        "So far we have looked at functions with empty parentheses, but we can define parameters in function definitions within their parentheses.\n",
        "\n",
        "> A parameter is a variable in the definition of a function that the function can accept.\n",
        "\n",
        "Let’s create a function that takes trhee parameters `x`, `y`, `z`, and adds them in different configurations. The sums of these will be printed by the function. Then we’ll call the function and pass numbers into the function."
      ]
    },
    {
      "cell_type": "code",
      "metadata": {
        "id": "rwUNe7mPiZ-f",
        "colab_type": "code",
        "colab": {}
      },
      "source": [
        "def add_numbers(x, y, z):\n",
        "    a = x + y\n",
        "    b = x + z\n",
        "    c = y + z\n",
        "    print(a, b, c)"
      ],
      "execution_count": 23,
      "outputs": []
    },
    {
      "cell_type": "markdown",
      "metadata": {
        "id": "sCdd_WrOiZ-l",
        "colab_type": "text"
      },
      "source": [
        "Now we can pass the `arguments` we want into the function to call it. Check [here](https://www.quora.com/What-is-the-difference-between-argument-and-parameters-in-C) for the difference between parameter and argument."
      ]
    },
    {
      "cell_type": "code",
      "metadata": {
        "id": "t4YQoRhDiZ-m",
        "colab_type": "code",
        "colab": {
          "base_uri": "https://localhost:8080/",
          "height": 35
        },
        "outputId": "83c93000-0271-42ef-e7cf-e1440a6a2c2f"
      },
      "source": [
        "add_numbers(1, 2, 3)"
      ],
      "execution_count": 24,
      "outputs": [
        {
          "output_type": "stream",
          "text": [
            "3 4 5\n"
          ],
          "name": "stdout"
        }
      ]
    },
    {
      "cell_type": "markdown",
      "metadata": {
        "id": "lGt9pKW0iZ-s",
        "colab_type": "text"
      },
      "source": [
        "We passed the number `1` in for the `x` parameter, `2` in for the `y` parameter, and `3` in for the `z` parameter. These values correspond with each parameter in the order they are given."
      ]
    },
    {
      "cell_type": "code",
      "metadata": {
        "id": "mqn4aCDbiZ-t",
        "colab_type": "code",
        "colab": {
          "base_uri": "https://localhost:8080/",
          "height": 54
        },
        "outputId": "72b1fd62-bb18-40fd-a99c-dd25c06a4953"
      },
      "source": [
        "# try different arguments\n",
        "add_numbers(4, 6, 8)\n",
        "add_numbers('a', 'b', 'c') # how does it work?"
      ],
      "execution_count": 25,
      "outputs": [
        {
          "output_type": "stream",
          "text": [
            "10 12 14\n",
            "ab ac bc\n"
          ],
          "name": "stdout"
        }
      ]
    },
    {
      "cell_type": "markdown",
      "metadata": {
        "collapsed": true,
        "id": "6tlFQKyBiZ-1",
        "colab_type": "text"
      },
      "source": [
        "> **<h3>💻 Try it yourself!</h3>**\n",
        "\n",
        "Write a function that, given an input list of integers, prints their average."
      ]
    },
    {
      "cell_type": "code",
      "metadata": {
        "id": "tfuV5bXEiZ-2",
        "colab_type": "code",
        "colab": {}
      },
      "source": [
        ""
      ],
      "execution_count": 25,
      "outputs": []
    },
    {
      "cell_type": "markdown",
      "metadata": {
        "id": "Qrfr-xSGiZ-7",
        "colab_type": "text"
      },
      "source": [
        "<details>\n",
        "  <summary>Click <b>here</b> to see the answer.</summary>\n",
        "  <p><code>\n",
        "  def get_average_list(l):\n",
        "      print( sum(l) / len(l) )\n",
        "  </code></p>\n",
        "</details> "
      ]
    },
    {
      "cell_type": "markdown",
      "metadata": {
        "id": "9alVSUysiZ-8",
        "colab_type": "text"
      },
      "source": [
        "> **<h3>💻 Try it yourself!</h3>**\n",
        "\n",
        "Write a function that, given an input string, computes and prints the following statistics:\n",
        "- Total number of characters.\n",
        "- Total number of tokens.\n",
        "- Total number of word types (i.e., distinct tokens) *Hint: there is a datatype that can help you with this!*"
      ]
    },
    {
      "cell_type": "code",
      "metadata": {
        "id": "57wlqV_tiZ-9",
        "colab_type": "code",
        "colab": {
          "base_uri": "https://localhost:8080/",
          "height": 135
        },
        "outputId": "f5a329f9-04e0-491e-e42b-59366329ddb4"
      },
      "source": [
        "def string_statistics(s):\n",
        "    tot_characters = #TODO\n",
        "    tot_tokens = #TODO\n",
        "    tot_types = #TODO\n",
        "    \n",
        "    print(\"The given input string contains\", tot_characters, \"characters,\",\\\n",
        "         tot_tokens, \"tokens and\", tot_types, \"types\")\n",
        "\n",
        "# Test your function here!\n",
        "test_string = \"To be or not to be, not to be or to be!\"\n",
        "string_statistics(test_string) "
      ],
      "execution_count": 11,
      "outputs": [
        {
          "output_type": "error",
          "ename": "SyntaxError",
          "evalue": "ignored",
          "traceback": [
            "\u001b[0;36m  File \u001b[0;32m\"<ipython-input-11-059c5aa3b0c4>\"\u001b[0;36m, line \u001b[0;32m2\u001b[0m\n\u001b[0;31m    tot_characters = #TODO\u001b[0m\n\u001b[0m                          ^\u001b[0m\n\u001b[0;31mSyntaxError\u001b[0m\u001b[0;31m:\u001b[0m invalid syntax\n"
          ]
        }
      ]
    },
    {
      "cell_type": "markdown",
      "metadata": {
        "id": "r0bJtIkjiZ_C",
        "colab_type": "text"
      },
      "source": [
        "### Keyword Arguments"
      ]
    },
    {
      "cell_type": "markdown",
      "metadata": {
        "id": "KRJkuyspiZ_G",
        "colab_type": "text"
      },
      "source": [
        "We can also use keyword arguments in a function call to identify the arguments by the parameter name.\n",
        "\n",
        "When using keyword arguments, we can use parameters out of order because the Python interpreter will use the keywords provided to match the values to the parameters:"
      ]
    },
    {
      "cell_type": "code",
      "metadata": {
        "id": "VY8cDmgViZ_H",
        "colab_type": "code",
        "colab": {
          "base_uri": "https://localhost:8080/",
          "height": 54
        },
        "outputId": "ed99f7e3-dcf0-4151-b20e-2512cf20f86f"
      },
      "source": [
        "add_numbers(x = 4, y = 6, z = 8)\n",
        "add_numbers(y = 6, x = 4, z = 8) # out of order, but same arguments"
      ],
      "execution_count": 26,
      "outputs": [
        {
          "output_type": "stream",
          "text": [
            "10 12 14\n",
            "10 12 14\n"
          ],
          "name": "stdout"
        }
      ]
    },
    {
      "cell_type": "markdown",
      "metadata": {
        "id": "ZiUi-ihsiZ_O",
        "colab_type": "text"
      },
      "source": [
        "### Default Argument Values"
      ]
    },
    {
      "cell_type": "markdown",
      "metadata": {
        "id": "JCQD2xEUiZ_O",
        "colab_type": "text"
      },
      "source": [
        "We can also provide default values for one or more parameters, so the parameters will be set to the default values\n",
        "if we do not mention them when calling the function."
      ]
    },
    {
      "cell_type": "code",
      "metadata": {
        "id": "IP-7iag1iZ_P",
        "colab_type": "code",
        "colab": {}
      },
      "source": [
        "def add_numbers_default_value(x, y = 6, z = 10):\n",
        "    a = x + y\n",
        "    b = x + z\n",
        "    c = y + z\n",
        "    print(a, b, c)"
      ],
      "execution_count": 27,
      "outputs": []
    },
    {
      "cell_type": "code",
      "metadata": {
        "id": "aJdszbfWiZ_T",
        "colab_type": "code",
        "colab": {
          "base_uri": "https://localhost:8080/",
          "height": 54
        },
        "outputId": "555cf38c-83c1-4c45-f3f8-ba8a98580289"
      },
      "source": [
        "add_numbers_default_value(4)\n",
        "add_numbers_default_value(x = 4)"
      ],
      "execution_count": 28,
      "outputs": [
        {
          "output_type": "stream",
          "text": [
            "10 14 16\n",
            "10 14 16\n"
          ],
          "name": "stdout"
        }
      ]
    },
    {
      "cell_type": "markdown",
      "metadata": {
        "id": "OtroWiu-iZ_X",
        "colab_type": "text"
      },
      "source": [
        "We can also explicitly pass the arguments to the parameters with the default value:"
      ]
    },
    {
      "cell_type": "code",
      "metadata": {
        "id": "6DU-uk_OiZ_Y",
        "colab_type": "code",
        "colab": {
          "base_uri": "https://localhost:8080/",
          "height": 35
        },
        "outputId": "55e70076-5c48-4947-ce6a-21a7993d4865"
      },
      "source": [
        "add_numbers_default_value(4, y = 8)"
      ],
      "execution_count": 29,
      "outputs": [
        {
          "output_type": "stream",
          "text": [
            "12 14 18\n"
          ],
          "name": "stdout"
        }
      ]
    },
    {
      "cell_type": "markdown",
      "metadata": {
        "id": "42xzzKuBiZ_e",
        "colab_type": "text"
      },
      "source": [
        "### Returning a Value"
      ]
    },
    {
      "cell_type": "markdown",
      "metadata": {
        "id": "CvhG-lk1iZ_e",
        "colab_type": "text"
      },
      "source": [
        "We can pass parameters into a function, and a function can also return a value to us in the end. When a function exits, it can *optionally* pass an expression back to the caller, with the `return` statement. If you use a `return` statement with no arguments, the function will return `None`.\n",
        "\n",
        "So far, we have used the `print()` statement instead of the return statement in our functions. Let’s create a program that instead of printing will return a variable. The function `square` will take a parameter `x`, and returns the variable `y` representing the square of `x`."
      ]
    },
    {
      "cell_type": "code",
      "metadata": {
        "id": "ij6u6BpaiZ_f",
        "colab_type": "code",
        "colab": {}
      },
      "source": [
        "def square(x):\n",
        "    y = x ** 2\n",
        "    return y"
      ],
      "execution_count": 30,
      "outputs": []
    },
    {
      "cell_type": "code",
      "metadata": {
        "id": "-ppQpR_PiZ_j",
        "colab_type": "code",
        "colab": {
          "base_uri": "https://localhost:8080/",
          "height": 35
        },
        "outputId": "acecdb5d-e2d4-4e7c-dd68-3c129bd08244"
      },
      "source": [
        "result = square(3)\n",
        "print(result)"
      ],
      "execution_count": 31,
      "outputs": [
        {
          "output_type": "stream",
          "text": [
            "9\n"
          ],
          "name": "stdout"
        }
      ]
    },
    {
      "cell_type": "markdown",
      "metadata": {
        "id": "h3R3YZTHiZ_o",
        "colab_type": "text"
      },
      "source": [
        "As stated previously, we can use `return` with no arguments, so that the function will return `None`."
      ]
    },
    {
      "cell_type": "code",
      "metadata": {
        "id": "8bxlRmU7iZ_p",
        "colab_type": "code",
        "colab": {}
      },
      "source": [
        "# we return no arguments\n",
        "def square_return_noarg(x):\n",
        "    y = x ** 2\n",
        "    return"
      ],
      "execution_count": 32,
      "outputs": []
    },
    {
      "cell_type": "code",
      "metadata": {
        "id": "NS4xRUQYiZ_t",
        "colab_type": "code",
        "colab": {
          "base_uri": "https://localhost:8080/",
          "height": 35
        },
        "outputId": "10cf0d70-bf74-4c0a-bc74-659a7393964e"
      },
      "source": [
        "result = square_return_noarg(3)\n",
        "print(result)"
      ],
      "execution_count": 33,
      "outputs": [
        {
          "output_type": "stream",
          "text": [
            "None\n"
          ],
          "name": "stdout"
        }
      ]
    },
    {
      "cell_type": "markdown",
      "metadata": {
        "id": "EqqlFdTbiZ_y",
        "colab_type": "text"
      },
      "source": [
        "Additionally, without using the `return` statement here, the function cannot return a value so the value defaults to `None` as well."
      ]
    },
    {
      "cell_type": "code",
      "metadata": {
        "id": "vQvbjx1ciZ_0",
        "colab_type": "code",
        "colab": {}
      },
      "source": [
        "# we do not use return\n",
        "def square_noreturn(x):\n",
        "    y = x ** 2"
      ],
      "execution_count": 34,
      "outputs": []
    },
    {
      "cell_type": "code",
      "metadata": {
        "id": "wTCG4V04iZ_5",
        "colab_type": "code",
        "colab": {
          "base_uri": "https://localhost:8080/",
          "height": 35
        },
        "outputId": "dcde0f81-4f76-4ba2-c86a-5b3a6320616e"
      },
      "source": [
        "result = square_noreturn(3)\n",
        "print(result)"
      ],
      "execution_count": 35,
      "outputs": [
        {
          "output_type": "stream",
          "text": [
            "None\n"
          ],
          "name": "stdout"
        }
      ]
    },
    {
      "cell_type": "markdown",
      "metadata": {
        "id": "VojBVhFdiZ_-",
        "colab_type": "text"
      },
      "source": [
        "In the previous function `add_numbers`, instead of printing the results, we can `return` more than one value wrapped in data structures such as **tuples**, **lists** or **dictionaries**:"
      ]
    },
    {
      "cell_type": "code",
      "metadata": {
        "id": "4pOEYlxQiaAA",
        "colab_type": "code",
        "colab": {}
      },
      "source": [
        "def add_numbers_return_dict(x, y, z):\n",
        "    a = x + y\n",
        "    b = x + z\n",
        "    c = y + z\n",
        "    return {'a': a, 'b': b, 'c': c}"
      ],
      "execution_count": 36,
      "outputs": []
    },
    {
      "cell_type": "code",
      "metadata": {
        "id": "7AN0EOD3iaAD",
        "colab_type": "code",
        "colab": {
          "base_uri": "https://localhost:8080/",
          "height": 35
        },
        "outputId": "714ccec1-ad3d-4223-ac4e-8fb2698e39f0"
      },
      "source": [
        "result = add_numbers_return_dict(1, 2, 3)\n",
        "print(result)"
      ],
      "execution_count": 37,
      "outputs": [
        {
          "output_type": "stream",
          "text": [
            "{'a': 3, 'b': 4, 'c': 5}\n"
          ],
          "name": "stdout"
        }
      ]
    },
    {
      "cell_type": "markdown",
      "metadata": {
        "id": "34gIevh1iaAG",
        "colab_type": "text"
      },
      "source": [
        "Whenever the program hits a `return` statement, the function will exit immediately, whether or not they are returning a value."
      ]
    },
    {
      "cell_type": "code",
      "metadata": {
        "id": "tzpjobWniaAH",
        "colab_type": "code",
        "colab": {
          "base_uri": "https://localhost:8080/",
          "height": 127
        },
        "outputId": "2c96f1da-fb18-4843-9518-ecf8ed88d152"
      },
      "source": [
        "def loop_five():\n",
        "    for x in range(0, 25):\n",
        "        print(x)\n",
        "        if x == 5:\n",
        "            # Stop function at x == 5\n",
        "            return\n",
        "    print(\"This line will not execute.\")\n",
        "\n",
        "loop_five()"
      ],
      "execution_count": 38,
      "outputs": [
        {
          "output_type": "stream",
          "text": [
            "0\n",
            "1\n",
            "2\n",
            "3\n",
            "4\n",
            "5\n"
          ],
          "name": "stdout"
        }
      ]
    },
    {
      "cell_type": "markdown",
      "metadata": {
        "id": "Q5QH4hoDiaAL",
        "colab_type": "text"
      },
      "source": [
        "The function hits `return` before the `for` loop ends, so the line that is outside of the loop will not run. "
      ]
    },
    {
      "cell_type": "markdown",
      "metadata": {
        "id": "bV-Mqz3ViaAM",
        "colab_type": "text"
      },
      "source": [
        "> **<h3>💻 Try it yourself!</h3>**\n",
        "\n",
        "Write a function that:\n",
        "- Takes as input a shopping list in the form of `items : quantity` pairs;\n",
        "- For each item to buy, prints a reminder in the form: *Don't forget to buy* + `quantity` + `items`;\n",
        "- Ends by wishing you a nice shopping time."
      ]
    },
    {
      "cell_type": "code",
      "metadata": {
        "id": "FsBHVlokiaAN",
        "colab_type": "code",
        "colab": {}
      },
      "source": [
        "def print_shopping_list(shopping_list):\n",
        "    # write here your function\n",
        "    pass\n",
        "\n",
        "# Test your function here!\n",
        "shopping_list = {\"pears\": 5, \"apples\": 7, \"bananas\": 4}\n",
        "print_shopping_list(shopping_list)"
      ],
      "execution_count": null,
      "outputs": []
    },
    {
      "cell_type": "markdown",
      "metadata": {
        "id": "zWR2iAPpiaAQ",
        "colab_type": "text"
      },
      "source": [
        "<details>\n",
        "  <summary>Click <b>here</b> to see the answer.</summary>\n",
        "  <p><code>\n",
        "    def print_shopping_list(shopping_list):\n",
        "        for item, quantity in shopping_list.items():\n",
        "            print(\"Don't forget to buy\", quantity, item)\n",
        "        print(\"Have a nice shopping time!\")\n",
        "  </code></p>\n",
        "</details> "
      ]
    },
    {
      "cell_type": "markdown",
      "metadata": {
        "id": "l4wnN4QTiaAQ",
        "colab_type": "text"
      },
      "source": [
        "Now, let's make our function a bit nicer.\n",
        "What would happen, for example, if someone would enter an incorrect input?\n",
        "Our function would crash!\n",
        "\n",
        "Let's improve our `print_shopping_list` function in the cell above in this way:\n",
        "- At the beginning of the function, check that the given input is of type `dict`;\n",
        "- If the input doesn't pass this test, return a `print` statement that asks the user for a correct input.\n",
        "\n",
        "Now, test our improved funtion with the test inputs below."
      ]
    },
    {
      "cell_type": "code",
      "metadata": {
        "id": "R-_VNm1liaAR",
        "colab_type": "code",
        "colab": {}
      },
      "source": [
        "# Test your improved function here!\n",
        "print_shopping_list({\"pears\": 5, \"apples\": 7, \"bananas\": 4})\n",
        "print_shopping_list([\"pears\", \"apples\", \"bananas\"])\n",
        "print_shopping_list({\"tomatoes\": 9, \"cat_litter\": 1, \"thuna_chunks\": 4})"
      ],
      "execution_count": null,
      "outputs": []
    },
    {
      "cell_type": "markdown",
      "metadata": {
        "id": "xHBoVQbJiaAU",
        "colab_type": "text"
      },
      "source": [
        "<details>\n",
        "  <summary>Click <b>here</b> to see the answer.</summary>\n",
        "  <p><code>\n",
        "    def print_shopping_list(shopping_list):\n",
        "        if type(shopping_list) != dict:\n",
        "            return(\"Please, give me a valid shopping list!\")\n",
        "        for item, quantity in shopping_list.items():\n",
        "            print(\"Don't forget to buy\", quantity, item)\n",
        "        print(\"Have a nice shopping time!\")\n",
        "  </code></p>\n",
        "</details> "
      ]
    },
    {
      "cell_type": "markdown",
      "metadata": {
        "id": "ORYJiuzbiaAW",
        "colab_type": "text"
      },
      "source": [
        "> **<h3>💻 Try it yourself!</h3>**\n",
        "\n",
        "Now, let's write a function that returns the total cost of a shopping list given as inputs two dictionaries: a `shopping_list` dictionary composed of `item : quantity` pairs (as in the excercise above) and an `inventory` dictionary composed of `item : cost` pairs.\n",
        "\n",
        "\n",
        "Complete the function below with the missing statements."
      ]
    },
    {
      "cell_type": "code",
      "metadata": {
        "id": "CGdyxXf5iaAY",
        "colab_type": "code",
        "colab": {
          "base_uri": "https://localhost:8080/",
          "height": 135
        },
        "outputId": "58b4ff97-c125-4df6-f6b3-70b402ce84a1"
      },
      "source": [
        "def calculate_shopping_bill(shopping_list, inventory):\n",
        "    shopping_cost = 0\n",
        "    for item, quantity in shopping_list.items():\n",
        "        # TODO: get the total price by summing up the prices of single items\n",
        "\n",
        "    return shopping_cost\n",
        "        \n",
        "    \n",
        "# Test your function here!\n",
        "our_shopping = {\"pears\": 5, \"apples\": 7, \"bananas\": 4}\n",
        "current_inventory = {\"pears\": 0.5, \"apples\": 0.7, \"bananas\": 1.3}\n",
        "\n",
        "cost = calculate_shopping_bill(our_shopping, current_inventory)\n",
        "print(\"You'll spend\", cost, \"GBP\")"
      ],
      "execution_count": 39,
      "outputs": [
        {
          "output_type": "error",
          "ename": "IndentationError",
          "evalue": "ignored",
          "traceback": [
            "\u001b[0;36m  File \u001b[0;32m\"<ipython-input-39-13acbb21ac9f>\"\u001b[0;36m, line \u001b[0;32m6\u001b[0m\n\u001b[0;31m    return shopping_cost\u001b[0m\n\u001b[0m         ^\u001b[0m\n\u001b[0;31mIndentationError\u001b[0m\u001b[0;31m:\u001b[0m expected an indented block\n"
          ]
        }
      ]
    },
    {
      "cell_type": "markdown",
      "metadata": {
        "collapsed": true,
        "id": "5xr4BOHbiaAd",
        "colab_type": "text"
      },
      "source": [
        "<details>\n",
        "  <summary>Click <b>here</b> to see the answer.</summary>\n",
        "  <p><code>\n",
        "    def calculate_shopping_bill(shopping_list, inventory):\n",
        "        shopping_cost = 0\n",
        "        for item, quantity in shopping_list.items():\n",
        "            single_item_cost = inventory[item]\n",
        "            total_item_cost = single_item_cost * quantity\n",
        "            shopping_cost += total_item_cost\n",
        "        return shopping_cost\n",
        "  </code></p>\n",
        "</details> "
      ]
    },
    {
      "cell_type": "markdown",
      "metadata": {
        "id": "f5089YfziaAd",
        "colab_type": "text"
      },
      "source": [
        "### ❓ Quiz  "
      ]
    },
    {
      "cell_type": "markdown",
      "metadata": {
        "id": "mi1qg8sdiaAe",
        "colab_type": "text"
      },
      "source": [
        "Given the function:\n",
        "```\n",
        "def add_numbers(x = 3, y = 4, z = 5):\n",
        "    x = x + y\n",
        "    y = x + z\n",
        "    z = y + z\n",
        "    print(x, y, z)\n",
        "    \n",
        "o, p, q = 5, 6, 7\n",
        "L = [5,6,7]\n",
        "```"
      ]
    },
    {
      "cell_type": "markdown",
      "metadata": {
        "id": "Ui2srriXiaAe",
        "colab_type": "text"
      },
      "source": [
        "1. What does the following code print?\n",
        "\n",
        "```\n",
        "d = add_numbers(5)\n",
        "```\n",
        "\n",
        "A. 7, 8, 9\n",
        "\n",
        "B. 7, 8, 9\n",
        "\n",
        "C. 9, 14, 19\n",
        "\n",
        "D. 9, 14, 19"
      ]
    },
    {
      "cell_type": "markdown",
      "metadata": {
        "id": "sKH0qzTziaAf",
        "colab_type": "text"
      },
      "source": [
        "<hr>    <!-- please remember this! -->\n",
        "<details>\n",
        "  <summary>Click <b>here</b> to see the answer.</summary>\n",
        "  <p>C</p>\n",
        "</details> "
      ]
    },
    {
      "cell_type": "markdown",
      "metadata": {
        "id": "-MQM0Z6giaAg",
        "colab_type": "text"
      },
      "source": [
        "2. What is the value of `d`?\n",
        "\n",
        "A. 7\n",
        "\n",
        "B. 9\n",
        "\n",
        "C. 10\n",
        "\n",
        "D. None"
      ]
    },
    {
      "cell_type": "markdown",
      "metadata": {
        "id": "UOXbA3WhiaAg",
        "colab_type": "text"
      },
      "source": [
        "<hr>    <!-- please remember this! -->\n",
        "<details>\n",
        "  <summary>Click <b>here</b> to see the answer.</summary>\n",
        "  <p>D</p>\n",
        "</details> "
      ]
    },
    {
      "cell_type": "markdown",
      "metadata": {
        "id": "iLtA8fIZiaAg",
        "colab_type": "text"
      },
      "source": [
        "3. What is the value of `o p q` after running the following code?\n",
        "\n",
        "```\n",
        "add_numbers(o, p, q)\n",
        "```\n",
        "\n",
        "A. 7, 12, 17\n",
        "\n",
        "B. 9, 14, 19\n",
        "\n",
        "C. 11, 18, 25\n",
        "\n",
        "D. 5, 6, 7"
      ]
    },
    {
      "cell_type": "markdown",
      "metadata": {
        "id": "ptCAkLGqiaAg",
        "colab_type": "text"
      },
      "source": [
        "<hr>    <!-- please remember this! -->\n",
        "<details>\n",
        "  <summary>Click <b>here</b> to see the answer.</summary>\n",
        "  <p>D</p>\n",
        "</details> "
      ]
    },
    {
      "cell_type": "markdown",
      "metadata": {
        "id": "1LWoa0jdiaAh",
        "colab_type": "text"
      },
      "source": [
        "4. How to pass the element of `L` as the parameters of the function?\n",
        "\n",
        "\n",
        "A. ```add_numbers(L)```\n",
        "\n",
        "\n",
        "B. ```add_numbers(L*)```\n",
        "\n",
        "C. ```add_numbers(*L)```\n",
        "\n",
        "D. ```add_numbers(**L)```"
      ]
    },
    {
      "cell_type": "markdown",
      "metadata": {
        "id": "Xkz0LLJRiaAi",
        "colab_type": "text"
      },
      "source": [
        "<hr>    <!-- please remember this! -->\n",
        "<details>\n",
        "  <summary>Click <b>here</b> to see the answer.</summary>\n",
        "  <p>C</p>\n",
        "</details> "
      ]
    },
    {
      "cell_type": "markdown",
      "metadata": {
        "id": "fBo1ntiHiaAi",
        "colab_type": "text"
      },
      "source": [
        "5. What is the value of `L` after running the following code?\n",
        "\n",
        "```\n",
        "add_numbers(L, L, L)\n",
        "```\n",
        "\n",
        "A. [5, 6, 7]\n",
        "\n",
        "B. [5, 6, 7, 5, 6, 7]\n",
        "\n",
        "C. [5, 6, 7, 5, 6, 7, 5, 6, 7]\n",
        "\n",
        "D. [5, 6, 7, 5, 6, 7, 5, 6, 7, 5, 6, 7]"
      ]
    },
    {
      "cell_type": "markdown",
      "metadata": {
        "id": "n6H7TouiiaAj",
        "colab_type": "text"
      },
      "source": [
        "<hr>    <!-- please remember this! -->\n",
        "<details>\n",
        "  <summary>Click <b>here</b> to see the answer.</summary>\n",
        "  <p>A</p>\n",
        "</details> "
      ]
    },
    {
      "cell_type": "markdown",
      "metadata": {
        "id": "KiYe_-gPiaAj",
        "colab_type": "text"
      },
      "source": [
        "## Regular Expressions"
      ]
    },
    {
      "cell_type": "markdown",
      "metadata": {
        "collapsed": true,
        "id": "yyqwMTe6iaAk",
        "colab_type": "text"
      },
      "source": [
        "This section is heavily built on this [tutorial](https://docs.python.org/3.6/howto/regex.html#regex-howto), and students are strongly recommended to go through it. A more comprehensive documentation of python regular expressions can be found [here](https://docs.python.org/3.6/library/re.html)."
      ]
    },
    {
      "cell_type": "markdown",
      "metadata": {
        "id": "X25aSxUJiaAl",
        "colab_type": "text"
      },
      "source": [
        "Regular expressions (called REs, or regexes, or regex patterns) are essentially a tiny, highly specialized programming language embedded inside Python and made available through the re module. Using this little language, you specify the rules for the set of possible strings that you want to match; this set might contain English sentences, or e-mail addresses, or TeX commands, or anything you like. You can then ask questions such as “Does this string match the pattern?”, or “Is there a match for the pattern anywhere in this string?”. You can also use REs to modify a string or to split it apart in various ways."
      ]
    },
    {
      "cell_type": "markdown",
      "metadata": {
        "id": "iGOb0uGriaAl",
        "colab_type": "text"
      },
      "source": [
        "Python uses the **raw string** notation for RE patterns, and backslashes `'\\'` are not handled in any special way in a string literal prefixed with `r`. So `r'\\n'` is a two-character string containing `'\\'` and `'n'`, while `'\\n'` is a one-character string containing a newline. \n",
        "\n",
        "We’ll use the raw string notation for the rest of the section. We will also write REs in highlight style , i.e. `r'\\n'` is equivalent to `\\n`, usually without quotes, and strings to be matched 'in single quotes'."
      ]
    },
    {
      "cell_type": "markdown",
      "metadata": {
        "id": "fZxX1QKfiaAm",
        "colab_type": "text"
      },
      "source": [
        "REs can contain both special and ordinary characters. Most ordinary characters, like `A`, `a`, or `0`, are the simplest REs; they simply match themselves. You can concatenate ordinary characters to match more complex sequence. For example, `test` will match the string 'test' exactly.\n",
        "\n",
        "Some characters are special metacharacters, and don’t match themselves. Instead, they signal that some out-of-the-ordinary thing should be matched, or they affect other portions of the RE by repeating them or changing their meaning.\n",
        "\n",
        "Here’s a complete list of the metacharacters and their explanations:\n",
        "\n",
        "- `.`             Matches any character except a newline.\n",
        "- `^`             Matches the start of the string.\n",
        "- `$`             Matches the end of the string or just before the newline at the end of the string.\n",
        "- `*`             Matches 0 or more (greedy) repetitions of the preceding RE. Greedy means that it will match as many repetitions as possible.\n",
        "- `+`             Matches 1 or more (greedy) repetitions of the preceding RE.\n",
        "- `?`             Matches 0 or 1 (greedy) of the preceding RE.\n",
        "- `*?, +?, ??`    Non-greedy versions of the previous three special characters.\n",
        "- `{m,n}`         Matches from m to n repetitions of the preceding RE.\n",
        "- `{m,n}?`        Non-greedy version of the above.\n",
        "- `\\\\`            Either escapes special characters or signals a special sequence.\n",
        "- `[]`            Indicates a set of characters. A \"^\" as the first character indicates a complementing set.\n",
        "- `|`             A|B, creates an RE that will match either A or B.\n",
        "- `(...)`         Matches the RE inside the parentheses. The contents can be retrieved or matched later in the string.\n",
        "\n",
        "\n",
        "The special sequences consist of \"\\\\\" and a character from the list below:\n",
        "- `\\number`  Matches the contents of the group of the same number.\n",
        "- `\\A`       Matches only at the start of the string.\n",
        "- `\\Z`       Matches only at the end of the string.\n",
        "- `\\b`       Matches the empty string, but only at the start or end of a word.\n",
        "- `\\B`       Matches the empty string, but not at the start or end of a word.\n",
        "- `\\d`       Matches any decimal digit; equivalent to the set `[0-9]`.\n",
        "- `\\D`       Matches any non-digit character; equivalent to `[^\\d]`.\n",
        "- `\\s`       Matches any whitespace character; equivalent to `[ \\t\\n\\r\\f\\v]`.\n",
        "- `\\S`       Matches any non-whitespace character; equivalent to `[^\\s]`.\n",
        "- `\\w`       Matches any alphanumeric character; equivalent to `[a-zA-Z0-9_]`.\n",
        "- `\\W`       Matches the complement of `\\w`.\n",
        "- `\\\\`       Matches a literal backslash."
      ]
    },
    {
      "cell_type": "code",
      "metadata": {
        "id": "NQIs9i20iaAn",
        "colab_type": "code",
        "colab": {}
      },
      "source": [
        "# import built-in regular expression module in python\n",
        "import re"
      ],
      "execution_count": 40,
      "outputs": []
    },
    {
      "cell_type": "code",
      "metadata": {
        "id": "B6HL3dPbiaAq",
        "colab_type": "code",
        "colab": {
          "base_uri": "https://localhost:8080/",
          "height": 74
        },
        "outputId": "646dc722-c60c-49f3-c6ff-94b10bb807f5"
      },
      "source": [
        "text = (\"\"\"                2\n",
        "  When forty winters shall besiege thy brow,\"\"\"\n",
        "  \"And dig deep trenches in thy beauty's field, \"\n",
        "  \"Thy youth's proud livery so gazed on now, \"\n",
        "  \"Will be a tattered weed of small worth held: \"\n",
        "  \"Then being asked, where all thy beauty lies, \"\n",
        "  \"Where all the treasure of thy lusty days; \"\n",
        "  \"To say within thine own deep sunken eyes, \"\n",
        "  \"Were an all-eating shame, and thriftless praise. \"\n",
        "  \"How much more praise deserved thy beauty's use, \"\n",
        "  \"If thou couldst answer 'This fair child of mine \"\n",
        "  \"Shall sum my count, and make my old excuse' \"\n",
        "  \"Proving his beauty by succession thine. \"\n",
        "  \"This were to be new made when thou art old, \"\n",
        "  \"And see thy blood warm when thou feel'st it cold.\")\n",
        "\n",
        "print(text)"
      ],
      "execution_count": 41,
      "outputs": [
        {
          "output_type": "stream",
          "text": [
            "                2\n",
            "  When forty winters shall besiege thy brow,And dig deep trenches in thy beauty's field, Thy youth's proud livery so gazed on now, Will be a tattered weed of small worth held: Then being asked, where all thy beauty lies, Where all the treasure of thy lusty days; To say within thine own deep sunken eyes, Were an all-eating shame, and thriftless praise. How much more praise deserved thy beauty's use, If thou couldst answer 'This fair child of mine Shall sum my count, and make my old excuse' Proving his beauty by succession thine. This were to be new made when thou art old, And see thy blood warm when thou feel'st it cold.\n"
          ],
          "name": "stdout"
        }
      ]
    },
    {
      "cell_type": "markdown",
      "metadata": {
        "id": "x5R3u0G4iaAt",
        "colab_type": "text"
      },
      "source": [
        "We will mainly concentrate two essential usage of regular expressions: **searching** and **substituting** text."
      ]
    },
    {
      "cell_type": "markdown",
      "metadata": {
        "id": "5_Q730zKiaAu",
        "colab_type": "text"
      },
      "source": [
        "### Searching text"
      ]
    },
    {
      "cell_type": "markdown",
      "metadata": {
        "id": "yZK0GIrPiaAu",
        "colab_type": "text"
      },
      "source": [
        "Let's first find word '**where**', in regardless of case.\n",
        "\n",
        "The **re** module provides an interface to the regular expression engine, allowing you to compile REs into objects and then perform matches with them."
      ]
    },
    {
      "cell_type": "code",
      "metadata": {
        "id": "FsD6ZDZoiaAv",
        "colab_type": "code",
        "colab": {
          "base_uri": "https://localhost:8080/",
          "height": 35
        },
        "outputId": "86bdd2a5-dace-41fd-bf6e-fa4d2f581629"
      },
      "source": [
        "p = re.compile(r'\\b[Ww]here\\b')\n",
        "p"
      ],
      "execution_count": 42,
      "outputs": [
        {
          "output_type": "execute_result",
          "data": {
            "text/plain": [
              "re.compile(r'\\b[Ww]here\\b', re.UNICODE)"
            ]
          },
          "metadata": {
            "tags": []
          },
          "execution_count": 42
        }
      ]
    },
    {
      "cell_type": "markdown",
      "metadata": {
        "id": "kRRhhUmRiaAy",
        "colab_type": "text"
      },
      "source": [
        "After we obtained compiled pattern object, it has several functions and attributes. For **searching** text, there are mainly four functions available:\n",
        "- *match()*: determine if the RE matches at the beginning of the string.\n",
        "- *search()*: scan through a string, looking for any location where this RE matches.\n",
        "- *findall()*: find all substrings where the RE matches, and returns them as a list.\n",
        "- *finditer()*: find all substrings where the RE matches, and returns them as an iterator.\n",
        "\n",
        "Please consult the **re** documentation for a complete listing."
      ]
    },
    {
      "cell_type": "code",
      "metadata": {
        "id": "nsC-0yADiaAy",
        "colab_type": "code",
        "colab": {
          "base_uri": "https://localhost:8080/",
          "height": 35
        },
        "outputId": "93c7b45c-2dd0-484d-fb6a-f23a72c721f2"
      },
      "source": [
        "m = p.match(text)\n",
        "print(m)"
      ],
      "execution_count": 43,
      "outputs": [
        {
          "output_type": "stream",
          "text": [
            "None\n"
          ],
          "name": "stdout"
        }
      ]
    },
    {
      "cell_type": "code",
      "metadata": {
        "id": "ccowpuGPiaA3",
        "colab_type": "code",
        "colab": {
          "base_uri": "https://localhost:8080/",
          "height": 35
        },
        "outputId": "76b2673a-d354-4670-bec7-8c114aea2902"
      },
      "source": [
        "m = p.search(text)\n",
        "print(m)"
      ],
      "execution_count": 44,
      "outputs": [
        {
          "output_type": "stream",
          "text": [
            "<_sre.SRE_Match object; span=(212, 217), match='where'>\n"
          ],
          "name": "stdout"
        }
      ]
    },
    {
      "cell_type": "markdown",
      "metadata": {
        "id": "cJdrjkUwiaA7",
        "colab_type": "text"
      },
      "source": [
        "The functions *match()* and *search()* return None if no match can be found. If they’re successful, a match object instance is returned, containing information about the match: where it starts and ends, the substring it matched, and more.\n",
        "\n",
        "In this example, as the text doesn't start with the word 'where', so *match()* won't find any match, whereas *search()* will look for any location where RE matches.\n",
        "\n",
        "We can further query the match object for information about the matching string."
      ]
    },
    {
      "cell_type": "code",
      "metadata": {
        "id": "PaY8sHs_iaA8",
        "colab_type": "code",
        "colab": {
          "base_uri": "https://localhost:8080/",
          "height": 36
        },
        "outputId": "25a95585-a1d1-4790-cc21-948f54515260"
      },
      "source": [
        "m.group()"
      ],
      "execution_count": 45,
      "outputs": [
        {
          "output_type": "execute_result",
          "data": {
            "application/vnd.google.colaboratory.intrinsic+json": {
              "type": "string"
            },
            "text/plain": [
              "'where'"
            ]
          },
          "metadata": {
            "tags": []
          },
          "execution_count": 45
        }
      ]
    },
    {
      "cell_type": "code",
      "metadata": {
        "id": "F0a_IhgkiaA_",
        "colab_type": "code",
        "colab": {
          "base_uri": "https://localhost:8080/",
          "height": 35
        },
        "outputId": "2e09957a-24c3-4be4-a9fd-f7fceef51a1e"
      },
      "source": [
        "m.start(), m.end()"
      ],
      "execution_count": 46,
      "outputs": [
        {
          "output_type": "execute_result",
          "data": {
            "text/plain": [
              "(212, 217)"
            ]
          },
          "metadata": {
            "tags": []
          },
          "execution_count": 46
        }
      ]
    },
    {
      "cell_type": "code",
      "metadata": {
        "id": "3tGVTSvriaBD",
        "colab_type": "code",
        "colab": {
          "base_uri": "https://localhost:8080/",
          "height": 35
        },
        "outputId": "f4eeeaa3-1186-4f9f-eb1a-442f70dda3dd"
      },
      "source": [
        "m.span()"
      ],
      "execution_count": 47,
      "outputs": [
        {
          "output_type": "execute_result",
          "data": {
            "text/plain": [
              "(212, 217)"
            ]
          },
          "metadata": {
            "tags": []
          },
          "execution_count": 47
        }
      ]
    },
    {
      "cell_type": "markdown",
      "metadata": {
        "id": "3WLoR-FDiaBF",
        "colab_type": "text"
      },
      "source": [
        "Now what if we want to find all matches, i.e. all words 'where'? We can use *findall()* and *finditer()*.\n",
        "\n",
        "The *findall()* returns a list of matching strings."
      ]
    },
    {
      "cell_type": "code",
      "metadata": {
        "id": "y7sM1cO2iaBG",
        "colab_type": "code",
        "colab": {
          "base_uri": "https://localhost:8080/",
          "height": 35
        },
        "outputId": "729e3a32-1f1c-45c7-8109-94e153c24a79"
      },
      "source": [
        "m = p.findall(text)\n",
        "print(m)"
      ],
      "execution_count": 48,
      "outputs": [
        {
          "output_type": "stream",
          "text": [
            "['where', 'Where']\n"
          ],
          "name": "stdout"
        }
      ]
    },
    {
      "cell_type": "markdown",
      "metadata": {
        "id": "zG5ca8G-iaBJ",
        "colab_type": "text"
      },
      "source": [
        "The *finditer()* returns a sequence of match object instances as an iterator."
      ]
    },
    {
      "cell_type": "code",
      "metadata": {
        "id": "Ivi8A8SJiaBL",
        "colab_type": "code",
        "colab": {
          "base_uri": "https://localhost:8080/",
          "height": 54
        },
        "outputId": "dab517c0-1001-441d-831d-8b583632f76d"
      },
      "source": [
        "iterator = p.finditer(text)\n",
        "for match in iterator:\n",
        "    print(match)"
      ],
      "execution_count": 49,
      "outputs": [
        {
          "output_type": "stream",
          "text": [
            "<_sre.SRE_Match object; span=(212, 217), match='where'>\n",
            "<_sre.SRE_Match object; span=(239, 244), match='Where'>\n"
          ],
          "name": "stdout"
        }
      ]
    },
    {
      "cell_type": "markdown",
      "metadata": {
        "id": "PcKotYQiiaBO",
        "colab_type": "text"
      },
      "source": [
        "You don’t have to create a pattern object and call its functions; the **re** module also provides the same top-level functions."
      ]
    },
    {
      "cell_type": "code",
      "metadata": {
        "id": "yRdjpFxDiaBg",
        "colab_type": "code",
        "colab": {
          "base_uri": "https://localhost:8080/",
          "height": 35
        },
        "outputId": "e5543202-30a7-471d-f7e1-65c3286c820d"
      },
      "source": [
        "print(re.search(r'\\b[Ww]here\\b', text))"
      ],
      "execution_count": 50,
      "outputs": [
        {
          "output_type": "stream",
          "text": [
            "<_sre.SRE_Match object; span=(212, 217), match='where'>\n"
          ],
          "name": "stdout"
        }
      ]
    },
    {
      "cell_type": "code",
      "metadata": {
        "id": "986gdO8biaBl",
        "colab_type": "code",
        "colab": {
          "base_uri": "https://localhost:8080/",
          "height": 35
        },
        "outputId": "18d7ccf4-5ba2-45ea-a556-d1fb2597da0b"
      },
      "source": [
        "print(re.findall(r'\\b[Ww]here\\b', text))"
      ],
      "execution_count": 51,
      "outputs": [
        {
          "output_type": "stream",
          "text": [
            "['where', 'Where']\n"
          ],
          "name": "stdout"
        }
      ]
    },
    {
      "cell_type": "markdown",
      "metadata": {
        "id": "SJKjZMc1iaBq",
        "colab_type": "text"
      },
      "source": [
        "Notice that when we compile the RE, there is a **re.UNICODE** item when we print the object. It is a compliation flag which let you modify some aspects of how RE works. The full flag list is available in the module documentation. For example, we can use **re.IGNORECASE** or **re.I** to do case-insensitive matches, so that we do not have to take care of capital letters."
      ]
    },
    {
      "cell_type": "code",
      "metadata": {
        "id": "OBldTtqViaBr",
        "colab_type": "code",
        "colab": {
          "base_uri": "https://localhost:8080/",
          "height": 35
        },
        "outputId": "1539c018-e186-45cd-eba3-ba0b2c85d3ce"
      },
      "source": [
        "p = re.compile(r'\\bwhere\\b', re.I)\n",
        "p"
      ],
      "execution_count": 52,
      "outputs": [
        {
          "output_type": "execute_result",
          "data": {
            "text/plain": [
              "re.compile(r'\\bwhere\\b', re.IGNORECASE|re.UNICODE)"
            ]
          },
          "metadata": {
            "tags": []
          },
          "execution_count": 52
        }
      ]
    },
    {
      "cell_type": "markdown",
      "metadata": {
        "id": "7DQc8vvQiaBv",
        "colab_type": "text"
      },
      "source": [
        "And we will still have the same results."
      ]
    },
    {
      "cell_type": "code",
      "metadata": {
        "id": "3JIzadnaiaBw",
        "colab_type": "code",
        "colab": {
          "base_uri": "https://localhost:8080/",
          "height": 35
        },
        "outputId": "d7645f46-59d2-4914-ebf8-67fa6646b9be"
      },
      "source": [
        "m = p.findall(text)\n",
        "print(m)"
      ],
      "execution_count": 53,
      "outputs": [
        {
          "output_type": "stream",
          "text": [
            "['where', 'Where']\n"
          ],
          "name": "stdout"
        }
      ]
    },
    {
      "cell_type": "markdown",
      "metadata": {
        "id": "Y2Mv-TEyiaBz",
        "colab_type": "text"
      },
      "source": [
        "> **<h3>💻 Try it yourself!</h3>**\n",
        "\n",
        "Now try to come up with your regular expressions and search in the text to see if they will work.\n",
        "\n",
        "You can use the cell below:"
      ]
    },
    {
      "cell_type": "code",
      "metadata": {
        "id": "5xWSm_7TiaBz",
        "colab_type": "code",
        "colab": {}
      },
      "source": [
        ""
      ],
      "execution_count": 53,
      "outputs": []
    },
    {
      "cell_type": "markdown",
      "metadata": {
        "id": "Exhen6ahiaB1",
        "colab_type": "text"
      },
      "source": [
        "#### Groupings"
      ]
    },
    {
      "cell_type": "markdown",
      "metadata": {
        "id": "yoqVEsuGiaB2",
        "colab_type": "text"
      },
      "source": [
        "Frequently you need to obtain more information than just whether the RE matched or not. REs are often used to dissect strings by writing a RE divided into several subgroups which match different components of interest.\n",
        "\n",
        "Groups are marked by the `'('`, `')'` metacharacters. They group together the expressions contained inside them, and you can repeat the contents of a group with a repeating qualifier, such as `*`, `+`, `?`, or `{m,n}`."
      ]
    },
    {
      "cell_type": "code",
      "metadata": {
        "id": "X6_7ZXnLiaB2",
        "colab_type": "code",
        "colab": {
          "base_uri": "https://localhost:8080/",
          "height": 35
        },
        "outputId": "e92f667b-e853-4385-9089-c4932ef801df"
      },
      "source": [
        "p = re.compile('((a(b)c)d)*')\n",
        "m = p.match('abcdabcd')\n",
        "print(m.span())"
      ],
      "execution_count": 54,
      "outputs": [
        {
          "output_type": "stream",
          "text": [
            "(0, 8)\n"
          ],
          "name": "stdout"
        }
      ]
    },
    {
      "cell_type": "markdown",
      "metadata": {
        "id": "Aluyq_bNiaB7",
        "colab_type": "text"
      },
      "source": [
        "Groups indicated with `'('`, `')'` also capture the starting and ending index of the text that they match; this can be retrieved by passing an argument to `group()`, `start()`, `end()`, and `span()`. \n",
        "\n",
        "Groups are numbered starting with 0. Group 0 is always present; it’s the whole RE, so previous methods all have group 0 as their default argument."
      ]
    },
    {
      "cell_type": "code",
      "metadata": {
        "id": "LAfjKaFiiaB8",
        "colab_type": "code",
        "colab": {
          "base_uri": "https://localhost:8080/",
          "height": 72
        },
        "outputId": "7680b81d-9db7-480c-9345-74edd1ce8947"
      },
      "source": [
        "print(m.start(0), m.end(0))\n",
        "print(m.group(0,1,2,3))\n",
        "print(m.span(2))"
      ],
      "execution_count": 55,
      "outputs": [
        {
          "output_type": "stream",
          "text": [
            "0 8\n",
            "('abcdabcd', 'abcd', 'abc', 'b')\n",
            "(4, 7)\n"
          ],
          "name": "stdout"
        }
      ]
    },
    {
      "cell_type": "markdown",
      "metadata": {
        "id": "Vp_F6jPSiaB_",
        "colab_type": "text"
      },
      "source": [
        "The `groups()` method returns a tuple containing the strings for all the subgroups, from 1 up to however many there are."
      ]
    },
    {
      "cell_type": "code",
      "metadata": {
        "id": "_fr1QCupiaB_",
        "colab_type": "code",
        "colab": {
          "base_uri": "https://localhost:8080/",
          "height": 35
        },
        "outputId": "64a92a33-ccbb-46ec-e449-d22c3b83d04a"
      },
      "source": [
        "print(m.groups())"
      ],
      "execution_count": 56,
      "outputs": [
        {
          "output_type": "stream",
          "text": [
            "('abcd', 'abc', 'b')\n"
          ],
          "name": "stdout"
        }
      ]
    },
    {
      "cell_type": "markdown",
      "metadata": {
        "id": "z-Owax1HiaCC",
        "colab_type": "text"
      },
      "source": [
        "### Substituting text"
      ]
    },
    {
      "cell_type": "markdown",
      "metadata": {
        "id": "eTrmuyoZiaCC",
        "colab_type": "text"
      },
      "source": [
        "We will use the following functions for substitution:\n",
        "- *sub()*: find all substrings where the RE matches, and replace them with a different string.\n",
        "- *subn()*: does the same thing as sub(), but returns the new string and the number of replacements.\n",
        "\n",
        "Again, you are encouraged to refer to the docs for more functions."
      ]
    },
    {
      "cell_type": "markdown",
      "metadata": {
        "id": "n20tqXFriaCC",
        "colab_type": "text"
      },
      "source": [
        "***sub*** *(replacement, string[, count=0])*\n",
        "\n",
        "Returns the string obtained by replacing the leftmost non-overlapping occurrences of the RE in *string* by the replacement *replacement*. If the pattern isn’t found, string is returned unchanged.\n",
        "\n",
        "The optional argument *count* is the maximum number of pattern occurrences to be replaced; *count* must be a non-negative integer. The default value of 0 means to replace all occurrences."
      ]
    },
    {
      "cell_type": "markdown",
      "metadata": {
        "id": "tQAYYTPKiaCD",
        "colab_type": "text"
      },
      "source": [
        "For the same example, let's substitute all `'where'` words to `'-------'`."
      ]
    },
    {
      "cell_type": "code",
      "metadata": {
        "id": "R0d5wN3EiaCE",
        "colab_type": "code",
        "colab": {
          "base_uri": "https://localhost:8080/",
          "height": 74
        },
        "outputId": "a34107ea-1bc2-4797-9d1f-b6e2940b6343"
      },
      "source": [
        "p = re.compile(r'\\b[Ww]here\\b')\n",
        "print(p.sub('------', text))"
      ],
      "execution_count": 57,
      "outputs": [
        {
          "output_type": "stream",
          "text": [
            "                2\n",
            "  When forty winters shall besiege thy brow,And dig deep trenches in thy beauty's field, Thy youth's proud livery so gazed on now, Will be a tattered weed of small worth held: Then being asked, ------ all thy beauty lies, ------ all the treasure of thy lusty days; To say within thine own deep sunken eyes, Were an all-eating shame, and thriftless praise. How much more praise deserved thy beauty's use, If thou couldst answer 'This fair child of mine Shall sum my count, and make my old excuse' Proving his beauty by succession thine. This were to be new made when thou art old, And see thy blood warm when thou feel'st it cold.\n"
          ],
          "name": "stdout"
        }
      ]
    },
    {
      "cell_type": "code",
      "metadata": {
        "id": "WPulxPxviaCG",
        "colab_type": "code",
        "colab": {
          "base_uri": "https://localhost:8080/",
          "height": 74
        },
        "outputId": "3cbc7c3a-0906-49a9-feb6-af286f26e11b"
      },
      "source": [
        "print(p.sub('------', text, count = 1))"
      ],
      "execution_count": 58,
      "outputs": [
        {
          "output_type": "stream",
          "text": [
            "                2\n",
            "  When forty winters shall besiege thy brow,And dig deep trenches in thy beauty's field, Thy youth's proud livery so gazed on now, Will be a tattered weed of small worth held: Then being asked, ------ all thy beauty lies, Where all the treasure of thy lusty days; To say within thine own deep sunken eyes, Were an all-eating shame, and thriftless praise. How much more praise deserved thy beauty's use, If thou couldst answer 'This fair child of mine Shall sum my count, and make my old excuse' Proving his beauty by succession thine. This were to be new made when thou art old, And see thy blood warm when thou feel'st it cold.\n"
          ],
          "name": "stdout"
        }
      ]
    },
    {
      "cell_type": "markdown",
      "metadata": {
        "id": "LwS_bjmJiaCJ",
        "colab_type": "text"
      },
      "source": [
        "The `subn()` method does the same work, but returns a 2-tuple containing the new string value and the number of replacements that were performed:"
      ]
    },
    {
      "cell_type": "code",
      "metadata": {
        "id": "ddQiAMARiaCK",
        "colab_type": "code",
        "colab": {
          "base_uri": "https://localhost:8080/",
          "height": 55
        },
        "outputId": "d67991e9-5adb-47d7-9621-bb27e153eb30"
      },
      "source": [
        "print(p.subn('------', text))"
      ],
      "execution_count": 59,
      "outputs": [
        {
          "output_type": "stream",
          "text": [
            "(\"                2\\n  When forty winters shall besiege thy brow,And dig deep trenches in thy beauty's field, Thy youth's proud livery so gazed on now, Will be a tattered weed of small worth held: Then being asked, ------ all thy beauty lies, ------ all the treasure of thy lusty days; To say within thine own deep sunken eyes, Were an all-eating shame, and thriftless praise. How much more praise deserved thy beauty's use, If thou couldst answer 'This fair child of mine Shall sum my count, and make my old excuse' Proving his beauty by succession thine. This were to be new made when thou art old, And see thy blood warm when thou feel'st it cold.\", 2)\n"
          ],
          "name": "stdout"
        }
      ]
    },
    {
      "cell_type": "code",
      "metadata": {
        "id": "deA6T7lniaCN",
        "colab_type": "code",
        "colab": {
          "base_uri": "https://localhost:8080/",
          "height": 36
        },
        "outputId": "a76a1c80-e5c2-4276-f702-2ad2d69cd6c6"
      },
      "source": [
        "p = re.compile('section{ (?P<name> [^}]* ) }', re.VERBOSE)\n",
        "p.sub(r'subsection{\\g<1>}','section{First} section{second}')"
      ],
      "execution_count": 60,
      "outputs": [
        {
          "output_type": "execute_result",
          "data": {
            "application/vnd.google.colaboratory.intrinsic+json": {
              "type": "string"
            },
            "text/plain": [
              "'subsection{First} subsection{second}'"
            ]
          },
          "metadata": {
            "tags": []
          },
          "execution_count": 60
        }
      ]
    },
    {
      "cell_type": "markdown",
      "metadata": {
        "id": "CH8MJHUyiaCP",
        "colab_type": "text"
      },
      "source": [
        "> **<h3>💻 Try it yourself!</h3>**\n",
        "\n",
        "Now it's your turn! Please write a regular expression to match sentences that start with the word “This” (case insensitive)."
      ]
    },
    {
      "cell_type": "code",
      "metadata": {
        "id": "-0uEVthsiaCQ",
        "colab_type": "code",
        "colab": {}
      },
      "source": [
        ""
      ],
      "execution_count": 60,
      "outputs": []
    },
    {
      "cell_type": "markdown",
      "metadata": {
        "id": "pAoA5PyBiaCS",
        "colab_type": "text"
      },
      "source": [
        "And a regex that matches words which are emoticons (like *:)*). At least 5 emoticons must be matched."
      ]
    },
    {
      "cell_type": "code",
      "metadata": {
        "id": "pcutqI3AiaCS",
        "colab_type": "code",
        "colab": {}
      },
      "source": [
        ""
      ],
      "execution_count": 60,
      "outputs": []
    },
    {
      "cell_type": "markdown",
      "metadata": {
        "id": "VbvaILMYiaCV",
        "colab_type": "text"
      },
      "source": [
        "And a regex that can match words which contains at least 3 *o*s in a row (so that *cooooool* would be a match, but *book* would not)."
      ]
    },
    {
      "cell_type": "code",
      "metadata": {
        "id": "603MgazgiaCV",
        "colab_type": "code",
        "colab": {}
      },
      "source": [
        ""
      ],
      "execution_count": 60,
      "outputs": []
    },
    {
      "cell_type": "markdown",
      "metadata": {
        "id": "TOmvwKtZiaCY",
        "colab_type": "text"
      },
      "source": [
        "Finally, write a regex that substitutes any word-ending in *a* or *as* into an *o* or *os*.\n",
        "\n",
        "Test your regex by converting the Spanish sentence *Maria es ecuatoriana y tiene dos hijas rubias y muy altas* (Mary is Ecuadorian and has two blonde and very tall daughters) into its masculine equivalent."
      ]
    },
    {
      "cell_type": "code",
      "metadata": {
        "id": "SCwd24vHiaCY",
        "colab_type": "code",
        "colab": {}
      },
      "source": [
        ""
      ],
      "execution_count": 60,
      "outputs": []
    },
    {
      "cell_type": "markdown",
      "metadata": {
        "id": "27B4a3rbiaCf",
        "colab_type": "text"
      },
      "source": [
        "### Building a simple Eliza"
      ]
    },
    {
      "cell_type": "markdown",
      "metadata": {
        "id": "zr-63l7siaCf",
        "colab_type": "text"
      },
      "source": [
        "Having learnt about Eliza in the lecture, which is meant to emulate a Rogerian psychologist, let us now build a simple version of Eliza with RE."
      ]
    },
    {
      "cell_type": "markdown",
      "metadata": {
        "id": "_G_eqlcLiaCf",
        "colab_type": "text"
      },
      "source": [
        "Firstl, let us build a dictionary `grefs` that is used to map first-person pronouns to second-person pronouns and vice-versa. It is used to “reflect” a statement back against the user:"
      ]
    },
    {
      "cell_type": "code",
      "metadata": {
        "id": "pamWKZLQiaCg",
        "colab_type": "code",
        "colab": {}
      },
      "source": [
        "grefs = {\n",
        "    \"am\":          \"are\",\n",
        "    \"was\":         \"were\",\n",
        "    \"i\":           \"you\",\n",
        "    \"i'd\":         \"you would\",\n",
        "    \"i've\":        \"you have\",\n",
        "    \"i'll\":        \"you will\",\n",
        "    \"my\":          \"your\",\n",
        "    \"are\":         \"am\",\n",
        "    \"you are\":     \"I am\",\n",
        "    \"you've\":      \"I have\",\n",
        "    \"you'll\":      \"I will\",\n",
        "    \"your\":        \"my\",\n",
        "    \"yours\":       \"mine\",\n",
        "    \"you\":         \"me\",\n",
        "    \"me\":          \"you\"\n",
        "}"
      ],
      "execution_count": 61,
      "outputs": []
    },
    {
      "cell_type": "markdown",
      "metadata": {
        "id": "Gjf855soiaCi",
        "colab_type": "text"
      },
      "source": [
        "Then we need another table `gpats` that is made up of a list of lists, where the first element is a RE that matches the user’s statements and the second element is a list of potential responses. \n",
        "\n",
        "Many of the potential responses contain placeholders that can be filled in with fragments to echo the user’s statements."
      ]
    },
    {
      "cell_type": "code",
      "metadata": {
        "id": "K_jzixXQiaCi",
        "colab_type": "code",
        "colab": {}
      },
      "source": [
        "gpats = [\n",
        "  [r'I need (.*)',\n",
        "  [  \"Why do you need {0}?\",\n",
        "    \"Would it really help you to get {0}?\",\n",
        "    \"Are you sure you need {0}?\"]],\n",
        "\n",
        "  [r'I can\\'?t (.*)',\n",
        "  [  \"How do you know you can't {0}?\",\n",
        "    \"Perhaps you could {0} if you tried.\",\n",
        "    \"What would it take for you to {0}?\"]],\n",
        "\n",
        "  [r'I am (.*)',\n",
        "  [  \"Did you come to me because you are {0}?\",\n",
        "    \"How long have you been {0}?\",\n",
        "    \"How do you feel about being {0}?\"]],\n",
        "\n",
        "  [r'I\\'?m (.*)',\n",
        "  [  \"How does being {0} make you feel?\",\n",
        "    \"Do you enjoy being {0}?\",\n",
        "    \"Why do you tell me you're {0}?\",\n",
        "    \"Why do you think you're {0}?\"]],\n",
        "\n",
        "  [r'Are you ([^\\?]*)\\??',\n",
        "  [  \"Why does it matter whether I am {0}?\",\n",
        "    \"Would you prefer it if I were not {0}?\",\n",
        "    \"Perhaps you believe I am {0}.\",\n",
        "    \"I may be {0} -- what do you think?\"]],\n",
        "\n",
        "  [r'What (.*)',\n",
        "  [  \"Why do you ask?\",\n",
        "    \"How would an answer to that help you?\",\n",
        "    \"What do you think?\"]],\n",
        "\n",
        "  [r'How (.*)',\n",
        "  [  \"How do you suppose?\",\n",
        "    \"Perhaps you can answer your own question.\",\n",
        "    \"What is it you're really asking?\"]],\n",
        "\n",
        "  [r'Because (.*)',\n",
        "  [  \"Is that the real reason?\",\n",
        "    \"What other reasons come to mind?\",\n",
        "    \"Does that reason apply to anything else?\",\n",
        "    \"If {0}, what else must be true?\"]],\n",
        "\n",
        "  [r'Hello(.*)',\n",
        "  [  \"Hello... I'm glad you could drop by today.\",\n",
        "    \"Hi there... how are you today?\",\n",
        "    \"Hello, how are you feeling today?\"]],\n",
        "\n",
        "  [r'quit',\n",
        "  [  \"Thank you for talking with me.\",\n",
        "    \"Good-bye.\",\n",
        "    \"Thank you, that will be $150.  Have a good day!\"]],\n",
        "  \n",
        "  [r'(.*)',\n",
        "  [  \"Please tell me more.\",\n",
        "    \"Let's change focus a bit... Tell me about your family.\",\n",
        "    \"Can you elaborate on that?\",\n",
        "    \"Why do you say that {0}?\",\n",
        "    \"I see.\",\n",
        "    \"Very interesting.\",\n",
        "    \"{0}.\",\n",
        "    \"I see.  And what does that tell you?\",\n",
        "    \"How does that make you feel?\",\n",
        "    \"How do you feel when you say that?\"]] \n",
        "]"
      ],
      "execution_count": 62,
      "outputs": []
    },
    {
      "cell_type": "markdown",
      "metadata": {
        "id": "hw505UbniaCk",
        "colab_type": "text"
      },
      "source": [
        "Now let us write the function `respond` that reads the user input and generates the response accordingly.\n",
        "\n",
        "We iterate through the regular expressions in `gpats`, trying to match each one with the user’s input `s`. If we find a match, we choose a response template randomly from the list of possible responses associated with the matching pattern. Then we interpolate the match groups from the RE into the response string, calling the `transalte` function on each match group first.\n",
        "\n",
        "When we use the list comprehension to generate a list of reflected match groups, we explode the list with the asterisk `\\*` character before passing it to the string’s `format` method. Format expects a series of positional arguments corresponding to the number of format placeholders – `{0}`, `{1}`, etc. – in the string."
      ]
    },
    {
      "cell_type": "code",
      "metadata": {
        "id": "XFBi1VfdiaCl",
        "colab_type": "code",
        "colab": {}
      },
      "source": [
        "import re\n",
        "import random\n",
        "def respond(s):\n",
        "    for pattern, responses in gpats:\n",
        "        # find a match for s\n",
        "        match = re.match(pattern, s)\n",
        "        if match:\n",
        "            # chosen randomly from among the available options\n",
        "            response = random.choice(responses)\n",
        "            return response.format(*[translate(g) for g in match.groups()])"
      ],
      "execution_count": 63,
      "outputs": []
    },
    {
      "cell_type": "markdown",
      "metadata": {
        "id": "4OBCI_bLiaCo",
        "colab_type": "text"
      },
      "source": [
        "First, we make the input lowercase, then we tokenize it by splitting on whitespace characters. We iterate through the list of tokens and, if the token exists in our reflections dictionary, we replace it with the value from the dictionary. So “I” becomes “you”, “your” becomes “my”, etc."
      ]
    },
    {
      "cell_type": "code",
      "metadata": {
        "id": "1VzJ-FBRiaCp",
        "colab_type": "code",
        "colab": {}
      },
      "source": [
        "def translate(fragment):\n",
        "    tokens = fragment.lower().split()\n",
        "    for i, token in enumerate(tokens):\n",
        "        if token in grefs:\n",
        "            tokens[i] = grefs[token]\n",
        "    return ' '.join(tokens)"
      ],
      "execution_count": 64,
      "outputs": []
    },
    {
      "cell_type": "markdown",
      "metadata": {
        "id": "lAbMaT77iaCr",
        "colab_type": "text"
      },
      "source": [
        "Finally, we can wrap everything into an interface where our Eliza will wait for the user input and generate corresponding response."
      ]
    },
    {
      "cell_type": "code",
      "metadata": {
        "id": "PkufxD5RiaCr",
        "colab_type": "code",
        "colab": {}
      },
      "source": [
        "def start_eliza():\n",
        "    print('Therapist\\n---------')\n",
        "    print('Talk to the program by typing in plain English, using normal upper-')\n",
        "    print('and lower-case letters and punctuation.  Enter \"quit\" when done.')\n",
        "    print('='*72)\n",
        "    print('Hello.  How are you feeling today?')\n",
        "\n",
        "    s = ''\n",
        "    while s != 'quit':\n",
        "        try:\n",
        "            s = input('> ')\n",
        "            while s[-1] in '!.':\n",
        "                s = s[:-1]\n",
        "        except:\n",
        "            s = 'quit'\n",
        "            print('Invalid Input, exit ...')\n",
        "        print(respond(s))"
      ],
      "execution_count": 65,
      "outputs": []
    },
    {
      "cell_type": "code",
      "metadata": {
        "id": "fm4erZi4iaCu",
        "colab_type": "code",
        "colab": {
          "base_uri": "https://localhost:8080/",
          "height": 256
        },
        "outputId": "10f8dcc3-df74-4861-bfcf-f13925facd3a"
      },
      "source": [
        "start_eliza()"
      ],
      "execution_count": 66,
      "outputs": [
        {
          "output_type": "stream",
          "text": [
            "Therapist\n",
            "---------\n",
            "Talk to the program by typing in plain English, using normal upper-\n",
            "and lower-case letters and punctuation.  Enter \"quit\" when done.\n",
            "========================================================================\n",
            "Hello.  How are you feeling today?\n",
            "> I am feeling well.\n",
            "How long have you been feeling well?\n",
            "> A long time.\n",
            "I see.\n",
            "> \n",
            "Invalid Input, exit ...\n",
            "Thank you for talking with me.\n"
          ],
          "name": "stdout"
        }
      ]
    },
    {
      "cell_type": "markdown",
      "metadata": {
        "id": "B9FHNXoFiaCx",
        "colab_type": "text"
      },
      "source": [
        "Now try to add your own [RE, responses] pairs to the `gpats` to capture more questions from the user. Feel free to refer to [this](https://github.com/jezhiggins/eliza.py/blob/master/eliza.py) for more REs."
      ]
    },
    {
      "cell_type": "markdown",
      "metadata": {
        "id": "6tHMsbtSiaCx",
        "colab_type": "text"
      },
      "source": [
        "### ❓ Quiz  "
      ]
    },
    {
      "cell_type": "markdown",
      "metadata": {
        "id": "-HVFUrpmiaCx",
        "colab_type": "text"
      },
      "source": [
        "1. For the previous text, which RE can find all words with 3, 4 and 5 characters?\n",
        "\n",
        "A. `r'.{3,5}'`\n",
        "\n",
        "B. `r'\\b.{3,5}+\\b'`\n",
        "\n",
        "C. `r'\\b\\w{3,5}\\b'`\n",
        "\n",
        "D. `r'\\w{3,5}'`"
      ]
    },
    {
      "cell_type": "markdown",
      "metadata": {
        "id": "o6saHrVbiaCx",
        "colab_type": "text"
      },
      "source": [
        "<hr>    <!-- please remember this! -->\n",
        "<details>\n",
        "  <summary>Click <b>here</b> to see the answer.</summary>\n",
        "  <p>C</p>\n",
        "</details> "
      ]
    },
    {
      "cell_type": "markdown",
      "metadata": {
        "id": "w9iKC0y5iaCx",
        "colab_type": "text"
      },
      "source": [
        "2. Which function can you use to find all the words that the RE in 1. matches?\n",
        "\n",
        "A. `match()`\n",
        "\n",
        "B. `search()`\n",
        "\n",
        "C. `finditer()`\n",
        "\n",
        "D. `findall()`"
      ]
    },
    {
      "cell_type": "markdown",
      "metadata": {
        "id": "Sjym-hBSiaCy",
        "colab_type": "text"
      },
      "source": [
        "<hr>    <!-- please remember this! -->\n",
        "<details>\n",
        "  <summary>Click <b>here</b> to see the answer.</summary>\n",
        "  <p>C, D</p>\n",
        "</details> "
      ]
    },
    {
      "cell_type": "markdown",
      "metadata": {
        "id": "Ak_b559SiaCy",
        "colab_type": "text"
      },
      "source": [
        "3. How many words the RE in 1 mathes are there?\n",
        "\n",
        "A. 128\n",
        "\n",
        "B. 105\n",
        "\n",
        "C. 96\n",
        "\n",
        "D. 77"
      ]
    },
    {
      "cell_type": "markdown",
      "metadata": {
        "id": "m1fyPouEiaCz",
        "colab_type": "text"
      },
      "source": [
        "<hr>    <!-- please remember this! -->\n",
        "<details>\n",
        "  <summary>Click <b>here</b> to see the answer.</summary>\n",
        "  <p>D</p>\n",
        "</details> "
      ]
    },
    {
      "cell_type": "markdown",
      "metadata": {
        "id": "Z5qJWGEKiaC0",
        "colab_type": "text"
      },
      "source": [
        "4. How many words are there with 5 letters?\n",
        "\n",
        "A. 10\n",
        "\n",
        "B. 20\n",
        "\n",
        "C. 30\n",
        "\n",
        "D. 35"
      ]
    },
    {
      "cell_type": "markdown",
      "metadata": {
        "id": "RFlN1AEuiaC0",
        "colab_type": "text"
      },
      "source": [
        "<hr>    <!-- please remember this! -->\n",
        "<details>\n",
        "  <summary>Click <b>here</b> to see the answer.</summary>\n",
        "  <p>B</p>\n",
        "</details> "
      ]
    },
    {
      "cell_type": "markdown",
      "metadata": {
        "id": "AoGys8bOiaC0",
        "colab_type": "text"
      },
      "source": [
        "5. What's the span of the first word with 4 letters?\n",
        "\n",
        "A. (16, 20)\n",
        "\n",
        "B. (18, 22)\n",
        "\n",
        "C. (20, 24)\n",
        "\n",
        "D. (22, 26) "
      ]
    },
    {
      "cell_type": "markdown",
      "metadata": {
        "id": "_3smXaHniaC0",
        "colab_type": "text"
      },
      "source": [
        "<hr>    <!-- please remember this! -->\n",
        "<details>\n",
        "  <summary>Click <b>here</b> to see the answer.</summary>\n",
        "  <p>C</p>\n",
        "</details> "
      ]
    },
    {
      "cell_type": "markdown",
      "metadata": {
        "id": "zhubIGEWiaC1",
        "colab_type": "text"
      },
      "source": [
        "## SpaCy"
      ]
    },
    {
      "cell_type": "markdown",
      "metadata": {
        "id": "V9ET3R3YiaC2",
        "colab_type": "text"
      },
      "source": [
        "spaCy is a free, open-source library for advanced Natural Language Processing (NLP) in Python.\n",
        "\n",
        "spaCy is designed specifically for production use and helps you build applications that process and “understand” large volumes of text. It can be used to build information extraction or natural language understanding systems, or to pre-process text for deep learning.\n",
        "\n",
        "There are many useful resources online for spaCy, among which the official [tutorial](https://spacy.io/usage/spacy-101) and the [course](https://course.spacy.io/) are extremely useful."
      ]
    },
    {
      "cell_type": "markdown",
      "metadata": {
        "id": "nemMLROOiaC2",
        "colab_type": "text"
      },
      "source": [
        "### Package Installation"
      ]
    },
    {
      "cell_type": "markdown",
      "metadata": {
        "id": "JZBA6bcmiaC2",
        "colab_type": "text"
      },
      "source": [
        "Python uses a software called *package manager* to install additional libraries. The most common package managers for Python are [pip](https://en.wikipedia.org/wiki/Pip_(package_manager)) and [conda](https://en.wikipedia.org/wiki/Anaconda_(Python_distribution)).\n",
        "\n",
        "[Here](https://spacy.io/usage) you will find a guide to install spaCy with pip.\n",
        "However, you can install packages directly from Jupyter by running the following\n",
        "*shell commands*:\n",
        " \n",
        "```\n",
        "pip install spacy\n",
        "python -m spacy download en_core_web_sm\n",
        "```\n",
        "\n",
        "Shell commands are usually run in a *terminal*, and are run directly by the\n",
        "operating system. In Jupyter, you can run a shell command by prepending an \n",
        "exclamation mark (\"`!`\") to the command. Don't worry - we will always prepare\n",
        "shell commands for you when they are needed!\n",
        "\n",
        "**IMPORTANT**:\n",
        "Note that shell commands will work only when running the notebooks\n",
        "- On Linux and macOS/OS X\n",
        "- On a cloud provider (e.g. Google Colab, MS Azure, Binder)\n",
        "\n",
        "These commands *may* not work when running the notebooks locally with Windows.\n",
        "\n",
        "Let's install spaCy and download the required models:\n"
      ]
    },
    {
      "cell_type": "code",
      "metadata": {
        "id": "u_ZbKrvlmgHd",
        "colab_type": "code",
        "colab": {
          "base_uri": "https://localhost:8080/",
          "height": 827
        },
        "outputId": "7a108d91-efcd-487f-d0fb-53e020c4fd3a"
      },
      "source": [
        "!pip install spacy\n",
        "!python -m spacy download en_core_web_sm"
      ],
      "execution_count": 67,
      "outputs": [
        {
          "output_type": "stream",
          "text": [
            "Requirement already satisfied: spacy in /usr/local/lib/python3.6/dist-packages (2.2.4)\n",
            "Requirement already satisfied: murmurhash<1.1.0,>=0.28.0 in /usr/local/lib/python3.6/dist-packages (from spacy) (1.0.2)\n",
            "Requirement already satisfied: wasabi<1.1.0,>=0.4.0 in /usr/local/lib/python3.6/dist-packages (from spacy) (0.7.1)\n",
            "Requirement already satisfied: plac<1.2.0,>=0.9.6 in /usr/local/lib/python3.6/dist-packages (from spacy) (1.1.3)\n",
            "Requirement already satisfied: cymem<2.1.0,>=2.0.2 in /usr/local/lib/python3.6/dist-packages (from spacy) (2.0.3)\n",
            "Requirement already satisfied: thinc==7.4.0 in /usr/local/lib/python3.6/dist-packages (from spacy) (7.4.0)\n",
            "Requirement already satisfied: requests<3.0.0,>=2.13.0 in /usr/local/lib/python3.6/dist-packages (from spacy) (2.23.0)\n",
            "Requirement already satisfied: setuptools in /usr/local/lib/python3.6/dist-packages (from spacy) (49.2.0)\n",
            "Requirement already satisfied: numpy>=1.15.0 in /usr/local/lib/python3.6/dist-packages (from spacy) (1.18.5)\n",
            "Requirement already satisfied: preshed<3.1.0,>=3.0.2 in /usr/local/lib/python3.6/dist-packages (from spacy) (3.0.2)\n",
            "Requirement already satisfied: catalogue<1.1.0,>=0.0.7 in /usr/local/lib/python3.6/dist-packages (from spacy) (1.0.0)\n",
            "Requirement already satisfied: blis<0.5.0,>=0.4.0 in /usr/local/lib/python3.6/dist-packages (from spacy) (0.4.1)\n",
            "Requirement already satisfied: srsly<1.1.0,>=1.0.2 in /usr/local/lib/python3.6/dist-packages (from spacy) (1.0.2)\n",
            "Requirement already satisfied: tqdm<5.0.0,>=4.38.0 in /usr/local/lib/python3.6/dist-packages (from spacy) (4.41.1)\n",
            "Requirement already satisfied: urllib3!=1.25.0,!=1.25.1,<1.26,>=1.21.1 in /usr/local/lib/python3.6/dist-packages (from requests<3.0.0,>=2.13.0->spacy) (1.24.3)\n",
            "Requirement already satisfied: certifi>=2017.4.17 in /usr/local/lib/python3.6/dist-packages (from requests<3.0.0,>=2.13.0->spacy) (2020.6.20)\n",
            "Requirement already satisfied: idna<3,>=2.5 in /usr/local/lib/python3.6/dist-packages (from requests<3.0.0,>=2.13.0->spacy) (2.10)\n",
            "Requirement already satisfied: chardet<4,>=3.0.2 in /usr/local/lib/python3.6/dist-packages (from requests<3.0.0,>=2.13.0->spacy) (3.0.4)\n",
            "Requirement already satisfied: importlib-metadata>=0.20; python_version < \"3.8\" in /usr/local/lib/python3.6/dist-packages (from catalogue<1.1.0,>=0.0.7->spacy) (1.7.0)\n",
            "Requirement already satisfied: zipp>=0.5 in /usr/local/lib/python3.6/dist-packages (from importlib-metadata>=0.20; python_version < \"3.8\"->catalogue<1.1.0,>=0.0.7->spacy) (3.1.0)\n",
            "Requirement already satisfied: en_core_web_sm==2.2.5 from https://github.com/explosion/spacy-models/releases/download/en_core_web_sm-2.2.5/en_core_web_sm-2.2.5.tar.gz#egg=en_core_web_sm==2.2.5 in /usr/local/lib/python3.6/dist-packages (2.2.5)\n",
            "Requirement already satisfied: spacy>=2.2.2 in /usr/local/lib/python3.6/dist-packages (from en_core_web_sm==2.2.5) (2.2.4)\n",
            "Requirement already satisfied: plac<1.2.0,>=0.9.6 in /usr/local/lib/python3.6/dist-packages (from spacy>=2.2.2->en_core_web_sm==2.2.5) (1.1.3)\n",
            "Requirement already satisfied: thinc==7.4.0 in /usr/local/lib/python3.6/dist-packages (from spacy>=2.2.2->en_core_web_sm==2.2.5) (7.4.0)\n",
            "Requirement already satisfied: preshed<3.1.0,>=3.0.2 in /usr/local/lib/python3.6/dist-packages (from spacy>=2.2.2->en_core_web_sm==2.2.5) (3.0.2)\n",
            "Requirement already satisfied: blis<0.5.0,>=0.4.0 in /usr/local/lib/python3.6/dist-packages (from spacy>=2.2.2->en_core_web_sm==2.2.5) (0.4.1)\n",
            "Requirement already satisfied: catalogue<1.1.0,>=0.0.7 in /usr/local/lib/python3.6/dist-packages (from spacy>=2.2.2->en_core_web_sm==2.2.5) (1.0.0)\n",
            "Requirement already satisfied: numpy>=1.15.0 in /usr/local/lib/python3.6/dist-packages (from spacy>=2.2.2->en_core_web_sm==2.2.5) (1.18.5)\n",
            "Requirement already satisfied: requests<3.0.0,>=2.13.0 in /usr/local/lib/python3.6/dist-packages (from spacy>=2.2.2->en_core_web_sm==2.2.5) (2.23.0)\n",
            "Requirement already satisfied: srsly<1.1.0,>=1.0.2 in /usr/local/lib/python3.6/dist-packages (from spacy>=2.2.2->en_core_web_sm==2.2.5) (1.0.2)\n",
            "Requirement already satisfied: murmurhash<1.1.0,>=0.28.0 in /usr/local/lib/python3.6/dist-packages (from spacy>=2.2.2->en_core_web_sm==2.2.5) (1.0.2)\n",
            "Requirement already satisfied: tqdm<5.0.0,>=4.38.0 in /usr/local/lib/python3.6/dist-packages (from spacy>=2.2.2->en_core_web_sm==2.2.5) (4.41.1)\n",
            "Requirement already satisfied: setuptools in /usr/local/lib/python3.6/dist-packages (from spacy>=2.2.2->en_core_web_sm==2.2.5) (49.2.0)\n",
            "Requirement already satisfied: cymem<2.1.0,>=2.0.2 in /usr/local/lib/python3.6/dist-packages (from spacy>=2.2.2->en_core_web_sm==2.2.5) (2.0.3)\n",
            "Requirement already satisfied: wasabi<1.1.0,>=0.4.0 in /usr/local/lib/python3.6/dist-packages (from spacy>=2.2.2->en_core_web_sm==2.2.5) (0.7.1)\n",
            "Requirement already satisfied: importlib-metadata>=0.20; python_version < \"3.8\" in /usr/local/lib/python3.6/dist-packages (from catalogue<1.1.0,>=0.0.7->spacy>=2.2.2->en_core_web_sm==2.2.5) (1.7.0)\n",
            "Requirement already satisfied: certifi>=2017.4.17 in /usr/local/lib/python3.6/dist-packages (from requests<3.0.0,>=2.13.0->spacy>=2.2.2->en_core_web_sm==2.2.5) (2020.6.20)\n",
            "Requirement already satisfied: idna<3,>=2.5 in /usr/local/lib/python3.6/dist-packages (from requests<3.0.0,>=2.13.0->spacy>=2.2.2->en_core_web_sm==2.2.5) (2.10)\n",
            "Requirement already satisfied: chardet<4,>=3.0.2 in /usr/local/lib/python3.6/dist-packages (from requests<3.0.0,>=2.13.0->spacy>=2.2.2->en_core_web_sm==2.2.5) (3.0.4)\n",
            "Requirement already satisfied: urllib3!=1.25.0,!=1.25.1,<1.26,>=1.21.1 in /usr/local/lib/python3.6/dist-packages (from requests<3.0.0,>=2.13.0->spacy>=2.2.2->en_core_web_sm==2.2.5) (1.24.3)\n",
            "Requirement already satisfied: zipp>=0.5 in /usr/local/lib/python3.6/dist-packages (from importlib-metadata>=0.20; python_version < \"3.8\"->catalogue<1.1.0,>=0.0.7->spacy>=2.2.2->en_core_web_sm==2.2.5) (3.1.0)\n",
            "\u001b[38;5;2m✔ Download and installation successful\u001b[0m\n",
            "You can now load the model via spacy.load('en_core_web_sm')\n"
          ],
          "name": "stdout"
        }
      ]
    },
    {
      "cell_type": "markdown",
      "metadata": {
        "id": "XQupGCmBmemF",
        "colab_type": "text"
      },
      "source": [
        "The previous command should print the message `✔ Download and installation successful`. If that didn't happen, and/or if the commands below do not work, \n",
        "please contact a course instructor for support."
      ]
    },
    {
      "cell_type": "markdown",
      "metadata": {
        "id": "D0U1XgSZpOCj",
        "colab_type": "text"
      },
      "source": [
        "### Using spaCy"
      ]
    },
    {
      "cell_type": "markdown",
      "metadata": {
        "id": "lSx0oZnviaC3",
        "colab_type": "text"
      },
      "source": [
        "spaCy is enables many different features introduced [here](https://spacy.io/usage/spacy-101#features), and we will focus on the simplest and direct features:\n",
        "- tokenization;\n",
        "- stemming; (not supported by spaCy)\n",
        "- lemmatization;\n",
        "- part-of-speech (POS) tagging;\n",
        "- sentence boundary detection and sentence segmentation;\n",
        "- dependency parsing;"
      ]
    },
    {
      "cell_type": "code",
      "metadata": {
        "id": "I1zz_iYJiaC3",
        "colab_type": "code",
        "colab": {}
      },
      "source": [
        "# import spacy module\n",
        "import spacy\n",
        "\n",
        "# load english model\n",
        "nlp = spacy.load(\"en_core_web_sm\")\n",
        "# read the text and process\n",
        "doc = nlp(text)"
      ],
      "execution_count": 68,
      "outputs": []
    },
    {
      "cell_type": "code",
      "metadata": {
        "id": "4OqX0kdDiaC5",
        "colab_type": "code",
        "colab": {
          "base_uri": "https://localhost:8080/",
          "height": 55
        },
        "outputId": "fc101e81-478b-469a-c443-76f34045e8d3"
      },
      "source": [
        "# Tokenization\n",
        "# get all separated tokens in doc\n",
        "tokens = [token.text for token in doc]\n",
        "print(tokens)"
      ],
      "execution_count": 69,
      "outputs": [
        {
          "output_type": "stream",
          "text": [
            "['                ', '2', '\\n  ', 'When', 'forty', 'winters', 'shall', 'besiege', 'thy', 'brow', ',', 'And', 'dig', 'deep', 'trenches', 'in', 'thy', 'beauty', \"'s\", 'field', ',', 'Thy', 'youth', \"'s\", 'proud', 'livery', 'so', 'gazed', 'on', 'now', ',', 'Will', 'be', 'a', 'tattered', 'weed', 'of', 'small', 'worth', 'held', ':', 'Then', 'being', 'asked', ',', 'where', 'all', 'thy', 'beauty', 'lies', ',', 'Where', 'all', 'the', 'treasure', 'of', 'thy', 'lusty', 'days', ';', 'To', 'say', 'within', 'thine', 'own', 'deep', 'sunken', 'eyes', ',', 'Were', 'an', 'all', '-', 'eating', 'shame', ',', 'and', 'thriftless', 'praise', '.', 'How', 'much', 'more', 'praise', 'deserved', 'thy', 'beauty', \"'s\", 'use', ',', 'If', 'thou', 'couldst', 'answer', \"'\", 'This', 'fair', 'child', 'of', 'mine', 'Shall', 'sum', 'my', 'count', ',', 'and', 'make', 'my', 'old', 'excuse', \"'\", 'Proving', 'his', 'beauty', 'by', 'succession', 'thine', '.', 'This', 'were', 'to', 'be', 'new', 'made', 'when', 'thou', 'art', 'old', ',', 'And', 'see', 'thy', 'blood', 'warm', 'when', 'thou', \"feel'st\", 'it', 'cold', '.']\n"
          ],
          "name": "stdout"
        }
      ]
    },
    {
      "cell_type": "markdown",
      "metadata": {
        "id": "-YDkZk1CiaC7",
        "colab_type": "text"
      },
      "source": [
        "You can see from the list *tokens* that there each tokenized token is in the entry of the list."
      ]
    },
    {
      "cell_type": "code",
      "metadata": {
        "id": "PZUuHjE-iaC7",
        "colab_type": "code",
        "colab": {
          "base_uri": "https://localhost:8080/",
          "height": 55
        },
        "outputId": "a4521649-d4fd-44d3-9b2a-ab7e875d929e"
      },
      "source": [
        "# Lemmatization\n",
        "lemmas = [token.lemma_ for token in doc]\n",
        "print(lemmas)"
      ],
      "execution_count": 70,
      "outputs": [
        {
          "output_type": "stream",
          "text": [
            "['                ', '2', '\\n  ', 'when', 'forty', 'winter', 'shall', 'besiege', 'thy', 'brow', ',', 'and', 'dig', 'deep', 'trench', 'in', 'thy', 'beauty', \"'s\", 'field', ',', 'Thy', 'youth', \"'s\", 'proud', 'livery', 'so', 'gaze', 'on', 'now', ',', 'Will', 'be', 'a', 'tattered', 'weed', 'of', 'small', 'worth', 'hold', ':', 'then', 'be', 'ask', ',', 'where', 'all', 'thy', 'beauty', 'lie', ',', 'where', 'all', 'the', 'treasure', 'of', 'thy', 'lusty', 'day', ';', 'to', 'say', 'within', 'thine', 'own', 'deep', 'sink', 'eye', ',', 'be', 'an', 'all', '-', 'eat', 'shame', ',', 'and', 'thriftless', 'praise', '.', 'how', 'much', 'more', 'praise', 'deserve', 'thy', 'beauty', \"'s\", 'use', ',', 'if', 'thou', 'couldst', 'answer', \"'\", 'this', 'fair', 'child', 'of', '-PRON-', 'Shall', 'sum', '-PRON-', 'count', ',', 'and', 'make', '-PRON-', 'old', 'excuse', \"'\", 'prove', '-PRON-', 'beauty', 'by', 'succession', 'thine', '.', 'this', 'be', 'to', 'be', 'new', 'make', 'when', 'thou', 'art', 'old', ',', 'and', 'see', 'thy', 'blood', 'warm', 'when', 'thou', \"feel'st\", '-PRON-', 'cold', '.']\n"
          ],
          "name": "stdout"
        }
      ]
    },
    {
      "cell_type": "markdown",
      "metadata": {
        "id": "Fk_gIzj1iaC-",
        "colab_type": "text"
      },
      "source": [
        "Did you notice that almost all pronouns are subsituted with `-PRON-`?\n",
        "\n",
        "Unlike verbs and common nouns, there’s no clear base form of a personal pronoun. Should the lemma of “me” be “I”, or should we normalize person as well, giving “it” — or maybe “he”? spaCy’s solution is to introduce a novel symbol, `-PRON-`, which is used as the lemma for all personal pronouns."
      ]
    },
    {
      "cell_type": "code",
      "metadata": {
        "id": "MSBLc-VGiaDA",
        "colab_type": "code",
        "colab": {
          "base_uri": "https://localhost:8080/",
          "height": 55
        },
        "outputId": "c142dba2-c817-40d3-e6f3-f7b3f7400e55"
      },
      "source": [
        "# POS tagging\n",
        "poss = [token.pos_ for token in doc]\n",
        "print(poss)"
      ],
      "execution_count": 71,
      "outputs": [
        {
          "output_type": "stream",
          "text": [
            "['SPACE', 'NUM', 'SPACE', 'ADV', 'NUM', 'NOUN', 'VERB', 'VERB', 'DET', 'NOUN', 'PUNCT', 'CCONJ', 'VERB', 'ADJ', 'NOUN', 'ADP', 'DET', 'NOUN', 'PART', 'NOUN', 'PUNCT', 'PROPN', 'NOUN', 'PART', 'ADJ', 'NOUN', 'ADV', 'VERB', 'ADP', 'ADV', 'PUNCT', 'VERB', 'AUX', 'DET', 'ADJ', 'NOUN', 'ADP', 'ADJ', 'ADJ', 'VERB', 'PUNCT', 'ADV', 'AUX', 'VERB', 'PUNCT', 'ADV', 'DET', 'DET', 'NOUN', 'VERB', 'PUNCT', 'ADV', 'DET', 'DET', 'NOUN', 'ADP', 'NOUN', 'ADJ', 'NOUN', 'PUNCT', 'PART', 'VERB', 'ADP', 'NOUN', 'VERB', 'ADJ', 'VERB', 'NOUN', 'PUNCT', 'AUX', 'DET', 'ADV', 'PUNCT', 'VERB', 'NOUN', 'PUNCT', 'CCONJ', 'NOUN', 'NOUN', 'PUNCT', 'ADV', 'ADV', 'ADJ', 'NOUN', 'VERB', 'DET', 'NOUN', 'PART', 'NOUN', 'PUNCT', 'SCONJ', 'PROPN', 'PROPN', 'NOUN', 'PUNCT', 'DET', 'ADJ', 'NOUN', 'ADP', 'PRON', 'PROPN', 'VERB', 'DET', 'NOUN', 'PUNCT', 'CCONJ', 'VERB', 'DET', 'ADJ', 'NOUN', 'PUNCT', 'VERB', 'DET', 'NOUN', 'ADP', 'NOUN', 'NOUN', 'PUNCT', 'DET', 'AUX', 'PART', 'AUX', 'ADJ', 'VERB', 'ADV', 'PROPN', 'PROPN', 'ADJ', 'PUNCT', 'CCONJ', 'VERB', 'DET', 'NOUN', 'ADJ', 'ADV', 'PROPN', 'VERB', 'PRON', 'ADJ', 'PUNCT']\n"
          ],
          "name": "stdout"
        }
      ]
    },
    {
      "cell_type": "markdown",
      "metadata": {
        "id": "L1n3SWljiaDC",
        "colab_type": "text"
      },
      "source": [
        "Compare the outputs of the previous three lists."
      ]
    },
    {
      "cell_type": "markdown",
      "metadata": {
        "id": "eiCXxxnLiaDC",
        "colab_type": "text"
      },
      "source": [
        "Now let's move to sentence level features, i.e. sentence boundary detection and sentence segmentation. Unlike other libraries, spaCy uses the dependency parse to determine sentence boundaries. This is usually more accurate than a rule-based approach, but it also means you’ll need a statistical model and accurate predictions.\n",
        "If your texts are closer to general-purpose news or web text, this should work well out-of-the-box. "
      ]
    },
    {
      "cell_type": "code",
      "metadata": {
        "id": "BV-GIrK5iaDD",
        "colab_type": "code",
        "colab": {
          "base_uri": "https://localhost:8080/",
          "height": 74
        },
        "outputId": "f860ea50-c920-435b-86ec-0af997ee7ef7"
      },
      "source": [
        "sentences = list(doc.sents)\n",
        "sent_texts = [sentence.text for sentence in sentences]\n",
        "print(sent_texts)\n",
        "print(len(sent_texts))"
      ],
      "execution_count": 72,
      "outputs": [
        {
          "output_type": "stream",
          "text": [
            "['                2\\n  ', \"When forty winters shall besiege thy brow,And dig deep trenches in thy beauty's field, Thy youth's proud livery so gazed on now, Will be a tattered weed of small worth held: Then being asked, where all thy beauty lies, Where all the treasure of thy lusty days; To say within thine own deep sunken eyes, Were an all-eating shame, and thriftless praise.\", \"How much more praise deserved thy beauty's use, If thou couldst answer '\", \"This fair child of mine Shall sum my count, and make my old excuse' Proving his beauty by succession thine.\", \"This were to be new made when thou art old, And see thy blood warm when thou feel'st it cold.\"]\n",
            "5\n"
          ],
          "name": "stdout"
        }
      ]
    },
    {
      "cell_type": "markdown",
      "metadata": {
        "id": "BjOudVlyiaDH",
        "colab_type": "text"
      },
      "source": [
        "However, for other texts like social media texts, your application may benefit from a custom rule-based implementation. You can either use the built-in Sentencizer or plug an entirely custom rule-based function into your processing pipeline.\n",
        "\n",
        "Let's build a rule-based sentence segmentor."
      ]
    },
    {
      "cell_type": "code",
      "metadata": {
        "id": "5xO19_ykiaDH",
        "colab_type": "code",
        "colab": {
          "base_uri": "https://localhost:8080/",
          "height": 74
        },
        "outputId": "8db47f61-9988-400a-870e-a3a7d0c4c344"
      },
      "source": [
        "from spacy.lang.en import English\n",
        "\n",
        "nlp_rule = English()  # just the language with no model\n",
        "sentencizer = nlp_rule.create_pipe(\"sentencizer\")\n",
        "nlp_rule.add_pipe(sentencizer)\n",
        "doc_rule = nlp_rule(text)\n",
        "sent_rule_texts = [sent.text for sent in doc_rule.sents]\n",
        "print(sent_rule_texts)\n",
        "print(len(sent_rule_texts))"
      ],
      "execution_count": 73,
      "outputs": [
        {
          "output_type": "stream",
          "text": [
            "[\"                2\\n  When forty winters shall besiege thy brow,And dig deep trenches in thy beauty's field, Thy youth's proud livery so gazed on now, Will be a tattered weed of small worth held: Then being asked, where all thy beauty lies, Where all the treasure of thy lusty days; To say within thine own deep sunken eyes, Were an all-eating shame, and thriftless praise.\", \"How much more praise deserved thy beauty's use, If thou couldst answer 'This fair child of mine Shall sum my count, and make my old excuse' Proving his beauty by succession thine.\", \"This were to be new made when thou art old, And see thy blood warm when thou feel'st it cold.\"]\n",
            "3\n"
          ],
          "name": "stdout"
        }
      ]
    },
    {
      "cell_type": "markdown",
      "metadata": {
        "id": "OJuHTGZSiaDK",
        "colab_type": "text"
      },
      "source": [
        "You can see clearly the difference in both methods, where the statistical dependency parse sentence segmentor generate 12 sentencs, but the rule-based sentence segmentor only yields 4 sentences."
      ]
    },
    {
      "cell_type": "markdown",
      "metadata": {
        "id": "nLB45n5RiaDK",
        "colab_type": "text"
      },
      "source": [
        "Finally, let's have a look at the dependencies, i.e. the dependency relations between tokens, which is also used to segment sentences for the first model."
      ]
    },
    {
      "cell_type": "code",
      "metadata": {
        "id": "D6cm_OEhiaDK",
        "colab_type": "code",
        "colab": {
          "base_uri": "https://localhost:8080/",
          "height": 55
        },
        "outputId": "ffa125d2-e6d0-4363-f6c9-5b75c9424877"
      },
      "source": [
        "# Dependencies\n",
        "deps = [token.dep_ for token in doc]\n",
        "print(deps)"
      ],
      "execution_count": 74,
      "outputs": [
        {
          "output_type": "stream",
          "text": [
            "['', 'ROOT', '', 'advmod', 'nummod', 'nsubj', 'aux', 'advcl', 'compound', 'dobj', 'punct', 'cc', 'conj', 'amod', 'dobj', 'prep', 'compound', 'poss', 'case', 'pobj', 'punct', 'compound', 'poss', 'case', 'amod', 'nsubj', 'advmod', 'conj', 'prep', 'pcomp', 'punct', 'aux', 'ROOT', 'det', 'amod', 'attr', 'prep', 'amod', 'pobj', 'acl', 'punct', 'advmod', 'auxpass', 'advcl', 'punct', 'advmod', 'det', 'compound', 'nsubj', 'ccomp', 'punct', 'advmod', 'predet', 'det', 'nsubj', 'prep', 'nmod', 'compound', 'pobj', 'punct', 'aux', 'advcl', 'prep', 'pobj', 'amod', 'advmod', 'amod', 'dobj', 'punct', 'ccomp', 'det', 'advmod', 'punct', 'amod', 'attr', 'punct', 'cc', 'compound', 'conj', 'punct', 'advmod', 'advmod', 'amod', 'nsubj', 'ROOT', 'compound', 'poss', 'case', 'dobj', 'punct', 'mark', 'compound', 'nsubj', 'advcl', 'punct', 'det', 'amod', 'nsubj', 'prep', 'pobj', 'aux', 'ROOT', 'poss', 'dobj', 'punct', 'cc', 'conj', 'poss', 'amod', 'dobj', 'punct', 'ccomp', 'poss', 'dobj', 'prep', 'compound', 'pobj', 'punct', 'nsubj', 'ROOT', 'aux', 'auxpass', 'amod', 'xcomp', 'advmod', 'compound', 'nsubj', 'advcl', 'punct', 'cc', 'conj', 'compound', 'nsubj', 'ccomp', 'advmod', 'compound', 'compound', 'nsubj', 'advcl', 'punct']\n"
          ],
          "name": "stdout"
        }
      ]
    },
    {
      "cell_type": "markdown",
      "metadata": {
        "id": "fXgE5fUqiaDN",
        "colab_type": "text"
      },
      "source": [
        "Using spaCy’s built-in [displaCy visualizer](https://spacy.io/usage/visualizers), here’s what our example sentence and its dependencies."
      ]
    },
    {
      "cell_type": "code",
      "metadata": {
        "scrolled": false,
        "id": "KJgCJSM4iaDN",
        "colab_type": "code",
        "colab": {
          "base_uri": "https://localhost:8080/",
          "height": 128
        },
        "outputId": "ddde75e1-458e-4d8a-8663-c6974b10f840"
      },
      "source": [
        "from spacy import displacy\n",
        "displacy.render(sentences, style = \"dep\")"
      ],
      "execution_count": 75,
      "outputs": [
        {
          "output_type": "execute_result",
          "data": {
            "application/vnd.google.colaboratory.intrinsic+json": {
              "type": "string"
            },
            "text/plain": [
              "'<svg xmlns=\"http://www.w3.org/2000/svg\" xmlns:xlink=\"http://www.w3.org/1999/xlink\" xml:lang=\"en\" id=\"e60f70f02e5f4d38a4e6366a1e2c23dd-0\" class=\"displacy\" width=\"575\" height=\"224.5\" direction=\"ltr\" style=\"max-width: none; height: 224.5px; color: #000000; background: #ffffff; font-family: Arial; direction: ltr\">\\n<text class=\"displacy-token\" fill=\"currentColor\" text-anchor=\"middle\" y=\"134.5\">\\n    <tspan class=\"displacy-word\" fill=\"currentColor\" x=\"50\">                </tspan>\\n    <tspan class=\"displacy-tag\" dy=\"2em\" fill=\"currentColor\" x=\"50\">SPACE</tspan>\\n</text>\\n\\n<text class=\"displacy-token\" fill=\"currentColor\" text-anchor=\"middle\" y=\"134.5\">\\n    <tspan class=\"displacy-word\" fill=\"currentColor\" x=\"225\">2</tspan>\\n    <tspan class=\"displacy-tag\" dy=\"2em\" fill=\"currentColor\" x=\"225\">NUM</tspan>\\n</text>\\n\\n<text class=\"displacy-token\" fill=\"currentColor\" text-anchor=\"middle\" y=\"134.5\">\\n    <tspan class=\"displacy-word\" fill=\"currentColor\" x=\"400\">\\n  </tspan>\\n    <tspan class=\"displacy-tag\" dy=\"2em\" fill=\"currentColor\" x=\"400\">SPACE</tspan>\\n</text>\\n\\n<g class=\"displacy-arrow\">\\n    <path class=\"displacy-arc\" id=\"arrow-e60f70f02e5f4d38a4e6366a1e2c23dd-0-0\" stroke-width=\"2px\" d=\"M70,89.5 C70,2.0 225.0,2.0 225.0,89.5\" fill=\"none\" stroke=\"currentColor\"/>\\n    <text dy=\"1.25em\" style=\"font-size: 0.8em; letter-spacing: 1px\">\\n        <textPath xlink:href=\"#arrow-e60f70f02e5f4d38a4e6366a1e2c23dd-0-0\" class=\"displacy-label\" startOffset=\"50%\" side=\"left\" fill=\"currentColor\" text-anchor=\"middle\"></textPath>\\n    </text>\\n    <path class=\"displacy-arrowhead\" d=\"M70,91.5 L62,79.5 78,79.5\" fill=\"currentColor\"/>\\n</g>\\n\\n<g class=\"displacy-arrow\">\\n    <path class=\"displacy-arc\" id=\"arrow-e60f70f02e5f4d38a4e6366a1e2c23dd-0-1\" stroke-width=\"2px\" d=\"M245,89.5 C245,2.0 400.0,2.0 400.0,89.5\" fill=\"none\" stroke=\"currentColor\"/>\\n    <text dy=\"1.25em\" style=\"font-size: 0.8em; letter-spacing: 1px\">\\n        <textPath xlink:href=\"#arrow-e60f70f02e5f4d38a4e6366a1e2c23dd-0-1\" class=\"displacy-label\" startOffset=\"50%\" side=\"left\" fill=\"currentColor\" text-anchor=\"middle\"></textPath>\\n    </text>\\n    <path class=\"displacy-arrowhead\" d=\"M400.0,91.5 L408.0,79.5 392.0,79.5\" fill=\"currentColor\"/>\\n</g>\\n</svg>\\n\\n<svg xmlns=\"http://www.w3.org/2000/svg\" xmlns:xlink=\"http://www.w3.org/1999/xlink\" xml:lang=\"en\" id=\"e60f70f02e5f4d38a4e6366a1e2c23dd-1\" class=\"displacy\" width=\"11600\" height=\"1274.5\" direction=\"ltr\" style=\"max-width: none; height: 1274.5px; color: #000000; background: #ffffff; font-family: Arial; direction: ltr\">\\n<text class=\"displacy-token\" fill=\"currentColor\" text-anchor=\"middle\" y=\"1184.5\">\\n    <tspan class=\"displacy-word\" fill=\"currentColor\" x=\"50\">When</tspan>\\n    <tspan class=\"displacy-tag\" dy=\"2em\" fill=\"currentColor\" x=\"50\">ADV</tspan>\\n</text>\\n\\n<text class=\"displacy-token\" fill=\"currentColor\" text-anchor=\"middle\" y=\"1184.5\">\\n    <tspan class=\"displacy-word\" fill=\"currentColor\" x=\"225\">forty</tspan>\\n    <tspan class=\"displacy-tag\" dy=\"2em\" fill=\"currentColor\" x=\"225\">NUM</tspan>\\n</text>\\n\\n<text class=\"displacy-token\" fill=\"currentColor\" text-anchor=\"middle\" y=\"1184.5\">\\n    <tspan class=\"displacy-word\" fill=\"currentColor\" x=\"400\">winters</tspan>\\n    <tspan class=\"displacy-tag\" dy=\"2em\" fill=\"currentColor\" x=\"400\">NOUN</tspan>\\n</text>\\n\\n<text class=\"displacy-token\" fill=\"currentColor\" text-anchor=\"middle\" y=\"1184.5\">\\n    <tspan class=\"displacy-word\" fill=\"currentColor\" x=\"575\">shall</tspan>\\n    <tspan class=\"displacy-tag\" dy=\"2em\" fill=\"currentColor\" x=\"575\">VERB</tspan>\\n</text>\\n\\n<text class=\"displacy-token\" fill=\"currentColor\" text-anchor=\"middle\" y=\"1184.5\">\\n    <tspan class=\"displacy-word\" fill=\"currentColor\" x=\"750\">besiege</tspan>\\n    <tspan class=\"displacy-tag\" dy=\"2em\" fill=\"currentColor\" x=\"750\">VERB</tspan>\\n</text>\\n\\n<text class=\"displacy-token\" fill=\"currentColor\" text-anchor=\"middle\" y=\"1184.5\">\\n    <tspan class=\"displacy-word\" fill=\"currentColor\" x=\"925\">thy</tspan>\\n    <tspan class=\"displacy-tag\" dy=\"2em\" fill=\"currentColor\" x=\"925\">DET</tspan>\\n</text>\\n\\n<text class=\"displacy-token\" fill=\"currentColor\" text-anchor=\"middle\" y=\"1184.5\">\\n    <tspan class=\"displacy-word\" fill=\"currentColor\" x=\"1100\">brow,</tspan>\\n    <tspan class=\"displacy-tag\" dy=\"2em\" fill=\"currentColor\" x=\"1100\">NOUN</tspan>\\n</text>\\n\\n<text class=\"displacy-token\" fill=\"currentColor\" text-anchor=\"middle\" y=\"1184.5\">\\n    <tspan class=\"displacy-word\" fill=\"currentColor\" x=\"1275\">And</tspan>\\n    <tspan class=\"displacy-tag\" dy=\"2em\" fill=\"currentColor\" x=\"1275\">CCONJ</tspan>\\n</text>\\n\\n<text class=\"displacy-token\" fill=\"currentColor\" text-anchor=\"middle\" y=\"1184.5\">\\n    <tspan class=\"displacy-word\" fill=\"currentColor\" x=\"1450\">dig</tspan>\\n    <tspan class=\"displacy-tag\" dy=\"2em\" fill=\"currentColor\" x=\"1450\">VERB</tspan>\\n</text>\\n\\n<text class=\"displacy-token\" fill=\"currentColor\" text-anchor=\"middle\" y=\"1184.5\">\\n    <tspan class=\"displacy-word\" fill=\"currentColor\" x=\"1625\">deep</tspan>\\n    <tspan class=\"displacy-tag\" dy=\"2em\" fill=\"currentColor\" x=\"1625\">ADJ</tspan>\\n</text>\\n\\n<text class=\"displacy-token\" fill=\"currentColor\" text-anchor=\"middle\" y=\"1184.5\">\\n    <tspan class=\"displacy-word\" fill=\"currentColor\" x=\"1800\">trenches</tspan>\\n    <tspan class=\"displacy-tag\" dy=\"2em\" fill=\"currentColor\" x=\"1800\">NOUN</tspan>\\n</text>\\n\\n<text class=\"displacy-token\" fill=\"currentColor\" text-anchor=\"middle\" y=\"1184.5\">\\n    <tspan class=\"displacy-word\" fill=\"currentColor\" x=\"1975\">in</tspan>\\n    <tspan class=\"displacy-tag\" dy=\"2em\" fill=\"currentColor\" x=\"1975\">ADP</tspan>\\n</text>\\n\\n<text class=\"displacy-token\" fill=\"currentColor\" text-anchor=\"middle\" y=\"1184.5\">\\n    <tspan class=\"displacy-word\" fill=\"currentColor\" x=\"2150\">thy</tspan>\\n    <tspan class=\"displacy-tag\" dy=\"2em\" fill=\"currentColor\" x=\"2150\">DET</tspan>\\n</text>\\n\\n<text class=\"displacy-token\" fill=\"currentColor\" text-anchor=\"middle\" y=\"1184.5\">\\n    <tspan class=\"displacy-word\" fill=\"currentColor\" x=\"2325\">beauty</tspan>\\n    <tspan class=\"displacy-tag\" dy=\"2em\" fill=\"currentColor\" x=\"2325\">NOUN</tspan>\\n</text>\\n\\n<text class=\"displacy-token\" fill=\"currentColor\" text-anchor=\"middle\" y=\"1184.5\">\\n    <tspan class=\"displacy-word\" fill=\"currentColor\" x=\"2500\">\\'s</tspan>\\n    <tspan class=\"displacy-tag\" dy=\"2em\" fill=\"currentColor\" x=\"2500\">PART</tspan>\\n</text>\\n\\n<text class=\"displacy-token\" fill=\"currentColor\" text-anchor=\"middle\" y=\"1184.5\">\\n    <tspan class=\"displacy-word\" fill=\"currentColor\" x=\"2675\">field,</tspan>\\n    <tspan class=\"displacy-tag\" dy=\"2em\" fill=\"currentColor\" x=\"2675\">NOUN</tspan>\\n</text>\\n\\n<text class=\"displacy-token\" fill=\"currentColor\" text-anchor=\"middle\" y=\"1184.5\">\\n    <tspan class=\"displacy-word\" fill=\"currentColor\" x=\"2850\">Thy</tspan>\\n    <tspan class=\"displacy-tag\" dy=\"2em\" fill=\"currentColor\" x=\"2850\">PROPN</tspan>\\n</text>\\n\\n<text class=\"displacy-token\" fill=\"currentColor\" text-anchor=\"middle\" y=\"1184.5\">\\n    <tspan class=\"displacy-word\" fill=\"currentColor\" x=\"3025\">youth</tspan>\\n    <tspan class=\"displacy-tag\" dy=\"2em\" fill=\"currentColor\" x=\"3025\">NOUN</tspan>\\n</text>\\n\\n<text class=\"displacy-token\" fill=\"currentColor\" text-anchor=\"middle\" y=\"1184.5\">\\n    <tspan class=\"displacy-word\" fill=\"currentColor\" x=\"3200\">\\'s</tspan>\\n    <tspan class=\"displacy-tag\" dy=\"2em\" fill=\"currentColor\" x=\"3200\">PART</tspan>\\n</text>\\n\\n<text class=\"displacy-token\" fill=\"currentColor\" text-anchor=\"middle\" y=\"1184.5\">\\n    <tspan class=\"displacy-word\" fill=\"currentColor\" x=\"3375\">proud</tspan>\\n    <tspan class=\"displacy-tag\" dy=\"2em\" fill=\"currentColor\" x=\"3375\">ADJ</tspan>\\n</text>\\n\\n<text class=\"displacy-token\" fill=\"currentColor\" text-anchor=\"middle\" y=\"1184.5\">\\n    <tspan class=\"displacy-word\" fill=\"currentColor\" x=\"3550\">livery</tspan>\\n    <tspan class=\"displacy-tag\" dy=\"2em\" fill=\"currentColor\" x=\"3550\">NOUN</tspan>\\n</text>\\n\\n<text class=\"displacy-token\" fill=\"currentColor\" text-anchor=\"middle\" y=\"1184.5\">\\n    <tspan class=\"displacy-word\" fill=\"currentColor\" x=\"3725\">so</tspan>\\n    <tspan class=\"displacy-tag\" dy=\"2em\" fill=\"currentColor\" x=\"3725\">ADV</tspan>\\n</text>\\n\\n<text class=\"displacy-token\" fill=\"currentColor\" text-anchor=\"middle\" y=\"1184.5\">\\n    <tspan class=\"displacy-word\" fill=\"currentColor\" x=\"3900\">gazed</tspan>\\n    <tspan class=\"displacy-tag\" dy=\"2em\" fill=\"currentColor\" x=\"3900\">VERB</tspan>\\n</text>\\n\\n<text class=\"displacy-token\" fill=\"currentColor\" text-anchor=\"middle\" y=\"1184.5\">\\n    <tspan class=\"displacy-word\" fill=\"currentColor\" x=\"4075\">on</tspan>\\n    <tspan class=\"displacy-tag\" dy=\"2em\" fill=\"currentColor\" x=\"4075\">ADP</tspan>\\n</text>\\n\\n<text class=\"displacy-token\" fill=\"currentColor\" text-anchor=\"middle\" y=\"1184.5\">\\n    <tspan class=\"displacy-word\" fill=\"currentColor\" x=\"4250\">now,</tspan>\\n    <tspan class=\"displacy-tag\" dy=\"2em\" fill=\"currentColor\" x=\"4250\">ADV</tspan>\\n</text>\\n\\n<text class=\"displacy-token\" fill=\"currentColor\" text-anchor=\"middle\" y=\"1184.5\">\\n    <tspan class=\"displacy-word\" fill=\"currentColor\" x=\"4425\">Will</tspan>\\n    <tspan class=\"displacy-tag\" dy=\"2em\" fill=\"currentColor\" x=\"4425\">VERB</tspan>\\n</text>\\n\\n<text class=\"displacy-token\" fill=\"currentColor\" text-anchor=\"middle\" y=\"1184.5\">\\n    <tspan class=\"displacy-word\" fill=\"currentColor\" x=\"4600\">be</tspan>\\n    <tspan class=\"displacy-tag\" dy=\"2em\" fill=\"currentColor\" x=\"4600\">AUX</tspan>\\n</text>\\n\\n<text class=\"displacy-token\" fill=\"currentColor\" text-anchor=\"middle\" y=\"1184.5\">\\n    <tspan class=\"displacy-word\" fill=\"currentColor\" x=\"4775\">a</tspan>\\n    <tspan class=\"displacy-tag\" dy=\"2em\" fill=\"currentColor\" x=\"4775\">DET</tspan>\\n</text>\\n\\n<text class=\"displacy-token\" fill=\"currentColor\" text-anchor=\"middle\" y=\"1184.5\">\\n    <tspan class=\"displacy-word\" fill=\"currentColor\" x=\"4950\">tattered</tspan>\\n    <tspan class=\"displacy-tag\" dy=\"2em\" fill=\"currentColor\" x=\"4950\">ADJ</tspan>\\n</text>\\n\\n<text class=\"displacy-token\" fill=\"currentColor\" text-anchor=\"middle\" y=\"1184.5\">\\n    <tspan class=\"displacy-word\" fill=\"currentColor\" x=\"5125\">weed</tspan>\\n    <tspan class=\"displacy-tag\" dy=\"2em\" fill=\"currentColor\" x=\"5125\">NOUN</tspan>\\n</text>\\n\\n<text class=\"displacy-token\" fill=\"currentColor\" text-anchor=\"middle\" y=\"1184.5\">\\n    <tspan class=\"displacy-word\" fill=\"currentColor\" x=\"5300\">of</tspan>\\n    <tspan class=\"displacy-tag\" dy=\"2em\" fill=\"currentColor\" x=\"5300\">ADP</tspan>\\n</text>\\n\\n<text class=\"displacy-token\" fill=\"currentColor\" text-anchor=\"middle\" y=\"1184.5\">\\n    <tspan class=\"displacy-word\" fill=\"currentColor\" x=\"5475\">small</tspan>\\n    <tspan class=\"displacy-tag\" dy=\"2em\" fill=\"currentColor\" x=\"5475\">ADJ</tspan>\\n</text>\\n\\n<text class=\"displacy-token\" fill=\"currentColor\" text-anchor=\"middle\" y=\"1184.5\">\\n    <tspan class=\"displacy-word\" fill=\"currentColor\" x=\"5650\">worth</tspan>\\n    <tspan class=\"displacy-tag\" dy=\"2em\" fill=\"currentColor\" x=\"5650\">ADJ</tspan>\\n</text>\\n\\n<text class=\"displacy-token\" fill=\"currentColor\" text-anchor=\"middle\" y=\"1184.5\">\\n    <tspan class=\"displacy-word\" fill=\"currentColor\" x=\"5825\">held:</tspan>\\n    <tspan class=\"displacy-tag\" dy=\"2em\" fill=\"currentColor\" x=\"5825\">VERB</tspan>\\n</text>\\n\\n<text class=\"displacy-token\" fill=\"currentColor\" text-anchor=\"middle\" y=\"1184.5\">\\n    <tspan class=\"displacy-word\" fill=\"currentColor\" x=\"6000\">Then</tspan>\\n    <tspan class=\"displacy-tag\" dy=\"2em\" fill=\"currentColor\" x=\"6000\">ADV</tspan>\\n</text>\\n\\n<text class=\"displacy-token\" fill=\"currentColor\" text-anchor=\"middle\" y=\"1184.5\">\\n    <tspan class=\"displacy-word\" fill=\"currentColor\" x=\"6175\">being</tspan>\\n    <tspan class=\"displacy-tag\" dy=\"2em\" fill=\"currentColor\" x=\"6175\">AUX</tspan>\\n</text>\\n\\n<text class=\"displacy-token\" fill=\"currentColor\" text-anchor=\"middle\" y=\"1184.5\">\\n    <tspan class=\"displacy-word\" fill=\"currentColor\" x=\"6350\">asked,</tspan>\\n    <tspan class=\"displacy-tag\" dy=\"2em\" fill=\"currentColor\" x=\"6350\">VERB</tspan>\\n</text>\\n\\n<text class=\"displacy-token\" fill=\"currentColor\" text-anchor=\"middle\" y=\"1184.5\">\\n    <tspan class=\"displacy-word\" fill=\"currentColor\" x=\"6525\">where</tspan>\\n    <tspan class=\"displacy-tag\" dy=\"2em\" fill=\"currentColor\" x=\"6525\">ADV</tspan>\\n</text>\\n\\n<text class=\"displacy-token\" fill=\"currentColor\" text-anchor=\"middle\" y=\"1184.5\">\\n    <tspan class=\"displacy-word\" fill=\"currentColor\" x=\"6700\">all</tspan>\\n    <tspan class=\"displacy-tag\" dy=\"2em\" fill=\"currentColor\" x=\"6700\">DET</tspan>\\n</text>\\n\\n<text class=\"displacy-token\" fill=\"currentColor\" text-anchor=\"middle\" y=\"1184.5\">\\n    <tspan class=\"displacy-word\" fill=\"currentColor\" x=\"6875\">thy</tspan>\\n    <tspan class=\"displacy-tag\" dy=\"2em\" fill=\"currentColor\" x=\"6875\">DET</tspan>\\n</text>\\n\\n<text class=\"displacy-token\" fill=\"currentColor\" text-anchor=\"middle\" y=\"1184.5\">\\n    <tspan class=\"displacy-word\" fill=\"currentColor\" x=\"7050\">beauty</tspan>\\n    <tspan class=\"displacy-tag\" dy=\"2em\" fill=\"currentColor\" x=\"7050\">NOUN</tspan>\\n</text>\\n\\n<text class=\"displacy-token\" fill=\"currentColor\" text-anchor=\"middle\" y=\"1184.5\">\\n    <tspan class=\"displacy-word\" fill=\"currentColor\" x=\"7225\">lies,</tspan>\\n    <tspan class=\"displacy-tag\" dy=\"2em\" fill=\"currentColor\" x=\"7225\">VERB</tspan>\\n</text>\\n\\n<text class=\"displacy-token\" fill=\"currentColor\" text-anchor=\"middle\" y=\"1184.5\">\\n    <tspan class=\"displacy-word\" fill=\"currentColor\" x=\"7400\">Where</tspan>\\n    <tspan class=\"displacy-tag\" dy=\"2em\" fill=\"currentColor\" x=\"7400\">ADV</tspan>\\n</text>\\n\\n<text class=\"displacy-token\" fill=\"currentColor\" text-anchor=\"middle\" y=\"1184.5\">\\n    <tspan class=\"displacy-word\" fill=\"currentColor\" x=\"7575\">all</tspan>\\n    <tspan class=\"displacy-tag\" dy=\"2em\" fill=\"currentColor\" x=\"7575\">DET</tspan>\\n</text>\\n\\n<text class=\"displacy-token\" fill=\"currentColor\" text-anchor=\"middle\" y=\"1184.5\">\\n    <tspan class=\"displacy-word\" fill=\"currentColor\" x=\"7750\">the</tspan>\\n    <tspan class=\"displacy-tag\" dy=\"2em\" fill=\"currentColor\" x=\"7750\">DET</tspan>\\n</text>\\n\\n<text class=\"displacy-token\" fill=\"currentColor\" text-anchor=\"middle\" y=\"1184.5\">\\n    <tspan class=\"displacy-word\" fill=\"currentColor\" x=\"7925\">treasure</tspan>\\n    <tspan class=\"displacy-tag\" dy=\"2em\" fill=\"currentColor\" x=\"7925\">NOUN</tspan>\\n</text>\\n\\n<text class=\"displacy-token\" fill=\"currentColor\" text-anchor=\"middle\" y=\"1184.5\">\\n    <tspan class=\"displacy-word\" fill=\"currentColor\" x=\"8100\">of</tspan>\\n    <tspan class=\"displacy-tag\" dy=\"2em\" fill=\"currentColor\" x=\"8100\">ADP</tspan>\\n</text>\\n\\n<text class=\"displacy-token\" fill=\"currentColor\" text-anchor=\"middle\" y=\"1184.5\">\\n    <tspan class=\"displacy-word\" fill=\"currentColor\" x=\"8275\">thy</tspan>\\n    <tspan class=\"displacy-tag\" dy=\"2em\" fill=\"currentColor\" x=\"8275\">NOUN</tspan>\\n</text>\\n\\n<text class=\"displacy-token\" fill=\"currentColor\" text-anchor=\"middle\" y=\"1184.5\">\\n    <tspan class=\"displacy-word\" fill=\"currentColor\" x=\"8450\">lusty</tspan>\\n    <tspan class=\"displacy-tag\" dy=\"2em\" fill=\"currentColor\" x=\"8450\">ADJ</tspan>\\n</text>\\n\\n<text class=\"displacy-token\" fill=\"currentColor\" text-anchor=\"middle\" y=\"1184.5\">\\n    <tspan class=\"displacy-word\" fill=\"currentColor\" x=\"8625\">days;</tspan>\\n    <tspan class=\"displacy-tag\" dy=\"2em\" fill=\"currentColor\" x=\"8625\">NOUN</tspan>\\n</text>\\n\\n<text class=\"displacy-token\" fill=\"currentColor\" text-anchor=\"middle\" y=\"1184.5\">\\n    <tspan class=\"displacy-word\" fill=\"currentColor\" x=\"8800\">To</tspan>\\n    <tspan class=\"displacy-tag\" dy=\"2em\" fill=\"currentColor\" x=\"8800\">PART</tspan>\\n</text>\\n\\n<text class=\"displacy-token\" fill=\"currentColor\" text-anchor=\"middle\" y=\"1184.5\">\\n    <tspan class=\"displacy-word\" fill=\"currentColor\" x=\"8975\">say</tspan>\\n    <tspan class=\"displacy-tag\" dy=\"2em\" fill=\"currentColor\" x=\"8975\">VERB</tspan>\\n</text>\\n\\n<text class=\"displacy-token\" fill=\"currentColor\" text-anchor=\"middle\" y=\"1184.5\">\\n    <tspan class=\"displacy-word\" fill=\"currentColor\" x=\"9150\">within</tspan>\\n    <tspan class=\"displacy-tag\" dy=\"2em\" fill=\"currentColor\" x=\"9150\">ADP</tspan>\\n</text>\\n\\n<text class=\"displacy-token\" fill=\"currentColor\" text-anchor=\"middle\" y=\"1184.5\">\\n    <tspan class=\"displacy-word\" fill=\"currentColor\" x=\"9325\">thine</tspan>\\n    <tspan class=\"displacy-tag\" dy=\"2em\" fill=\"currentColor\" x=\"9325\">NOUN</tspan>\\n</text>\\n\\n<text class=\"displacy-token\" fill=\"currentColor\" text-anchor=\"middle\" y=\"1184.5\">\\n    <tspan class=\"displacy-word\" fill=\"currentColor\" x=\"9500\">own</tspan>\\n    <tspan class=\"displacy-tag\" dy=\"2em\" fill=\"currentColor\" x=\"9500\">VERB</tspan>\\n</text>\\n\\n<text class=\"displacy-token\" fill=\"currentColor\" text-anchor=\"middle\" y=\"1184.5\">\\n    <tspan class=\"displacy-word\" fill=\"currentColor\" x=\"9675\">deep</tspan>\\n    <tspan class=\"displacy-tag\" dy=\"2em\" fill=\"currentColor\" x=\"9675\">ADJ</tspan>\\n</text>\\n\\n<text class=\"displacy-token\" fill=\"currentColor\" text-anchor=\"middle\" y=\"1184.5\">\\n    <tspan class=\"displacy-word\" fill=\"currentColor\" x=\"9850\">sunken</tspan>\\n    <tspan class=\"displacy-tag\" dy=\"2em\" fill=\"currentColor\" x=\"9850\">VERB</tspan>\\n</text>\\n\\n<text class=\"displacy-token\" fill=\"currentColor\" text-anchor=\"middle\" y=\"1184.5\">\\n    <tspan class=\"displacy-word\" fill=\"currentColor\" x=\"10025\">eyes,</tspan>\\n    <tspan class=\"displacy-tag\" dy=\"2em\" fill=\"currentColor\" x=\"10025\">NOUN</tspan>\\n</text>\\n\\n<text class=\"displacy-token\" fill=\"currentColor\" text-anchor=\"middle\" y=\"1184.5\">\\n    <tspan class=\"displacy-word\" fill=\"currentColor\" x=\"10200\">Were</tspan>\\n    <tspan class=\"displacy-tag\" dy=\"2em\" fill=\"currentColor\" x=\"10200\">AUX</tspan>\\n</text>\\n\\n<text class=\"displacy-token\" fill=\"currentColor\" text-anchor=\"middle\" y=\"1184.5\">\\n    <tspan class=\"displacy-word\" fill=\"currentColor\" x=\"10375\">an</tspan>\\n    <tspan class=\"displacy-tag\" dy=\"2em\" fill=\"currentColor\" x=\"10375\">DET</tspan>\\n</text>\\n\\n<text class=\"displacy-token\" fill=\"currentColor\" text-anchor=\"middle\" y=\"1184.5\">\\n    <tspan class=\"displacy-word\" fill=\"currentColor\" x=\"10550\">all-</tspan>\\n    <tspan class=\"displacy-tag\" dy=\"2em\" fill=\"currentColor\" x=\"10550\">ADV</tspan>\\n</text>\\n\\n<text class=\"displacy-token\" fill=\"currentColor\" text-anchor=\"middle\" y=\"1184.5\">\\n    <tspan class=\"displacy-word\" fill=\"currentColor\" x=\"10725\">eating</tspan>\\n    <tspan class=\"displacy-tag\" dy=\"2em\" fill=\"currentColor\" x=\"10725\">VERB</tspan>\\n</text>\\n\\n<text class=\"displacy-token\" fill=\"currentColor\" text-anchor=\"middle\" y=\"1184.5\">\\n    <tspan class=\"displacy-word\" fill=\"currentColor\" x=\"10900\">shame,</tspan>\\n    <tspan class=\"displacy-tag\" dy=\"2em\" fill=\"currentColor\" x=\"10900\">NOUN</tspan>\\n</text>\\n\\n<text class=\"displacy-token\" fill=\"currentColor\" text-anchor=\"middle\" y=\"1184.5\">\\n    <tspan class=\"displacy-word\" fill=\"currentColor\" x=\"11075\">and</tspan>\\n    <tspan class=\"displacy-tag\" dy=\"2em\" fill=\"currentColor\" x=\"11075\">CCONJ</tspan>\\n</text>\\n\\n<text class=\"displacy-token\" fill=\"currentColor\" text-anchor=\"middle\" y=\"1184.5\">\\n    <tspan class=\"displacy-word\" fill=\"currentColor\" x=\"11250\">thriftless</tspan>\\n    <tspan class=\"displacy-tag\" dy=\"2em\" fill=\"currentColor\" x=\"11250\">NOUN</tspan>\\n</text>\\n\\n<text class=\"displacy-token\" fill=\"currentColor\" text-anchor=\"middle\" y=\"1184.5\">\\n    <tspan class=\"displacy-word\" fill=\"currentColor\" x=\"11425\">praise.</tspan>\\n    <tspan class=\"displacy-tag\" dy=\"2em\" fill=\"currentColor\" x=\"11425\">NOUN</tspan>\\n</text>\\n\\n<g class=\"displacy-arrow\">\\n    <path class=\"displacy-arc\" id=\"arrow-e60f70f02e5f4d38a4e6366a1e2c23dd-1-0\" stroke-width=\"2px\" d=\"M70,1139.5 C70,789.5 705.0,789.5 705.0,1139.5\" fill=\"none\" stroke=\"currentColor\"/>\\n    <text dy=\"1.25em\" style=\"font-size: 0.8em; letter-spacing: 1px\">\\n        <textPath xlink:href=\"#arrow-e60f70f02e5f4d38a4e6366a1e2c23dd-1-0\" class=\"displacy-label\" startOffset=\"50%\" side=\"left\" fill=\"currentColor\" text-anchor=\"middle\">advmod</textPath>\\n    </text>\\n    <path class=\"displacy-arrowhead\" d=\"M70,1141.5 L62,1129.5 78,1129.5\" fill=\"currentColor\"/>\\n</g>\\n\\n<g class=\"displacy-arrow\">\\n    <path class=\"displacy-arc\" id=\"arrow-e60f70f02e5f4d38a4e6366a1e2c23dd-1-1\" stroke-width=\"2px\" d=\"M245,1139.5 C245,1052.0 340.0,1052.0 340.0,1139.5\" fill=\"none\" stroke=\"currentColor\"/>\\n    <text dy=\"1.25em\" style=\"font-size: 0.8em; letter-spacing: 1px\">\\n        <textPath xlink:href=\"#arrow-e60f70f02e5f4d38a4e6366a1e2c23dd-1-1\" class=\"displacy-label\" startOffset=\"50%\" side=\"left\" fill=\"currentColor\" text-anchor=\"middle\">nummod</textPath>\\n    </text>\\n    <path class=\"displacy-arrowhead\" d=\"M245,1141.5 L237,1129.5 253,1129.5\" fill=\"currentColor\"/>\\n</g>\\n\\n<g class=\"displacy-arrow\">\\n    <path class=\"displacy-arc\" id=\"arrow-e60f70f02e5f4d38a4e6366a1e2c23dd-1-2\" stroke-width=\"2px\" d=\"M420,1139.5 C420,964.5 695.0,964.5 695.0,1139.5\" fill=\"none\" stroke=\"currentColor\"/>\\n    <text dy=\"1.25em\" style=\"font-size: 0.8em; letter-spacing: 1px\">\\n        <textPath xlink:href=\"#arrow-e60f70f02e5f4d38a4e6366a1e2c23dd-1-2\" class=\"displacy-label\" startOffset=\"50%\" side=\"left\" fill=\"currentColor\" text-anchor=\"middle\">nsubj</textPath>\\n    </text>\\n    <path class=\"displacy-arrowhead\" d=\"M420,1141.5 L412,1129.5 428,1129.5\" fill=\"currentColor\"/>\\n</g>\\n\\n<g class=\"displacy-arrow\">\\n    <path class=\"displacy-arc\" id=\"arrow-e60f70f02e5f4d38a4e6366a1e2c23dd-1-3\" stroke-width=\"2px\" d=\"M595,1139.5 C595,1052.0 690.0,1052.0 690.0,1139.5\" fill=\"none\" stroke=\"currentColor\"/>\\n    <text dy=\"1.25em\" style=\"font-size: 0.8em; letter-spacing: 1px\">\\n        <textPath xlink:href=\"#arrow-e60f70f02e5f4d38a4e6366a1e2c23dd-1-3\" class=\"displacy-label\" startOffset=\"50%\" side=\"left\" fill=\"currentColor\" text-anchor=\"middle\">aux</textPath>\\n    </text>\\n    <path class=\"displacy-arrowhead\" d=\"M595,1141.5 L587,1129.5 603,1129.5\" fill=\"currentColor\"/>\\n</g>\\n\\n<g class=\"displacy-arrow\">\\n    <path class=\"displacy-arc\" id=\"arrow-e60f70f02e5f4d38a4e6366a1e2c23dd-1-4\" stroke-width=\"2px\" d=\"M770,1139.5 C770,2.0 4600.0,2.0 4600.0,1139.5\" fill=\"none\" stroke=\"currentColor\"/>\\n    <text dy=\"1.25em\" style=\"font-size: 0.8em; letter-spacing: 1px\">\\n        <textPath xlink:href=\"#arrow-e60f70f02e5f4d38a4e6366a1e2c23dd-1-4\" class=\"displacy-label\" startOffset=\"50%\" side=\"left\" fill=\"currentColor\" text-anchor=\"middle\">advcl</textPath>\\n    </text>\\n    <path class=\"displacy-arrowhead\" d=\"M770,1141.5 L762,1129.5 778,1129.5\" fill=\"currentColor\"/>\\n</g>\\n\\n<g class=\"displacy-arrow\">\\n    <path class=\"displacy-arc\" id=\"arrow-e60f70f02e5f4d38a4e6366a1e2c23dd-1-5\" stroke-width=\"2px\" d=\"M945,1139.5 C945,1052.0 1040.0,1052.0 1040.0,1139.5\" fill=\"none\" stroke=\"currentColor\"/>\\n    <text dy=\"1.25em\" style=\"font-size: 0.8em; letter-spacing: 1px\">\\n        <textPath xlink:href=\"#arrow-e60f70f02e5f4d38a4e6366a1e2c23dd-1-5\" class=\"displacy-label\" startOffset=\"50%\" side=\"left\" fill=\"currentColor\" text-anchor=\"middle\">compound</textPath>\\n    </text>\\n    <path class=\"displacy-arrowhead\" d=\"M945,1141.5 L937,1129.5 953,1129.5\" fill=\"currentColor\"/>\\n</g>\\n\\n<g class=\"displacy-arrow\">\\n    <path class=\"displacy-arc\" id=\"arrow-e60f70f02e5f4d38a4e6366a1e2c23dd-1-6\" stroke-width=\"2px\" d=\"M770,1139.5 C770,964.5 1045.0,964.5 1045.0,1139.5\" fill=\"none\" stroke=\"currentColor\"/>\\n    <text dy=\"1.25em\" style=\"font-size: 0.8em; letter-spacing: 1px\">\\n        <textPath xlink:href=\"#arrow-e60f70f02e5f4d38a4e6366a1e2c23dd-1-6\" class=\"displacy-label\" startOffset=\"50%\" side=\"left\" fill=\"currentColor\" text-anchor=\"middle\">dobj</textPath>\\n    </text>\\n    <path class=\"displacy-arrowhead\" d=\"M1045.0,1141.5 L1053.0,1129.5 1037.0,1129.5\" fill=\"currentColor\"/>\\n</g>\\n\\n<g class=\"displacy-arrow\">\\n    <path class=\"displacy-arc\" id=\"arrow-e60f70f02e5f4d38a4e6366a1e2c23dd-1-7\" stroke-width=\"2px\" d=\"M770,1139.5 C770,877.0 1225.0,877.0 1225.0,1139.5\" fill=\"none\" stroke=\"currentColor\"/>\\n    <text dy=\"1.25em\" style=\"font-size: 0.8em; letter-spacing: 1px\">\\n        <textPath xlink:href=\"#arrow-e60f70f02e5f4d38a4e6366a1e2c23dd-1-7\" class=\"displacy-label\" startOffset=\"50%\" side=\"left\" fill=\"currentColor\" text-anchor=\"middle\">cc</textPath>\\n    </text>\\n    <path class=\"displacy-arrowhead\" d=\"M1225.0,1141.5 L1233.0,1129.5 1217.0,1129.5\" fill=\"currentColor\"/>\\n</g>\\n\\n<g class=\"displacy-arrow\">\\n    <path class=\"displacy-arc\" id=\"arrow-e60f70f02e5f4d38a4e6366a1e2c23dd-1-8\" stroke-width=\"2px\" d=\"M770,1139.5 C770,789.5 1405.0,789.5 1405.0,1139.5\" fill=\"none\" stroke=\"currentColor\"/>\\n    <text dy=\"1.25em\" style=\"font-size: 0.8em; letter-spacing: 1px\">\\n        <textPath xlink:href=\"#arrow-e60f70f02e5f4d38a4e6366a1e2c23dd-1-8\" class=\"displacy-label\" startOffset=\"50%\" side=\"left\" fill=\"currentColor\" text-anchor=\"middle\">conj</textPath>\\n    </text>\\n    <path class=\"displacy-arrowhead\" d=\"M1405.0,1141.5 L1413.0,1129.5 1397.0,1129.5\" fill=\"currentColor\"/>\\n</g>\\n\\n<g class=\"displacy-arrow\">\\n    <path class=\"displacy-arc\" id=\"arrow-e60f70f02e5f4d38a4e6366a1e2c23dd-1-9\" stroke-width=\"2px\" d=\"M1645,1139.5 C1645,1052.0 1740.0,1052.0 1740.0,1139.5\" fill=\"none\" stroke=\"currentColor\"/>\\n    <text dy=\"1.25em\" style=\"font-size: 0.8em; letter-spacing: 1px\">\\n        <textPath xlink:href=\"#arrow-e60f70f02e5f4d38a4e6366a1e2c23dd-1-9\" class=\"displacy-label\" startOffset=\"50%\" side=\"left\" fill=\"currentColor\" text-anchor=\"middle\">amod</textPath>\\n    </text>\\n    <path class=\"displacy-arrowhead\" d=\"M1645,1141.5 L1637,1129.5 1653,1129.5\" fill=\"currentColor\"/>\\n</g>\\n\\n<g class=\"displacy-arrow\">\\n    <path class=\"displacy-arc\" id=\"arrow-e60f70f02e5f4d38a4e6366a1e2c23dd-1-10\" stroke-width=\"2px\" d=\"M1470,1139.5 C1470,964.5 1745.0,964.5 1745.0,1139.5\" fill=\"none\" stroke=\"currentColor\"/>\\n    <text dy=\"1.25em\" style=\"font-size: 0.8em; letter-spacing: 1px\">\\n        <textPath xlink:href=\"#arrow-e60f70f02e5f4d38a4e6366a1e2c23dd-1-10\" class=\"displacy-label\" startOffset=\"50%\" side=\"left\" fill=\"currentColor\" text-anchor=\"middle\">dobj</textPath>\\n    </text>\\n    <path class=\"displacy-arrowhead\" d=\"M1745.0,1141.5 L1753.0,1129.5 1737.0,1129.5\" fill=\"currentColor\"/>\\n</g>\\n\\n<g class=\"displacy-arrow\">\\n    <path class=\"displacy-arc\" id=\"arrow-e60f70f02e5f4d38a4e6366a1e2c23dd-1-11\" stroke-width=\"2px\" d=\"M1820,1139.5 C1820,1052.0 1915.0,1052.0 1915.0,1139.5\" fill=\"none\" stroke=\"currentColor\"/>\\n    <text dy=\"1.25em\" style=\"font-size: 0.8em; letter-spacing: 1px\">\\n        <textPath xlink:href=\"#arrow-e60f70f02e5f4d38a4e6366a1e2c23dd-1-11\" class=\"displacy-label\" startOffset=\"50%\" side=\"left\" fill=\"currentColor\" text-anchor=\"middle\">prep</textPath>\\n    </text>\\n    <path class=\"displacy-arrowhead\" d=\"M1915.0,1141.5 L1923.0,1129.5 1907.0,1129.5\" fill=\"currentColor\"/>\\n</g>\\n\\n<g class=\"displacy-arrow\">\\n    <path class=\"displacy-arc\" id=\"arrow-e60f70f02e5f4d38a4e6366a1e2c23dd-1-12\" stroke-width=\"2px\" d=\"M2170,1139.5 C2170,1052.0 2265.0,1052.0 2265.0,1139.5\" fill=\"none\" stroke=\"currentColor\"/>\\n    <text dy=\"1.25em\" style=\"font-size: 0.8em; letter-spacing: 1px\">\\n        <textPath xlink:href=\"#arrow-e60f70f02e5f4d38a4e6366a1e2c23dd-1-12\" class=\"displacy-label\" startOffset=\"50%\" side=\"left\" fill=\"currentColor\" text-anchor=\"middle\">compound</textPath>\\n    </text>\\n    <path class=\"displacy-arrowhead\" d=\"M2170,1141.5 L2162,1129.5 2178,1129.5\" fill=\"currentColor\"/>\\n</g>\\n\\n<g class=\"displacy-arrow\">\\n    <path class=\"displacy-arc\" id=\"arrow-e60f70f02e5f4d38a4e6366a1e2c23dd-1-13\" stroke-width=\"2px\" d=\"M2345,1139.5 C2345,964.5 2620.0,964.5 2620.0,1139.5\" fill=\"none\" stroke=\"currentColor\"/>\\n    <text dy=\"1.25em\" style=\"font-size: 0.8em; letter-spacing: 1px\">\\n        <textPath xlink:href=\"#arrow-e60f70f02e5f4d38a4e6366a1e2c23dd-1-13\" class=\"displacy-label\" startOffset=\"50%\" side=\"left\" fill=\"currentColor\" text-anchor=\"middle\">poss</textPath>\\n    </text>\\n    <path class=\"displacy-arrowhead\" d=\"M2345,1141.5 L2337,1129.5 2353,1129.5\" fill=\"currentColor\"/>\\n</g>\\n\\n<g class=\"displacy-arrow\">\\n    <path class=\"displacy-arc\" id=\"arrow-e60f70f02e5f4d38a4e6366a1e2c23dd-1-14\" stroke-width=\"2px\" d=\"M2345,1139.5 C2345,1052.0 2440.0,1052.0 2440.0,1139.5\" fill=\"none\" stroke=\"currentColor\"/>\\n    <text dy=\"1.25em\" style=\"font-size: 0.8em; letter-spacing: 1px\">\\n        <textPath xlink:href=\"#arrow-e60f70f02e5f4d38a4e6366a1e2c23dd-1-14\" class=\"displacy-label\" startOffset=\"50%\" side=\"left\" fill=\"currentColor\" text-anchor=\"middle\">case</textPath>\\n    </text>\\n    <path class=\"displacy-arrowhead\" d=\"M2440.0,1141.5 L2448.0,1129.5 2432.0,1129.5\" fill=\"currentColor\"/>\\n</g>\\n\\n<g class=\"displacy-arrow\">\\n    <path class=\"displacy-arc\" id=\"arrow-e60f70f02e5f4d38a4e6366a1e2c23dd-1-15\" stroke-width=\"2px\" d=\"M1995,1139.5 C1995,789.5 2630.0,789.5 2630.0,1139.5\" fill=\"none\" stroke=\"currentColor\"/>\\n    <text dy=\"1.25em\" style=\"font-size: 0.8em; letter-spacing: 1px\">\\n        <textPath xlink:href=\"#arrow-e60f70f02e5f4d38a4e6366a1e2c23dd-1-15\" class=\"displacy-label\" startOffset=\"50%\" side=\"left\" fill=\"currentColor\" text-anchor=\"middle\">pobj</textPath>\\n    </text>\\n    <path class=\"displacy-arrowhead\" d=\"M2630.0,1141.5 L2638.0,1129.5 2622.0,1129.5\" fill=\"currentColor\"/>\\n</g>\\n\\n<g class=\"displacy-arrow\">\\n    <path class=\"displacy-arc\" id=\"arrow-e60f70f02e5f4d38a4e6366a1e2c23dd-1-16\" stroke-width=\"2px\" d=\"M2870,1139.5 C2870,1052.0 2965.0,1052.0 2965.0,1139.5\" fill=\"none\" stroke=\"currentColor\"/>\\n    <text dy=\"1.25em\" style=\"font-size: 0.8em; letter-spacing: 1px\">\\n        <textPath xlink:href=\"#arrow-e60f70f02e5f4d38a4e6366a1e2c23dd-1-16\" class=\"displacy-label\" startOffset=\"50%\" side=\"left\" fill=\"currentColor\" text-anchor=\"middle\">compound</textPath>\\n    </text>\\n    <path class=\"displacy-arrowhead\" d=\"M2870,1141.5 L2862,1129.5 2878,1129.5\" fill=\"currentColor\"/>\\n</g>\\n\\n<g class=\"displacy-arrow\">\\n    <path class=\"displacy-arc\" id=\"arrow-e60f70f02e5f4d38a4e6366a1e2c23dd-1-17\" stroke-width=\"2px\" d=\"M3045,1139.5 C3045,877.0 3500.0,877.0 3500.0,1139.5\" fill=\"none\" stroke=\"currentColor\"/>\\n    <text dy=\"1.25em\" style=\"font-size: 0.8em; letter-spacing: 1px\">\\n        <textPath xlink:href=\"#arrow-e60f70f02e5f4d38a4e6366a1e2c23dd-1-17\" class=\"displacy-label\" startOffset=\"50%\" side=\"left\" fill=\"currentColor\" text-anchor=\"middle\">poss</textPath>\\n    </text>\\n    <path class=\"displacy-arrowhead\" d=\"M3045,1141.5 L3037,1129.5 3053,1129.5\" fill=\"currentColor\"/>\\n</g>\\n\\n<g class=\"displacy-arrow\">\\n    <path class=\"displacy-arc\" id=\"arrow-e60f70f02e5f4d38a4e6366a1e2c23dd-1-18\" stroke-width=\"2px\" d=\"M3045,1139.5 C3045,1052.0 3140.0,1052.0 3140.0,1139.5\" fill=\"none\" stroke=\"currentColor\"/>\\n    <text dy=\"1.25em\" style=\"font-size: 0.8em; letter-spacing: 1px\">\\n        <textPath xlink:href=\"#arrow-e60f70f02e5f4d38a4e6366a1e2c23dd-1-18\" class=\"displacy-label\" startOffset=\"50%\" side=\"left\" fill=\"currentColor\" text-anchor=\"middle\">case</textPath>\\n    </text>\\n    <path class=\"displacy-arrowhead\" d=\"M3140.0,1141.5 L3148.0,1129.5 3132.0,1129.5\" fill=\"currentColor\"/>\\n</g>\\n\\n<g class=\"displacy-arrow\">\\n    <path class=\"displacy-arc\" id=\"arrow-e60f70f02e5f4d38a4e6366a1e2c23dd-1-19\" stroke-width=\"2px\" d=\"M3395,1139.5 C3395,1052.0 3490.0,1052.0 3490.0,1139.5\" fill=\"none\" stroke=\"currentColor\"/>\\n    <text dy=\"1.25em\" style=\"font-size: 0.8em; letter-spacing: 1px\">\\n        <textPath xlink:href=\"#arrow-e60f70f02e5f4d38a4e6366a1e2c23dd-1-19\" class=\"displacy-label\" startOffset=\"50%\" side=\"left\" fill=\"currentColor\" text-anchor=\"middle\">amod</textPath>\\n    </text>\\n    <path class=\"displacy-arrowhead\" d=\"M3395,1141.5 L3387,1129.5 3403,1129.5\" fill=\"currentColor\"/>\\n</g>\\n\\n<g class=\"displacy-arrow\">\\n    <path class=\"displacy-arc\" id=\"arrow-e60f70f02e5f4d38a4e6366a1e2c23dd-1-20\" stroke-width=\"2px\" d=\"M3570,1139.5 C3570,964.5 3845.0,964.5 3845.0,1139.5\" fill=\"none\" stroke=\"currentColor\"/>\\n    <text dy=\"1.25em\" style=\"font-size: 0.8em; letter-spacing: 1px\">\\n        <textPath xlink:href=\"#arrow-e60f70f02e5f4d38a4e6366a1e2c23dd-1-20\" class=\"displacy-label\" startOffset=\"50%\" side=\"left\" fill=\"currentColor\" text-anchor=\"middle\">nsubj</textPath>\\n    </text>\\n    <path class=\"displacy-arrowhead\" d=\"M3570,1141.5 L3562,1129.5 3578,1129.5\" fill=\"currentColor\"/>\\n</g>\\n\\n<g class=\"displacy-arrow\">\\n    <path class=\"displacy-arc\" id=\"arrow-e60f70f02e5f4d38a4e6366a1e2c23dd-1-21\" stroke-width=\"2px\" d=\"M3745,1139.5 C3745,1052.0 3840.0,1052.0 3840.0,1139.5\" fill=\"none\" stroke=\"currentColor\"/>\\n    <text dy=\"1.25em\" style=\"font-size: 0.8em; letter-spacing: 1px\">\\n        <textPath xlink:href=\"#arrow-e60f70f02e5f4d38a4e6366a1e2c23dd-1-21\" class=\"displacy-label\" startOffset=\"50%\" side=\"left\" fill=\"currentColor\" text-anchor=\"middle\">advmod</textPath>\\n    </text>\\n    <path class=\"displacy-arrowhead\" d=\"M3745,1141.5 L3737,1129.5 3753,1129.5\" fill=\"currentColor\"/>\\n</g>\\n\\n<g class=\"displacy-arrow\">\\n    <path class=\"displacy-arc\" id=\"arrow-e60f70f02e5f4d38a4e6366a1e2c23dd-1-22\" stroke-width=\"2px\" d=\"M1470,1139.5 C1470,264.5 3885.0,264.5 3885.0,1139.5\" fill=\"none\" stroke=\"currentColor\"/>\\n    <text dy=\"1.25em\" style=\"font-size: 0.8em; letter-spacing: 1px\">\\n        <textPath xlink:href=\"#arrow-e60f70f02e5f4d38a4e6366a1e2c23dd-1-22\" class=\"displacy-label\" startOffset=\"50%\" side=\"left\" fill=\"currentColor\" text-anchor=\"middle\">conj</textPath>\\n    </text>\\n    <path class=\"displacy-arrowhead\" d=\"M3885.0,1141.5 L3893.0,1129.5 3877.0,1129.5\" fill=\"currentColor\"/>\\n</g>\\n\\n<g class=\"displacy-arrow\">\\n    <path class=\"displacy-arc\" id=\"arrow-e60f70f02e5f4d38a4e6366a1e2c23dd-1-23\" stroke-width=\"2px\" d=\"M3920,1139.5 C3920,1052.0 4015.0,1052.0 4015.0,1139.5\" fill=\"none\" stroke=\"currentColor\"/>\\n    <text dy=\"1.25em\" style=\"font-size: 0.8em; letter-spacing: 1px\">\\n        <textPath xlink:href=\"#arrow-e60f70f02e5f4d38a4e6366a1e2c23dd-1-23\" class=\"displacy-label\" startOffset=\"50%\" side=\"left\" fill=\"currentColor\" text-anchor=\"middle\">prep</textPath>\\n    </text>\\n    <path class=\"displacy-arrowhead\" d=\"M4015.0,1141.5 L4023.0,1129.5 4007.0,1129.5\" fill=\"currentColor\"/>\\n</g>\\n\\n<g class=\"displacy-arrow\">\\n    <path class=\"displacy-arc\" id=\"arrow-e60f70f02e5f4d38a4e6366a1e2c23dd-1-24\" stroke-width=\"2px\" d=\"M4095,1139.5 C4095,1052.0 4190.0,1052.0 4190.0,1139.5\" fill=\"none\" stroke=\"currentColor\"/>\\n    <text dy=\"1.25em\" style=\"font-size: 0.8em; letter-spacing: 1px\">\\n        <textPath xlink:href=\"#arrow-e60f70f02e5f4d38a4e6366a1e2c23dd-1-24\" class=\"displacy-label\" startOffset=\"50%\" side=\"left\" fill=\"currentColor\" text-anchor=\"middle\">pcomp</textPath>\\n    </text>\\n    <path class=\"displacy-arrowhead\" d=\"M4190.0,1141.5 L4198.0,1129.5 4182.0,1129.5\" fill=\"currentColor\"/>\\n</g>\\n\\n<g class=\"displacy-arrow\">\\n    <path class=\"displacy-arc\" id=\"arrow-e60f70f02e5f4d38a4e6366a1e2c23dd-1-25\" stroke-width=\"2px\" d=\"M4445,1139.5 C4445,1052.0 4540.0,1052.0 4540.0,1139.5\" fill=\"none\" stroke=\"currentColor\"/>\\n    <text dy=\"1.25em\" style=\"font-size: 0.8em; letter-spacing: 1px\">\\n        <textPath xlink:href=\"#arrow-e60f70f02e5f4d38a4e6366a1e2c23dd-1-25\" class=\"displacy-label\" startOffset=\"50%\" side=\"left\" fill=\"currentColor\" text-anchor=\"middle\">aux</textPath>\\n    </text>\\n    <path class=\"displacy-arrowhead\" d=\"M4445,1141.5 L4437,1129.5 4453,1129.5\" fill=\"currentColor\"/>\\n</g>\\n\\n<g class=\"displacy-arrow\">\\n    <path class=\"displacy-arc\" id=\"arrow-e60f70f02e5f4d38a4e6366a1e2c23dd-1-26\" stroke-width=\"2px\" d=\"M4795,1139.5 C4795,964.5 5070.0,964.5 5070.0,1139.5\" fill=\"none\" stroke=\"currentColor\"/>\\n    <text dy=\"1.25em\" style=\"font-size: 0.8em; letter-spacing: 1px\">\\n        <textPath xlink:href=\"#arrow-e60f70f02e5f4d38a4e6366a1e2c23dd-1-26\" class=\"displacy-label\" startOffset=\"50%\" side=\"left\" fill=\"currentColor\" text-anchor=\"middle\">det</textPath>\\n    </text>\\n    <path class=\"displacy-arrowhead\" d=\"M4795,1141.5 L4787,1129.5 4803,1129.5\" fill=\"currentColor\"/>\\n</g>\\n\\n<g class=\"displacy-arrow\">\\n    <path class=\"displacy-arc\" id=\"arrow-e60f70f02e5f4d38a4e6366a1e2c23dd-1-27\" stroke-width=\"2px\" d=\"M4970,1139.5 C4970,1052.0 5065.0,1052.0 5065.0,1139.5\" fill=\"none\" stroke=\"currentColor\"/>\\n    <text dy=\"1.25em\" style=\"font-size: 0.8em; letter-spacing: 1px\">\\n        <textPath xlink:href=\"#arrow-e60f70f02e5f4d38a4e6366a1e2c23dd-1-27\" class=\"displacy-label\" startOffset=\"50%\" side=\"left\" fill=\"currentColor\" text-anchor=\"middle\">amod</textPath>\\n    </text>\\n    <path class=\"displacy-arrowhead\" d=\"M4970,1141.5 L4962,1129.5 4978,1129.5\" fill=\"currentColor\"/>\\n</g>\\n\\n<g class=\"displacy-arrow\">\\n    <path class=\"displacy-arc\" id=\"arrow-e60f70f02e5f4d38a4e6366a1e2c23dd-1-28\" stroke-width=\"2px\" d=\"M4620,1139.5 C4620,877.0 5075.0,877.0 5075.0,1139.5\" fill=\"none\" stroke=\"currentColor\"/>\\n    <text dy=\"1.25em\" style=\"font-size: 0.8em; letter-spacing: 1px\">\\n        <textPath xlink:href=\"#arrow-e60f70f02e5f4d38a4e6366a1e2c23dd-1-28\" class=\"displacy-label\" startOffset=\"50%\" side=\"left\" fill=\"currentColor\" text-anchor=\"middle\">attr</textPath>\\n    </text>\\n    <path class=\"displacy-arrowhead\" d=\"M5075.0,1141.5 L5083.0,1129.5 5067.0,1129.5\" fill=\"currentColor\"/>\\n</g>\\n\\n<g class=\"displacy-arrow\">\\n    <path class=\"displacy-arc\" id=\"arrow-e60f70f02e5f4d38a4e6366a1e2c23dd-1-29\" stroke-width=\"2px\" d=\"M5145,1139.5 C5145,1052.0 5240.0,1052.0 5240.0,1139.5\" fill=\"none\" stroke=\"currentColor\"/>\\n    <text dy=\"1.25em\" style=\"font-size: 0.8em; letter-spacing: 1px\">\\n        <textPath xlink:href=\"#arrow-e60f70f02e5f4d38a4e6366a1e2c23dd-1-29\" class=\"displacy-label\" startOffset=\"50%\" side=\"left\" fill=\"currentColor\" text-anchor=\"middle\">prep</textPath>\\n    </text>\\n    <path class=\"displacy-arrowhead\" d=\"M5240.0,1141.5 L5248.0,1129.5 5232.0,1129.5\" fill=\"currentColor\"/>\\n</g>\\n\\n<g class=\"displacy-arrow\">\\n    <path class=\"displacy-arc\" id=\"arrow-e60f70f02e5f4d38a4e6366a1e2c23dd-1-30\" stroke-width=\"2px\" d=\"M5495,1139.5 C5495,1052.0 5590.0,1052.0 5590.0,1139.5\" fill=\"none\" stroke=\"currentColor\"/>\\n    <text dy=\"1.25em\" style=\"font-size: 0.8em; letter-spacing: 1px\">\\n        <textPath xlink:href=\"#arrow-e60f70f02e5f4d38a4e6366a1e2c23dd-1-30\" class=\"displacy-label\" startOffset=\"50%\" side=\"left\" fill=\"currentColor\" text-anchor=\"middle\">amod</textPath>\\n    </text>\\n    <path class=\"displacy-arrowhead\" d=\"M5495,1141.5 L5487,1129.5 5503,1129.5\" fill=\"currentColor\"/>\\n</g>\\n\\n<g class=\"displacy-arrow\">\\n    <path class=\"displacy-arc\" id=\"arrow-e60f70f02e5f4d38a4e6366a1e2c23dd-1-31\" stroke-width=\"2px\" d=\"M5320,1139.5 C5320,964.5 5595.0,964.5 5595.0,1139.5\" fill=\"none\" stroke=\"currentColor\"/>\\n    <text dy=\"1.25em\" style=\"font-size: 0.8em; letter-spacing: 1px\">\\n        <textPath xlink:href=\"#arrow-e60f70f02e5f4d38a4e6366a1e2c23dd-1-31\" class=\"displacy-label\" startOffset=\"50%\" side=\"left\" fill=\"currentColor\" text-anchor=\"middle\">pobj</textPath>\\n    </text>\\n    <path class=\"displacy-arrowhead\" d=\"M5595.0,1141.5 L5603.0,1129.5 5587.0,1129.5\" fill=\"currentColor\"/>\\n</g>\\n\\n<g class=\"displacy-arrow\">\\n    <path class=\"displacy-arc\" id=\"arrow-e60f70f02e5f4d38a4e6366a1e2c23dd-1-32\" stroke-width=\"2px\" d=\"M5145,1139.5 C5145,789.5 5780.0,789.5 5780.0,1139.5\" fill=\"none\" stroke=\"currentColor\"/>\\n    <text dy=\"1.25em\" style=\"font-size: 0.8em; letter-spacing: 1px\">\\n        <textPath xlink:href=\"#arrow-e60f70f02e5f4d38a4e6366a1e2c23dd-1-32\" class=\"displacy-label\" startOffset=\"50%\" side=\"left\" fill=\"currentColor\" text-anchor=\"middle\">acl</textPath>\\n    </text>\\n    <path class=\"displacy-arrowhead\" d=\"M5780.0,1141.5 L5788.0,1129.5 5772.0,1129.5\" fill=\"currentColor\"/>\\n</g>\\n\\n<g class=\"displacy-arrow\">\\n    <path class=\"displacy-arc\" id=\"arrow-e60f70f02e5f4d38a4e6366a1e2c23dd-1-33\" stroke-width=\"2px\" d=\"M6020,1139.5 C6020,964.5 6295.0,964.5 6295.0,1139.5\" fill=\"none\" stroke=\"currentColor\"/>\\n    <text dy=\"1.25em\" style=\"font-size: 0.8em; letter-spacing: 1px\">\\n        <textPath xlink:href=\"#arrow-e60f70f02e5f4d38a4e6366a1e2c23dd-1-33\" class=\"displacy-label\" startOffset=\"50%\" side=\"left\" fill=\"currentColor\" text-anchor=\"middle\">advmod</textPath>\\n    </text>\\n    <path class=\"displacy-arrowhead\" d=\"M6020,1141.5 L6012,1129.5 6028,1129.5\" fill=\"currentColor\"/>\\n</g>\\n\\n<g class=\"displacy-arrow\">\\n    <path class=\"displacy-arc\" id=\"arrow-e60f70f02e5f4d38a4e6366a1e2c23dd-1-34\" stroke-width=\"2px\" d=\"M6195,1139.5 C6195,1052.0 6290.0,1052.0 6290.0,1139.5\" fill=\"none\" stroke=\"currentColor\"/>\\n    <text dy=\"1.25em\" style=\"font-size: 0.8em; letter-spacing: 1px\">\\n        <textPath xlink:href=\"#arrow-e60f70f02e5f4d38a4e6366a1e2c23dd-1-34\" class=\"displacy-label\" startOffset=\"50%\" side=\"left\" fill=\"currentColor\" text-anchor=\"middle\">auxpass</textPath>\\n    </text>\\n    <path class=\"displacy-arrowhead\" d=\"M6195,1141.5 L6187,1129.5 6203,1129.5\" fill=\"currentColor\"/>\\n</g>\\n\\n<g class=\"displacy-arrow\">\\n    <path class=\"displacy-arc\" id=\"arrow-e60f70f02e5f4d38a4e6366a1e2c23dd-1-35\" stroke-width=\"2px\" d=\"M4620,1139.5 C4620,439.5 6325.0,439.5 6325.0,1139.5\" fill=\"none\" stroke=\"currentColor\"/>\\n    <text dy=\"1.25em\" style=\"font-size: 0.8em; letter-spacing: 1px\">\\n        <textPath xlink:href=\"#arrow-e60f70f02e5f4d38a4e6366a1e2c23dd-1-35\" class=\"displacy-label\" startOffset=\"50%\" side=\"left\" fill=\"currentColor\" text-anchor=\"middle\">advcl</textPath>\\n    </text>\\n    <path class=\"displacy-arrowhead\" d=\"M6325.0,1141.5 L6333.0,1129.5 6317.0,1129.5\" fill=\"currentColor\"/>\\n</g>\\n\\n<g class=\"displacy-arrow\">\\n    <path class=\"displacy-arc\" id=\"arrow-e60f70f02e5f4d38a4e6366a1e2c23dd-1-36\" stroke-width=\"2px\" d=\"M6545,1139.5 C6545,789.5 7180.0,789.5 7180.0,1139.5\" fill=\"none\" stroke=\"currentColor\"/>\\n    <text dy=\"1.25em\" style=\"font-size: 0.8em; letter-spacing: 1px\">\\n        <textPath xlink:href=\"#arrow-e60f70f02e5f4d38a4e6366a1e2c23dd-1-36\" class=\"displacy-label\" startOffset=\"50%\" side=\"left\" fill=\"currentColor\" text-anchor=\"middle\">advmod</textPath>\\n    </text>\\n    <path class=\"displacy-arrowhead\" d=\"M6545,1141.5 L6537,1129.5 6553,1129.5\" fill=\"currentColor\"/>\\n</g>\\n\\n<g class=\"displacy-arrow\">\\n    <path class=\"displacy-arc\" id=\"arrow-e60f70f02e5f4d38a4e6366a1e2c23dd-1-37\" stroke-width=\"2px\" d=\"M6720,1139.5 C6720,964.5 6995.0,964.5 6995.0,1139.5\" fill=\"none\" stroke=\"currentColor\"/>\\n    <text dy=\"1.25em\" style=\"font-size: 0.8em; letter-spacing: 1px\">\\n        <textPath xlink:href=\"#arrow-e60f70f02e5f4d38a4e6366a1e2c23dd-1-37\" class=\"displacy-label\" startOffset=\"50%\" side=\"left\" fill=\"currentColor\" text-anchor=\"middle\">det</textPath>\\n    </text>\\n    <path class=\"displacy-arrowhead\" d=\"M6720,1141.5 L6712,1129.5 6728,1129.5\" fill=\"currentColor\"/>\\n</g>\\n\\n<g class=\"displacy-arrow\">\\n    <path class=\"displacy-arc\" id=\"arrow-e60f70f02e5f4d38a4e6366a1e2c23dd-1-38\" stroke-width=\"2px\" d=\"M6895,1139.5 C6895,1052.0 6990.0,1052.0 6990.0,1139.5\" fill=\"none\" stroke=\"currentColor\"/>\\n    <text dy=\"1.25em\" style=\"font-size: 0.8em; letter-spacing: 1px\">\\n        <textPath xlink:href=\"#arrow-e60f70f02e5f4d38a4e6366a1e2c23dd-1-38\" class=\"displacy-label\" startOffset=\"50%\" side=\"left\" fill=\"currentColor\" text-anchor=\"middle\">compound</textPath>\\n    </text>\\n    <path class=\"displacy-arrowhead\" d=\"M6895,1141.5 L6887,1129.5 6903,1129.5\" fill=\"currentColor\"/>\\n</g>\\n\\n<g class=\"displacy-arrow\">\\n    <path class=\"displacy-arc\" id=\"arrow-e60f70f02e5f4d38a4e6366a1e2c23dd-1-39\" stroke-width=\"2px\" d=\"M7070,1139.5 C7070,1052.0 7165.0,1052.0 7165.0,1139.5\" fill=\"none\" stroke=\"currentColor\"/>\\n    <text dy=\"1.25em\" style=\"font-size: 0.8em; letter-spacing: 1px\">\\n        <textPath xlink:href=\"#arrow-e60f70f02e5f4d38a4e6366a1e2c23dd-1-39\" class=\"displacy-label\" startOffset=\"50%\" side=\"left\" fill=\"currentColor\" text-anchor=\"middle\">nsubj</textPath>\\n    </text>\\n    <path class=\"displacy-arrowhead\" d=\"M7070,1141.5 L7062,1129.5 7078,1129.5\" fill=\"currentColor\"/>\\n</g>\\n\\n<g class=\"displacy-arrow\">\\n    <path class=\"displacy-arc\" id=\"arrow-e60f70f02e5f4d38a4e6366a1e2c23dd-1-40\" stroke-width=\"2px\" d=\"M6370,1139.5 C6370,702.0 7185.0,702.0 7185.0,1139.5\" fill=\"none\" stroke=\"currentColor\"/>\\n    <text dy=\"1.25em\" style=\"font-size: 0.8em; letter-spacing: 1px\">\\n        <textPath xlink:href=\"#arrow-e60f70f02e5f4d38a4e6366a1e2c23dd-1-40\" class=\"displacy-label\" startOffset=\"50%\" side=\"left\" fill=\"currentColor\" text-anchor=\"middle\">ccomp</textPath>\\n    </text>\\n    <path class=\"displacy-arrowhead\" d=\"M7185.0,1141.5 L7193.0,1129.5 7177.0,1129.5\" fill=\"currentColor\"/>\\n</g>\\n\\n<g class=\"displacy-arrow\">\\n    <path class=\"displacy-arc\" id=\"arrow-e60f70f02e5f4d38a4e6366a1e2c23dd-1-41\" stroke-width=\"2px\" d=\"M7420,1139.5 C7420,177.0 10190.0,177.0 10190.0,1139.5\" fill=\"none\" stroke=\"currentColor\"/>\\n    <text dy=\"1.25em\" style=\"font-size: 0.8em; letter-spacing: 1px\">\\n        <textPath xlink:href=\"#arrow-e60f70f02e5f4d38a4e6366a1e2c23dd-1-41\" class=\"displacy-label\" startOffset=\"50%\" side=\"left\" fill=\"currentColor\" text-anchor=\"middle\">advmod</textPath>\\n    </text>\\n    <path class=\"displacy-arrowhead\" d=\"M7420,1141.5 L7412,1129.5 7428,1129.5\" fill=\"currentColor\"/>\\n</g>\\n\\n<g class=\"displacy-arrow\">\\n    <path class=\"displacy-arc\" id=\"arrow-e60f70f02e5f4d38a4e6366a1e2c23dd-1-42\" stroke-width=\"2px\" d=\"M7595,1139.5 C7595,964.5 7870.0,964.5 7870.0,1139.5\" fill=\"none\" stroke=\"currentColor\"/>\\n    <text dy=\"1.25em\" style=\"font-size: 0.8em; letter-spacing: 1px\">\\n        <textPath xlink:href=\"#arrow-e60f70f02e5f4d38a4e6366a1e2c23dd-1-42\" class=\"displacy-label\" startOffset=\"50%\" side=\"left\" fill=\"currentColor\" text-anchor=\"middle\">predet</textPath>\\n    </text>\\n    <path class=\"displacy-arrowhead\" d=\"M7595,1141.5 L7587,1129.5 7603,1129.5\" fill=\"currentColor\"/>\\n</g>\\n\\n<g class=\"displacy-arrow\">\\n    <path class=\"displacy-arc\" id=\"arrow-e60f70f02e5f4d38a4e6366a1e2c23dd-1-43\" stroke-width=\"2px\" d=\"M7770,1139.5 C7770,1052.0 7865.0,1052.0 7865.0,1139.5\" fill=\"none\" stroke=\"currentColor\"/>\\n    <text dy=\"1.25em\" style=\"font-size: 0.8em; letter-spacing: 1px\">\\n        <textPath xlink:href=\"#arrow-e60f70f02e5f4d38a4e6366a1e2c23dd-1-43\" class=\"displacy-label\" startOffset=\"50%\" side=\"left\" fill=\"currentColor\" text-anchor=\"middle\">det</textPath>\\n    </text>\\n    <path class=\"displacy-arrowhead\" d=\"M7770,1141.5 L7762,1129.5 7778,1129.5\" fill=\"currentColor\"/>\\n</g>\\n\\n<g class=\"displacy-arrow\">\\n    <path class=\"displacy-arc\" id=\"arrow-e60f70f02e5f4d38a4e6366a1e2c23dd-1-44\" stroke-width=\"2px\" d=\"M7945,1139.5 C7945,352.0 10180.0,352.0 10180.0,1139.5\" fill=\"none\" stroke=\"currentColor\"/>\\n    <text dy=\"1.25em\" style=\"font-size: 0.8em; letter-spacing: 1px\">\\n        <textPath xlink:href=\"#arrow-e60f70f02e5f4d38a4e6366a1e2c23dd-1-44\" class=\"displacy-label\" startOffset=\"50%\" side=\"left\" fill=\"currentColor\" text-anchor=\"middle\">nsubj</textPath>\\n    </text>\\n    <path class=\"displacy-arrowhead\" d=\"M7945,1141.5 L7937,1129.5 7953,1129.5\" fill=\"currentColor\"/>\\n</g>\\n\\n<g class=\"displacy-arrow\">\\n    <path class=\"displacy-arc\" id=\"arrow-e60f70f02e5f4d38a4e6366a1e2c23dd-1-45\" stroke-width=\"2px\" d=\"M7945,1139.5 C7945,1052.0 8040.0,1052.0 8040.0,1139.5\" fill=\"none\" stroke=\"currentColor\"/>\\n    <text dy=\"1.25em\" style=\"font-size: 0.8em; letter-spacing: 1px\">\\n        <textPath xlink:href=\"#arrow-e60f70f02e5f4d38a4e6366a1e2c23dd-1-45\" class=\"displacy-label\" startOffset=\"50%\" side=\"left\" fill=\"currentColor\" text-anchor=\"middle\">prep</textPath>\\n    </text>\\n    <path class=\"displacy-arrowhead\" d=\"M8040.0,1141.5 L8048.0,1129.5 8032.0,1129.5\" fill=\"currentColor\"/>\\n</g>\\n\\n<g class=\"displacy-arrow\">\\n    <path class=\"displacy-arc\" id=\"arrow-e60f70f02e5f4d38a4e6366a1e2c23dd-1-46\" stroke-width=\"2px\" d=\"M8295,1139.5 C8295,964.5 8570.0,964.5 8570.0,1139.5\" fill=\"none\" stroke=\"currentColor\"/>\\n    <text dy=\"1.25em\" style=\"font-size: 0.8em; letter-spacing: 1px\">\\n        <textPath xlink:href=\"#arrow-e60f70f02e5f4d38a4e6366a1e2c23dd-1-46\" class=\"displacy-label\" startOffset=\"50%\" side=\"left\" fill=\"currentColor\" text-anchor=\"middle\">nmod</textPath>\\n    </text>\\n    <path class=\"displacy-arrowhead\" d=\"M8295,1141.5 L8287,1129.5 8303,1129.5\" fill=\"currentColor\"/>\\n</g>\\n\\n<g class=\"displacy-arrow\">\\n    <path class=\"displacy-arc\" id=\"arrow-e60f70f02e5f4d38a4e6366a1e2c23dd-1-47\" stroke-width=\"2px\" d=\"M8470,1139.5 C8470,1052.0 8565.0,1052.0 8565.0,1139.5\" fill=\"none\" stroke=\"currentColor\"/>\\n    <text dy=\"1.25em\" style=\"font-size: 0.8em; letter-spacing: 1px\">\\n        <textPath xlink:href=\"#arrow-e60f70f02e5f4d38a4e6366a1e2c23dd-1-47\" class=\"displacy-label\" startOffset=\"50%\" side=\"left\" fill=\"currentColor\" text-anchor=\"middle\">compound</textPath>\\n    </text>\\n    <path class=\"displacy-arrowhead\" d=\"M8470,1141.5 L8462,1129.5 8478,1129.5\" fill=\"currentColor\"/>\\n</g>\\n\\n<g class=\"displacy-arrow\">\\n    <path class=\"displacy-arc\" id=\"arrow-e60f70f02e5f4d38a4e6366a1e2c23dd-1-48\" stroke-width=\"2px\" d=\"M8120,1139.5 C8120,877.0 8575.0,877.0 8575.0,1139.5\" fill=\"none\" stroke=\"currentColor\"/>\\n    <text dy=\"1.25em\" style=\"font-size: 0.8em; letter-spacing: 1px\">\\n        <textPath xlink:href=\"#arrow-e60f70f02e5f4d38a4e6366a1e2c23dd-1-48\" class=\"displacy-label\" startOffset=\"50%\" side=\"left\" fill=\"currentColor\" text-anchor=\"middle\">pobj</textPath>\\n    </text>\\n    <path class=\"displacy-arrowhead\" d=\"M8575.0,1141.5 L8583.0,1129.5 8567.0,1129.5\" fill=\"currentColor\"/>\\n</g>\\n\\n<g class=\"displacy-arrow\">\\n    <path class=\"displacy-arc\" id=\"arrow-e60f70f02e5f4d38a4e6366a1e2c23dd-1-49\" stroke-width=\"2px\" d=\"M8820,1139.5 C8820,1052.0 8915.0,1052.0 8915.0,1139.5\" fill=\"none\" stroke=\"currentColor\"/>\\n    <text dy=\"1.25em\" style=\"font-size: 0.8em; letter-spacing: 1px\">\\n        <textPath xlink:href=\"#arrow-e60f70f02e5f4d38a4e6366a1e2c23dd-1-49\" class=\"displacy-label\" startOffset=\"50%\" side=\"left\" fill=\"currentColor\" text-anchor=\"middle\">aux</textPath>\\n    </text>\\n    <path class=\"displacy-arrowhead\" d=\"M8820,1141.5 L8812,1129.5 8828,1129.5\" fill=\"currentColor\"/>\\n</g>\\n\\n<g class=\"displacy-arrow\">\\n    <path class=\"displacy-arc\" id=\"arrow-e60f70f02e5f4d38a4e6366a1e2c23dd-1-50\" stroke-width=\"2px\" d=\"M8995,1139.5 C8995,527.0 10170.0,527.0 10170.0,1139.5\" fill=\"none\" stroke=\"currentColor\"/>\\n    <text dy=\"1.25em\" style=\"font-size: 0.8em; letter-spacing: 1px\">\\n        <textPath xlink:href=\"#arrow-e60f70f02e5f4d38a4e6366a1e2c23dd-1-50\" class=\"displacy-label\" startOffset=\"50%\" side=\"left\" fill=\"currentColor\" text-anchor=\"middle\">advcl</textPath>\\n    </text>\\n    <path class=\"displacy-arrowhead\" d=\"M8995,1141.5 L8987,1129.5 9003,1129.5\" fill=\"currentColor\"/>\\n</g>\\n\\n<g class=\"displacy-arrow\">\\n    <path class=\"displacy-arc\" id=\"arrow-e60f70f02e5f4d38a4e6366a1e2c23dd-1-51\" stroke-width=\"2px\" d=\"M8995,1139.5 C8995,1052.0 9090.0,1052.0 9090.0,1139.5\" fill=\"none\" stroke=\"currentColor\"/>\\n    <text dy=\"1.25em\" style=\"font-size: 0.8em; letter-spacing: 1px\">\\n        <textPath xlink:href=\"#arrow-e60f70f02e5f4d38a4e6366a1e2c23dd-1-51\" class=\"displacy-label\" startOffset=\"50%\" side=\"left\" fill=\"currentColor\" text-anchor=\"middle\">prep</textPath>\\n    </text>\\n    <path class=\"displacy-arrowhead\" d=\"M9090.0,1141.5 L9098.0,1129.5 9082.0,1129.5\" fill=\"currentColor\"/>\\n</g>\\n\\n<g class=\"displacy-arrow\">\\n    <path class=\"displacy-arc\" id=\"arrow-e60f70f02e5f4d38a4e6366a1e2c23dd-1-52\" stroke-width=\"2px\" d=\"M9170,1139.5 C9170,1052.0 9265.0,1052.0 9265.0,1139.5\" fill=\"none\" stroke=\"currentColor\"/>\\n    <text dy=\"1.25em\" style=\"font-size: 0.8em; letter-spacing: 1px\">\\n        <textPath xlink:href=\"#arrow-e60f70f02e5f4d38a4e6366a1e2c23dd-1-52\" class=\"displacy-label\" startOffset=\"50%\" side=\"left\" fill=\"currentColor\" text-anchor=\"middle\">pobj</textPath>\\n    </text>\\n    <path class=\"displacy-arrowhead\" d=\"M9265.0,1141.5 L9273.0,1129.5 9257.0,1129.5\" fill=\"currentColor\"/>\\n</g>\\n\\n<g class=\"displacy-arrow\">\\n    <path class=\"displacy-arc\" id=\"arrow-e60f70f02e5f4d38a4e6366a1e2c23dd-1-53\" stroke-width=\"2px\" d=\"M9520,1139.5 C9520,877.0 9975.0,877.0 9975.0,1139.5\" fill=\"none\" stroke=\"currentColor\"/>\\n    <text dy=\"1.25em\" style=\"font-size: 0.8em; letter-spacing: 1px\">\\n        <textPath xlink:href=\"#arrow-e60f70f02e5f4d38a4e6366a1e2c23dd-1-53\" class=\"displacy-label\" startOffset=\"50%\" side=\"left\" fill=\"currentColor\" text-anchor=\"middle\">amod</textPath>\\n    </text>\\n    <path class=\"displacy-arrowhead\" d=\"M9520,1141.5 L9512,1129.5 9528,1129.5\" fill=\"currentColor\"/>\\n</g>\\n\\n<g class=\"displacy-arrow\">\\n    <path class=\"displacy-arc\" id=\"arrow-e60f70f02e5f4d38a4e6366a1e2c23dd-1-54\" stroke-width=\"2px\" d=\"M9695,1139.5 C9695,1052.0 9790.0,1052.0 9790.0,1139.5\" fill=\"none\" stroke=\"currentColor\"/>\\n    <text dy=\"1.25em\" style=\"font-size: 0.8em; letter-spacing: 1px\">\\n        <textPath xlink:href=\"#arrow-e60f70f02e5f4d38a4e6366a1e2c23dd-1-54\" class=\"displacy-label\" startOffset=\"50%\" side=\"left\" fill=\"currentColor\" text-anchor=\"middle\">advmod</textPath>\\n    </text>\\n    <path class=\"displacy-arrowhead\" d=\"M9695,1141.5 L9687,1129.5 9703,1129.5\" fill=\"currentColor\"/>\\n</g>\\n\\n<g class=\"displacy-arrow\">\\n    <path class=\"displacy-arc\" id=\"arrow-e60f70f02e5f4d38a4e6366a1e2c23dd-1-55\" stroke-width=\"2px\" d=\"M9870,1139.5 C9870,1052.0 9965.0,1052.0 9965.0,1139.5\" fill=\"none\" stroke=\"currentColor\"/>\\n    <text dy=\"1.25em\" style=\"font-size: 0.8em; letter-spacing: 1px\">\\n        <textPath xlink:href=\"#arrow-e60f70f02e5f4d38a4e6366a1e2c23dd-1-55\" class=\"displacy-label\" startOffset=\"50%\" side=\"left\" fill=\"currentColor\" text-anchor=\"middle\">amod</textPath>\\n    </text>\\n    <path class=\"displacy-arrowhead\" d=\"M9870,1141.5 L9862,1129.5 9878,1129.5\" fill=\"currentColor\"/>\\n</g>\\n\\n<g class=\"displacy-arrow\">\\n    <path class=\"displacy-arc\" id=\"arrow-e60f70f02e5f4d38a4e6366a1e2c23dd-1-56\" stroke-width=\"2px\" d=\"M8995,1139.5 C8995,614.5 9990.0,614.5 9990.0,1139.5\" fill=\"none\" stroke=\"currentColor\"/>\\n    <text dy=\"1.25em\" style=\"font-size: 0.8em; letter-spacing: 1px\">\\n        <textPath xlink:href=\"#arrow-e60f70f02e5f4d38a4e6366a1e2c23dd-1-56\" class=\"displacy-label\" startOffset=\"50%\" side=\"left\" fill=\"currentColor\" text-anchor=\"middle\">dobj</textPath>\\n    </text>\\n    <path class=\"displacy-arrowhead\" d=\"M9990.0,1141.5 L9998.0,1129.5 9982.0,1129.5\" fill=\"currentColor\"/>\\n</g>\\n\\n<g class=\"displacy-arrow\">\\n    <path class=\"displacy-arc\" id=\"arrow-e60f70f02e5f4d38a4e6366a1e2c23dd-1-57\" stroke-width=\"2px\" d=\"M7245,1139.5 C7245,89.5 10195.0,89.5 10195.0,1139.5\" fill=\"none\" stroke=\"currentColor\"/>\\n    <text dy=\"1.25em\" style=\"font-size: 0.8em; letter-spacing: 1px\">\\n        <textPath xlink:href=\"#arrow-e60f70f02e5f4d38a4e6366a1e2c23dd-1-57\" class=\"displacy-label\" startOffset=\"50%\" side=\"left\" fill=\"currentColor\" text-anchor=\"middle\">ccomp</textPath>\\n    </text>\\n    <path class=\"displacy-arrowhead\" d=\"M10195.0,1141.5 L10203.0,1129.5 10187.0,1129.5\" fill=\"currentColor\"/>\\n</g>\\n\\n<g class=\"displacy-arrow\">\\n    <path class=\"displacy-arc\" id=\"arrow-e60f70f02e5f4d38a4e6366a1e2c23dd-1-58\" stroke-width=\"2px\" d=\"M10395,1139.5 C10395,877.0 10850.0,877.0 10850.0,1139.5\" fill=\"none\" stroke=\"currentColor\"/>\\n    <text dy=\"1.25em\" style=\"font-size: 0.8em; letter-spacing: 1px\">\\n        <textPath xlink:href=\"#arrow-e60f70f02e5f4d38a4e6366a1e2c23dd-1-58\" class=\"displacy-label\" startOffset=\"50%\" side=\"left\" fill=\"currentColor\" text-anchor=\"middle\">det</textPath>\\n    </text>\\n    <path class=\"displacy-arrowhead\" d=\"M10395,1141.5 L10387,1129.5 10403,1129.5\" fill=\"currentColor\"/>\\n</g>\\n\\n<g class=\"displacy-arrow\">\\n    <path class=\"displacy-arc\" id=\"arrow-e60f70f02e5f4d38a4e6366a1e2c23dd-1-59\" stroke-width=\"2px\" d=\"M10570,1139.5 C10570,1052.0 10665.0,1052.0 10665.0,1139.5\" fill=\"none\" stroke=\"currentColor\"/>\\n    <text dy=\"1.25em\" style=\"font-size: 0.8em; letter-spacing: 1px\">\\n        <textPath xlink:href=\"#arrow-e60f70f02e5f4d38a4e6366a1e2c23dd-1-59\" class=\"displacy-label\" startOffset=\"50%\" side=\"left\" fill=\"currentColor\" text-anchor=\"middle\">advmod</textPath>\\n    </text>\\n    <path class=\"displacy-arrowhead\" d=\"M10570,1141.5 L10562,1129.5 10578,1129.5\" fill=\"currentColor\"/>\\n</g>\\n\\n<g class=\"displacy-arrow\">\\n    <path class=\"displacy-arc\" id=\"arrow-e60f70f02e5f4d38a4e6366a1e2c23dd-1-60\" stroke-width=\"2px\" d=\"M10745,1139.5 C10745,1052.0 10840.0,1052.0 10840.0,1139.5\" fill=\"none\" stroke=\"currentColor\"/>\\n    <text dy=\"1.25em\" style=\"font-size: 0.8em; letter-spacing: 1px\">\\n        <textPath xlink:href=\"#arrow-e60f70f02e5f4d38a4e6366a1e2c23dd-1-60\" class=\"displacy-label\" startOffset=\"50%\" side=\"left\" fill=\"currentColor\" text-anchor=\"middle\">amod</textPath>\\n    </text>\\n    <path class=\"displacy-arrowhead\" d=\"M10745,1141.5 L10737,1129.5 10753,1129.5\" fill=\"currentColor\"/>\\n</g>\\n\\n<g class=\"displacy-arrow\">\\n    <path class=\"displacy-arc\" id=\"arrow-e60f70f02e5f4d38a4e6366a1e2c23dd-1-61\" stroke-width=\"2px\" d=\"M10220,1139.5 C10220,789.5 10855.0,789.5 10855.0,1139.5\" fill=\"none\" stroke=\"currentColor\"/>\\n    <text dy=\"1.25em\" style=\"font-size: 0.8em; letter-spacing: 1px\">\\n        <textPath xlink:href=\"#arrow-e60f70f02e5f4d38a4e6366a1e2c23dd-1-61\" class=\"displacy-label\" startOffset=\"50%\" side=\"left\" fill=\"currentColor\" text-anchor=\"middle\">attr</textPath>\\n    </text>\\n    <path class=\"displacy-arrowhead\" d=\"M10855.0,1141.5 L10863.0,1129.5 10847.0,1129.5\" fill=\"currentColor\"/>\\n</g>\\n\\n<g class=\"displacy-arrow\">\\n    <path class=\"displacy-arc\" id=\"arrow-e60f70f02e5f4d38a4e6366a1e2c23dd-1-62\" stroke-width=\"2px\" d=\"M10920,1139.5 C10920,1052.0 11015.0,1052.0 11015.0,1139.5\" fill=\"none\" stroke=\"currentColor\"/>\\n    <text dy=\"1.25em\" style=\"font-size: 0.8em; letter-spacing: 1px\">\\n        <textPath xlink:href=\"#arrow-e60f70f02e5f4d38a4e6366a1e2c23dd-1-62\" class=\"displacy-label\" startOffset=\"50%\" side=\"left\" fill=\"currentColor\" text-anchor=\"middle\">cc</textPath>\\n    </text>\\n    <path class=\"displacy-arrowhead\" d=\"M11015.0,1141.5 L11023.0,1129.5 11007.0,1129.5\" fill=\"currentColor\"/>\\n</g>\\n\\n<g class=\"displacy-arrow\">\\n    <path class=\"displacy-arc\" id=\"arrow-e60f70f02e5f4d38a4e6366a1e2c23dd-1-63\" stroke-width=\"2px\" d=\"M11270,1139.5 C11270,1052.0 11365.0,1052.0 11365.0,1139.5\" fill=\"none\" stroke=\"currentColor\"/>\\n    <text dy=\"1.25em\" style=\"font-size: 0.8em; letter-spacing: 1px\">\\n        <textPath xlink:href=\"#arrow-e60f70f02e5f4d38a4e6366a1e2c23dd-1-63\" class=\"displacy-label\" startOffset=\"50%\" side=\"left\" fill=\"currentColor\" text-anchor=\"middle\">compound</textPath>\\n    </text>\\n    <path class=\"displacy-arrowhead\" d=\"M11270,1141.5 L11262,1129.5 11278,1129.5\" fill=\"currentColor\"/>\\n</g>\\n\\n<g class=\"displacy-arrow\">\\n    <path class=\"displacy-arc\" id=\"arrow-e60f70f02e5f4d38a4e6366a1e2c23dd-1-64\" stroke-width=\"2px\" d=\"M10920,1139.5 C10920,877.0 11375.0,877.0 11375.0,1139.5\" fill=\"none\" stroke=\"currentColor\"/>\\n    <text dy=\"1.25em\" style=\"font-size: 0.8em; letter-spacing: 1px\">\\n        <textPath xlink:href=\"#arrow-e60f70f02e5f4d38a4e6366a1e2c23dd-1-64\" class=\"displacy-label\" startOffset=\"50%\" side=\"left\" fill=\"currentColor\" text-anchor=\"middle\">conj</textPath>\\n    </text>\\n    <path class=\"displacy-arrowhead\" d=\"M11375.0,1141.5 L11383.0,1129.5 11367.0,1129.5\" fill=\"currentColor\"/>\\n</g>\\n</svg>\\n\\n<svg xmlns=\"http://www.w3.org/2000/svg\" xmlns:xlink=\"http://www.w3.org/1999/xlink\" xml:lang=\"en\" id=\"e60f70f02e5f4d38a4e6366a1e2c23dd-2\" class=\"displacy\" width=\"2325\" height=\"574.5\" direction=\"ltr\" style=\"max-width: none; height: 574.5px; color: #000000; background: #ffffff; font-family: Arial; direction: ltr\">\\n<text class=\"displacy-token\" fill=\"currentColor\" text-anchor=\"middle\" y=\"484.5\">\\n    <tspan class=\"displacy-word\" fill=\"currentColor\" x=\"50\">How</tspan>\\n    <tspan class=\"displacy-tag\" dy=\"2em\" fill=\"currentColor\" x=\"50\">ADV</tspan>\\n</text>\\n\\n<text class=\"displacy-token\" fill=\"currentColor\" text-anchor=\"middle\" y=\"484.5\">\\n    <tspan class=\"displacy-word\" fill=\"currentColor\" x=\"225\">much</tspan>\\n    <tspan class=\"displacy-tag\" dy=\"2em\" fill=\"currentColor\" x=\"225\">ADV</tspan>\\n</text>\\n\\n<text class=\"displacy-token\" fill=\"currentColor\" text-anchor=\"middle\" y=\"484.5\">\\n    <tspan class=\"displacy-word\" fill=\"currentColor\" x=\"400\">more</tspan>\\n    <tspan class=\"displacy-tag\" dy=\"2em\" fill=\"currentColor\" x=\"400\">ADJ</tspan>\\n</text>\\n\\n<text class=\"displacy-token\" fill=\"currentColor\" text-anchor=\"middle\" y=\"484.5\">\\n    <tspan class=\"displacy-word\" fill=\"currentColor\" x=\"575\">praise</tspan>\\n    <tspan class=\"displacy-tag\" dy=\"2em\" fill=\"currentColor\" x=\"575\">NOUN</tspan>\\n</text>\\n\\n<text class=\"displacy-token\" fill=\"currentColor\" text-anchor=\"middle\" y=\"484.5\">\\n    <tspan class=\"displacy-word\" fill=\"currentColor\" x=\"750\">deserved</tspan>\\n    <tspan class=\"displacy-tag\" dy=\"2em\" fill=\"currentColor\" x=\"750\">VERB</tspan>\\n</text>\\n\\n<text class=\"displacy-token\" fill=\"currentColor\" text-anchor=\"middle\" y=\"484.5\">\\n    <tspan class=\"displacy-word\" fill=\"currentColor\" x=\"925\">thy</tspan>\\n    <tspan class=\"displacy-tag\" dy=\"2em\" fill=\"currentColor\" x=\"925\">DET</tspan>\\n</text>\\n\\n<text class=\"displacy-token\" fill=\"currentColor\" text-anchor=\"middle\" y=\"484.5\">\\n    <tspan class=\"displacy-word\" fill=\"currentColor\" x=\"1100\">beauty</tspan>\\n    <tspan class=\"displacy-tag\" dy=\"2em\" fill=\"currentColor\" x=\"1100\">NOUN</tspan>\\n</text>\\n\\n<text class=\"displacy-token\" fill=\"currentColor\" text-anchor=\"middle\" y=\"484.5\">\\n    <tspan class=\"displacy-word\" fill=\"currentColor\" x=\"1275\">\\'s</tspan>\\n    <tspan class=\"displacy-tag\" dy=\"2em\" fill=\"currentColor\" x=\"1275\">PART</tspan>\\n</text>\\n\\n<text class=\"displacy-token\" fill=\"currentColor\" text-anchor=\"middle\" y=\"484.5\">\\n    <tspan class=\"displacy-word\" fill=\"currentColor\" x=\"1450\">use,</tspan>\\n    <tspan class=\"displacy-tag\" dy=\"2em\" fill=\"currentColor\" x=\"1450\">NOUN</tspan>\\n</text>\\n\\n<text class=\"displacy-token\" fill=\"currentColor\" text-anchor=\"middle\" y=\"484.5\">\\n    <tspan class=\"displacy-word\" fill=\"currentColor\" x=\"1625\">If</tspan>\\n    <tspan class=\"displacy-tag\" dy=\"2em\" fill=\"currentColor\" x=\"1625\">SCONJ</tspan>\\n</text>\\n\\n<text class=\"displacy-token\" fill=\"currentColor\" text-anchor=\"middle\" y=\"484.5\">\\n    <tspan class=\"displacy-word\" fill=\"currentColor\" x=\"1800\">thou</tspan>\\n    <tspan class=\"displacy-tag\" dy=\"2em\" fill=\"currentColor\" x=\"1800\">PROPN</tspan>\\n</text>\\n\\n<text class=\"displacy-token\" fill=\"currentColor\" text-anchor=\"middle\" y=\"484.5\">\\n    <tspan class=\"displacy-word\" fill=\"currentColor\" x=\"1975\">couldst</tspan>\\n    <tspan class=\"displacy-tag\" dy=\"2em\" fill=\"currentColor\" x=\"1975\">PROPN</tspan>\\n</text>\\n\\n<text class=\"displacy-token\" fill=\"currentColor\" text-anchor=\"middle\" y=\"484.5\">\\n    <tspan class=\"displacy-word\" fill=\"currentColor\" x=\"2150\">answer \\'</tspan>\\n    <tspan class=\"displacy-tag\" dy=\"2em\" fill=\"currentColor\" x=\"2150\">NOUN</tspan>\\n</text>\\n\\n<g class=\"displacy-arrow\">\\n    <path class=\"displacy-arc\" id=\"arrow-e60f70f02e5f4d38a4e6366a1e2c23dd-2-0\" stroke-width=\"2px\" d=\"M70,439.5 C70,352.0 205.0,352.0 205.0,439.5\" fill=\"none\" stroke=\"currentColor\"/>\\n    <text dy=\"1.25em\" style=\"font-size: 0.8em; letter-spacing: 1px\">\\n        <textPath xlink:href=\"#arrow-e60f70f02e5f4d38a4e6366a1e2c23dd-2-0\" class=\"displacy-label\" startOffset=\"50%\" side=\"left\" fill=\"currentColor\" text-anchor=\"middle\">advmod</textPath>\\n    </text>\\n    <path class=\"displacy-arrowhead\" d=\"M70,441.5 L62,429.5 78,429.5\" fill=\"currentColor\"/>\\n</g>\\n\\n<g class=\"displacy-arrow\">\\n    <path class=\"displacy-arc\" id=\"arrow-e60f70f02e5f4d38a4e6366a1e2c23dd-2-1\" stroke-width=\"2px\" d=\"M245,439.5 C245,352.0 380.0,352.0 380.0,439.5\" fill=\"none\" stroke=\"currentColor\"/>\\n    <text dy=\"1.25em\" style=\"font-size: 0.8em; letter-spacing: 1px\">\\n        <textPath xlink:href=\"#arrow-e60f70f02e5f4d38a4e6366a1e2c23dd-2-1\" class=\"displacy-label\" startOffset=\"50%\" side=\"left\" fill=\"currentColor\" text-anchor=\"middle\">advmod</textPath>\\n    </text>\\n    <path class=\"displacy-arrowhead\" d=\"M245,441.5 L237,429.5 253,429.5\" fill=\"currentColor\"/>\\n</g>\\n\\n<g class=\"displacy-arrow\">\\n    <path class=\"displacy-arc\" id=\"arrow-e60f70f02e5f4d38a4e6366a1e2c23dd-2-2\" stroke-width=\"2px\" d=\"M420,439.5 C420,352.0 555.0,352.0 555.0,439.5\" fill=\"none\" stroke=\"currentColor\"/>\\n    <text dy=\"1.25em\" style=\"font-size: 0.8em; letter-spacing: 1px\">\\n        <textPath xlink:href=\"#arrow-e60f70f02e5f4d38a4e6366a1e2c23dd-2-2\" class=\"displacy-label\" startOffset=\"50%\" side=\"left\" fill=\"currentColor\" text-anchor=\"middle\">amod</textPath>\\n    </text>\\n    <path class=\"displacy-arrowhead\" d=\"M420,441.5 L412,429.5 428,429.5\" fill=\"currentColor\"/>\\n</g>\\n\\n<g class=\"displacy-arrow\">\\n    <path class=\"displacy-arc\" id=\"arrow-e60f70f02e5f4d38a4e6366a1e2c23dd-2-3\" stroke-width=\"2px\" d=\"M595,439.5 C595,352.0 730.0,352.0 730.0,439.5\" fill=\"none\" stroke=\"currentColor\"/>\\n    <text dy=\"1.25em\" style=\"font-size: 0.8em; letter-spacing: 1px\">\\n        <textPath xlink:href=\"#arrow-e60f70f02e5f4d38a4e6366a1e2c23dd-2-3\" class=\"displacy-label\" startOffset=\"50%\" side=\"left\" fill=\"currentColor\" text-anchor=\"middle\">nsubj</textPath>\\n    </text>\\n    <path class=\"displacy-arrowhead\" d=\"M595,441.5 L587,429.5 603,429.5\" fill=\"currentColor\"/>\\n</g>\\n\\n<g class=\"displacy-arrow\">\\n    <path class=\"displacy-arc\" id=\"arrow-e60f70f02e5f4d38a4e6366a1e2c23dd-2-4\" stroke-width=\"2px\" d=\"M945,439.5 C945,352.0 1080.0,352.0 1080.0,439.5\" fill=\"none\" stroke=\"currentColor\"/>\\n    <text dy=\"1.25em\" style=\"font-size: 0.8em; letter-spacing: 1px\">\\n        <textPath xlink:href=\"#arrow-e60f70f02e5f4d38a4e6366a1e2c23dd-2-4\" class=\"displacy-label\" startOffset=\"50%\" side=\"left\" fill=\"currentColor\" text-anchor=\"middle\">compound</textPath>\\n    </text>\\n    <path class=\"displacy-arrowhead\" d=\"M945,441.5 L937,429.5 953,429.5\" fill=\"currentColor\"/>\\n</g>\\n\\n<g class=\"displacy-arrow\">\\n    <path class=\"displacy-arc\" id=\"arrow-e60f70f02e5f4d38a4e6366a1e2c23dd-2-5\" stroke-width=\"2px\" d=\"M1120,439.5 C1120,264.5 1435.0,264.5 1435.0,439.5\" fill=\"none\" stroke=\"currentColor\"/>\\n    <text dy=\"1.25em\" style=\"font-size: 0.8em; letter-spacing: 1px\">\\n        <textPath xlink:href=\"#arrow-e60f70f02e5f4d38a4e6366a1e2c23dd-2-5\" class=\"displacy-label\" startOffset=\"50%\" side=\"left\" fill=\"currentColor\" text-anchor=\"middle\">poss</textPath>\\n    </text>\\n    <path class=\"displacy-arrowhead\" d=\"M1120,441.5 L1112,429.5 1128,429.5\" fill=\"currentColor\"/>\\n</g>\\n\\n<g class=\"displacy-arrow\">\\n    <path class=\"displacy-arc\" id=\"arrow-e60f70f02e5f4d38a4e6366a1e2c23dd-2-6\" stroke-width=\"2px\" d=\"M1120,439.5 C1120,352.0 1255.0,352.0 1255.0,439.5\" fill=\"none\" stroke=\"currentColor\"/>\\n    <text dy=\"1.25em\" style=\"font-size: 0.8em; letter-spacing: 1px\">\\n        <textPath xlink:href=\"#arrow-e60f70f02e5f4d38a4e6366a1e2c23dd-2-6\" class=\"displacy-label\" startOffset=\"50%\" side=\"left\" fill=\"currentColor\" text-anchor=\"middle\">case</textPath>\\n    </text>\\n    <path class=\"displacy-arrowhead\" d=\"M1255.0,441.5 L1263.0,429.5 1247.0,429.5\" fill=\"currentColor\"/>\\n</g>\\n\\n<g class=\"displacy-arrow\">\\n    <path class=\"displacy-arc\" id=\"arrow-e60f70f02e5f4d38a4e6366a1e2c23dd-2-7\" stroke-width=\"2px\" d=\"M770,439.5 C770,89.5 1445.0,89.5 1445.0,439.5\" fill=\"none\" stroke=\"currentColor\"/>\\n    <text dy=\"1.25em\" style=\"font-size: 0.8em; letter-spacing: 1px\">\\n        <textPath xlink:href=\"#arrow-e60f70f02e5f4d38a4e6366a1e2c23dd-2-7\" class=\"displacy-label\" startOffset=\"50%\" side=\"left\" fill=\"currentColor\" text-anchor=\"middle\">dobj</textPath>\\n    </text>\\n    <path class=\"displacy-arrowhead\" d=\"M1445.0,441.5 L1453.0,429.5 1437.0,429.5\" fill=\"currentColor\"/>\\n</g>\\n\\n<g class=\"displacy-arrow\">\\n    <path class=\"displacy-arc\" id=\"arrow-e60f70f02e5f4d38a4e6366a1e2c23dd-2-8\" stroke-width=\"2px\" d=\"M1645,439.5 C1645,177.0 2140.0,177.0 2140.0,439.5\" fill=\"none\" stroke=\"currentColor\"/>\\n    <text dy=\"1.25em\" style=\"font-size: 0.8em; letter-spacing: 1px\">\\n        <textPath xlink:href=\"#arrow-e60f70f02e5f4d38a4e6366a1e2c23dd-2-8\" class=\"displacy-label\" startOffset=\"50%\" side=\"left\" fill=\"currentColor\" text-anchor=\"middle\">mark</textPath>\\n    </text>\\n    <path class=\"displacy-arrowhead\" d=\"M1645,441.5 L1637,429.5 1653,429.5\" fill=\"currentColor\"/>\\n</g>\\n\\n<g class=\"displacy-arrow\">\\n    <path class=\"displacy-arc\" id=\"arrow-e60f70f02e5f4d38a4e6366a1e2c23dd-2-9\" stroke-width=\"2px\" d=\"M1820,439.5 C1820,352.0 1955.0,352.0 1955.0,439.5\" fill=\"none\" stroke=\"currentColor\"/>\\n    <text dy=\"1.25em\" style=\"font-size: 0.8em; letter-spacing: 1px\">\\n        <textPath xlink:href=\"#arrow-e60f70f02e5f4d38a4e6366a1e2c23dd-2-9\" class=\"displacy-label\" startOffset=\"50%\" side=\"left\" fill=\"currentColor\" text-anchor=\"middle\">compound</textPath>\\n    </text>\\n    <path class=\"displacy-arrowhead\" d=\"M1820,441.5 L1812,429.5 1828,429.5\" fill=\"currentColor\"/>\\n</g>\\n\\n<g class=\"displacy-arrow\">\\n    <path class=\"displacy-arc\" id=\"arrow-e60f70f02e5f4d38a4e6366a1e2c23dd-2-10\" stroke-width=\"2px\" d=\"M1995,439.5 C1995,352.0 2130.0,352.0 2130.0,439.5\" fill=\"none\" stroke=\"currentColor\"/>\\n    <text dy=\"1.25em\" style=\"font-size: 0.8em; letter-spacing: 1px\">\\n        <textPath xlink:href=\"#arrow-e60f70f02e5f4d38a4e6366a1e2c23dd-2-10\" class=\"displacy-label\" startOffset=\"50%\" side=\"left\" fill=\"currentColor\" text-anchor=\"middle\">nsubj</textPath>\\n    </text>\\n    <path class=\"displacy-arrowhead\" d=\"M1995,441.5 L1987,429.5 2003,429.5\" fill=\"currentColor\"/>\\n</g>\\n\\n<g class=\"displacy-arrow\">\\n    <path class=\"displacy-arc\" id=\"arrow-e60f70f02e5f4d38a4e6366a1e2c23dd-2-11\" stroke-width=\"2px\" d=\"M770,439.5 C770,2.0 2150.0,2.0 2150.0,439.5\" fill=\"none\" stroke=\"currentColor\"/>\\n    <text dy=\"1.25em\" style=\"font-size: 0.8em; letter-spacing: 1px\">\\n        <textPath xlink:href=\"#arrow-e60f70f02e5f4d38a4e6366a1e2c23dd-2-11\" class=\"displacy-label\" startOffset=\"50%\" side=\"left\" fill=\"currentColor\" text-anchor=\"middle\">advcl</textPath>\\n    </text>\\n    <path class=\"displacy-arrowhead\" d=\"M2150.0,441.5 L2158.0,429.5 2142.0,429.5\" fill=\"currentColor\"/>\\n</g>\\n</svg>\\n\\n<svg xmlns=\"http://www.w3.org/2000/svg\" xmlns:xlink=\"http://www.w3.org/1999/xlink\" xml:lang=\"en\" id=\"e60f70f02e5f4d38a4e6366a1e2c23dd-3\" class=\"displacy\" width=\"3550\" height=\"487.0\" direction=\"ltr\" style=\"max-width: none; height: 487.0px; color: #000000; background: #ffffff; font-family: Arial; direction: ltr\">\\n<text class=\"displacy-token\" fill=\"currentColor\" text-anchor=\"middle\" y=\"397.0\">\\n    <tspan class=\"displacy-word\" fill=\"currentColor\" x=\"50\">This</tspan>\\n    <tspan class=\"displacy-tag\" dy=\"2em\" fill=\"currentColor\" x=\"50\">DET</tspan>\\n</text>\\n\\n<text class=\"displacy-token\" fill=\"currentColor\" text-anchor=\"middle\" y=\"397.0\">\\n    <tspan class=\"displacy-word\" fill=\"currentColor\" x=\"225\">fair</tspan>\\n    <tspan class=\"displacy-tag\" dy=\"2em\" fill=\"currentColor\" x=\"225\">ADJ</tspan>\\n</text>\\n\\n<text class=\"displacy-token\" fill=\"currentColor\" text-anchor=\"middle\" y=\"397.0\">\\n    <tspan class=\"displacy-word\" fill=\"currentColor\" x=\"400\">child</tspan>\\n    <tspan class=\"displacy-tag\" dy=\"2em\" fill=\"currentColor\" x=\"400\">NOUN</tspan>\\n</text>\\n\\n<text class=\"displacy-token\" fill=\"currentColor\" text-anchor=\"middle\" y=\"397.0\">\\n    <tspan class=\"displacy-word\" fill=\"currentColor\" x=\"575\">of</tspan>\\n    <tspan class=\"displacy-tag\" dy=\"2em\" fill=\"currentColor\" x=\"575\">ADP</tspan>\\n</text>\\n\\n<text class=\"displacy-token\" fill=\"currentColor\" text-anchor=\"middle\" y=\"397.0\">\\n    <tspan class=\"displacy-word\" fill=\"currentColor\" x=\"750\">mine</tspan>\\n    <tspan class=\"displacy-tag\" dy=\"2em\" fill=\"currentColor\" x=\"750\">PRON</tspan>\\n</text>\\n\\n<text class=\"displacy-token\" fill=\"currentColor\" text-anchor=\"middle\" y=\"397.0\">\\n    <tspan class=\"displacy-word\" fill=\"currentColor\" x=\"925\">Shall</tspan>\\n    <tspan class=\"displacy-tag\" dy=\"2em\" fill=\"currentColor\" x=\"925\">PROPN</tspan>\\n</text>\\n\\n<text class=\"displacy-token\" fill=\"currentColor\" text-anchor=\"middle\" y=\"397.0\">\\n    <tspan class=\"displacy-word\" fill=\"currentColor\" x=\"1100\">sum</tspan>\\n    <tspan class=\"displacy-tag\" dy=\"2em\" fill=\"currentColor\" x=\"1100\">VERB</tspan>\\n</text>\\n\\n<text class=\"displacy-token\" fill=\"currentColor\" text-anchor=\"middle\" y=\"397.0\">\\n    <tspan class=\"displacy-word\" fill=\"currentColor\" x=\"1275\">my</tspan>\\n    <tspan class=\"displacy-tag\" dy=\"2em\" fill=\"currentColor\" x=\"1275\">DET</tspan>\\n</text>\\n\\n<text class=\"displacy-token\" fill=\"currentColor\" text-anchor=\"middle\" y=\"397.0\">\\n    <tspan class=\"displacy-word\" fill=\"currentColor\" x=\"1450\">count,</tspan>\\n    <tspan class=\"displacy-tag\" dy=\"2em\" fill=\"currentColor\" x=\"1450\">NOUN</tspan>\\n</text>\\n\\n<text class=\"displacy-token\" fill=\"currentColor\" text-anchor=\"middle\" y=\"397.0\">\\n    <tspan class=\"displacy-word\" fill=\"currentColor\" x=\"1625\">and</tspan>\\n    <tspan class=\"displacy-tag\" dy=\"2em\" fill=\"currentColor\" x=\"1625\">CCONJ</tspan>\\n</text>\\n\\n<text class=\"displacy-token\" fill=\"currentColor\" text-anchor=\"middle\" y=\"397.0\">\\n    <tspan class=\"displacy-word\" fill=\"currentColor\" x=\"1800\">make</tspan>\\n    <tspan class=\"displacy-tag\" dy=\"2em\" fill=\"currentColor\" x=\"1800\">VERB</tspan>\\n</text>\\n\\n<text class=\"displacy-token\" fill=\"currentColor\" text-anchor=\"middle\" y=\"397.0\">\\n    <tspan class=\"displacy-word\" fill=\"currentColor\" x=\"1975\">my</tspan>\\n    <tspan class=\"displacy-tag\" dy=\"2em\" fill=\"currentColor\" x=\"1975\">DET</tspan>\\n</text>\\n\\n<text class=\"displacy-token\" fill=\"currentColor\" text-anchor=\"middle\" y=\"397.0\">\\n    <tspan class=\"displacy-word\" fill=\"currentColor\" x=\"2150\">old</tspan>\\n    <tspan class=\"displacy-tag\" dy=\"2em\" fill=\"currentColor\" x=\"2150\">ADJ</tspan>\\n</text>\\n\\n<text class=\"displacy-token\" fill=\"currentColor\" text-anchor=\"middle\" y=\"397.0\">\\n    <tspan class=\"displacy-word\" fill=\"currentColor\" x=\"2325\">excuse\\'</tspan>\\n    <tspan class=\"displacy-tag\" dy=\"2em\" fill=\"currentColor\" x=\"2325\">NOUN</tspan>\\n</text>\\n\\n<text class=\"displacy-token\" fill=\"currentColor\" text-anchor=\"middle\" y=\"397.0\">\\n    <tspan class=\"displacy-word\" fill=\"currentColor\" x=\"2500\">Proving</tspan>\\n    <tspan class=\"displacy-tag\" dy=\"2em\" fill=\"currentColor\" x=\"2500\">VERB</tspan>\\n</text>\\n\\n<text class=\"displacy-token\" fill=\"currentColor\" text-anchor=\"middle\" y=\"397.0\">\\n    <tspan class=\"displacy-word\" fill=\"currentColor\" x=\"2675\">his</tspan>\\n    <tspan class=\"displacy-tag\" dy=\"2em\" fill=\"currentColor\" x=\"2675\">DET</tspan>\\n</text>\\n\\n<text class=\"displacy-token\" fill=\"currentColor\" text-anchor=\"middle\" y=\"397.0\">\\n    <tspan class=\"displacy-word\" fill=\"currentColor\" x=\"2850\">beauty</tspan>\\n    <tspan class=\"displacy-tag\" dy=\"2em\" fill=\"currentColor\" x=\"2850\">NOUN</tspan>\\n</text>\\n\\n<text class=\"displacy-token\" fill=\"currentColor\" text-anchor=\"middle\" y=\"397.0\">\\n    <tspan class=\"displacy-word\" fill=\"currentColor\" x=\"3025\">by</tspan>\\n    <tspan class=\"displacy-tag\" dy=\"2em\" fill=\"currentColor\" x=\"3025\">ADP</tspan>\\n</text>\\n\\n<text class=\"displacy-token\" fill=\"currentColor\" text-anchor=\"middle\" y=\"397.0\">\\n    <tspan class=\"displacy-word\" fill=\"currentColor\" x=\"3200\">succession</tspan>\\n    <tspan class=\"displacy-tag\" dy=\"2em\" fill=\"currentColor\" x=\"3200\">NOUN</tspan>\\n</text>\\n\\n<text class=\"displacy-token\" fill=\"currentColor\" text-anchor=\"middle\" y=\"397.0\">\\n    <tspan class=\"displacy-word\" fill=\"currentColor\" x=\"3375\">thine.</tspan>\\n    <tspan class=\"displacy-tag\" dy=\"2em\" fill=\"currentColor\" x=\"3375\">NOUN</tspan>\\n</text>\\n\\n<g class=\"displacy-arrow\">\\n    <path class=\"displacy-arc\" id=\"arrow-e60f70f02e5f4d38a4e6366a1e2c23dd-3-0\" stroke-width=\"2px\" d=\"M70,352.0 C70,177.0 390.0,177.0 390.0,352.0\" fill=\"none\" stroke=\"currentColor\"/>\\n    <text dy=\"1.25em\" style=\"font-size: 0.8em; letter-spacing: 1px\">\\n        <textPath xlink:href=\"#arrow-e60f70f02e5f4d38a4e6366a1e2c23dd-3-0\" class=\"displacy-label\" startOffset=\"50%\" side=\"left\" fill=\"currentColor\" text-anchor=\"middle\">det</textPath>\\n    </text>\\n    <path class=\"displacy-arrowhead\" d=\"M70,354.0 L62,342.0 78,342.0\" fill=\"currentColor\"/>\\n</g>\\n\\n<g class=\"displacy-arrow\">\\n    <path class=\"displacy-arc\" id=\"arrow-e60f70f02e5f4d38a4e6366a1e2c23dd-3-1\" stroke-width=\"2px\" d=\"M245,352.0 C245,264.5 385.0,264.5 385.0,352.0\" fill=\"none\" stroke=\"currentColor\"/>\\n    <text dy=\"1.25em\" style=\"font-size: 0.8em; letter-spacing: 1px\">\\n        <textPath xlink:href=\"#arrow-e60f70f02e5f4d38a4e6366a1e2c23dd-3-1\" class=\"displacy-label\" startOffset=\"50%\" side=\"left\" fill=\"currentColor\" text-anchor=\"middle\">amod</textPath>\\n    </text>\\n    <path class=\"displacy-arrowhead\" d=\"M245,354.0 L237,342.0 253,342.0\" fill=\"currentColor\"/>\\n</g>\\n\\n<g class=\"displacy-arrow\">\\n    <path class=\"displacy-arc\" id=\"arrow-e60f70f02e5f4d38a4e6366a1e2c23dd-3-2\" stroke-width=\"2px\" d=\"M420,352.0 C420,2.0 1100.0,2.0 1100.0,352.0\" fill=\"none\" stroke=\"currentColor\"/>\\n    <text dy=\"1.25em\" style=\"font-size: 0.8em; letter-spacing: 1px\">\\n        <textPath xlink:href=\"#arrow-e60f70f02e5f4d38a4e6366a1e2c23dd-3-2\" class=\"displacy-label\" startOffset=\"50%\" side=\"left\" fill=\"currentColor\" text-anchor=\"middle\">nsubj</textPath>\\n    </text>\\n    <path class=\"displacy-arrowhead\" d=\"M420,354.0 L412,342.0 428,342.0\" fill=\"currentColor\"/>\\n</g>\\n\\n<g class=\"displacy-arrow\">\\n    <path class=\"displacy-arc\" id=\"arrow-e60f70f02e5f4d38a4e6366a1e2c23dd-3-3\" stroke-width=\"2px\" d=\"M420,352.0 C420,264.5 560.0,264.5 560.0,352.0\" fill=\"none\" stroke=\"currentColor\"/>\\n    <text dy=\"1.25em\" style=\"font-size: 0.8em; letter-spacing: 1px\">\\n        <textPath xlink:href=\"#arrow-e60f70f02e5f4d38a4e6366a1e2c23dd-3-3\" class=\"displacy-label\" startOffset=\"50%\" side=\"left\" fill=\"currentColor\" text-anchor=\"middle\">prep</textPath>\\n    </text>\\n    <path class=\"displacy-arrowhead\" d=\"M560.0,354.0 L568.0,342.0 552.0,342.0\" fill=\"currentColor\"/>\\n</g>\\n\\n<g class=\"displacy-arrow\">\\n    <path class=\"displacy-arc\" id=\"arrow-e60f70f02e5f4d38a4e6366a1e2c23dd-3-4\" stroke-width=\"2px\" d=\"M595,352.0 C595,264.5 735.0,264.5 735.0,352.0\" fill=\"none\" stroke=\"currentColor\"/>\\n    <text dy=\"1.25em\" style=\"font-size: 0.8em; letter-spacing: 1px\">\\n        <textPath xlink:href=\"#arrow-e60f70f02e5f4d38a4e6366a1e2c23dd-3-4\" class=\"displacy-label\" startOffset=\"50%\" side=\"left\" fill=\"currentColor\" text-anchor=\"middle\">pobj</textPath>\\n    </text>\\n    <path class=\"displacy-arrowhead\" d=\"M735.0,354.0 L743.0,342.0 727.0,342.0\" fill=\"currentColor\"/>\\n</g>\\n\\n<g class=\"displacy-arrow\">\\n    <path class=\"displacy-arc\" id=\"arrow-e60f70f02e5f4d38a4e6366a1e2c23dd-3-5\" stroke-width=\"2px\" d=\"M945,352.0 C945,264.5 1085.0,264.5 1085.0,352.0\" fill=\"none\" stroke=\"currentColor\"/>\\n    <text dy=\"1.25em\" style=\"font-size: 0.8em; letter-spacing: 1px\">\\n        <textPath xlink:href=\"#arrow-e60f70f02e5f4d38a4e6366a1e2c23dd-3-5\" class=\"displacy-label\" startOffset=\"50%\" side=\"left\" fill=\"currentColor\" text-anchor=\"middle\">aux</textPath>\\n    </text>\\n    <path class=\"displacy-arrowhead\" d=\"M945,354.0 L937,342.0 953,342.0\" fill=\"currentColor\"/>\\n</g>\\n\\n<g class=\"displacy-arrow\">\\n    <path class=\"displacy-arc\" id=\"arrow-e60f70f02e5f4d38a4e6366a1e2c23dd-3-6\" stroke-width=\"2px\" d=\"M1295,352.0 C1295,264.5 1435.0,264.5 1435.0,352.0\" fill=\"none\" stroke=\"currentColor\"/>\\n    <text dy=\"1.25em\" style=\"font-size: 0.8em; letter-spacing: 1px\">\\n        <textPath xlink:href=\"#arrow-e60f70f02e5f4d38a4e6366a1e2c23dd-3-6\" class=\"displacy-label\" startOffset=\"50%\" side=\"left\" fill=\"currentColor\" text-anchor=\"middle\">poss</textPath>\\n    </text>\\n    <path class=\"displacy-arrowhead\" d=\"M1295,354.0 L1287,342.0 1303,342.0\" fill=\"currentColor\"/>\\n</g>\\n\\n<g class=\"displacy-arrow\">\\n    <path class=\"displacy-arc\" id=\"arrow-e60f70f02e5f4d38a4e6366a1e2c23dd-3-7\" stroke-width=\"2px\" d=\"M1120,352.0 C1120,177.0 1440.0,177.0 1440.0,352.0\" fill=\"none\" stroke=\"currentColor\"/>\\n    <text dy=\"1.25em\" style=\"font-size: 0.8em; letter-spacing: 1px\">\\n        <textPath xlink:href=\"#arrow-e60f70f02e5f4d38a4e6366a1e2c23dd-3-7\" class=\"displacy-label\" startOffset=\"50%\" side=\"left\" fill=\"currentColor\" text-anchor=\"middle\">dobj</textPath>\\n    </text>\\n    <path class=\"displacy-arrowhead\" d=\"M1440.0,354.0 L1448.0,342.0 1432.0,342.0\" fill=\"currentColor\"/>\\n</g>\\n\\n<g class=\"displacy-arrow\">\\n    <path class=\"displacy-arc\" id=\"arrow-e60f70f02e5f4d38a4e6366a1e2c23dd-3-8\" stroke-width=\"2px\" d=\"M1120,352.0 C1120,89.5 1620.0,89.5 1620.0,352.0\" fill=\"none\" stroke=\"currentColor\"/>\\n    <text dy=\"1.25em\" style=\"font-size: 0.8em; letter-spacing: 1px\">\\n        <textPath xlink:href=\"#arrow-e60f70f02e5f4d38a4e6366a1e2c23dd-3-8\" class=\"displacy-label\" startOffset=\"50%\" side=\"left\" fill=\"currentColor\" text-anchor=\"middle\">cc</textPath>\\n    </text>\\n    <path class=\"displacy-arrowhead\" d=\"M1620.0,354.0 L1628.0,342.0 1612.0,342.0\" fill=\"currentColor\"/>\\n</g>\\n\\n<g class=\"displacy-arrow\">\\n    <path class=\"displacy-arc\" id=\"arrow-e60f70f02e5f4d38a4e6366a1e2c23dd-3-9\" stroke-width=\"2px\" d=\"M1120,352.0 C1120,2.0 1800.0,2.0 1800.0,352.0\" fill=\"none\" stroke=\"currentColor\"/>\\n    <text dy=\"1.25em\" style=\"font-size: 0.8em; letter-spacing: 1px\">\\n        <textPath xlink:href=\"#arrow-e60f70f02e5f4d38a4e6366a1e2c23dd-3-9\" class=\"displacy-label\" startOffset=\"50%\" side=\"left\" fill=\"currentColor\" text-anchor=\"middle\">conj</textPath>\\n    </text>\\n    <path class=\"displacy-arrowhead\" d=\"M1800.0,354.0 L1808.0,342.0 1792.0,342.0\" fill=\"currentColor\"/>\\n</g>\\n\\n<g class=\"displacy-arrow\">\\n    <path class=\"displacy-arc\" id=\"arrow-e60f70f02e5f4d38a4e6366a1e2c23dd-3-10\" stroke-width=\"2px\" d=\"M1995,352.0 C1995,177.0 2315.0,177.0 2315.0,352.0\" fill=\"none\" stroke=\"currentColor\"/>\\n    <text dy=\"1.25em\" style=\"font-size: 0.8em; letter-spacing: 1px\">\\n        <textPath xlink:href=\"#arrow-e60f70f02e5f4d38a4e6366a1e2c23dd-3-10\" class=\"displacy-label\" startOffset=\"50%\" side=\"left\" fill=\"currentColor\" text-anchor=\"middle\">poss</textPath>\\n    </text>\\n    <path class=\"displacy-arrowhead\" d=\"M1995,354.0 L1987,342.0 2003,342.0\" fill=\"currentColor\"/>\\n</g>\\n\\n<g class=\"displacy-arrow\">\\n    <path class=\"displacy-arc\" id=\"arrow-e60f70f02e5f4d38a4e6366a1e2c23dd-3-11\" stroke-width=\"2px\" d=\"M2170,352.0 C2170,264.5 2310.0,264.5 2310.0,352.0\" fill=\"none\" stroke=\"currentColor\"/>\\n    <text dy=\"1.25em\" style=\"font-size: 0.8em; letter-spacing: 1px\">\\n        <textPath xlink:href=\"#arrow-e60f70f02e5f4d38a4e6366a1e2c23dd-3-11\" class=\"displacy-label\" startOffset=\"50%\" side=\"left\" fill=\"currentColor\" text-anchor=\"middle\">amod</textPath>\\n    </text>\\n    <path class=\"displacy-arrowhead\" d=\"M2170,354.0 L2162,342.0 2178,342.0\" fill=\"currentColor\"/>\\n</g>\\n\\n<g class=\"displacy-arrow\">\\n    <path class=\"displacy-arc\" id=\"arrow-e60f70f02e5f4d38a4e6366a1e2c23dd-3-12\" stroke-width=\"2px\" d=\"M1820,352.0 C1820,89.5 2320.0,89.5 2320.0,352.0\" fill=\"none\" stroke=\"currentColor\"/>\\n    <text dy=\"1.25em\" style=\"font-size: 0.8em; letter-spacing: 1px\">\\n        <textPath xlink:href=\"#arrow-e60f70f02e5f4d38a4e6366a1e2c23dd-3-12\" class=\"displacy-label\" startOffset=\"50%\" side=\"left\" fill=\"currentColor\" text-anchor=\"middle\">dobj</textPath>\\n    </text>\\n    <path class=\"displacy-arrowhead\" d=\"M2320.0,354.0 L2328.0,342.0 2312.0,342.0\" fill=\"currentColor\"/>\\n</g>\\n\\n<g class=\"displacy-arrow\">\\n    <path class=\"displacy-arc\" id=\"arrow-e60f70f02e5f4d38a4e6366a1e2c23dd-3-13\" stroke-width=\"2px\" d=\"M1820,352.0 C1820,2.0 2500.0,2.0 2500.0,352.0\" fill=\"none\" stroke=\"currentColor\"/>\\n    <text dy=\"1.25em\" style=\"font-size: 0.8em; letter-spacing: 1px\">\\n        <textPath xlink:href=\"#arrow-e60f70f02e5f4d38a4e6366a1e2c23dd-3-13\" class=\"displacy-label\" startOffset=\"50%\" side=\"left\" fill=\"currentColor\" text-anchor=\"middle\">ccomp</textPath>\\n    </text>\\n    <path class=\"displacy-arrowhead\" d=\"M2500.0,354.0 L2508.0,342.0 2492.0,342.0\" fill=\"currentColor\"/>\\n</g>\\n\\n<g class=\"displacy-arrow\">\\n    <path class=\"displacy-arc\" id=\"arrow-e60f70f02e5f4d38a4e6366a1e2c23dd-3-14\" stroke-width=\"2px\" d=\"M2695,352.0 C2695,264.5 2835.0,264.5 2835.0,352.0\" fill=\"none\" stroke=\"currentColor\"/>\\n    <text dy=\"1.25em\" style=\"font-size: 0.8em; letter-spacing: 1px\">\\n        <textPath xlink:href=\"#arrow-e60f70f02e5f4d38a4e6366a1e2c23dd-3-14\" class=\"displacy-label\" startOffset=\"50%\" side=\"left\" fill=\"currentColor\" text-anchor=\"middle\">poss</textPath>\\n    </text>\\n    <path class=\"displacy-arrowhead\" d=\"M2695,354.0 L2687,342.0 2703,342.0\" fill=\"currentColor\"/>\\n</g>\\n\\n<g class=\"displacy-arrow\">\\n    <path class=\"displacy-arc\" id=\"arrow-e60f70f02e5f4d38a4e6366a1e2c23dd-3-15\" stroke-width=\"2px\" d=\"M2520,352.0 C2520,177.0 2840.0,177.0 2840.0,352.0\" fill=\"none\" stroke=\"currentColor\"/>\\n    <text dy=\"1.25em\" style=\"font-size: 0.8em; letter-spacing: 1px\">\\n        <textPath xlink:href=\"#arrow-e60f70f02e5f4d38a4e6366a1e2c23dd-3-15\" class=\"displacy-label\" startOffset=\"50%\" side=\"left\" fill=\"currentColor\" text-anchor=\"middle\">dobj</textPath>\\n    </text>\\n    <path class=\"displacy-arrowhead\" d=\"M2840.0,354.0 L2848.0,342.0 2832.0,342.0\" fill=\"currentColor\"/>\\n</g>\\n\\n<g class=\"displacy-arrow\">\\n    <path class=\"displacy-arc\" id=\"arrow-e60f70f02e5f4d38a4e6366a1e2c23dd-3-16\" stroke-width=\"2px\" d=\"M2520,352.0 C2520,89.5 3020.0,89.5 3020.0,352.0\" fill=\"none\" stroke=\"currentColor\"/>\\n    <text dy=\"1.25em\" style=\"font-size: 0.8em; letter-spacing: 1px\">\\n        <textPath xlink:href=\"#arrow-e60f70f02e5f4d38a4e6366a1e2c23dd-3-16\" class=\"displacy-label\" startOffset=\"50%\" side=\"left\" fill=\"currentColor\" text-anchor=\"middle\">prep</textPath>\\n    </text>\\n    <path class=\"displacy-arrowhead\" d=\"M3020.0,354.0 L3028.0,342.0 3012.0,342.0\" fill=\"currentColor\"/>\\n</g>\\n\\n<g class=\"displacy-arrow\">\\n    <path class=\"displacy-arc\" id=\"arrow-e60f70f02e5f4d38a4e6366a1e2c23dd-3-17\" stroke-width=\"2px\" d=\"M3220,352.0 C3220,264.5 3360.0,264.5 3360.0,352.0\" fill=\"none\" stroke=\"currentColor\"/>\\n    <text dy=\"1.25em\" style=\"font-size: 0.8em; letter-spacing: 1px\">\\n        <textPath xlink:href=\"#arrow-e60f70f02e5f4d38a4e6366a1e2c23dd-3-17\" class=\"displacy-label\" startOffset=\"50%\" side=\"left\" fill=\"currentColor\" text-anchor=\"middle\">compound</textPath>\\n    </text>\\n    <path class=\"displacy-arrowhead\" d=\"M3220,354.0 L3212,342.0 3228,342.0\" fill=\"currentColor\"/>\\n</g>\\n\\n<g class=\"displacy-arrow\">\\n    <path class=\"displacy-arc\" id=\"arrow-e60f70f02e5f4d38a4e6366a1e2c23dd-3-18\" stroke-width=\"2px\" d=\"M3045,352.0 C3045,177.0 3365.0,177.0 3365.0,352.0\" fill=\"none\" stroke=\"currentColor\"/>\\n    <text dy=\"1.25em\" style=\"font-size: 0.8em; letter-spacing: 1px\">\\n        <textPath xlink:href=\"#arrow-e60f70f02e5f4d38a4e6366a1e2c23dd-3-18\" class=\"displacy-label\" startOffset=\"50%\" side=\"left\" fill=\"currentColor\" text-anchor=\"middle\">pobj</textPath>\\n    </text>\\n    <path class=\"displacy-arrowhead\" d=\"M3365.0,354.0 L3373.0,342.0 3357.0,342.0\" fill=\"currentColor\"/>\\n</g>\\n</svg>\\n\\n<svg xmlns=\"http://www.w3.org/2000/svg\" xmlns:xlink=\"http://www.w3.org/1999/xlink\" xml:lang=\"en\" id=\"e60f70f02e5f4d38a4e6366a1e2c23dd-4\" class=\"displacy\" width=\"3550\" height=\"749.5\" direction=\"ltr\" style=\"max-width: none; height: 749.5px; color: #000000; background: #ffffff; font-family: Arial; direction: ltr\">\\n<text class=\"displacy-token\" fill=\"currentColor\" text-anchor=\"middle\" y=\"659.5\">\\n    <tspan class=\"displacy-word\" fill=\"currentColor\" x=\"50\">This</tspan>\\n    <tspan class=\"displacy-tag\" dy=\"2em\" fill=\"currentColor\" x=\"50\">DET</tspan>\\n</text>\\n\\n<text class=\"displacy-token\" fill=\"currentColor\" text-anchor=\"middle\" y=\"659.5\">\\n    <tspan class=\"displacy-word\" fill=\"currentColor\" x=\"225\">were</tspan>\\n    <tspan class=\"displacy-tag\" dy=\"2em\" fill=\"currentColor\" x=\"225\">AUX</tspan>\\n</text>\\n\\n<text class=\"displacy-token\" fill=\"currentColor\" text-anchor=\"middle\" y=\"659.5\">\\n    <tspan class=\"displacy-word\" fill=\"currentColor\" x=\"400\">to</tspan>\\n    <tspan class=\"displacy-tag\" dy=\"2em\" fill=\"currentColor\" x=\"400\">PART</tspan>\\n</text>\\n\\n<text class=\"displacy-token\" fill=\"currentColor\" text-anchor=\"middle\" y=\"659.5\">\\n    <tspan class=\"displacy-word\" fill=\"currentColor\" x=\"575\">be</tspan>\\n    <tspan class=\"displacy-tag\" dy=\"2em\" fill=\"currentColor\" x=\"575\">AUX</tspan>\\n</text>\\n\\n<text class=\"displacy-token\" fill=\"currentColor\" text-anchor=\"middle\" y=\"659.5\">\\n    <tspan class=\"displacy-word\" fill=\"currentColor\" x=\"750\">new</tspan>\\n    <tspan class=\"displacy-tag\" dy=\"2em\" fill=\"currentColor\" x=\"750\">ADJ</tspan>\\n</text>\\n\\n<text class=\"displacy-token\" fill=\"currentColor\" text-anchor=\"middle\" y=\"659.5\">\\n    <tspan class=\"displacy-word\" fill=\"currentColor\" x=\"925\">made</tspan>\\n    <tspan class=\"displacy-tag\" dy=\"2em\" fill=\"currentColor\" x=\"925\">VERB</tspan>\\n</text>\\n\\n<text class=\"displacy-token\" fill=\"currentColor\" text-anchor=\"middle\" y=\"659.5\">\\n    <tspan class=\"displacy-word\" fill=\"currentColor\" x=\"1100\">when</tspan>\\n    <tspan class=\"displacy-tag\" dy=\"2em\" fill=\"currentColor\" x=\"1100\">ADV</tspan>\\n</text>\\n\\n<text class=\"displacy-token\" fill=\"currentColor\" text-anchor=\"middle\" y=\"659.5\">\\n    <tspan class=\"displacy-word\" fill=\"currentColor\" x=\"1275\">thou</tspan>\\n    <tspan class=\"displacy-tag\" dy=\"2em\" fill=\"currentColor\" x=\"1275\">PROPN</tspan>\\n</text>\\n\\n<text class=\"displacy-token\" fill=\"currentColor\" text-anchor=\"middle\" y=\"659.5\">\\n    <tspan class=\"displacy-word\" fill=\"currentColor\" x=\"1450\">art</tspan>\\n    <tspan class=\"displacy-tag\" dy=\"2em\" fill=\"currentColor\" x=\"1450\">PROPN</tspan>\\n</text>\\n\\n<text class=\"displacy-token\" fill=\"currentColor\" text-anchor=\"middle\" y=\"659.5\">\\n    <tspan class=\"displacy-word\" fill=\"currentColor\" x=\"1625\">old,</tspan>\\n    <tspan class=\"displacy-tag\" dy=\"2em\" fill=\"currentColor\" x=\"1625\">ADJ</tspan>\\n</text>\\n\\n<text class=\"displacy-token\" fill=\"currentColor\" text-anchor=\"middle\" y=\"659.5\">\\n    <tspan class=\"displacy-word\" fill=\"currentColor\" x=\"1800\">And</tspan>\\n    <tspan class=\"displacy-tag\" dy=\"2em\" fill=\"currentColor\" x=\"1800\">CCONJ</tspan>\\n</text>\\n\\n<text class=\"displacy-token\" fill=\"currentColor\" text-anchor=\"middle\" y=\"659.5\">\\n    <tspan class=\"displacy-word\" fill=\"currentColor\" x=\"1975\">see</tspan>\\n    <tspan class=\"displacy-tag\" dy=\"2em\" fill=\"currentColor\" x=\"1975\">VERB</tspan>\\n</text>\\n\\n<text class=\"displacy-token\" fill=\"currentColor\" text-anchor=\"middle\" y=\"659.5\">\\n    <tspan class=\"displacy-word\" fill=\"currentColor\" x=\"2150\">thy</tspan>\\n    <tspan class=\"displacy-tag\" dy=\"2em\" fill=\"currentColor\" x=\"2150\">DET</tspan>\\n</text>\\n\\n<text class=\"displacy-token\" fill=\"currentColor\" text-anchor=\"middle\" y=\"659.5\">\\n    <tspan class=\"displacy-word\" fill=\"currentColor\" x=\"2325\">blood</tspan>\\n    <tspan class=\"displacy-tag\" dy=\"2em\" fill=\"currentColor\" x=\"2325\">NOUN</tspan>\\n</text>\\n\\n<text class=\"displacy-token\" fill=\"currentColor\" text-anchor=\"middle\" y=\"659.5\">\\n    <tspan class=\"displacy-word\" fill=\"currentColor\" x=\"2500\">warm</tspan>\\n    <tspan class=\"displacy-tag\" dy=\"2em\" fill=\"currentColor\" x=\"2500\">ADJ</tspan>\\n</text>\\n\\n<text class=\"displacy-token\" fill=\"currentColor\" text-anchor=\"middle\" y=\"659.5\">\\n    <tspan class=\"displacy-word\" fill=\"currentColor\" x=\"2675\">when</tspan>\\n    <tspan class=\"displacy-tag\" dy=\"2em\" fill=\"currentColor\" x=\"2675\">ADV</tspan>\\n</text>\\n\\n<text class=\"displacy-token\" fill=\"currentColor\" text-anchor=\"middle\" y=\"659.5\">\\n    <tspan class=\"displacy-word\" fill=\"currentColor\" x=\"2850\">thou</tspan>\\n    <tspan class=\"displacy-tag\" dy=\"2em\" fill=\"currentColor\" x=\"2850\">PROPN</tspan>\\n</text>\\n\\n<text class=\"displacy-token\" fill=\"currentColor\" text-anchor=\"middle\" y=\"659.5\">\\n    <tspan class=\"displacy-word\" fill=\"currentColor\" x=\"3025\">feel\\'st</tspan>\\n    <tspan class=\"displacy-tag\" dy=\"2em\" fill=\"currentColor\" x=\"3025\">VERB</tspan>\\n</text>\\n\\n<text class=\"displacy-token\" fill=\"currentColor\" text-anchor=\"middle\" y=\"659.5\">\\n    <tspan class=\"displacy-word\" fill=\"currentColor\" x=\"3200\">it</tspan>\\n    <tspan class=\"displacy-tag\" dy=\"2em\" fill=\"currentColor\" x=\"3200\">PRON</tspan>\\n</text>\\n\\n<text class=\"displacy-token\" fill=\"currentColor\" text-anchor=\"middle\" y=\"659.5\">\\n    <tspan class=\"displacy-word\" fill=\"currentColor\" x=\"3375\">cold.</tspan>\\n    <tspan class=\"displacy-tag\" dy=\"2em\" fill=\"currentColor\" x=\"3375\">ADJ</tspan>\\n</text>\\n\\n<g class=\"displacy-arrow\">\\n    <path class=\"displacy-arc\" id=\"arrow-e60f70f02e5f4d38a4e6366a1e2c23dd-4-0\" stroke-width=\"2px\" d=\"M70,614.5 C70,527.0 195.0,527.0 195.0,614.5\" fill=\"none\" stroke=\"currentColor\"/>\\n    <text dy=\"1.25em\" style=\"font-size: 0.8em; letter-spacing: 1px\">\\n        <textPath xlink:href=\"#arrow-e60f70f02e5f4d38a4e6366a1e2c23dd-4-0\" class=\"displacy-label\" startOffset=\"50%\" side=\"left\" fill=\"currentColor\" text-anchor=\"middle\">nsubj</textPath>\\n    </text>\\n    <path class=\"displacy-arrowhead\" d=\"M70,616.5 L62,604.5 78,604.5\" fill=\"currentColor\"/>\\n</g>\\n\\n<g class=\"displacy-arrow\">\\n    <path class=\"displacy-arc\" id=\"arrow-e60f70f02e5f4d38a4e6366a1e2c23dd-4-1\" stroke-width=\"2px\" d=\"M420,614.5 C420,527.0 545.0,527.0 545.0,614.5\" fill=\"none\" stroke=\"currentColor\"/>\\n    <text dy=\"1.25em\" style=\"font-size: 0.8em; letter-spacing: 1px\">\\n        <textPath xlink:href=\"#arrow-e60f70f02e5f4d38a4e6366a1e2c23dd-4-1\" class=\"displacy-label\" startOffset=\"50%\" side=\"left\" fill=\"currentColor\" text-anchor=\"middle\">aux</textPath>\\n    </text>\\n    <path class=\"displacy-arrowhead\" d=\"M420,616.5 L412,604.5 428,604.5\" fill=\"currentColor\"/>\\n</g>\\n\\n<g class=\"displacy-arrow\">\\n    <path class=\"displacy-arc\" id=\"arrow-e60f70f02e5f4d38a4e6366a1e2c23dd-4-2\" stroke-width=\"2px\" d=\"M595,614.5 C595,439.5 900.0,439.5 900.0,614.5\" fill=\"none\" stroke=\"currentColor\"/>\\n    <text dy=\"1.25em\" style=\"font-size: 0.8em; letter-spacing: 1px\">\\n        <textPath xlink:href=\"#arrow-e60f70f02e5f4d38a4e6366a1e2c23dd-4-2\" class=\"displacy-label\" startOffset=\"50%\" side=\"left\" fill=\"currentColor\" text-anchor=\"middle\">auxpass</textPath>\\n    </text>\\n    <path class=\"displacy-arrowhead\" d=\"M595,616.5 L587,604.5 603,604.5\" fill=\"currentColor\"/>\\n</g>\\n\\n<g class=\"displacy-arrow\">\\n    <path class=\"displacy-arc\" id=\"arrow-e60f70f02e5f4d38a4e6366a1e2c23dd-4-3\" stroke-width=\"2px\" d=\"M770,614.5 C770,527.0 895.0,527.0 895.0,614.5\" fill=\"none\" stroke=\"currentColor\"/>\\n    <text dy=\"1.25em\" style=\"font-size: 0.8em; letter-spacing: 1px\">\\n        <textPath xlink:href=\"#arrow-e60f70f02e5f4d38a4e6366a1e2c23dd-4-3\" class=\"displacy-label\" startOffset=\"50%\" side=\"left\" fill=\"currentColor\" text-anchor=\"middle\">amod</textPath>\\n    </text>\\n    <path class=\"displacy-arrowhead\" d=\"M770,616.5 L762,604.5 778,604.5\" fill=\"currentColor\"/>\\n</g>\\n\\n<g class=\"displacy-arrow\">\\n    <path class=\"displacy-arc\" id=\"arrow-e60f70f02e5f4d38a4e6366a1e2c23dd-4-4\" stroke-width=\"2px\" d=\"M245,614.5 C245,264.5 910.0,264.5 910.0,614.5\" fill=\"none\" stroke=\"currentColor\"/>\\n    <text dy=\"1.25em\" style=\"font-size: 0.8em; letter-spacing: 1px\">\\n        <textPath xlink:href=\"#arrow-e60f70f02e5f4d38a4e6366a1e2c23dd-4-4\" class=\"displacy-label\" startOffset=\"50%\" side=\"left\" fill=\"currentColor\" text-anchor=\"middle\">xcomp</textPath>\\n    </text>\\n    <path class=\"displacy-arrowhead\" d=\"M910.0,616.5 L918.0,604.5 902.0,604.5\" fill=\"currentColor\"/>\\n</g>\\n\\n<g class=\"displacy-arrow\">\\n    <path class=\"displacy-arc\" id=\"arrow-e60f70f02e5f4d38a4e6366a1e2c23dd-4-5\" stroke-width=\"2px\" d=\"M1120,614.5 C1120,352.0 1605.0,352.0 1605.0,614.5\" fill=\"none\" stroke=\"currentColor\"/>\\n    <text dy=\"1.25em\" style=\"font-size: 0.8em; letter-spacing: 1px\">\\n        <textPath xlink:href=\"#arrow-e60f70f02e5f4d38a4e6366a1e2c23dd-4-5\" class=\"displacy-label\" startOffset=\"50%\" side=\"left\" fill=\"currentColor\" text-anchor=\"middle\">advmod</textPath>\\n    </text>\\n    <path class=\"displacy-arrowhead\" d=\"M1120,616.5 L1112,604.5 1128,604.5\" fill=\"currentColor\"/>\\n</g>\\n\\n<g class=\"displacy-arrow\">\\n    <path class=\"displacy-arc\" id=\"arrow-e60f70f02e5f4d38a4e6366a1e2c23dd-4-6\" stroke-width=\"2px\" d=\"M1295,614.5 C1295,527.0 1420.0,527.0 1420.0,614.5\" fill=\"none\" stroke=\"currentColor\"/>\\n    <text dy=\"1.25em\" style=\"font-size: 0.8em; letter-spacing: 1px\">\\n        <textPath xlink:href=\"#arrow-e60f70f02e5f4d38a4e6366a1e2c23dd-4-6\" class=\"displacy-label\" startOffset=\"50%\" side=\"left\" fill=\"currentColor\" text-anchor=\"middle\">compound</textPath>\\n    </text>\\n    <path class=\"displacy-arrowhead\" d=\"M1295,616.5 L1287,604.5 1303,604.5\" fill=\"currentColor\"/>\\n</g>\\n\\n<g class=\"displacy-arrow\">\\n    <path class=\"displacy-arc\" id=\"arrow-e60f70f02e5f4d38a4e6366a1e2c23dd-4-7\" stroke-width=\"2px\" d=\"M1470,614.5 C1470,527.0 1595.0,527.0 1595.0,614.5\" fill=\"none\" stroke=\"currentColor\"/>\\n    <text dy=\"1.25em\" style=\"font-size: 0.8em; letter-spacing: 1px\">\\n        <textPath xlink:href=\"#arrow-e60f70f02e5f4d38a4e6366a1e2c23dd-4-7\" class=\"displacy-label\" startOffset=\"50%\" side=\"left\" fill=\"currentColor\" text-anchor=\"middle\">nsubj</textPath>\\n    </text>\\n    <path class=\"displacy-arrowhead\" d=\"M1470,616.5 L1462,604.5 1478,604.5\" fill=\"currentColor\"/>\\n</g>\\n\\n<g class=\"displacy-arrow\">\\n    <path class=\"displacy-arc\" id=\"arrow-e60f70f02e5f4d38a4e6366a1e2c23dd-4-8\" stroke-width=\"2px\" d=\"M945,614.5 C945,264.5 1610.0,264.5 1610.0,614.5\" fill=\"none\" stroke=\"currentColor\"/>\\n    <text dy=\"1.25em\" style=\"font-size: 0.8em; letter-spacing: 1px\">\\n        <textPath xlink:href=\"#arrow-e60f70f02e5f4d38a4e6366a1e2c23dd-4-8\" class=\"displacy-label\" startOffset=\"50%\" side=\"left\" fill=\"currentColor\" text-anchor=\"middle\">advcl</textPath>\\n    </text>\\n    <path class=\"displacy-arrowhead\" d=\"M1610.0,616.5 L1618.0,604.5 1602.0,604.5\" fill=\"currentColor\"/>\\n</g>\\n\\n<g class=\"displacy-arrow\">\\n    <path class=\"displacy-arc\" id=\"arrow-e60f70f02e5f4d38a4e6366a1e2c23dd-4-9\" stroke-width=\"2px\" d=\"M245,614.5 C245,89.5 1795.0,89.5 1795.0,614.5\" fill=\"none\" stroke=\"currentColor\"/>\\n    <text dy=\"1.25em\" style=\"font-size: 0.8em; letter-spacing: 1px\">\\n        <textPath xlink:href=\"#arrow-e60f70f02e5f4d38a4e6366a1e2c23dd-4-9\" class=\"displacy-label\" startOffset=\"50%\" side=\"left\" fill=\"currentColor\" text-anchor=\"middle\">cc</textPath>\\n    </text>\\n    <path class=\"displacy-arrowhead\" d=\"M1795.0,616.5 L1803.0,604.5 1787.0,604.5\" fill=\"currentColor\"/>\\n</g>\\n\\n<g class=\"displacy-arrow\">\\n    <path class=\"displacy-arc\" id=\"arrow-e60f70f02e5f4d38a4e6366a1e2c23dd-4-10\" stroke-width=\"2px\" d=\"M245,614.5 C245,2.0 1975.0,2.0 1975.0,614.5\" fill=\"none\" stroke=\"currentColor\"/>\\n    <text dy=\"1.25em\" style=\"font-size: 0.8em; letter-spacing: 1px\">\\n        <textPath xlink:href=\"#arrow-e60f70f02e5f4d38a4e6366a1e2c23dd-4-10\" class=\"displacy-label\" startOffset=\"50%\" side=\"left\" fill=\"currentColor\" text-anchor=\"middle\">conj</textPath>\\n    </text>\\n    <path class=\"displacy-arrowhead\" d=\"M1975.0,616.5 L1983.0,604.5 1967.0,604.5\" fill=\"currentColor\"/>\\n</g>\\n\\n<g class=\"displacy-arrow\">\\n    <path class=\"displacy-arc\" id=\"arrow-e60f70f02e5f4d38a4e6366a1e2c23dd-4-11\" stroke-width=\"2px\" d=\"M2170,614.5 C2170,527.0 2295.0,527.0 2295.0,614.5\" fill=\"none\" stroke=\"currentColor\"/>\\n    <text dy=\"1.25em\" style=\"font-size: 0.8em; letter-spacing: 1px\">\\n        <textPath xlink:href=\"#arrow-e60f70f02e5f4d38a4e6366a1e2c23dd-4-11\" class=\"displacy-label\" startOffset=\"50%\" side=\"left\" fill=\"currentColor\" text-anchor=\"middle\">compound</textPath>\\n    </text>\\n    <path class=\"displacy-arrowhead\" d=\"M2170,616.5 L2162,604.5 2178,604.5\" fill=\"currentColor\"/>\\n</g>\\n\\n<g class=\"displacy-arrow\">\\n    <path class=\"displacy-arc\" id=\"arrow-e60f70f02e5f4d38a4e6366a1e2c23dd-4-12\" stroke-width=\"2px\" d=\"M2345,614.5 C2345,527.0 2470.0,527.0 2470.0,614.5\" fill=\"none\" stroke=\"currentColor\"/>\\n    <text dy=\"1.25em\" style=\"font-size: 0.8em; letter-spacing: 1px\">\\n        <textPath xlink:href=\"#arrow-e60f70f02e5f4d38a4e6366a1e2c23dd-4-12\" class=\"displacy-label\" startOffset=\"50%\" side=\"left\" fill=\"currentColor\" text-anchor=\"middle\">nsubj</textPath>\\n    </text>\\n    <path class=\"displacy-arrowhead\" d=\"M2345,616.5 L2337,604.5 2353,604.5\" fill=\"currentColor\"/>\\n</g>\\n\\n<g class=\"displacy-arrow\">\\n    <path class=\"displacy-arc\" id=\"arrow-e60f70f02e5f4d38a4e6366a1e2c23dd-4-13\" stroke-width=\"2px\" d=\"M1995,614.5 C1995,352.0 2480.0,352.0 2480.0,614.5\" fill=\"none\" stroke=\"currentColor\"/>\\n    <text dy=\"1.25em\" style=\"font-size: 0.8em; letter-spacing: 1px\">\\n        <textPath xlink:href=\"#arrow-e60f70f02e5f4d38a4e6366a1e2c23dd-4-13\" class=\"displacy-label\" startOffset=\"50%\" side=\"left\" fill=\"currentColor\" text-anchor=\"middle\">ccomp</textPath>\\n    </text>\\n    <path class=\"displacy-arrowhead\" d=\"M2480.0,616.5 L2488.0,604.5 2472.0,604.5\" fill=\"currentColor\"/>\\n</g>\\n\\n<g class=\"displacy-arrow\">\\n    <path class=\"displacy-arc\" id=\"arrow-e60f70f02e5f4d38a4e6366a1e2c23dd-4-14\" stroke-width=\"2px\" d=\"M2695,614.5 C2695,264.5 3360.0,264.5 3360.0,614.5\" fill=\"none\" stroke=\"currentColor\"/>\\n    <text dy=\"1.25em\" style=\"font-size: 0.8em; letter-spacing: 1px\">\\n        <textPath xlink:href=\"#arrow-e60f70f02e5f4d38a4e6366a1e2c23dd-4-14\" class=\"displacy-label\" startOffset=\"50%\" side=\"left\" fill=\"currentColor\" text-anchor=\"middle\">advmod</textPath>\\n    </text>\\n    <path class=\"displacy-arrowhead\" d=\"M2695,616.5 L2687,604.5 2703,604.5\" fill=\"currentColor\"/>\\n</g>\\n\\n<g class=\"displacy-arrow\">\\n    <path class=\"displacy-arc\" id=\"arrow-e60f70f02e5f4d38a4e6366a1e2c23dd-4-15\" stroke-width=\"2px\" d=\"M2870,614.5 C2870,527.0 2995.0,527.0 2995.0,614.5\" fill=\"none\" stroke=\"currentColor\"/>\\n    <text dy=\"1.25em\" style=\"font-size: 0.8em; letter-spacing: 1px\">\\n        <textPath xlink:href=\"#arrow-e60f70f02e5f4d38a4e6366a1e2c23dd-4-15\" class=\"displacy-label\" startOffset=\"50%\" side=\"left\" fill=\"currentColor\" text-anchor=\"middle\">compound</textPath>\\n    </text>\\n    <path class=\"displacy-arrowhead\" d=\"M2870,616.5 L2862,604.5 2878,604.5\" fill=\"currentColor\"/>\\n</g>\\n\\n<g class=\"displacy-arrow\">\\n    <path class=\"displacy-arc\" id=\"arrow-e60f70f02e5f4d38a4e6366a1e2c23dd-4-16\" stroke-width=\"2px\" d=\"M3045,614.5 C3045,527.0 3170.0,527.0 3170.0,614.5\" fill=\"none\" stroke=\"currentColor\"/>\\n    <text dy=\"1.25em\" style=\"font-size: 0.8em; letter-spacing: 1px\">\\n        <textPath xlink:href=\"#arrow-e60f70f02e5f4d38a4e6366a1e2c23dd-4-16\" class=\"displacy-label\" startOffset=\"50%\" side=\"left\" fill=\"currentColor\" text-anchor=\"middle\">compound</textPath>\\n    </text>\\n    <path class=\"displacy-arrowhead\" d=\"M3045,616.5 L3037,604.5 3053,604.5\" fill=\"currentColor\"/>\\n</g>\\n\\n<g class=\"displacy-arrow\">\\n    <path class=\"displacy-arc\" id=\"arrow-e60f70f02e5f4d38a4e6366a1e2c23dd-4-17\" stroke-width=\"2px\" d=\"M3220,614.5 C3220,527.0 3345.0,527.0 3345.0,614.5\" fill=\"none\" stroke=\"currentColor\"/>\\n    <text dy=\"1.25em\" style=\"font-size: 0.8em; letter-spacing: 1px\">\\n        <textPath xlink:href=\"#arrow-e60f70f02e5f4d38a4e6366a1e2c23dd-4-17\" class=\"displacy-label\" startOffset=\"50%\" side=\"left\" fill=\"currentColor\" text-anchor=\"middle\">nsubj</textPath>\\n    </text>\\n    <path class=\"displacy-arrowhead\" d=\"M3220,616.5 L3212,604.5 3228,604.5\" fill=\"currentColor\"/>\\n</g>\\n\\n<g class=\"displacy-arrow\">\\n    <path class=\"displacy-arc\" id=\"arrow-e60f70f02e5f4d38a4e6366a1e2c23dd-4-18\" stroke-width=\"2px\" d=\"M1995,614.5 C1995,177.0 3365.0,177.0 3365.0,614.5\" fill=\"none\" stroke=\"currentColor\"/>\\n    <text dy=\"1.25em\" style=\"font-size: 0.8em; letter-spacing: 1px\">\\n        <textPath xlink:href=\"#arrow-e60f70f02e5f4d38a4e6366a1e2c23dd-4-18\" class=\"displacy-label\" startOffset=\"50%\" side=\"left\" fill=\"currentColor\" text-anchor=\"middle\">advcl</textPath>\\n    </text>\\n    <path class=\"displacy-arrowhead\" d=\"M3365.0,616.5 L3373.0,604.5 3357.0,604.5\" fill=\"currentColor\"/>\\n</g>\\n</svg>'"
            ]
          },
          "metadata": {
            "tags": []
          },
          "execution_count": 75
        }
      ]
    },
    {
      "cell_type": "markdown",
      "metadata": {
        "id": "CnXN__YniaDQ",
        "colab_type": "text"
      },
      "source": [
        "## ✍️ Assessment"
      ]
    },
    {
      "cell_type": "markdown",
      "metadata": {
        "id": "U41cETTCiaDR",
        "colab_type": "text"
      },
      "source": [
        "1. Write a function to calculate the $N_{th}$ Finbonacci number without `for` loop using the folloing formula:\n",
        "$$\n",
        "f_n = \\frac{a^n - b^n}{a - b} = \\frac{a^n - b^n}{\\sqrt{5}}\n",
        "$$\n",
        "where $a = \\frac{1 + \\sqrt{5}}{2}$ and $b = \\frac{1- \\sqrt{5}}{2}$."
      ]
    },
    {
      "cell_type": "code",
      "metadata": {
        "id": "WXY849_-iaDS",
        "colab_type": "code",
        "colab": {
          "base_uri": "https://localhost:8080/",
          "height": 72
        },
        "outputId": "64122faa-7283-4cee-eebb-04ebac433d9d"
      },
      "source": [
        "import math\n",
        "SQRT_5 = math.sqrt(5)\n",
        "def calc_fibonacci(n):\n",
        "    a = (1 + SQRT_5) / 2\n",
        "    b = (1 - SQRT_5) / 2\n",
        "    fn = int((a**n - b**n) / SQRT_5)\n",
        "    return fn\n",
        "\n",
        "print(calc_fibonacci(5))\n",
        "print(calc_fibonacci(10))\n",
        "print(calc_fibonacci(20))"
      ],
      "execution_count": 76,
      "outputs": [
        {
          "output_type": "stream",
          "text": [
            "5\n",
            "55\n",
            "6765\n"
          ],
          "name": "stdout"
        }
      ]
    },
    {
      "cell_type": "markdown",
      "metadata": {
        "id": "3oFBidXGiaDU",
        "colab_type": "text"
      },
      "source": [
        "2. Tokenize the following sentences with RE:\n",
        "```\n",
        "sents = \"\"\"He asked: \"When will you graduate?\"\\n\"I will get my Ph.D. degree(Doctor of Philosophy) in a few years, hehe. And get $123,45675.45.\" I answered. END\"\"\"\n",
        "```\n",
        "How many token types are there in total?"
      ]
    },
    {
      "cell_type": "code",
      "metadata": {
        "id": "6TRWMYHgiaDV",
        "colab_type": "code",
        "colab": {
          "base_uri": "https://localhost:8080/",
          "height": 184
        },
        "outputId": "43c56b1b-8b7a-4d23-db25-27c881d991b6"
      },
      "source": [
        "import re\n",
        "\n",
        "PUNCTS = ['\"', \"'\",':', ';', '?', '(',')', '[', ']', '!', '$', '&', '*', '#', '-']\n",
        "PUNCTS_REGEX =  {',':['[^ ](,)(\\s+)'], '.':['[^ ]\\.(\\s+)([^a-z])']}\n",
        "\n",
        "def my_tokenizer(sents):\n",
        "    print('Original...')\n",
        "    print(sents)\n",
        "\n",
        "    for punt in PUNCTS:\n",
        "        sents = sents.replace(punt, (' ' + punt + ' '))\n",
        "\n",
        "    for punct, regs in PUNCTS_REGEX.items():\n",
        "        for reg in regs:\n",
        "            p = re.compile(reg)\n",
        "            m = p.search(sents)\n",
        "            while m:\n",
        "                sents = sents[:m.start() + 1] + ' ' + punct + ' ' + sents[m.start() + 2:]\n",
        "                m = p.search(sents)\n",
        "    sents = re.sub(r' +', ' ', sents)        \n",
        "\n",
        "    print('After Tokenization...')\n",
        "    print(sents)\n",
        "    return sents\n",
        "\n",
        "sents = \"\"\"He asked: \"When will you graduate?\"\\n\"I will get my Ph.D. degree(Doctor of Philosophy) in a few years, hehe. And get $123,45675.45.\" I answered. END\"\"\"\n",
        "tok_sents = my_tokenizer(sents)\n",
        "print(set(tok_sents.split()))\n",
        "print(len(set(tok_sents.split())))"
      ],
      "execution_count": 77,
      "outputs": [
        {
          "output_type": "stream",
          "text": [
            "Original...\n",
            "He asked: \"When will you graduate?\"\n",
            "\"I will get my Ph.D. degree(Doctor of Philosophy) in a few years, hehe. And get $123,45675.45.\" I answered. END\n",
            "After Tokenization...\n",
            "He asked : \" When will you graduate ? \" \n",
            " \" I will get my Ph.D. degree ( Doctor of Philosophy ) in a few years , hehe . And get $ 123,45675.45 . \" I answered . END\n",
            "{')', '123,45675.45', 'in', 'a', 'hehe', 'degree', ':', 'my', 'answered', 'get', '.', 'When', '$', 'I', 'asked', '?', 'few', 'Philosophy', 'will', 'And', 'He', '(', 'Ph.D.', 'years', 'you', 'of', '\"', ',', 'Doctor', 'END', 'graduate'}\n",
            "31\n"
          ],
          "name": "stdout"
        }
      ]
    },
    {
      "cell_type": "markdown",
      "metadata": {
        "id": "OXq7klDBiaDd",
        "colab_type": "text"
      },
      "source": [
        "3. Tokenize the previous sentences with SpaCy. How many token types are there in total?"
      ]
    },
    {
      "cell_type": "code",
      "metadata": {
        "id": "MuPiRxMxiaDd",
        "colab_type": "code",
        "colab": {
          "base_uri": "https://localhost:8080/",
          "height": 147
        },
        "outputId": "42895ed3-b6e4-4ef0-e01c-4fa87e132170"
      },
      "source": [
        "# import spacy module\n",
        "import spacy\n",
        "\n",
        "# load english model\n",
        "nlp = spacy.load(\"en_core_web_sm\")\n",
        "# read the text and process\n",
        "doc = nlp(sents)\n",
        "print(doc)\n",
        "tokens = [token.text for token in doc]\n",
        "print(' '.join(tokens))\n",
        "print(set(tokens))\n",
        "print(len(set(tokens)))"
      ],
      "execution_count": 78,
      "outputs": [
        {
          "output_type": "stream",
          "text": [
            "He asked: \"When will you graduate?\"\n",
            "\"I will get my Ph.D. degree(Doctor of Philosophy) in a few years, hehe. And get $123,45675.45.\" I answered. END\n",
            "He asked : \" When will you graduate ? \" \n",
            " \" I will get my Ph.D. degree(Doctor of Philosophy ) in a few years , hehe . And get $ 123,45675.45 . \" I answered . END\n",
            "{')', '123,45675.45', 'in', 'degree(Doctor', 'a', 'hehe', ':', 'my', 'answered', 'get', '.', 'When', '\\n', '$', 'I', 'asked', '?', 'few', 'Philosophy', 'will', 'And', 'He', 'Ph.D.', 'years', 'you', 'of', '\"', ',', 'END', 'graduate'}\n",
            "30\n"
          ],
          "name": "stdout"
        }
      ]
    },
    {
      "cell_type": "markdown",
      "metadata": {
        "id": "E6WVbaMuiaDf",
        "colab_type": "text"
      },
      "source": [
        "## External Resources"
      ]
    },
    {
      "cell_type": "markdown",
      "metadata": {
        "id": "zL6CoT4KiaDf",
        "colab_type": "text"
      },
      "source": [
        "- [How To Define Functions in Python 3](https://www.digitalocean.com/community/tutorials/how-to-define-functions-in-python-3)\n",
        "- [Regular Expression HOWTO](https://docs.python.org/3.6/howto/regex.html#regex-howto)\n",
        "- [Regular Expression Documentation](https://docs.python.org/3.6/library/re.html)\n",
        "- [Eliza](https://github.com/jezhiggins/eliza.py/blob/master/eliza.py)\n",
        "- [spaCy 101: Everything you need to know](https://spacy.io/usage/spacy-101#_title)\n",
        "- [Advanced NLP with spaCy](https://course.spacy.io/)"
      ]
    },
    {
      "cell_type": "markdown",
      "metadata": {
        "id": "kkBWDFnwiaDg",
        "colab_type": "text"
      },
      "source": [
        "## Next Module\n",
        "\n",
        "[Click here](../module_1.4/module_1.4.ipynb) to move to the next module."
      ]
    }
  ]
}