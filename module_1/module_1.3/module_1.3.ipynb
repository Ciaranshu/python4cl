{
 "cells": [
  {
   "cell_type": "markdown",
   "metadata": {},
   "source": [
    "<div style='background-image: url(\"../../resources/section_header.jpg\") ; padding: 0px ; background-size: cover ; border-radius: 5px ; height: 250px'>\n",
    "    <div style=\"float: right ; margin: 50px ; padding: 20px ; background: rgba(255 , 255 , 255 , 0.7) ; width: 50% ; height: 150px\">\n",
    "        <div style=\"position: relative ; top: 50% ; transform: translatey(-50%)\">\n",
    "            <div style=\"font-size: x-large ; font-weight: 900 ; color: rgba(0 , 115 , 207 , 0.9) ; line-height: 100%\">Python for Computational Linguists</div>\n",
    "            <div style=\"font-size: x-large ; padding-top: 20px ; color: rgba(0 , 115 , 207, 0.7)\">1.3 - Basic NLP with Python</div>\n",
    "        </div>\n",
    "    </div>\n",
    "</div>"
   ]
  },
  {
   "cell_type": "markdown",
   "metadata": {},
   "source": [
    "# Module 1.3"
   ]
  },
  {
   "cell_type": "markdown",
   "metadata": {},
   "source": [
    "In this module, we will cover\n",
    "- functions;\n",
    "- regular expressions;\n",
    "- spaCy;"
   ]
  },
  {
   "cell_type": "markdown",
   "metadata": {},
   "source": [
    "## Functions"
   ]
  },
  {
   "cell_type": "markdown",
   "metadata": {},
   "source": [
    "This section is built on this [tutorial](https://www.digitalocean.com/community/tutorials/how-to-define-functions-in-python-3), and students are strongly recommended to go through it.\n",
    "\n",
    "> A function is a block of instructions that performs an action and, once defined, can be reused. Functions make code more modular, allowing you to use the same code over and over again.\n",
    "\n",
    "Python has a number of built-in functions that you may be familiar with, including:\n",
    "\n",
    "- `print()` which will print an object to the terminal;\n",
    "- `int()` which will convert a string or number data type to an integer data type;\n",
    "- `len()` which returns the length of an objecj."
   ]
  },
  {
   "cell_type": "code",
   "execution_count": null,
   "metadata": {},
   "outputs": [],
   "source": [
    "print('hello world!')"
   ]
  },
  {
   "cell_type": "code",
   "execution_count": null,
   "metadata": {},
   "outputs": [],
   "source": [
    "int(3.5)"
   ]
  },
  {
   "cell_type": "code",
   "execution_count": null,
   "metadata": {},
   "outputs": [],
   "source": [
    "len([1,2,3])"
   ]
  },
  {
   "cell_type": "markdown",
   "metadata": {},
   "source": [
    "Another similar concept is `method`. Check [here](https://stackoverflow.com/questions/155609/whats-the-difference-between-a-method-and-a-function) for their difference."
   ]
  },
  {
   "cell_type": "markdown",
   "metadata": {},
   "source": [
    "Now let's learn how to define and call functions."
   ]
  },
  {
   "cell_type": "markdown",
   "metadata": {},
   "source": [
    "### Define a function"
   ]
  },
  {
   "cell_type": "markdown",
   "metadata": {},
   "source": [
    "A function is defined by using the `def` keyword, followed by \n",
    "1. a **function name** of your choosing;\n",
    "2. a set of parentheses which hold any **parameters** the function will take (they can be empty);\n",
    "3. an ending **colon**;\n",
    "4. function **content code**."
   ]
  },
  {
   "cell_type": "markdown",
   "metadata": {},
   "source": [
    "Let's define a simple function `hello()`that prints **hello world**."
   ]
  },
  {
   "cell_type": "code",
   "execution_count": null,
   "metadata": {},
   "outputs": [],
   "source": [
    "def hello():\n",
    "    print('hello world')"
   ]
  },
  {
   "cell_type": "markdown",
   "metadata": {},
   "source": [
    "Note that \n",
    "- We do not have any parameter for this function, and we will discuss on it in more details later;\n",
    "- To start our real function content code, python requires a 4-space indent, as shown above.\n",
    "\n",
    "Now we have defined our first function. In order to let the program run this function, we still need to call the function, just like what we did to the python built-in functions:"
   ]
  },
  {
   "cell_type": "code",
   "execution_count": null,
   "metadata": {},
   "outputs": [],
   "source": [
    "hello()"
   ]
  },
  {
   "cell_type": "markdown",
   "metadata": {},
   "source": [
    "Functions can be more complicated. For example, we can use for loops, conditional statements, and more within our function block.\n",
    "\n",
    "For example, the function defined below utilizes a conditional statement to check if the input for the name variable contains a vowel, then uses a for loop to iterate over the letters in the name string."
   ]
  },
  {
   "cell_type": "code",
   "execution_count": null,
   "metadata": {},
   "outputs": [],
   "source": [
    "# Define function names()\n",
    "def names():\n",
    "    # Set up name variable with input\n",
    "    name = str(input('Enter your name: '))\n",
    "    # Check whether name has a vowel\n",
    "    if set('aeiou').intersection(name.lower()):\n",
    "        print('Your name contains a vowel.')\n",
    "    else:\n",
    "        print('Your name does not contain a vowel.')\n",
    "\n",
    "    # Iterate over name\n",
    "    for letter in name:\n",
    "        print(letter)"
   ]
  },
  {
   "cell_type": "code",
   "execution_count": null,
   "metadata": {},
   "outputs": [],
   "source": [
    "# Call the function\n",
    "names()"
   ]
  },
  {
   "cell_type": "markdown",
   "metadata": {},
   "source": [
    "The `names()` function sets up a conditional statement and a for loop, showing how code can be organized within a function definition.\n",
    "\n",
    "> Defining functions within a program makes our code modular and reusable so that we can call the same functions without rewriting them."
   ]
  },
  {
   "cell_type": "markdown",
   "metadata": {},
   "source": [
    "### Function parameters"
   ]
  },
  {
   "cell_type": "markdown",
   "metadata": {},
   "source": [
    "So far we have looked at functions with empty parentheses, but we can define parameters in function definitions within their parentheses.\n",
    "\n",
    "> Parameter is variable in the definition of function that the function can accept.\n",
    "\n",
    "Let’s create a function that takes trhee parameters `x`, `y`, `z`, and adds them in different configurations. The sums of these will be printed by the function. Then we’ll call the function and pass numbers into the function."
   ]
  },
  {
   "cell_type": "code",
   "execution_count": null,
   "metadata": {},
   "outputs": [],
   "source": [
    "def add_numbers(x, y, z):\n",
    "    a = x + y\n",
    "    b = x + z\n",
    "    c = y + z\n",
    "    print(a, b, c)"
   ]
  },
  {
   "cell_type": "markdown",
   "metadata": {},
   "source": [
    "Now we can pass the `arguments` we want into the function to call it. Check [here](https://www.quora.com/What-is-the-difference-between-argument-and-parameters-in-C) for the difference between parameter and argument."
   ]
  },
  {
   "cell_type": "code",
   "execution_count": null,
   "metadata": {},
   "outputs": [],
   "source": [
    "add_numbers(1, 2, 3)"
   ]
  },
  {
   "cell_type": "markdown",
   "metadata": {},
   "source": [
    "We passed the number `1` in for the `x` parameter, `2` in for the `y` parameter, and `3` in for the `z` parameter. These values correspond with each parameter in the order they are given."
   ]
  },
  {
   "cell_type": "code",
   "execution_count": null,
   "metadata": {},
   "outputs": [],
   "source": [
    "# try different arguments\n",
    "add_numbers(4, 6, 8)\n",
    "add_numbers('a', 'b', 'c') # how does it work?"
   ]
  },
  {
   "cell_type": "markdown",
   "metadata": {},
   "source": [
    "### Keyword Arguments"
   ]
  },
  {
   "cell_type": "markdown",
   "metadata": {},
   "source": [
    "We can also use keyword arguments in a function call to identify the arguments by the parameter name.\n",
    "\n",
    "When using keyword arguments, we can use parameters out of order because the Python interpreter will use the keywords provided to match the values to the parameters:"
   ]
  },
  {
   "cell_type": "code",
   "execution_count": null,
   "metadata": {},
   "outputs": [],
   "source": [
    "add_numbers(x = 4, y = 6, z = 8)\n",
    "add_numbers(y = 6, x = 4, z = 8) # out of order, but same arguments"
   ]
  },
  {
   "cell_type": "markdown",
   "metadata": {},
   "source": [
    "### Default Argument Values"
   ]
  },
  {
   "cell_type": "markdown",
   "metadata": {},
   "source": [
    "We can also provide default values for one or more parameters, so the parameters will be set to the default values\n",
    "if we do not mention them when calling the function."
   ]
  },
  {
   "cell_type": "code",
   "execution_count": null,
   "metadata": {},
   "outputs": [],
   "source": [
    "def add_numbers_default_value(x, y = 6, z = 10):\n",
    "    a = x + y\n",
    "    b = x + z\n",
    "    c = y + z\n",
    "    print(a, b, c)"
   ]
  },
  {
   "cell_type": "code",
   "execution_count": null,
   "metadata": {},
   "outputs": [],
   "source": [
    "add_numbers_default_value(4)\n",
    "add_numbers_default_value(x = 4)"
   ]
  },
  {
   "cell_type": "markdown",
   "metadata": {},
   "source": [
    "We can also explicitly pass the arguments to the parameters with the default value:"
   ]
  },
  {
   "cell_type": "code",
   "execution_count": null,
   "metadata": {},
   "outputs": [],
   "source": [
    "add_numbers_default_value(4, y = 8)"
   ]
  },
  {
   "cell_type": "markdown",
   "metadata": {},
   "source": [
    "### Returning a Value"
   ]
  },
  {
   "cell_type": "markdown",
   "metadata": {},
   "source": [
    "We can pass parameters into a function, and a function can also return a value to us in the end. When a function exits, it can *optionally* pass an expression back to the caller, with the `return` statement. If you use a `return` statement with no arguments, the function will return `None`.\n",
    "\n",
    "So far, we have used the `print()` statement instead of the return statement in our functions. Let’s create a program that instead of printing will return a variable. The function `square` will take a parameter `x`, and returns the variable `y` representing the square of `x`."
   ]
  },
  {
   "cell_type": "code",
   "execution_count": null,
   "metadata": {},
   "outputs": [],
   "source": [
    "def square(x):\n",
    "    y = x ** 2\n",
    "    return y"
   ]
  },
  {
   "cell_type": "code",
   "execution_count": null,
   "metadata": {},
   "outputs": [],
   "source": [
    "result = square(3)\n",
    "print(result)"
   ]
  },
  {
   "cell_type": "markdown",
   "metadata": {},
   "source": [
    "As stated previously, we can use `return` with no arguments, so that the function will return `None`."
   ]
  },
  {
   "cell_type": "code",
   "execution_count": null,
   "metadata": {},
   "outputs": [],
   "source": [
    "# we return no arguments\n",
    "def square_return_noarg(x):\n",
    "    y = x ** 2\n",
    "    return"
   ]
  },
  {
   "cell_type": "code",
   "execution_count": null,
   "metadata": {},
   "outputs": [],
   "source": [
    "result = square_return_noarg(3)\n",
    "print(result)"
   ]
  },
  {
   "cell_type": "markdown",
   "metadata": {},
   "source": [
    "Additionally, without using the `return` statement here, the function cannot return a value so the value defaults to `None` as well."
   ]
  },
  {
   "cell_type": "code",
   "execution_count": null,
   "metadata": {},
   "outputs": [],
   "source": [
    "# we do no use return\n",
    "def square_noreturn(x):\n",
    "    y = x ** 2"
   ]
  },
  {
   "cell_type": "code",
   "execution_count": null,
   "metadata": {},
   "outputs": [],
   "source": [
    "result = square_noreturn(3)\n",
    "print(result)"
   ]
  },
  {
   "cell_type": "markdown",
   "metadata": {},
   "source": [
    "In the previous function `add_numbers`, instead of printing the results, we can `return` more than one value wrapped in data structures such as **tuples**, **lists** or **dictionaries**:"
   ]
  },
  {
   "cell_type": "code",
   "execution_count": null,
   "metadata": {},
   "outputs": [],
   "source": [
    "def add_numbers_return_dict(x, y, z):\n",
    "    a = x + y\n",
    "    b = x + z\n",
    "    c = y + z\n",
    "    return {'a': a, 'b': b, 'c': c}"
   ]
  },
  {
   "cell_type": "code",
   "execution_count": null,
   "metadata": {},
   "outputs": [],
   "source": [
    "result = add_numbers_return_dict(1, 2, 3)\n",
    "print(result)"
   ]
  },
  {
   "cell_type": "markdown",
   "metadata": {},
   "source": [
    "Whenever the program hits a `return` statement, the function will exit immediately, whether or not they are returning a value."
   ]
  },
  {
   "cell_type": "code",
   "execution_count": null,
   "metadata": {},
   "outputs": [],
   "source": [
    "def loop_five():\n",
    "    for x in range(0, 25):\n",
    "        print(x)\n",
    "        if x == 5:\n",
    "            # Stop function at x == 5\n",
    "            return\n",
    "    print(\"This line will not execute.\")\n",
    "\n",
    "loop_five()"
   ]
  },
  {
   "cell_type": "markdown",
   "metadata": {},
   "source": [
    "The function hits `return` before the `for` loop ends, so the line that is outside of the loop will not run. "
   ]
  },
  {
   "cell_type": "markdown",
   "metadata": {},
   "source": [
    "<img src=\"../../resources/quiz.png\" style=\"height:36pt; float:left; margin-right: 4pt\" /> <h2>Quiz</h2>"
   ]
  },
  {
   "cell_type": "markdown",
   "metadata": {},
   "source": [
    "Given the function:\n",
    "```\n",
    "def add_numbers(x = 3, y = 4, z = 5):\n",
    "    x = x + y\n",
    "    y = x + z\n",
    "    z = y + z\n",
    "    print(x, y, z)\n",
    "    \n",
    "o, p, q = 5, 6, 7\n",
    "L = [5,6,7]\n",
    "```"
   ]
  },
  {
   "cell_type": "markdown",
   "metadata": {},
   "source": [
    "1. What does the following code print?\n",
    "\n",
    "```\n",
    "d = add_numbers(5)\n",
    "```\n",
    "\n",
    "A. 7 8 9\n",
    "\n",
    "B. 7, 8, 9\n",
    "\n",
    "C. 9 14 19\n",
    "\n",
    "D. 9, 14, 19"
   ]
  },
  {
   "cell_type": "markdown",
   "metadata": {},
   "source": [
    "<hr>    <!-- please remember this! -->\n",
    "<details>\n",
    "  <summary>Click <b>here</b> to see the answer.</summary>\n",
    "  <p>C</p>\n",
    "</details> "
   ]
  },
  {
   "cell_type": "markdown",
   "metadata": {},
   "source": [
    "2. What is the value of `d`?\n",
    "\n",
    "A. 7\n",
    "\n",
    "B. 9\n",
    "\n",
    "C. 10\n",
    "\n",
    "D. None"
   ]
  },
  {
   "cell_type": "markdown",
   "metadata": {},
   "source": [
    "<hr>    <!-- please remember this! -->\n",
    "<details>\n",
    "  <summary>Click <b>here</b> to see the answer.</summary>\n",
    "  <p>D</p>\n",
    "</details> "
   ]
  },
  {
   "cell_type": "markdown",
   "metadata": {},
   "source": [
    "3. What is the value of `o p q` after running the following code?\n",
    "\n",
    "```\n",
    "add_numbers(o, p, q)\n",
    "```\n",
    "\n",
    "A. 7 12 17\n",
    "\n",
    "B. 9 14 19\n",
    "\n",
    "C. 11 18 25\n",
    "\n",
    "D. 5 6 7"
   ]
  },
  {
   "cell_type": "markdown",
   "metadata": {},
   "source": [
    "<hr>    <!-- please remember this! -->\n",
    "<details>\n",
    "  <summary>Click <b>here</b> to see the answer.</summary>\n",
    "  <p>D</p>\n",
    "</details> "
   ]
  },
  {
   "cell_type": "markdown",
   "metadata": {},
   "source": [
    "4. How to pass the element of `L` as the parameters of the function?\n",
    "\n",
    "\n",
    "A. ```add_numbers(L)```\n",
    "\n",
    "\n",
    "B. ```add_numbers(L*)```\n",
    "\n",
    "C. ```add_numbers(*L)```\n",
    "\n",
    "D. ```add_numbers(**L)```"
   ]
  },
  {
   "cell_type": "markdown",
   "metadata": {},
   "source": [
    "<hr>    <!-- please remember this! -->\n",
    "<details>\n",
    "  <summary>Click <b>here</b> to see the answer.</summary>\n",
    "  <p>C</p>\n",
    "</details> "
   ]
  },
  {
   "cell_type": "markdown",
   "metadata": {},
   "source": [
    "5. What is the value of `L` after running the following code?\n",
    "\n",
    "```\n",
    "add_numbers(L, L, L)\n",
    "```\n",
    "\n",
    "A. [5, 6, 7]\n",
    "\n",
    "B. [5, 6, 7, 5, 6, 7]\n",
    "\n",
    "C. [5, 6, 7, 5, 6, 7, 5, 6, 7]\n",
    "\n",
    "D. [5, 6, 7, 5, 6, 7, 5, 6, 7, 5, 6, 7]"
   ]
  },
  {
   "cell_type": "markdown",
   "metadata": {},
   "source": [
    "<hr>    <!-- please remember this! -->\n",
    "<details>\n",
    "  <summary>Click <b>here</b> to see the answer.</summary>\n",
    "  <p>A</p>\n",
    "</details> "
   ]
  },
  {
   "cell_type": "markdown",
   "metadata": {},
   "source": [
    "## Regular expressions"
   ]
  },
  {
   "cell_type": "markdown",
   "metadata": {},
   "source": [
    "### Pre-module quiz"
   ]
  },
  {
   "cell_type": "markdown",
   "metadata": {
    "collapsed": true
   },
   "source": [
    "This section is heavily built on this [tutorial](https://docs.python.org/3.6/howto/regex.html#regex-howto), and students are strongly recommended to go through it. A more comprehensive documentation of python regular expressions can be found [here](https://docs.python.org/3.6/library/re.html)."
   ]
  },
  {
   "cell_type": "markdown",
   "metadata": {},
   "source": [
    "Regular expressions (called REs, or regexes, or regex patterns) are essentially a tiny, highly specialized programming language embedded inside Python and made available through the re module. Using this little language, you specify the rules for the set of possible strings that you want to match; this set might contain English sentences, or e-mail addresses, or TeX commands, or anything you like. You can then ask questions such as “Does this string match the pattern?”, or “Is there a match for the pattern anywhere in this string?”. You can also use REs to modify a string or to split it apart in various ways."
   ]
  },
  {
   "cell_type": "markdown",
   "metadata": {},
   "source": [
    "Python uses the **raw string** notation for RE patterns, and backslashes '\\' are not handled in any special way in a string literal prefixed with 'r'. So r'\\n' is a two-character string containing '\\' and 'n', while '\\n' is a one-character string containing a newline. \n",
    "\n",
    "We’ll use the raw string notation for the rest of the section. We will also write REs in highlight style , i.e. r'\\n' is equivalent to `\\n`, usually without quotes, and strings to be matched 'in single quotes'."
   ]
  },
  {
   "cell_type": "markdown",
   "metadata": {},
   "source": [
    "REs can contain both special and ordinary characters. Most ordinary characters, like `A`, `a`, or `0`, are the simplest REs; they simply match themselves. You can concatenate ordinary characters to match more complex sequence. For example, `test` will match the string 'test' exactly.\n",
    "\n",
    "Some characters are special metacharacters, and don’t match themselves. Instead, they signal that some out-of-the-ordinary thing should be matched, or they affect other portions of the RE by repeating them or changing their meaning.\n",
    "\n",
    "Here’s a complete list of the metacharacters and their explanations:\n",
    "\n",
    "- `.`             Matches any character except a newline.\n",
    "- `^`             Matches the start of the string.\n",
    "- `$`             Matches the end of the string or just before the newline at the end of the string.\n",
    "- `*`             Matches 0 or more (greedy) repetitions of the preceding RE. Greedy means that it will match as many repetitions as possible.\n",
    "- `+`             Matches 1 or more (greedy) repetitions of the preceding RE.\n",
    "- `?`             Matches 0 or 1 (greedy) of the preceding RE.\n",
    "- `*?, +?, ??`    Non-greedy versions of the previous three special characters.\n",
    "- `{m,n}`         Matches from m to n repetitions of the preceding RE.\n",
    "- `{m,n}?`        Non-greedy version of the above.\n",
    "- `\\\\`            Either escapes special characters or signals a special sequence.\n",
    "- `[]`            Indicates a set of characters. A \"^\" as the first character indicates a complementing set.\n",
    "- `|`             A|B, creates an RE that will match either A or B.\n",
    "- `(...)`         Matches the RE inside the parentheses. The contents can be retrieved or matched later in the string.\n",
    "\n",
    "\n",
    "The special sequences consist of \"\\\\\" and a character from the list below:\n",
    "- `\\number`  Matches the contents of the group of the same number.\n",
    "- `\\A`       Matches only at the start of the string.\n",
    "- `\\Z`       Matches only at the end of the string.\n",
    "- `\\b`       Matches the empty string, but only at the start or end of a word.\n",
    "- `\\B`       Matches the empty string, but not at the start or end of a word.\n",
    "- `\\d`       Matches any decimal digit; equivalent to the set `[0-9]`.\n",
    "- `\\D`       Matches any non-digit character; equivalent to `[^\\d]`.\n",
    "- `\\s`       Matches any whitespace character; equivalent to `[ \\t\\n\\r\\f\\v]`.\n",
    "- `\\S`       Matches any non-whitespace character; equivalent to `[^\\s]`.\n",
    "- `\\w`       Matches any alphanumeric character; equivalent to `[a-zA-Z0-9_]`.\n",
    "- `\\W`       Matches the complement of `\\w`.\n",
    "- `\\\\`       Matches a literal backslash."
   ]
  },
  {
   "cell_type": "code",
   "execution_count": null,
   "metadata": {},
   "outputs": [],
   "source": [
    "# import built-in regular expression module in python\n",
    "import re"
   ]
  },
  {
   "cell_type": "code",
   "execution_count": null,
   "metadata": {},
   "outputs": [],
   "source": [
    "text = (\"\"\"                2\n",
    "  When forty winters shall besiege thy brow,\"\"\"\n",
    "  \"And dig deep trenches in thy beauty's field, \"\n",
    "  \"Thy youth's proud livery so gazed on now, \"\n",
    "  \"Will be a tattered weed of small worth held: \"\n",
    "  \"Then being asked, where all thy beauty lies, \"\n",
    "  \"Where all the treasure of thy lusty days; \"\n",
    "  \"To say within thine own deep sunken eyes, \"\n",
    "  \"Were an all-eating shame, and thriftless praise. \"\n",
    "  \"How much more praise deserved thy beauty's use, \"\n",
    "  \"If thou couldst answer 'This fair child of mine \"\n",
    "  \"Shall sum my count, and make my old excuse' \"\n",
    "  \"Proving his beauty by succession thine. \"\n",
    "  \"This were to be new made when thou art old, \"\n",
    "  \"And see thy blood warm when thou feel'st it cold.\")\n",
    "\n",
    "print(text)"
   ]
  },
  {
   "cell_type": "markdown",
   "metadata": {},
   "source": [
    "We will mainly concentrate two essential usage of regular expressions: **searching** and **substituting** text."
   ]
  },
  {
   "cell_type": "markdown",
   "metadata": {},
   "source": [
    "### Searching text"
   ]
  },
  {
   "cell_type": "markdown",
   "metadata": {},
   "source": [
    "Let's first find word '**where**', in regardless of case.\n",
    "\n",
    "The **re** module provides an interface to the regular expression engine, allowing you to compile REs into objects and then perform matches with them."
   ]
  },
  {
   "cell_type": "code",
   "execution_count": null,
   "metadata": {},
   "outputs": [],
   "source": [
    "p = re.compile(r'\\b[Ww]here\\b')\n",
    "p"
   ]
  },
  {
   "cell_type": "markdown",
   "metadata": {},
   "source": [
    "After we obtained compiled pattern object, it has several functions and attributes. For **searching** text, there are mainly four functions available:\n",
    "- *match()*: determine if the RE matches at the beginning of the string.\n",
    "- *search()*: scan through a string, looking for any location where this RE matches.\n",
    "- *findall()*: find all substrings where the RE matches, and returns them as a list.\n",
    "- *finditer()*: find all substrings where the RE matches, and returns them as an iterator.\n",
    "\n",
    "Please consult the **re** documentation for a complete listing."
   ]
  },
  {
   "cell_type": "code",
   "execution_count": null,
   "metadata": {},
   "outputs": [],
   "source": [
    "m = p.match(text)\n",
    "print(m)"
   ]
  },
  {
   "cell_type": "code",
   "execution_count": null,
   "metadata": {},
   "outputs": [],
   "source": [
    "m = p.search(text)\n",
    "print(m)"
   ]
  },
  {
   "cell_type": "markdown",
   "metadata": {},
   "source": [
    "The functions *match()* and *search()* return None if no match can be found. If they’re successful, a match object instance is returned, containing information about the match: where it starts and ends, the substring it matched, and more.\n",
    "\n",
    "In this example, as the text doesn't start with the word 'where', so *match()* won't find any match, whereas *search()* will look for any location where RE matches.\n",
    "\n",
    "We can further query the match object for information about the matching string."
   ]
  },
  {
   "cell_type": "code",
   "execution_count": null,
   "metadata": {},
   "outputs": [],
   "source": [
    "m.group()"
   ]
  },
  {
   "cell_type": "code",
   "execution_count": null,
   "metadata": {},
   "outputs": [],
   "source": [
    "m.start(), m.end()"
   ]
  },
  {
   "cell_type": "code",
   "execution_count": null,
   "metadata": {},
   "outputs": [],
   "source": [
    "m.span()"
   ]
  },
  {
   "cell_type": "markdown",
   "metadata": {},
   "source": [
    "Now what if we want to find all matches, i.e. all words 'where'? We can use *findall()* and *finditer()*.\n",
    "\n",
    "The *findall()* returns a list of matching strings."
   ]
  },
  {
   "cell_type": "code",
   "execution_count": null,
   "metadata": {},
   "outputs": [],
   "source": [
    "m = p.findall(text)\n",
    "print(m)"
   ]
  },
  {
   "cell_type": "markdown",
   "metadata": {},
   "source": [
    "The *finditer()* returns a sequence of match object instances as an iterator."
   ]
  },
  {
   "cell_type": "code",
   "execution_count": null,
   "metadata": {},
   "outputs": [],
   "source": [
    "iterator = p.finditer(text)\n",
    "for match in iterator:\n",
    "    print(match)"
   ]
  },
  {
   "cell_type": "markdown",
   "metadata": {},
   "source": [
    "You don’t have to create a pattern object and call its functions; the **re** module also provides the same top-level functions."
   ]
  },
  {
   "cell_type": "code",
   "execution_count": null,
   "metadata": {},
   "outputs": [],
   "source": [
    "print(re.search(r'\\b[Ww]here\\b', text))"
   ]
  },
  {
   "cell_type": "code",
   "execution_count": null,
   "metadata": {},
   "outputs": [],
   "source": [
    "print(re.findall(r'\\b[Ww]here\\b', text))"
   ]
  },
  {
   "cell_type": "markdown",
   "metadata": {},
   "source": [
    "Notice that when we compile the RE, there is a **re.UNICODE** item when we print the object. It is a compliation flag which let you modify some aspects of how RE works. The full flag list is available in the module documentation. For example, we can use **re.IGNORECASE** or **re.I** to do case-insensitive matches, so that we do not have to take care of capital letters."
   ]
  },
  {
   "cell_type": "code",
   "execution_count": null,
   "metadata": {},
   "outputs": [],
   "source": [
    "p = re.compile(r'\\bwhere\\b', re.I)\n",
    "p"
   ]
  },
  {
   "cell_type": "markdown",
   "metadata": {},
   "source": [
    "And we will still have the same results."
   ]
  },
  {
   "cell_type": "code",
   "execution_count": null,
   "metadata": {},
   "outputs": [],
   "source": [
    "m = p.findall(text)\n",
    "print(m)"
   ]
  },
  {
   "cell_type": "markdown",
   "metadata": {},
   "source": [
    "Now try to come up with your regular expressions and search in the text to see if they will work."
   ]
  },
  {
   "cell_type": "markdown",
   "metadata": {},
   "source": [
    "#### Groupings"
   ]
  },
  {
   "cell_type": "markdown",
   "metadata": {},
   "source": [
    "Frequently you need to obtain more information than just whether the RE matched or not. REs are often used to dissect strings by writing a RE divided into several subgroups which match different components of interest.\n",
    "\n",
    "Groups are marked by the `'('`, `')'` metacharacters. They group together the expressions contained inside them, and you can repeat the contents of a group with a repeating qualifier, such as `*`, `+`, `?`, or `{m,n}`."
   ]
  },
  {
   "cell_type": "code",
   "execution_count": null,
   "metadata": {},
   "outputs": [],
   "source": [
    "p = re.compile('((a(b)c)d)*')\n",
    "m = p.match('abcdabcd')\n",
    "print(m.span())"
   ]
  },
  {
   "cell_type": "markdown",
   "metadata": {},
   "source": [
    "Groups indicated with `'('`, `')'` also capture the starting and ending index of the text that they match; this can be retrieved by passing an argument to `group()`, `start()`, `end()`, and `span()`. \n",
    "\n",
    "Groups are numbered starting with 0. Group 0 is always present; it’s the whole RE, so previous methods all have group 0 as their default argument."
   ]
  },
  {
   "cell_type": "code",
   "execution_count": null,
   "metadata": {},
   "outputs": [],
   "source": [
    "print(m.start(0), m.end(0))\n",
    "print(m.group(0,1,2,3))\n",
    "print(m.span(2))"
   ]
  },
  {
   "cell_type": "markdown",
   "metadata": {},
   "source": [
    "The `groups()` method returns a tuple containing the strings for all the subgroups, from 1 up to however many there are."
   ]
  },
  {
   "cell_type": "code",
   "execution_count": null,
   "metadata": {},
   "outputs": [],
   "source": [
    "print(m.groups())"
   ]
  },
  {
   "cell_type": "markdown",
   "metadata": {},
   "source": [
    "### Substituting text"
   ]
  },
  {
   "cell_type": "markdown",
   "metadata": {},
   "source": [
    "We will use the following functions for substitution:\n",
    "- *sub()*: find all substrings where the RE matches, and replace them with a different string.\n",
    "- *subn()*: does the same thing as sub(), but returns the new string and the number of replacements.\n",
    "\n",
    "Again, you are encouraged to refer to the docs for more functions."
   ]
  },
  {
   "cell_type": "markdown",
   "metadata": {},
   "source": [
    "***sub*** *(replacement, string[, count=0])*\n",
    "\n",
    "Returns the string obtained by replacing the leftmost non-overlapping occurrences of the RE in *string* by the replacement *replacement*. If the pattern isn’t found, string is returned unchanged.\n",
    "\n",
    "The optional argument *count* is the maximum number of pattern occurrences to be replaced; *count* must be a non-negative integer. The default value of 0 means to replace all occurrences."
   ]
  },
  {
   "cell_type": "markdown",
   "metadata": {},
   "source": [
    "For the same example, let's substitute all 'where' words to '-------'."
   ]
  },
  {
   "cell_type": "code",
   "execution_count": null,
   "metadata": {},
   "outputs": [],
   "source": [
    "p = re.compile(r'\\b[Ww]here\\b')\n",
    "print(p.sub('------', text))"
   ]
  },
  {
   "cell_type": "code",
   "execution_count": null,
   "metadata": {},
   "outputs": [],
   "source": [
    "print(p.sub('------', text, count = 1))"
   ]
  },
  {
   "cell_type": "markdown",
   "metadata": {},
   "source": [
    "The *subn()* method does the same work, but returns a 2-tuple containing the new string value and the number of replacements that were performed:"
   ]
  },
  {
   "cell_type": "code",
   "execution_count": null,
   "metadata": {},
   "outputs": [],
   "source": [
    "print(p.subn('------', text))"
   ]
  },
  {
   "cell_type": "code",
   "execution_count": null,
   "metadata": {},
   "outputs": [],
   "source": [
    "p = re.compile('section{ (?P<name> [^}]* ) }', re.VERBOSE)\n",
    "p.sub(r'subsection{\\g<1>}','section{First} section{second}')"
   ]
  },
  {
   "cell_type": "markdown",
   "metadata": {},
   "source": [
    "### Building a simple Eliza"
   ]
  },
  {
   "cell_type": "markdown",
   "metadata": {},
   "source": [
    "Having learnt about Eliza in the lecture, which is meant to emulate a Rogerian psychologist, let us now build a simple version of Eliza with RE."
   ]
  },
  {
   "cell_type": "markdown",
   "metadata": {},
   "source": [
    "Firstl, let us build a dictionary `grefs` that is used to map first-person pronouns to second-person pronouns and vice-versa. It is used to “reflect” a statement back against the user:"
   ]
  },
  {
   "cell_type": "code",
   "execution_count": null,
   "metadata": {},
   "outputs": [],
   "source": [
    "grefs = {\n",
    "    \"am\":          \"are\",\n",
    "    \"was\":         \"were\",\n",
    "    \"i\":           \"you\",\n",
    "    \"i'd\":         \"you would\",\n",
    "    \"i've\":        \"you have\",\n",
    "    \"i'll\":        \"you will\",\n",
    "    \"my\":          \"your\",\n",
    "    \"are\":         \"am\",\n",
    "    \"you are\":     \"I am\",\n",
    "    \"you've\":      \"I have\",\n",
    "    \"you'll\":      \"I will\",\n",
    "    \"your\":        \"my\",\n",
    "    \"yours\":       \"mine\",\n",
    "    \"you\":         \"me\",\n",
    "    \"me\":          \"you\"\n",
    "}"
   ]
  },
  {
   "cell_type": "markdown",
   "metadata": {},
   "source": [
    "Then we need another table `gpats` that is made up of a list of lists, where the first element is a RE that matches the user’s statements and the second element is a list of potential responses. \n",
    "\n",
    "Many of the potential responses contain placeholders that can be filled in with fragments to echo the user’s statements."
   ]
  },
  {
   "cell_type": "code",
   "execution_count": null,
   "metadata": {},
   "outputs": [],
   "source": [
    "gpats = [\n",
    "  [r'I need (.*)',\n",
    "  [  \"Why do you need {0}?\",\n",
    "    \"Would it really help you to get {0}?\",\n",
    "    \"Are you sure you need {0}?\"]],\n",
    "\n",
    "  [r'I can\\'?t (.*)',\n",
    "  [  \"How do you know you can't {0}?\",\n",
    "    \"Perhaps you could {0} if you tried.\",\n",
    "    \"What would it take for you to {0}?\"]],\n",
    "\n",
    "  [r'I am (.*)',\n",
    "  [  \"Did you come to me because you are {0}?\",\n",
    "    \"How long have you been {0}?\",\n",
    "    \"How do you feel about being {0}?\"]],\n",
    "\n",
    "  [r'I\\'?m (.*)',\n",
    "  [  \"How does being {0} make you feel?\",\n",
    "    \"Do you enjoy being {0}?\",\n",
    "    \"Why do you tell me you're {0}?\",\n",
    "    \"Why do you think you're {0}?\"]],\n",
    "\n",
    "  [r'Are you ([^\\?]*)\\??',\n",
    "  [  \"Why does it matter whether I am {0}?\",\n",
    "    \"Would you prefer it if I were not {0}?\",\n",
    "    \"Perhaps you believe I am {0}.\",\n",
    "    \"I may be {0} -- what do you think?\"]],\n",
    "\n",
    "  [r'What (.*)',\n",
    "  [  \"Why do you ask?\",\n",
    "    \"How would an answer to that help you?\",\n",
    "    \"What do you think?\"]],\n",
    "\n",
    "  [r'How (.*)',\n",
    "  [  \"How do you suppose?\",\n",
    "    \"Perhaps you can answer your own question.\",\n",
    "    \"What is it you're really asking?\"]],\n",
    "\n",
    "  [r'Because (.*)',\n",
    "  [  \"Is that the real reason?\",\n",
    "    \"What other reasons come to mind?\",\n",
    "    \"Does that reason apply to anything else?\",\n",
    "    \"If {0}, what else must be true?\"]],\n",
    "\n",
    "  [r'Hello(.*)',\n",
    "  [  \"Hello... I'm glad you could drop by today.\",\n",
    "    \"Hi there... how are you today?\",\n",
    "    \"Hello, how are you feeling today?\"]],\n",
    "\n",
    "  [r'quit',\n",
    "  [  \"Thank you for talking with me.\",\n",
    "    \"Good-bye.\",\n",
    "    \"Thank you, that will be $150.  Have a good day!\"]],\n",
    "  \n",
    "  [r'(.*)',\n",
    "  [  \"Please tell me more.\",\n",
    "    \"Let's change focus a bit... Tell me about your family.\",\n",
    "    \"Can you elaborate on that?\",\n",
    "    \"Why do you say that {0}?\",\n",
    "    \"I see.\",\n",
    "    \"Very interesting.\",\n",
    "    \"{0}.\",\n",
    "    \"I see.  And what does that tell you?\",\n",
    "    \"How does that make you feel?\",\n",
    "    \"How do you feel when you say that?\"]] \n",
    "]"
   ]
  },
  {
   "cell_type": "markdown",
   "metadata": {},
   "source": [
    "Now let us write the function `respond` that reads the user input and generates the response accordingly.\n",
    "\n",
    "We iterate through the regular expressions in `gpats`, trying to match each one with the user’s input `s`. If we find a match, we choose a response template randomly from the list of possible responses associated with the matching pattern. Then we interpolate the match groups from the RE into the response string, calling the `transalte` function on each match group first.\n",
    "\n",
    "When we use the list comprehension to generate a list of reflected match groups, we explode the list with the asterisk (\\*) character before passing it to the string’s `format` method. Format expects a series of positional arguments corresponding to the number of format placeholders – {0}, {1}, etc. – in the string."
   ]
  },
  {
   "cell_type": "code",
   "execution_count": null,
   "metadata": {},
   "outputs": [],
   "source": [
    "import re\n",
    "import random\n",
    "def respond(s):\n",
    "    for pattern, responses in gpats:\n",
    "        # find a match for s\n",
    "        match = re.match(pattern, s)\n",
    "        if match:\n",
    "            # chosen randomly from among the available options\n",
    "            response = random.choice(responses)\n",
    "            return response.format(*[translate(g) for g in match.groups()])"
   ]
  },
  {
   "cell_type": "markdown",
   "metadata": {},
   "source": [
    "First, we make the input lowercase, then we tokenize it by splitting on whitespace characters. We iterate through the list of tokens and, if the token exists in our reflections dictionary, we replace it with the value from the dictionary. So “I” becomes “you”, “your” becomes “my”, etc."
   ]
  },
  {
   "cell_type": "code",
   "execution_count": null,
   "metadata": {},
   "outputs": [],
   "source": [
    "def translate(fragment):\n",
    "    tokens = fragment.lower().split()\n",
    "    for i, token in enumerate(tokens):\n",
    "        if token in grefs:\n",
    "            tokens[i] = grefs[token]\n",
    "    return ' '.join(tokens)"
   ]
  },
  {
   "cell_type": "markdown",
   "metadata": {},
   "source": [
    "Finally, we can wrap everything into an interface where our Eliza will wait for the user input and generate corresponding response."
   ]
  },
  {
   "cell_type": "code",
   "execution_count": null,
   "metadata": {},
   "outputs": [],
   "source": [
    "def start_eliza():\n",
    "    print('Therapist\\n---------')\n",
    "    print('Talk to the program by typing in plain English, using normal upper-')\n",
    "    print('and lower-case letters and punctuation.  Enter \"quit\" when done.')\n",
    "    print('='*72)\n",
    "    print('Hello.  How are you feeling today?')\n",
    "\n",
    "    s = ''\n",
    "    while s != 'quit':\n",
    "        try:\n",
    "            s = input('> ')\n",
    "            while s[-1] in '!.':\n",
    "                s = s[:-1]\n",
    "        except:\n",
    "            s = 'quit'\n",
    "            print('Invalid Input, exit ...')\n",
    "        print(respond(s))"
   ]
  },
  {
   "cell_type": "code",
   "execution_count": null,
   "metadata": {},
   "outputs": [],
   "source": [
    "start_eliza()"
   ]
  },
  {
   "cell_type": "markdown",
   "metadata": {},
   "source": [
    "Now try to add your own [RE, responses] pairs to the `gpats` to capture more questions from the user. Feel free to refer to [this](https://github.com/jezhiggins/eliza.py/blob/master/eliza.py) for more REs."
   ]
  },
  {
   "cell_type": "markdown",
   "metadata": {},
   "source": [
    "<img src=\"../../resources/quiz.png\" style=\"height:36pt; float:left; margin-right: 4pt\" /> <h2>Quiz</h2>"
   ]
  },
  {
   "cell_type": "markdown",
   "metadata": {},
   "source": [
    "1. For the previous text, which RE can find all words with 3, 4 and 5 characters?\n",
    "\n",
    "A. r'.{3,5}'\n",
    "\n",
    "B. r'\\b.{3,5}+\\b'\n",
    "\n",
    "C. r'\\b\\w{3,5}\\b'\n",
    "\n",
    "D. r'\\w{3,5}'"
   ]
  },
  {
   "cell_type": "markdown",
   "metadata": {},
   "source": [
    "<hr>    <!-- please remember this! -->\n",
    "<details>\n",
    "  <summary>Click <b>here</b> to see the answer.</summary>\n",
    "  <p>C</p>\n",
    "</details> "
   ]
  },
  {
   "cell_type": "markdown",
   "metadata": {},
   "source": [
    "2. Which function can you use to find all the words that the RE in 1. matches?\n",
    "\n",
    "A. `match()`\n",
    "\n",
    "B. `search()`\n",
    "\n",
    "C. `finditer()`\n",
    "\n",
    "D. `findall()`"
   ]
  },
  {
   "cell_type": "markdown",
   "metadata": {},
   "source": [
    "<hr>    <!-- please remember this! -->\n",
    "<details>\n",
    "  <summary>Click <b>here</b> to see the answer.</summary>\n",
    "  <p>C, D</p>\n",
    "</details> "
   ]
  },
  {
   "cell_type": "markdown",
   "metadata": {},
   "source": [
    "3. How many words the RE in 1 mathes are there?\n",
    "\n",
    "A. 128\n",
    "\n",
    "B. 105\n",
    "\n",
    "C. 96\n",
    "\n",
    "D. 77"
   ]
  },
  {
   "cell_type": "markdown",
   "metadata": {},
   "source": [
    "<hr>    <!-- please remember this! -->\n",
    "<details>\n",
    "  <summary>Click <b>here</b> to see the answer.</summary>\n",
    "  <p>D</p>\n",
    "</details> "
   ]
  },
  {
   "cell_type": "markdown",
   "metadata": {},
   "source": [
    "4. How many words are there with 5 letters?\n",
    "\n",
    "A. 10\n",
    "\n",
    "B. 20\n",
    "\n",
    "C. 30\n",
    "\n",
    "D. 35"
   ]
  },
  {
   "cell_type": "markdown",
   "metadata": {},
   "source": [
    "<hr>    <!-- please remember this! -->\n",
    "<details>\n",
    "  <summary>Click <b>here</b> to see the answer.</summary>\n",
    "  <p>B</p>\n",
    "</details> "
   ]
  },
  {
   "cell_type": "markdown",
   "metadata": {},
   "source": [
    "5. What's the span of the first word with 4 letters?\n",
    "\n",
    "A. (16, 20)\n",
    "\n",
    "B. (18, 22)\n",
    "\n",
    "C. (20, 24)\n",
    "\n",
    "D. (22, 26) "
   ]
  },
  {
   "cell_type": "markdown",
   "metadata": {},
   "source": [
    "<hr>    <!-- please remember this! -->\n",
    "<details>\n",
    "  <summary>Click <b>here</b> to see the answer.</summary>\n",
    "  <p>C</p>\n",
    "</details> "
   ]
  },
  {
   "cell_type": "markdown",
   "metadata": {},
   "source": [
    "## SpaCy"
   ]
  },
  {
   "cell_type": "markdown",
   "metadata": {},
   "source": [
    "spaCy is a free, open-source library for advanced Natural Language Processing (NLP) in Python.\n",
    "\n",
    "spaCy is designed specifically for production use and helps you build applications that process and “understand” large volumes of text. It can be used to build information extraction or natural language understanding systems, or to pre-process text for deep learning.\n",
    "\n",
    "There are many useful resources online for spaCy, among which the official [tutorial](https://spacy.io/usage/spacy-101) and the [course](https://course.spacy.io/) are extremely useful."
   ]
  },
  {
   "cell_type": "markdown",
   "metadata": {},
   "source": [
    "### Installation"
   ]
  },
  {
   "cell_type": "markdown",
   "metadata": {},
   "source": [
    "Follow the link [here](https://spacy.io/usage) to install spaCy with pip. Then download and install the English model by running:\n",
    "```\n",
    "python -m spacy download en_core_web_sm\n",
    "```"
   ]
  },
  {
   "cell_type": "markdown",
   "metadata": {},
   "source": [
    "spaCy is enables many different features introduced [here](https://spacy.io/usage/spacy-101#features), and we will focus on the simplest and direct features:\n",
    "- tokenization;\n",
    "- stemming; (not supported by spaCy)\n",
    "- lemmatization;\n",
    "- part-of-speech (POS) tagging;\n",
    "- sentence boundary detection and sentence segmentation;\n",
    "- dependency parsing;"
   ]
  },
  {
   "cell_type": "code",
   "execution_count": null,
   "metadata": {},
   "outputs": [],
   "source": [
    "# import spacy module\n",
    "import spacy\n",
    "\n",
    "# load english model\n",
    "nlp = spacy.load(\"en_core_web_sm\")\n",
    "# read the text and process\n",
    "doc = nlp(text)"
   ]
  },
  {
   "cell_type": "code",
   "execution_count": null,
   "metadata": {},
   "outputs": [],
   "source": [
    "# Tokenization\n",
    "# get all separated tokens in doc\n",
    "tokens = [token.text for token in doc]\n",
    "print(tokens)"
   ]
  },
  {
   "cell_type": "markdown",
   "metadata": {},
   "source": [
    "You can see from the list *tokens* that there each tokenized token is in the entry of the list."
   ]
  },
  {
   "cell_type": "code",
   "execution_count": null,
   "metadata": {},
   "outputs": [],
   "source": [
    "# Lemmatization\n",
    "lemmas = [token.lemma_ for token in doc]\n",
    "print(lemmas)"
   ]
  },
  {
   "cell_type": "markdown",
   "metadata": {},
   "source": [
    "Did you notice that almost all pronouns are subsituted with `-PRON-`?\n",
    "\n",
    "Unlike verbs and common nouns, there’s no clear base form of a personal pronoun. Should the lemma of “me” be “I”, or should we normalize person as well, giving “it” — or maybe “he”? spaCy’s solution is to introduce a novel symbol, `-PRON-`, which is used as the lemma for all personal pronouns."
   ]
  },
  {
   "cell_type": "code",
   "execution_count": null,
   "metadata": {},
   "outputs": [],
   "source": [
    "# POS tagging\n",
    "poss = [token.pos_ for token in doc]\n",
    "print(poss)"
   ]
  },
  {
   "cell_type": "markdown",
   "metadata": {},
   "source": [
    "Compare the previous three lists' outputs."
   ]
  },
  {
   "cell_type": "markdown",
   "metadata": {},
   "source": [
    "Now let's move to sentence level features, i.e. sentence boundary detection and sentence segmentation. Unlike other libraries, spaCy uses the dependency parse to determine sentence boundaries. This is usually more accurate than a rule-based approach, but it also means you’ll need a statistical model and accurate predictions.\n",
    "If your texts are closer to general-purpose news or web text, this should work well out-of-the-box. "
   ]
  },
  {
   "cell_type": "code",
   "execution_count": null,
   "metadata": {},
   "outputs": [],
   "source": [
    "sentences = list(doc.sents)\n",
    "sent_texts = [sentence.text for sentence in sentences]\n",
    "print(sent_texts)\n",
    "print(len(sent_texts))"
   ]
  },
  {
   "cell_type": "markdown",
   "metadata": {},
   "source": [
    "However, for other texts like social media texts, your application may benefit from a custom rule-based implementation. You can either use the built-in Sentencizer or plug an entirely custom rule-based function into your processing pipeline.\n",
    "\n",
    "Let's build a rule-based sentence segmentor."
   ]
  },
  {
   "cell_type": "code",
   "execution_count": null,
   "metadata": {},
   "outputs": [],
   "source": [
    "from spacy.lang.en import English\n",
    "\n",
    "nlp_rule = English()  # just the language with no model\n",
    "sentencizer = nlp_rule.create_pipe(\"sentencizer\")\n",
    "nlp_rule.add_pipe(sentencizer)\n",
    "doc_rule = nlp_rule(text)\n",
    "sent_rule_texts = [sent.text for sent in doc_rule.sents]\n",
    "print(sent_rule_texts)\n",
    "print(len(sent_rule_texts))"
   ]
  },
  {
   "cell_type": "markdown",
   "metadata": {},
   "source": [
    "You can see clearly the difference in both methods, where the statistical dependency parse sentence segmentor generate 12 sentencs, but the rule-based sentence segmentor only yields 4 sentences."
   ]
  },
  {
   "cell_type": "markdown",
   "metadata": {},
   "source": [
    "Finally, let's have a look at the dependencies, i.e. the dependency relations between tokens, which is also used to segment sentences for the first model."
   ]
  },
  {
   "cell_type": "code",
   "execution_count": null,
   "metadata": {},
   "outputs": [],
   "source": [
    "# Dependencies\n",
    "deps = [token.dep_ for token in doc]\n",
    "print(deps)"
   ]
  },
  {
   "cell_type": "markdown",
   "metadata": {},
   "source": [
    "Using spaCy’s built-in [displaCy visualizer](https://spacy.io/usage/visualizers), here’s what our example sentence and its dependencies."
   ]
  },
  {
   "cell_type": "code",
   "execution_count": null,
   "metadata": {
    "scrolled": false
   },
   "outputs": [],
   "source": [
    "from spacy import displacy\n",
    "displacy.render(sentences, style = \"dep\")"
   ]
  },
  {
   "cell_type": "markdown",
   "metadata": {},
   "source": [
    "<img src=\"../../resources/quiz.png\" style=\"height:36pt; float:left; margin-right: 4pt\" /> <h2>Quiz</h2>"
   ]
  },
  {
   "cell_type": "markdown",
   "metadata": {},
   "source": [
    "<img src=\"../../resources/assessment.png\" style=\"height:36pt; float:left; margin-right: 4pt\" /> <h2>Assessment</h2>"
   ]
  },
  {
   "cell_type": "markdown",
   "metadata": {},
   "source": [
    "1. Write a function to calculate the $N_{th}$ Finbonacci number without `for` loop using the folloing formula:\n",
    "$$\n",
    "f_n = \\frac{a^n - b^n}{a - b} = \\frac{a^n - b^n}{\\sqrt{5}}\n",
    "$$\n",
    "where $a = \\frac{1 + \\sqrt{5}}{2}$ and $b = \\frac{1- \\sqrt{5}}{2}$."
   ]
  },
  {
   "cell_type": "code",
   "execution_count": 2,
   "metadata": {},
   "outputs": [
    {
     "name": "stdout",
     "output_type": "stream",
     "text": [
      "5\n",
      "55\n",
      "6765\n"
     ]
    }
   ],
   "source": [
    "import math\n",
    "SQRT_5 = math.sqrt(5)\n",
    "def calc_fibonacci(n):\n",
    "    a = (1 + SQRT_5) / 2\n",
    "    b = (1 - SQRT_5) / 2\n",
    "    fn = int((a**n - b**n) / SQRT_5)\n",
    "    return fn\n",
    "\n",
    "print(calc_fibonacci(5))\n",
    "print(calc_fibonacci(10))\n",
    "print(calc_fibonacci(20))"
   ]
  },
  {
   "cell_type": "markdown",
   "metadata": {},
   "source": [
    "2. Tokenize the following sentences with RE:\n",
    "```\n",
    "sents = \"\"\"He asked: \"When will you graduate?\"\\n\"I will get my Ph.D. degree(Doctor of Philosophy) in a few years, hehe. And get $123,45675.45.\" I answered. END\"\"\"\n",
    "```\n",
    "How many token types are there in total?"
   ]
  },
  {
   "cell_type": "code",
   "execution_count": 3,
   "metadata": {},
   "outputs": [
    {
     "name": "stdout",
     "output_type": "stream",
     "text": [
      "Original...\n",
      "He asked: \"When will you graduate?\"\n",
      "\"I will get my Ph.D. degree(Doctor of Philosophy) in a few years, hehe. And get $123,45675.45.\" I answered. END\n",
      "After Tokenization...\n",
      "He asked : \" When will you graduate ? \" \n",
      " \" I will get my Ph.D. degree ( Doctor of Philosophy ) in a few years , hehe . And get $ 123,45675.45 . \" I answered . END\n",
      "{'\"', 'you', ',', 'my', '(', '.', 'END', 'of', 'answered', 'years', 'Doctor', '123,45675.45', ')', 'And', 'will', '?', 'few', '$', 'I', 'a', 'asked', ':', 'When', 'Philosophy', 'graduate', 'Ph.D.', 'in', 'get', 'He', 'hehe', 'degree'}\n",
      "31\n"
     ]
    }
   ],
   "source": [
    "import re\n",
    "\n",
    "PUNCTS = ['\"', \"'\",':', ';', '?', '(',')', '[', ']', '!', '$', '&', '*', '#', '-']\n",
    "PUNCTS_REGEX =  {',':['[^ ](,)(\\s+)'], '.':['[^ ]\\.(\\s+)([^a-z])']}\n",
    "\n",
    "def my_tokenizer(sents):\n",
    "    print('Original...')\n",
    "    print(sents)\n",
    "\n",
    "    for punt in PUNCTS:\n",
    "        sents = sents.replace(punt, (' ' + punt + ' '))\n",
    "\n",
    "    for punct, regs in PUNCTS_REGEX.items():\n",
    "        for reg in regs:\n",
    "            p = re.compile(reg)\n",
    "            m = p.search(sents)\n",
    "            while m:\n",
    "                sents = sents[:m.start() + 1] + ' ' + punct + ' ' + sents[m.start() + 2:]\n",
    "                m = p.search(sents)\n",
    "    sents = re.sub(r' +', ' ', sents)        \n",
    "\n",
    "    print('After Tokenization...')\n",
    "    print(sents)\n",
    "    return sents\n",
    "\n",
    "sents = \"\"\"He asked: \"When will you graduate?\"\\n\"I will get my Ph.D. degree(Doctor of Philosophy) in a few years, hehe. And get $123,45675.45.\" I answered. END\"\"\"\n",
    "tok_sents = my_tokenizer(sents)\n",
    "print(set(tok_sents.split()))\n",
    "print(len(set(tok_sents.split())))"
   ]
  },
  {
   "cell_type": "markdown",
   "metadata": {},
   "source": [
    "3. Tokenize the previous sentences with SpaCy. How many token types are there in total?"
   ]
  },
  {
   "cell_type": "code",
   "execution_count": null,
   "metadata": {},
   "outputs": [],
   "source": [
    "# import spacy module\n",
    "import spacy\n",
    "\n",
    "# load english model\n",
    "nlp = spacy.load(\"en_core_web_sm\")\n",
    "# read the text and process\n",
    "doc = nlp(sents)\n",
    "print(doc)\n",
    "tokens = [token.text for token in doc]\n",
    "print(' '.join(tokens))\n",
    "print(set(tokens))\n",
    "print(len(set(tokens)))"
   ]
  },
  {
   "cell_type": "markdown",
   "metadata": {},
   "source": [
    "## Links"
   ]
  },
  {
   "cell_type": "markdown",
   "metadata": {},
   "source": [
    "- [How To Define Functions in Python 3](https://www.digitalocean.com/community/tutorials/how-to-define-functions-in-python-3)\n",
    "- [Regular Expression HOWTO](https://docs.python.org/3.6/howto/regex.html#regex-howto)\n",
    "- [Regular Expression Documentation](https://docs.python.org/3.6/library/re.html)\n",
    "- [Eliza](https://github.com/jezhiggins/eliza.py/blob/master/eliza.py)\n",
    "- [spaCy 101: Everything you need to know](https://spacy.io/usage/spacy-101#_title)\n",
    "- [Advanced NLP with spaCy](https://course.spacy.io/)"
   ]
  },
  {
   "cell_type": "markdown",
   "metadata": {},
   "source": [
    "# Next Module\n",
    "\n",
    "[Click here](../module_1.4/module_1.4.ipynb) to move to the next module."
   ]
  }
 ],
 "metadata": {
  "kernelspec": {
   "display_name": "Python 3",
   "language": "python",
   "name": "python3"
  },
  "language_info": {
   "codemirror_mode": {
    "name": "ipython",
    "version": 3
   },
   "file_extension": ".py",
   "mimetype": "text/x-python",
   "name": "python",
   "nbconvert_exporter": "python",
   "pygments_lexer": "ipython3",
   "version": "3.6.8"
  },
  "toc": {
   "base_numbering": 1,
   "nav_menu": {},
   "number_sections": true,
   "sideBar": true,
   "skip_h1_title": false,
   "title_cell": "Table of Contents",
   "title_sidebar": "Contents",
   "toc_cell": false,
   "toc_position": {},
   "toc_section_display": true,
   "toc_window_display": false
  },
  "varInspector": {
   "cols": {
    "lenName": 16,
    "lenType": 16,
    "lenVar": 40
   },
   "kernels_config": {
    "python": {
     "delete_cmd_postfix": "",
     "delete_cmd_prefix": "del ",
     "library": "var_list.py",
     "varRefreshCmd": "print(var_dic_list())"
    },
    "r": {
     "delete_cmd_postfix": ") ",
     "delete_cmd_prefix": "rm(",
     "library": "var_list.r",
     "varRefreshCmd": "cat(var_dic_list()) "
    }
   },
   "types_to_exclude": [
    "module",
    "function",
    "builtin_function_or_method",
    "instance",
    "_Feature"
   ],
   "window_display": false
  }
 },
 "nbformat": 4,
 "nbformat_minor": 1
}
