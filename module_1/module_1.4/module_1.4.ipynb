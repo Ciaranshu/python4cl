{
 "cells": [
  {
   "cell_type": "markdown",
   "metadata": {},
   "source": [
    "<div style='background-image: url(\"../../resources/section_header.jpg\") ; padding: 0px ; background-size: cover ; border-radius: 5px ; height: 250px'>\n",
    "    <div style=\"float: right ; margin: 50px ; padding: 20px ; background: rgba(255 , 255 , 255 , 0.7) ; width: 50% ; height: 150px\">\n",
    "        <div style=\"position: relative ; top: 50% ; transform: translatey(-50%)\">\n",
    "            <div style=\"font-size: x-large ; font-weight: 900 ; color: rgba(0 , 115 , 207 , 0.9) ; line-height: 100%\">Python for Computational Linguists</div>\n",
    "            <div style=\"font-size: x-large ; padding-top: 20px ; color: rgba(0 , 115 , 207, 0.7)\">1.4 - Working with Corpus Data</div>\n",
    "        </div>\n",
    "    </div>\n",
    "</div>"
   ]
  },
  {
   "cell_type": "markdown",
   "metadata": {},
   "source": [
    "Welcome to module 1.4. In this module, we will start calculating statistics using real corpus. \n",
    "\n",
    "Let's first refresh your memory on ngrams and probabilities by completing the following quiz:\n",
    "\n",
    "## Pre-module quiz\n",
    "\n",
    "Given the sequence `aabbdab`, what is $P(b|a)$?\n",
    "\n",
    "A. 1/2\n",
    "\n",
    "B. 1/3\n",
    "\n",
    "C. 2/3\n",
    "\n",
    "D. 0\n"
   ]
  },
  {
   "cell_type": "markdown",
   "metadata": {},
   "source": [
    "<hr>    <!-- please remember this! -->\n",
    "<details>\n",
    "  <summary>Click <b>here</b> to see the answer.</summary>\n",
    "  <p>The correct answer is C.</p>\n",
    "  <p>There are in total three bigrams starting with 'a': two 'ab' and one 'aa'. $P(b|a)$ is the probability of the bigram 'ab', which is 2 out of 3, ie. 2/3. </p>\n",
    "</details> "
   ]
  },
  {
   "cell_type": "markdown",
   "metadata": {},
   "source": [
    "## Corpus Anlaysis"
   ]
  },
  {
   "cell_type": "markdown",
   "metadata": {},
   "source": [
    "## Importing packages"
   ]
  },
  {
   "cell_type": "markdown",
   "metadata": {},
   "source": [
    "Python organises code into units called modules. Modules are then collected together into packages. Here we're going to be importing the packages from the `spacy` module to create a tokenizer. spaCy is a free open-source Python library for NLP that is widely used in real-world applications because of its efficiency.  so it can be easily referenced from now on. \n",
    "\n",
    "In this tutorial, we have already installed a package named spacy. Let's try importing a class named English from the spacy package, and create a default tokenizer from it. "
   ]
  },
  {
   "cell_type": "markdown",
   "metadata": {},
   "source": [
    "The English class is in a script named `en.py` in the path `spacy/lang/`. To import the class variable, we could do the following:"
   ]
  },
  {
   "cell_type": "code",
   "execution_count": null,
   "metadata": {},
   "outputs": [],
   "source": [
    "import spacy.lang.en #import the path\n",
    "nlp=spacy.lang.en.English() #call the class variable with full path"
   ]
  },
  {
   "cell_type": "code",
   "execution_count": null,
   "metadata": {},
   "outputs": [],
   "source": [
    "import spacy.lang.en as en #this line allows Python to access code from the spacy/lang/en and to rename this code as 'en'\n",
    "nlp=en.English() #call the class variable with the name"
   ]
  },
  {
   "cell_type": "code",
   "execution_count": null,
   "metadata": {},
   "outputs": [],
   "source": [
    "from spacy.lang.en import English # directly import the class variable\n",
    "nlp=English() # call the class directly"
   ]
  },
  {
   "cell_type": "markdown",
   "metadata": {},
   "source": [
    "Now let's initialize a default English tokenizer"
   ]
  },
  {
   "cell_type": "code",
   "execution_count": null,
   "metadata": {},
   "outputs": [],
   "source": [
    "tokenizer = nlp.Defaults.create_tokenizer(nlp)"
   ]
  },
  {
   "cell_type": "markdown",
   "metadata": {
    "collapsed": true
   },
   "source": [
    "## Processing corpora"
   ]
  },
  {
   "cell_type": "markdown",
   "metadata": {},
   "source": [
    "Python allows you to read, write and delete files. Here we'll be reading a corpus of Shakespeare's entire works (around 1 million word tokens). The relative path to the corpus file 'Shakespeare' is `./data/shakespeare` (`..` indicates the parent directory). We access this using the `open()` function. \n",
    "\n"
   ]
  },
  {
   "cell_type": "code",
   "execution_count": null,
   "metadata": {},
   "outputs": [],
   "source": [
    "f=open('./data/Shakespeare','r')"
   ]
  },
  {
   "cell_type": "markdown",
   "metadata": {},
   "source": [
    "We declared the variable `f` to open the Shakespeare file. `open()` takes 2 arguments, the path to the file that we want to open and a string that represents the kinds of permission or operation we want to do on the file. Here the string is `'r'` which refers to the permission of 'read-only'. We can also create a new file to write by replacing `'r'` with `'w'`. If we want to append data to the file, we can replace `'r'` with `'a'`."
   ]
  },
  {
   "cell_type": "markdown",
   "metadata": {},
   "source": [
    "Remember to close the `f` variable after finishing reading:\n"
   ]
  },
  {
   "cell_type": "code",
   "execution_count": null,
   "metadata": {},
   "outputs": [],
   "source": [
    "f.close()"
   ]
  },
  {
   "cell_type": "markdown",
   "metadata": {},
   "source": [
    "A more recommendable way is to use `with` keyword so that the file will be properly closed after its suite finishes"
   ]
  },
  {
   "cell_type": "code",
   "execution_count": null,
   "metadata": {},
   "outputs": [],
   "source": [
    "with open('./data/Shakespeare','r') as f:\n",
    "    print ('test')"
   ]
  },
  {
   "cell_type": "markdown",
   "metadata": {},
   "source": [
    "We could use `readlines()` to read in all the lines from the corpus in to a list of strings. We store the list in the variable `lines` .   "
   ]
  },
  {
   "cell_type": "code",
   "execution_count": null,
   "metadata": {},
   "outputs": [],
   "source": [
    "with open('./data/Shakespeare','r') as f:\n",
    "    lines=f.readlines()"
   ]
  },
  {
   "cell_type": "markdown",
   "metadata": {},
   "source": [
    "Let's have a look of what the variable `lines` contains by printing out the first ten items. "
   ]
  },
  {
   "cell_type": "code",
   "execution_count": null,
   "metadata": {},
   "outputs": [],
   "source": [
    "lines[:10]"
   ]
  },
  {
   "cell_type": "markdown",
   "metadata": {},
   "source": [
    "Have you noticed that each line is followed by the special character `\\n`. This signifies the end of a line of text and the start of a new one. This is called a control character that does not have written symbols in the text but will show up when we process it. \n",
    "\n",
    "Another observation is that some lines such as the last line starts with some space characters. \n",
    "\n",
    "We can get rid of these characters by calling the string method `strip()` that will automatically strip a string with whitespace characters including space, tabs, and control characters both from the start or at the end of the string. "
   ]
  },
  {
   "cell_type": "markdown",
   "metadata": {},
   "source": [
    "Let's write a for loop to process each line of the file and store the processed lines as tokenized word lists into the variable `lines_processed`."
   ]
  },
  {
   "cell_type": "code",
   "execution_count": null,
   "metadata": {},
   "outputs": [],
   "source": [
    "lines_processed=[] # a list to store the processed lines\n",
    "with open('./data/Shakespeare','r') as f:\n",
    "    for line in f:\n",
    "        #for each line, we do:\n",
    "        #1. remove whitespace characters like \\t \\r \\n\n",
    "        line=line.strip()\n",
    "        #2. skip the empty lines\n",
    "        if line=='':\n",
    "            continue\n",
    "        else: \n",
    "            #3. tokenize the sentence into word list:\n",
    "            tokens=tokenizer(line) #the tokenizer() function that we imported return a series of token items which are now Spacy classes\n",
    "            # To convert each item in tokens to strings, we need to loop over the line again and convert each token to strings by calling str()\n",
    "            tokens_str=[]\n",
    "            for tok in tokens:\n",
    "                tokens_str.append(str(tok))# str() converts into a string\n",
    "            lines_processed.append(tokens_str)"
   ]
  },
  {
   "cell_type": "markdown",
   "metadata": {},
   "source": [
    "We can wrap up the above into a function to process files"
   ]
  },
  {
   "cell_type": "code",
   "execution_count": null,
   "metadata": {},
   "outputs": [],
   "source": [
    "def process(filename):\n",
    "    '''\n",
    "    process file into a list of lines where each line is a list of words\n",
    "\n",
    "    Parameters\n",
    "    ----------\n",
    "    filename : file path\n",
    "\n",
    "    Returns\n",
    "    -------\n",
    "    a list of list of strings\n",
    "    [\n",
    "        [1609]\n",
    "        [THE, SONNETS]\n",
    "        ...\n",
    "    ]\n",
    "    '''\n",
    "    lines_processed=[] # a list to store the processed lines\n",
    "    with open(filename,'r') as f:\n",
    "        for line in f:\n",
    "            #for each line, we do:\n",
    "            #1. remove whitespace characters like \\t \\r \\n\n",
    "            line=line.strip()\n",
    "            #2. skip the empty lines\n",
    "            if line=='':\n",
    "                continue\n",
    "            else: \n",
    "                #3. tokenize the sentence into word list:\n",
    "                tokens=tokenizer(line) #the tokenizer() function that we imported return a series of token items which are now Spacy classes\n",
    "                # To convert each item in tokens to strings, we need to loop over the line again and convert each token to strings by calling str()\n",
    "                tokens_str=[]\n",
    "                for tok in tokens:\n",
    "                    tokens_str.append(str(tok))# str() converts into a string\n",
    "                lines_processed.append(tokens_str)\n",
    "    return lines_processed"
   ]
  },
  {
   "cell_type": "markdown",
   "metadata": {},
   "source": [
    "Call the function `process()`:"
   ]
  },
  {
   "cell_type": "code",
   "execution_count": null,
   "metadata": {},
   "outputs": [],
   "source": [
    "lines_processed=process('./data/Shakespeare')"
   ]
  },
  {
   "cell_type": "markdown",
   "metadata": {},
   "source": [
    "Let's take a look of the lines after tokenisation. Let's print out the first ten lines:\n",
    "Do you think the tokenizer is doing well?"
   ]
  },
  {
   "cell_type": "code",
   "execution_count": null,
   "metadata": {},
   "outputs": [],
   "source": [
    "lines_processed[:10]"
   ]
  },
  {
   "cell_type": "markdown",
   "metadata": {},
   "source": [
    "You can also check how many lines the corpus contains by calling `len()` function over `lines_processed`. "
   ]
  },
  {
   "cell_type": "code",
   "execution_count": null,
   "metadata": {},
   "outputs": [],
   "source": [
    "len(lines_processed)"
   ]
  },
  {
   "cell_type": "markdown",
   "metadata": {},
   "source": [
    "<p style=\"font-size:1.5em; font-weight: bold\">\n",
    "<img src=\"../../resources/exercise.png\" style=\"height:36pt; display:inline; vertical-align:bottom; margin-right: 4pt\" /> \n",
    "Try it yourself! <hr>\n",
    "</p>"
   ]
  },
  {
   "cell_type": "markdown",
   "metadata": {},
   "source": [
    "### Practice quiz 1:\n",
    "In the following cell, please try processing the other corpus 'Marlowe' in the same directory of 'Shakespeare', and store the processed results in variable: `marlowe_processed`. \n",
    "\n",
    "Then, Answer the following question:\n",
    "\n",
    "How many lines does Marlowe corpus contain?\n",
    "\n",
    "A. 19492\n",
    "\n",
    "B. 114422\n",
    "\n",
    "C. 1949\n",
    "\n",
    "D. 45336"
   ]
  },
  {
   "cell_type": "markdown",
   "metadata": {},
   "source": [
    "You can insert your code here:"
   ]
  },
  {
   "cell_type": "code",
   "execution_count": null,
   "metadata": {},
   "outputs": [],
   "source": []
  },
  {
   "cell_type": "markdown",
   "metadata": {},
   "source": [
    "<hr>    <!-- please remember this! -->\n",
    "<details>\n",
    "  <summary>Click <b>here</b> to see the code and the answer.</summary>\n",
    "    <p>the answer is A</p>\n",
    "    <p>You can try the following code: </p>\n",
    "    <p><code>marlowe_processed=process('./data/Marlowe')</code></p>\n",
    "    <p><code>len(marlowe_processed)</code></p>\n",
    "    \n",
    "  \n",
    "\n",
    "\n",
    "    \n",
    "</details> "
   ]
  },
  {
   "cell_type": "markdown",
   "metadata": {},
   "source": [
    "## Dictionary"
   ]
  },
  {
   "cell_type": "markdown",
   "metadata": {},
   "source": [
    "A dictionary is a collection which is unordered, changeable and indexed. \n",
    "In Python dictionaries are written with curly brackets, and they have keys and values.\n",
    "For example:"
   ]
  },
  {
   "cell_type": "code",
   "execution_count": null,
   "metadata": {},
   "outputs": [],
   "source": [
    "thisdict =\t{\n",
    "  \"brand\": \"Ford\",\n",
    "  \"model\": \"Mustang\",\n",
    "  \"year\": 1964\n",
    "}"
   ]
  },
  {
   "cell_type": "markdown",
   "metadata": {},
   "source": [
    "You can access the items of a dictionary by referring to its key name, inside square brackets:"
   ]
  },
  {
   "cell_type": "code",
   "execution_count": null,
   "metadata": {},
   "outputs": [],
   "source": [
    "thisdict['brand']"
   ]
  },
  {
   "cell_type": "markdown",
   "metadata": {},
   "source": [
    "You can change the value of a specific item by referring to its key name:"
   ]
  },
  {
   "cell_type": "code",
   "execution_count": null,
   "metadata": {},
   "outputs": [],
   "source": [
    "thisdict['year']=2019"
   ]
  },
  {
   "cell_type": "markdown",
   "metadata": {},
   "source": [
    "Adding an item to the dictionary is done by using a new index key and assigning a value to it:"
   ]
  },
  {
   "cell_type": "code",
   "execution_count": null,
   "metadata": {},
   "outputs": [],
   "source": [
    "thisdict[\"color\"] = \"red\""
   ]
  },
  {
   "cell_type": "markdown",
   "metadata": {},
   "source": [
    "You can loop through a dictionary by using a for loop"
   ]
  },
  {
   "cell_type": "code",
   "execution_count": null,
   "metadata": {},
   "outputs": [],
   "source": [
    "#Print all key names in the dictionary, one by one:\n",
    "\n",
    "for x in thisdict:\n",
    "  print(x)"
   ]
  },
  {
   "cell_type": "code",
   "execution_count": null,
   "metadata": {},
   "outputs": [],
   "source": [
    "#Print all values in the dictionary, one by one:\n",
    "\n",
    "for x in thisdict:\n",
    "  print(thisdict[x])"
   ]
  },
  {
   "cell_type": "code",
   "execution_count": null,
   "metadata": {},
   "outputs": [],
   "source": [
    "#You can also use the values() function to return values of a dictionary:\n",
    "\n",
    "for x in thisdict.values():\n",
    "  print(x)"
   ]
  },
  {
   "cell_type": "code",
   "execution_count": null,
   "metadata": {},
   "outputs": [],
   "source": [
    "#Loop through both keys and values, by using the items() function:\n",
    "for x, y in thisdict.items():\n",
    "  print(x, y)"
   ]
  },
  {
   "cell_type": "markdown",
   "metadata": {},
   "source": [
    "To determine if a specified key is present in a dictionary use the `in` keyword:"
   ]
  },
  {
   "cell_type": "code",
   "execution_count": null,
   "metadata": {},
   "outputs": [],
   "source": [
    "if \"model\" in thisdict:\n",
    "  print(\"Yes, 'model' is one of the keys in the thisdict dictionary\")"
   ]
  },
  {
   "cell_type": "markdown",
   "metadata": {},
   "source": [
    "To determine how many items (key-value pairs) a dictionary has, use the `len()` method."
   ]
  },
  {
   "cell_type": "code",
   "execution_count": null,
   "metadata": {},
   "outputs": [],
   "source": [
    "#Print the number of items in the dictionary:\n",
    "print(len(thisdict))"
   ]
  },
  {
   "cell_type": "markdown",
   "metadata": {},
   "source": [
    "## Counting Vocabulary"
   ]
  },
  {
   "cell_type": "markdown",
   "metadata": {},
   "source": [
    "Now let's loop over the word lists in `lines_processed` to create a vocabulary dictionary:"
   ]
  },
  {
   "cell_type": "code",
   "execution_count": null,
   "metadata": {},
   "outputs": [],
   "source": [
    "vocab={}# create an empty vocabulary dictionary to store words as keys and counts as values later. \n",
    "for line in lines_processed:\n",
    "    for word in line:\n",
    "        if word in vocab:\n",
    "            vocab[word]+=1 # update the count for an existing word\n",
    "        else:\n",
    "            vocab[word]=1 # initilize the count for a new word\n"
   ]
  },
  {
   "cell_type": "markdown",
   "metadata": {},
   "source": [
    "Again, we can wrap the above into a function"
   ]
  },
  {
   "cell_type": "code",
   "execution_count": null,
   "metadata": {},
   "outputs": [],
   "source": [
    "def create_vocab_dict(f_processed_arg):\n",
    "    '''\n",
    "    Collect vocabulary counts from text\n",
    "\n",
    "    Parameters\n",
    "    ----------\n",
    "    f_processed_arg: a list of list of words processed from text as the output of process()\n",
    "\n",
    "    Returns\n",
    "    -------\n",
    "    a dictionary with words (str) as keys and counts(int) as values\n",
    "    vocab={\n",
    "    'SONNETS': 1\n",
    "    }\n",
    "    '''\n",
    "    vocab={}# create an empty vocabulary dictionary to store words as keys and counts as values later. \n",
    "    for line in f_processed_arg:\n",
    "        for word in line:\n",
    "            if word in vocab:\n",
    "                vocab[word]+=1 # update the count for an existing word\n",
    "            else:\n",
    "                vocab[word]=1 # initilize the count for a new word\n",
    "    return vocab"
   ]
  },
  {
   "cell_type": "markdown",
   "metadata": {},
   "source": [
    "We can call the function:"
   ]
  },
  {
   "cell_type": "code",
   "execution_count": null,
   "metadata": {},
   "outputs": [],
   "source": [
    "vocab=create_vocab_dict(lines_processed)"
   ]
  },
  {
   "cell_type": "markdown",
   "metadata": {},
   "source": [
    "We can then retrieve the count of a specific word by the statement `vocab[word]`, eg. the count of 'thee' in the corpus should be 3144."
   ]
  },
  {
   "cell_type": "code",
   "execution_count": null,
   "metadata": {},
   "outputs": [],
   "source": [
    "vocab['thee']"
   ]
  },
  {
   "cell_type": "markdown",
   "metadata": {},
   "source": [
    "<p style=\"font-size:1.5em; font-weight: bold\">\n",
    "<img src=\"../../resources/exercise.png\" style=\"height:36pt; display:inline; vertical-align:bottom; margin-right: 4pt\" /> \n",
    "Try it yourself! <hr>\n",
    "</p>"
   ]
  },
  {
   "cell_type": "markdown",
   "metadata": {},
   "source": [
    "### Practice quiz 2:\n",
    "Use the following cell to retrieve the counts of the following pronouns in Shakespeare: 'thou','thee','thy','thine','you','your'. Which order of the word counts is correct?\n",
    "\n",
    "A. 'you'>'thou'>'your'>'thy'>'thee'>'thine'\n",
    "\n",
    "B. 'you'>'your'>'thou'>'thy'>'thee'>'thine'\n",
    "\n",
    "C. 'thou'>'you'>'thy'>'thine'>'your'>'thee'\n",
    "\n",
    "D. 'you'>'thou'>'your'>'thy'>'thee'>'thine'"
   ]
  },
  {
   "cell_type": "markdown",
   "metadata": {},
   "source": [
    "You can insert your code here:"
   ]
  },
  {
   "cell_type": "code",
   "execution_count": null,
   "metadata": {},
   "outputs": [],
   "source": []
  },
  {
   "cell_type": "markdown",
   "metadata": {},
   "source": [
    "<hr>    <!-- please remember this! -->\n",
    "<details>\n",
    "  <summary>Click <b>here</b> to see the code and the answer.</summary>\n",
    "    <p>the answer is B</p>\n",
    " \n",
    "    \n",
    "\n",
    "</details> "
   ]
  },
  {
   "cell_type": "markdown",
   "metadata": {},
   "source": [
    "<p style=\"font-size:1.5em; font-weight: bold\">\n",
    "<img src=\"../../resources/exercise.png\" style=\"height:36pt; display:inline; vertical-align:bottom; margin-right: 4pt\" /> \n",
    "Try it yourself! <hr>\n",
    "</p>"
   ]
  },
  {
   "cell_type": "markdown",
   "metadata": {},
   "source": [
    "### Practice quiz 3:\n",
    "please collect a vocabulary dictionary from 'Marlowe' as well in the following cells, and answer the same question:\n",
    "\n",
    "Which order of the word counts is correct in Marlowe?\n",
    "\n",
    "A. 'you'>'thou'>'your'>'thy'>'thee'>'thine'\n",
    "\n",
    "B. 'you'>'your'>'thou'>'thy'>'thee'>'thine'\n",
    "\n",
    "C. 'thou'>'you'>'thy'>'thine'>'your'>'thee'\n",
    "\n",
    "D. 'you'>'thou'>'your'>'thy'>'thee'>'thine'"
   ]
  },
  {
   "cell_type": "markdown",
   "metadata": {},
   "source": [
    "You can insert your code here:"
   ]
  },
  {
   "cell_type": "code",
   "execution_count": null,
   "metadata": {},
   "outputs": [],
   "source": []
  },
  {
   "cell_type": "markdown",
   "metadata": {},
   "source": [
    "<hr>    <!-- please remember this! -->\n",
    "<details>\n",
    "  <summary>Click <b>here</b> to see the code and the answer.</summary>\n",
    "    <p>the answer is A</p>\n",
    "    <p>You can try the following code: </p>\n",
    "    <p><code>vocab_marlowe=create_vocab_dict(marlowe_processed)</code></p>\n",
    "        <p><code>vocab_marlowe['thine']</code></p>\n",
    "\n",
    "    \n",
    "</details> "
   ]
  },
  {
   "cell_type": "markdown",
   "metadata": {},
   "source": [
    "## Calcuating Type-token ratio"
   ]
  },
  {
   "cell_type": "markdown",
   "metadata": {},
   "source": [
    "**Type-token ratio (TTR)** is the ratio obtained by dividing the **types** (the total number of different words) occurring in a text or utterance by its **tokens** (the total number of words). A high TTR indicates a high degree of lexical variation while a low TTR indicates the opposite. The range falls between a theoretical 0 (infinite repetition of a single type) and 1 (the complete non-repetition found in a concordance).\n",
    "\n",
    "Let's calculate type count first:"
   ]
  },
  {
   "cell_type": "code",
   "execution_count": null,
   "metadata": {},
   "outputs": [],
   "source": [
    "#Recall that vocab stores words as keys. Let's first retrieve the key list of the vocab dictioanry:\n",
    "key_list=vocab.keys()\n",
    "# the number of types is just the length of the key list\n",
    "type_count=len(vocab.keys())\n",
    "print (type_count)"
   ]
  },
  {
   "cell_type": "markdown",
   "metadata": {},
   "source": [
    "Let's caculate token count:"
   ]
  },
  {
   "cell_type": "code",
   "execution_count": null,
   "metadata": {},
   "outputs": [],
   "source": [
    "# Let's create a loop to aggregate the token counts in the vocabulary:\n",
    "token_count=0\n",
    "for word in vocab:\n",
    "    token_count+=vocab[word] # equals token_count=token_count+vocab[word]\n",
    "print (token_count)\n"
   ]
  },
  {
   "cell_type": "code",
   "execution_count": null,
   "metadata": {
    "scrolled": true
   },
   "outputs": [],
   "source": [
    "#Let's calculate the type-token ratio:\n",
    "ttr=type_count/token_count\n",
    "print (ttr)"
   ]
  },
  {
   "cell_type": "markdown",
   "metadata": {},
   "source": [
    "Alternatively, we could wrap the calculation up into a function that takes in vocab dictionary and outputs the ttr"
   ]
  },
  {
   "cell_type": "code",
   "execution_count": null,
   "metadata": {},
   "outputs": [],
   "source": [
    "def ttr_cal(vocab_arg):\n",
    "    '''\n",
    "    calculate type-token ratio\n",
    "    \n",
    "    Parameters\n",
    "    ----------\n",
    "    vocab_arg: a vocab dictionary with words as keys and counts as values\n",
    "\n",
    "    Returns\n",
    "    -------\n",
    "    a float number indicating type-token ratio\n",
    "    '''\n",
    "    type_count=len(vocab_arg.keys())\n",
    "    token_count=0\n",
    "    for word in vocab_arg:\n",
    "        token_count+=vocab_arg[word]\n",
    "    ttr=type_count/token_count\n",
    "    return ttr"
   ]
  },
  {
   "cell_type": "code",
   "execution_count": null,
   "metadata": {},
   "outputs": [],
   "source": [
    "print (ttr_cal(vocab))"
   ]
  },
  {
   "cell_type": "markdown",
   "metadata": {},
   "source": [
    "<p style=\"font-size:1.5em; font-weight: bold\">\n",
    "<img src=\"../../resources/exercise.png\" style=\"height:36pt; display:inline; vertical-align:bottom; margin-right: 4pt\" /> \n",
    "Try it yourself! <hr>\n",
    "</p>"
   ]
  },
  {
   "cell_type": "markdown",
   "metadata": {},
   "source": [
    "### Practice quiz 4:\n",
    "\n",
    "Use the above functions to calculate the type-token ratio of Marlowe corpus and compare the results with the Shakespeare corpus. Who has more lexical variation?"
   ]
  },
  {
   "cell_type": "markdown",
   "metadata": {},
   "source": [
    "You can write your code below:"
   ]
  },
  {
   "cell_type": "code",
   "execution_count": null,
   "metadata": {},
   "outputs": [],
   "source": []
  },
  {
   "cell_type": "markdown",
   "metadata": {},
   "source": [
    "<hr>    <!-- please remember this! -->\n",
    "<details>\n",
    "  <summary>Click <b>here</b> to see the code and the answer.</summary>\n",
    "    <p>The answer: 0.04902041788375269 (Marlowe seems to have more lexical variation)</p>\n",
    "    <p>You can try the follwing code to find out: </p>\n",
    "    <p><code>vocab_marlowe=create_vocab_dict(marlowe_processed)</code></p>\n",
    "    <p><code>ttr_cal(vocab_marlowe)</code></p>\n",
    "\n",
    "\n",
    " \n",
    "\n",
    "</details> "
   ]
  },
  {
   "cell_type": "markdown",
   "metadata": {},
   "source": [
    "## Plotting a frequency distribution"
   ]
  },
  {
   "cell_type": "markdown",
   "metadata": {},
   "source": [
    "To create graphs in Python, we can make use of a Python library `matplotlib`. Matplotlib is a Python 2D plotting library which produces publication quality figures in a variety of hardcopy formats and interactive environments across platforms. In the following line, we import the `pyplot` module from `matplotlib` and rename as `plt`. "
   ]
  },
  {
   "cell_type": "code",
   "execution_count": null,
   "metadata": {},
   "outputs": [],
   "source": [
    "import matplotlib.pyplot as plt"
   ]
  },
  {
   "cell_type": "markdown",
   "metadata": {},
   "source": [
    "Now let's try ploting a toy histogram with two words and their counts: a (3) and b (5). \n"
   ]
  },
  {
   "cell_type": "code",
   "execution_count": null,
   "metadata": {},
   "outputs": [],
   "source": [
    "#We first create a figure:\n",
    "plt.figure(figsize=(4,4)) #4,4 determine the figure size\n",
    "#plot the historgram with the first argument as a list of labels i.e. words and the second argument as a list of counts\n",
    "plt.bar(['a','b'],[3,5]) \n",
    "#finally we show the plot by calling:\n",
    "plt.show()"
   ]
  },
  {
   "cell_type": "markdown",
   "metadata": {},
   "source": [
    "We provide the following function `produce_words_counts` to select a list of words and their counts as input for making the graph. We first sort the vocabulary from high frequency to low frequency. We can define the range of the vocabulary by changing `rank_start` and `rank_end`. `rank_start` specifies the rank of the top frequency word and `rank_end` specifies the rank of the low frequency word of the range. \n",
    "\n"
   ]
  },
  {
   "cell_type": "code",
   "execution_count": null,
   "metadata": {},
   "outputs": [],
   "source": [
    "def produce_words_counts(vocab,rank_start,rank_end):\n",
    "    '''\n",
    "    produce words and counts for plotting graphs\n",
    "    \n",
    "    Parameters\n",
    "    ----------\n",
    "    vocab: a vocab dictionary with words as keys and counts as values\n",
    "    rank_start: the start rank of the high frequency words\n",
    "    rank_end: the end rank of the low frequency words\n",
    "\n",
    "    Returns\n",
    "    -------\n",
    "    words: a list of words from rank_start to rank_end\n",
    "    counts: a list of teh respective counts of words\n",
    "    \n",
    "    '''\n",
    "    # 1. Sort the vocabulary according to frequency. It returns sorted pairs of (word,count) for the range defined between rank_start and rank_end. \n",
    "    # Please don't worry if you can't understand this part\n",
    "    vocab_sorted=sorted(vocab.items(),key=lambda x: x[1],reverse=True)[rank_start:rank_end] \n",
    "    # loop through the sorted vocabulary to get words and their respective counts for plotting the graphs later on\n",
    "    words=[]\n",
    "    counts=[]\n",
    "    for w_c in vocab_sorted:\n",
    "        w=w_c[0]\n",
    "        words.append(w)\n",
    "        count=w_c[1]\n",
    "        counts.append(count)\n",
    "    return words, counts"
   ]
  },
  {
   "cell_type": "markdown",
   "metadata": {},
   "source": [
    "\n",
    "Try changing `rank_start` and `rank_end` to produce different `words` and `counts` lists. For example, to retrieve the top 100 words, simply run `words,counts=produce(vocab,0,100)`"
   ]
  },
  {
   "cell_type": "code",
   "execution_count": null,
   "metadata": {},
   "outputs": [],
   "source": [
    "words,counts=produce_words_counts(vocab,0,100)"
   ]
  },
  {
   "cell_type": "markdown",
   "metadata": {},
   "source": [
    "We could now plot a histogram using the words and counts"
   ]
  },
  {
   "cell_type": "code",
   "execution_count": null,
   "metadata": {
    "scrolled": true
   },
   "outputs": [],
   "source": [
    "\n",
    "\n",
    "plt.figure(figsize=(15,8)) #figure size\n",
    "plt.bar(words,counts) #plot the historgram\n",
    "plt.ylim(0,90000) # specifies the minimum and maximum of the y axis. \n",
    "plt.xticks(rotation=90) # rotate the x label\n",
    "plt.show()\n"
   ]
  },
  {
   "cell_type": "markdown",
   "metadata": {},
   "source": [
    "<p style=\"font-size:1.5em; font-weight: bold\">\n",
    "<img src=\"../../resources/exercise.png\" style=\"height:36pt; display:inline; vertical-align:bottom; margin-right: 4pt\" /> \n",
    "Try it yourself! <hr>\n",
    "</p>"
   ]
  },
  {
   "cell_type": "markdown",
   "metadata": {},
   "source": [
    "### Practice quiz 5:\n",
    "Try changing `rank_start` and `rank_end` and observe what kind of words the top-frequent words are? What about the low-frequent words?  How many top-frequent words do we have? How many low-frequent words do we have?\n",
    "\n",
    "In addition, you can try changing the arguments of `plot.ylim()` to adjust the y axis. For example, you may want to lower the maximum when examining the lower rank words. \n"
   ]
  },
  {
   "cell_type": "markdown",
   "metadata": {},
   "source": [
    "<hr>    <!-- please remember this! -->\n",
    "<details>\n",
    "  <summary>Click <b>here</b> to see the code and the answer.</summary>\n",
    "    <p>The answer: Top frequent words tend to be function words. There are only a small number of them with very large number. There is also a long tail of low-frequent words. </p>\n",
    "    \n",
    "\n",
    " \n",
    "\n",
    "</details> "
   ]
  },
  {
   "cell_type": "markdown",
   "metadata": {},
   "source": [
    "## Counting bigrams"
   ]
  },
  {
   "cell_type": "markdown",
   "metadata": {},
   "source": [
    "A bigram is a sequence of adjacent two words. Let's create a dictionary to store the bigrams. The key will be each bigram and the value will be counts. We can extract bigrams by looping through the items in `lines_processed`. Recall that `lines_processed` is a list that contains the tokenized corpus. \n",
    "\n",
    "We also need to insert `<start>` and `<end>` tokens in each line so that we can model probabilities of the words in the start and at the end of a sentence.\n",
    "\n"
   ]
  },
  {
   "cell_type": "markdown",
   "metadata": {},
   "source": [
    "When looping through the list, we are looping over the items of the list. What if we want to loop over the index of each item as well? A useful function to use is `enumerate()` that allows us to loop over both the index and the item. We will see how it is used in the following:"
   ]
  },
  {
   "cell_type": "code",
   "execution_count": null,
   "metadata": {},
   "outputs": [],
   "source": [
    "bigram_dict={}\n",
    "for line in lines_processed:\n",
    "    #insert start <start> and end <end> token\n",
    "    line=['<start>']+line+['<end>']\n",
    "    for i,w in enumerate(line): \n",
    "        #'enumerate() loops over the variables i (the index of the current word) and w (the string of\n",
    "        #the current word)\n",
    "        w_first=w\n",
    "        if i+1<len(line): #not the end of the line\n",
    "            w_second=line[i+1]\n",
    "            bigram=(w_first,w_second) #a tuple to represent bigram\n",
    "            if bigram not in bigram_dict:\n",
    "                bigram_dict[bigram]=1\n",
    "            else:\n",
    "                bigram_dict[bigram]+=1\n",
    "                \n",
    "        "
   ]
  },
  {
   "cell_type": "markdown",
   "metadata": {},
   "source": [
    "<p style=\"font-size:1.5em; font-weight: bold\">\n",
    "<img src=\"../../resources/exercise.png\" style=\"height:36pt; display:inline; vertical-align:bottom; margin-right: 4pt\" /> \n",
    "Try it yourself! <hr>\n",
    "</p>"
   ]
  },
  {
   "cell_type": "markdown",
   "metadata": {},
   "source": [
    "### Practice quiz 6\n",
    "What is the size of the bigram dictionary ie. how many bigrams do we have in the corpus? If you compare with the size of the `vocab` which is basically a unigram dictionary, are you surprised by the difference?"
   ]
  },
  {
   "cell_type": "code",
   "execution_count": null,
   "metadata": {},
   "outputs": [],
   "source": []
  },
  {
   "cell_type": "markdown",
   "metadata": {},
   "source": [
    "<hr>    <!-- please remember this! -->\n",
    "<details>\n",
    "  <summary>Click <b>here</b> to see the code and the answer.</summary>\n",
    "    <p>The answer: 315400 </p>\n",
    "    <p>You can try the follwing code to find out: </p>\n",
    "    <p><code>len(bigram_dict)</code></p>\n",
    " \n",
    "\n",
    "</details> "
   ]
  },
  {
   "cell_type": "markdown",
   "metadata": {},
   "source": [
    "<p style=\"font-size:1.5em; font-weight: bold\">\n",
    "<img src=\"../../resources/exercise.png\" style=\"height:36pt; display:inline; vertical-align:bottom; margin-right: 4pt\" /> \n",
    "Try it yourself! <hr>\n",
    "</p>"
   ]
  },
  {
   "cell_type": "markdown",
   "metadata": {},
   "source": [
    "### Practice quiz 7:\n",
    "Is gender associated with beauty? Try retrieving the count of 'his beauty' and 'her beauty'? Which has more counts?"
   ]
  },
  {
   "cell_type": "markdown",
   "metadata": {},
   "source": [
    "<hr>    <!-- please remember this! -->\n",
    "<details>\n",
    "  <summary>Click <b>here</b> to see the code and the answer.</summary>\n",
    "    <p>The answer: 'her beauty' occurs more often than 'his beauty', which might indicates that 'beauty' is more associated with women than with men. </p>\n",
    " \n",
    "\n",
    "</details> "
   ]
  },
  {
   "cell_type": "markdown",
   "metadata": {},
   "source": [
    "## Language Modelling"
   ]
  },
  {
   "cell_type": "markdown",
   "metadata": {},
   "source": [
    "## Language modelling\n",
    "\n",
    "Language modelling is a fundamental task in computational lingustics where the aim is to predict the probablity of a sequence of tokens occuring. We will consider tokens to be words in this exercise, but they can be many other things depending on the application (perhaps characters, utterances, phonemes, _etc_). \n",
    "\n",
    "Formally, we want to estimate the probablity $P(w_{1},\\ldots ,w_{m})$ of an $m$-length sequence, using some given corpus.\n",
    "\n",
    "There are many techniques for language modelling; we will consider here a very simple approach called $n$-gram models. These models make the assumption that the probability of a word only depends on the previous $n-1$ context words in the sequence. If $n=1$, we call this a *unigram* model, if $n=2$, it's a *bigram* model etc.\n",
    "\n",
    "So for example, given a sequence of words: *'to be or not to'* what is the probablity the next word will be *'be'*?  In $n$-gram models, this is calculated using *conditional probablity*: $P(`be'\\mid \\text{`to be or not to'})$ where we estimate the probablity of the entire sequence using the probablity chain rule (_i.e_. multiplying the conditional probabilities of the sequence):\n",
    "\n",
    "\n",
    "$$P(w_{1},\\ldots ,w_{m})=\\prod _{{i=1}}^{m}P(w_{i}\\mid w_{1},\\ldots ,w_{{i-1}})\\approx \\prod _{{i=1}}^{m}P(w_{i}\\mid w_{{i-(n-1)}},\\ldots ,w_{{i-1}})$$\n",
    "\n",
    "We can estimate the conditional probility from our training corpus by simply counting:\n",
    "\n",
    "$$P(w_{i}\\mid w_{{i-(n-1)}},\\ldots ,w_{{i-1}})={\\frac  {{\\mathrm  {count}}(w_{{i-(n-1)}},\\ldots ,w_{{i-1}},w_{i})}{{\\mathrm  {count}}(w_{{i-(n-1)}},\\ldots ,w_{{i-1}})}}$$\n",
    "\n",
    "### Unigram language model\n",
    "Let's start by building the most basic $n$-gram model, a unigram model where the conditional probablity for each word is simply the probablity of the word occuring in the corpus data: it does not dependent on any of the previous words in the sequence.\n",
    "\n",
    "We can start by defining a function called *unigram_prob* which calculates the probability of a unigram given as an input parameter"
   ]
  },
  {
   "cell_type": "code",
   "execution_count": null,
   "metadata": {},
   "outputs": [],
   "source": [
    "def unigram_prob(word):\n",
    "    return float(vocab[word]/token_count)"
   ]
  },
  {
   "cell_type": "markdown",
   "metadata": {},
   "source": [
    "Let's test this by calculating the probability of the word \"horse\" occuring in the corpus:"
   ]
  },
  {
   "cell_type": "code",
   "execution_count": null,
   "metadata": {},
   "outputs": [],
   "source": [
    "unigram_prob(\"horse\")"
   ]
  },
  {
   "cell_type": "markdown",
   "metadata": {},
   "source": [
    "<p style=\"font-size:1.5em; font-weight: bold\">\n",
    "<img src=\"../../resources/exercise.png\" style=\"height:36pt; display:inline; vertical-align:bottom; margin-right: 4pt\" /> \n",
    "Try it yourself! <hr>\n",
    "</p>"
   ]
  },
  {
   "cell_type": "markdown",
   "metadata": {},
   "source": [
    "### Practice quiz 8:\n",
    "Calculate the probability and the effect of capitalisation on the definite article. Try \"The\" vs \"THE\" vs \"the\", and note how much the probability differs"
   ]
  },
  {
   "cell_type": "markdown",
   "metadata": {},
   "source": [
    "<hr>    <!-- please remember this! -->\n",
    "<details>\n",
    "  <summary>Click <b>here</b> to see the code and the answer.</summary>\n",
    "    <p>The answer: The: 0.0035452013167890607, THE: 0.00010323259185274268, the: 0.020503580935675506 </p>\n",
    " \n",
    "  <p>You can try the following code </p>\n",
    "  <p><code>unigram_prob(\"The\") </code></p>\n",
    "  <p><code>unigram_prob(\"THE\") </code></p>\n",
    "   <p><code>unigram_prob(\"the\")</code></p>\n",
    "  \n",
    "\n",
    "    \n",
    "\n",
    "\n",
    "</details> "
   ]
  },
  {
   "cell_type": "markdown",
   "metadata": {},
   "source": [
    "To calculate the probability of a sequence (a sentence, paragraph, _etc_.) occurring, we use the chain rule of probability by multiplying the unigram probability of individual words. So lets calculate the probability of the sequence: *'To be, or not to be, that is the question:'*"
   ]
  },
  {
   "cell_type": "code",
   "execution_count": null,
   "metadata": {},
   "outputs": [],
   "source": [
    "unigram_prob(\"To\") * unigram_prob(\"be\") * unigram_prob(\"or\")* unigram_prob(\"not\") * unigram_prob(\"to\") * unigram_prob(\"be\") * unigram_prob(\",\") * unigram_prob(\"that\") * unigram_prob(\"is\") * unigram_prob(\"the\") * unigram_prob(\"the\") * unigram_prob(\"question\") * unigram_prob(\":\")"
   ]
  },
  {
   "cell_type": "markdown",
   "metadata": {},
   "source": [
    "The probablity value of our example sequence is a very small number! In fact, it is so small that it's about the same probability of picking the same ant thrice at random from all the ants on the planet!\n",
    "\n",
    "What happens if we continue to add further words to this sequence?  "
   ]
  },
  {
   "cell_type": "markdown",
   "metadata": {},
   "source": [
    "### Log-probability\n",
    "\n",
    "Eventually the probability values will get so tiny that computers will not be able to represent them correctly in memory; this is known as an *underflow error*.  It will not require much more text to get an underflow error: a simple paragraph using our unigram model will result in one! \n",
    "\n",
    "Fortunately, there is a very simple way to avoid this: we can use log-probability instead of regular probability. To do so, we simply use the log function in our unigram_prob function as follows:"
   ]
  },
  {
   "cell_type": "code",
   "execution_count": null,
   "metadata": {},
   "outputs": [],
   "source": [
    "import math\n",
    "\n",
    "def unigram_prob(word):\n",
    "    return math.log(float(vocab[word]/token_count))"
   ]
  },
  {
   "cell_type": "markdown",
   "metadata": {},
   "source": [
    "Now let's try calculacting the log-probability for the word \"horse\":"
   ]
  },
  {
   "cell_type": "code",
   "execution_count": null,
   "metadata": {},
   "outputs": [],
   "source": [
    "unigram_prob(\"horse\")"
   ]
  },
  {
   "cell_type": "markdown",
   "metadata": {},
   "source": [
    "To calculate the log-probability of an entire sequence, we simply add the individual log-probablity values of individual unigrams instead of multiplying them. \n",
    "\n",
    "Let's write a function that calculates the log-probability of a given text sequence (as a single string). The function must tokenize the input string correctly before performing the calculation."
   ]
  },
  {
   "cell_type": "code",
   "execution_count": null,
   "metadata": {},
   "outputs": [],
   "source": [
    "def unigram_prob_for_sequence(tokens):\n",
    "    return sum([unigram_prob(tok) for tok in tokens])"
   ]
  },
  {
   "cell_type": "markdown",
   "metadata": {},
   "source": [
    "Let's now calculate the log-probablity of our example sequence:"
   ]
  },
  {
   "cell_type": "code",
   "execution_count": null,
   "metadata": {},
   "outputs": [],
   "source": [
    "text = \"To be, or not to be, that is the question:\"\n",
    "example_sequence = [str(tok) for tok in tokenizer(text)]\n",
    "unigram_prob_for_sequence(example_sequence)"
   ]
  },
  {
   "cell_type": "markdown",
   "metadata": {},
   "source": [
    "<p style=\"font-size:1.5em; font-weight: bold\">\n",
    "<img src=\"../../resources/exercise.png\" style=\"height:36pt; display:inline; vertical-align:bottom; margin-right: 4pt\" /> \n",
    "Try it yourself! <hr>\n",
    "</p>"
   ]
  },
  {
   "cell_type": "markdown",
   "metadata": {},
   "source": [
    "### Practice quiz 9:\n",
    "Calculate the log-probability of the sentence: *'A horse, a horse! My kingdom for a horse!'*. \n",
    "\n",
    "Is this sequence more or less likely to occur than *\"To be, or not to be, that is the question:\"* ?"
   ]
  },
  {
   "cell_type": "code",
   "execution_count": null,
   "metadata": {},
   "outputs": [],
   "source": []
  },
  {
   "cell_type": "markdown",
   "metadata": {},
   "source": [
    "<hr>    <!-- please remember this! -->\n",
    "<details>\n",
    "  <summary>Click <b>here</b> to see the code and the answer.</summary>\n",
    "    <p>The answer: -74.21539318177221 (much less likely to occur than \"To be, or not to be, that is the question:\"</p>\n",
    "    <p>You can try the follwing code to find out: </p>\n",
    "    <p><code>text = \"A horse, a horse! My kingdom for a horse!\"</code></p>\n",
    "    <p><code>tokens = [str(tok) for tok in tokenizer(text)]</code></p>\n",
    "    <p><code>unigram_prob_for_sequence(tokens)</code></p>\n",
    "\n",
    "\n",
    " \n",
    "\n",
    "</details> "
   ]
  },
  {
   "cell_type": "markdown",
   "metadata": {},
   "source": [
    "### Bigram language model\n",
    "\n",
    "Unlike the unigram language model above, a bigram language model uses the context history. It uses conditional probability to estimate the probability of a word occuring relative to the occurance of its predecessor in the sequence:\n",
    "\n",
    "$$P(w_{i}\\mid w_{i-1})={\\frac  {{\\mathrm  {count}}(w_{i-1},w_{i})}{{\\mathrm  {count}}(w_{i-1})}}$$\n",
    "\n",
    "Let's implement a bigram_prob function that calculates the bigram conditional probability for a single token:\n"
   ]
  },
  {
   "cell_type": "code",
   "execution_count": null,
   "metadata": {},
   "outputs": [],
   "source": [
    "def bigram_prob(w1, w2):\n",
    "    return math.log(float(bigram_dict[(w1,w2)]/vocab[w1]))"
   ]
  },
  {
   "cell_type": "markdown",
   "metadata": {},
   "source": [
    "Let's test this by calculating the conditional log-probability for the bigram \"to be\", i.e., the log-probability of the word \"be\" given the word \"to\" appearing before it:"
   ]
  },
  {
   "cell_type": "code",
   "execution_count": null,
   "metadata": {},
   "outputs": [],
   "source": [
    "bigram_prob(\"to\", \"be\")"
   ]
  },
  {
   "cell_type": "markdown",
   "metadata": {},
   "source": [
    "As before, we can write a function to calculate the log-probability for a sequence of text using our bigram language model."
   ]
  },
  {
   "cell_type": "code",
   "execution_count": null,
   "metadata": {},
   "outputs": [],
   "source": [
    "def bigram_prob_for_sequence(tokens):\n",
    "    return sum([bigram_prob(w1,w2) for w1,w2 in zip(tokens, tokens[1:])])"
   ]
  },
  {
   "cell_type": "markdown",
   "metadata": {},
   "source": [
    "Let's use this function to calculate the log probability of our example sequence, and compare it to the unigram language model."
   ]
  },
  {
   "cell_type": "code",
   "execution_count": null,
   "metadata": {},
   "outputs": [],
   "source": [
    "unigram_prob_for_sequence(example_sequence) # log-probability using unigram"
   ]
  },
  {
   "cell_type": "code",
   "execution_count": null,
   "metadata": {},
   "outputs": [],
   "source": [
    "bigram_prob_for_sequence(example_sequence) # log-probability using bigram"
   ]
  },
  {
   "cell_type": "markdown",
   "metadata": {},
   "source": [
    "It is interesting to note that the log-probability value using the bigram model is substantially larger (the sequence is much likelier to occur). Is this perhaps because the bigram language model takes the context history into account whereas a unigram language model does not?\n",
    "\n",
    "We discuss how to correctly evaluate language models in the next section."
   ]
  },
  {
   "cell_type": "markdown",
   "metadata": {},
   "source": [
    "<p style=\"font-size:1.5em; font-weight: bold\">\n",
    "<img src=\"../../resources/exercise.png\" style=\"height:36pt; display:inline; vertical-align:bottom; margin-right: 4pt\" /> \n",
    "Try it yourself! <hr>\n",
    "</p>"
   ]
  },
  {
   "cell_type": "markdown",
   "metadata": {},
   "source": [
    "### Practice quiz 10:\n",
    "Calculate and compare the unigram and bigram log-probabilities of the sentence: *'Double, double, toil and trouble; fire burns, and cauldron bubble.'*"
   ]
  },
  {
   "cell_type": "code",
   "execution_count": null,
   "metadata": {},
   "outputs": [],
   "source": []
  },
  {
   "cell_type": "markdown",
   "metadata": {},
   "source": [
    "<hr>    <!-- please remember this! -->\n",
    "<details>\n",
    "  <summary>Click <b>here</b> to see the code and the answer.</summary>\n",
    "    <p>The answer: Unigram: -107.52272746936798, Bigram: -65.18214590870909</p>\n",
    "    <p>You can try the follwing code to find out: </p>\n",
    "    <p><code>text = \"Double, double, toil and trouble; fire burns, and cauldron bubble.\"</code></p>\n",
    "    <p><code>tokens = [str(tok) for tok in tokenizer(text)]</code></p>\n",
    "    <p><code>unigram_prob_for_sequence(tokens) # log-probability using unigram</code></p>\n",
    "    <p><code>bigram_prob_for_sequence(tokens) # log-probability using bigram </code></p>\n",
    "\n",
    " \n",
    "\n",
    "</details> "
   ]
  },
  {
   "cell_type": "markdown",
   "metadata": {},
   "source": [
    "## Evaluating language models\n",
    "\n",
    "Language models are evaluated using *perplexity* ($P$), a measure of how well a probability model predicts a given sample (e.g. text sequences).\n",
    "\n",
    "Perplexity is defined as $P = 2^{{h(s)}}$ where $h$ is the information entropy per word for a given input $s$. $h(s)$ can be calculated as follows:\n",
    "\n",
    "$$h(s)=\\frac{-1}{|s|}\\sum _{w \\in s}\\log _{2}P(w)$$\n",
    "\n",
    "Here, $s$ is some sample text and $|s|$ is the number of tokens in $s$.\n",
    "\n",
    "The value of perplexity can be thought of as the number of choices the model needs to make on average per token of the input sequence. The lower the perplexity score, the better the language model is since the model has fewer choices on average for the input sequence. \n",
    "\n",
    "Let's implement a simple function to calculate the perplexity, taking as input the log-probability (calculated by a language model) and the length of a sequence (in number of tokens)."
   ]
  },
  {
   "cell_type": "code",
   "execution_count": null,
   "metadata": {},
   "outputs": [],
   "source": [
    "def perplexity(log_prob, length):\n",
    "    H =  - (log_prob/ math.log(2)) / length  #change of log-base from base 10 to base 2, then normalize by length\n",
    "    return math.pow(2,H)"
   ]
  },
  {
   "cell_type": "markdown",
   "metadata": {},
   "source": [
    "Let's calculate the perplexity of both language models by simply calling the respective functions, and feed the results to the perplexity function above along with the length of the example sequence:"
   ]
  },
  {
   "cell_type": "code",
   "execution_count": null,
   "metadata": {},
   "outputs": [],
   "source": [
    "perplexity(bigram_prob_for_sequence(example_sequence),len(example_sequence))"
   ]
  },
  {
   "cell_type": "code",
   "execution_count": null,
   "metadata": {},
   "outputs": [],
   "source": [
    "perplexity(unigram_prob_for_sequence(example_sequence),len(example_sequence))"
   ]
  },
  {
   "cell_type": "markdown",
   "metadata": {},
   "source": [
    "<p style=\"font-size:1.5em; font-weight: bold\">\n",
    "<img src=\"../../resources/exercise.png\" style=\"height:36pt; display:inline; vertical-align:bottom; margin-right: 4pt\" /> \n",
    "Try it yourself! <hr>\n",
    "</p>"
   ]
  },
  {
   "cell_type": "markdown",
   "metadata": {},
   "source": [
    "### Practice quiz 11:\n",
    "Which of the two models has a lower perplexity?  measure the perplixity of both models using the example text sentences from previous quizes. \n",
    "\n",
    "Can you find a text string where the unigram model has a lower perplexity than the bigram model?"
   ]
  },
  {
   "cell_type": "markdown",
   "metadata": {},
   "source": [
    "<hr>    <!-- please remember this! -->\n",
    "<details>\n",
    "  <summary>Click <b>here</b> to see the code and the answer.</summary>\n",
    "    <p>The answer: Bigram model will almost always have a lower perplexity.</p>\n",
    "    \n",
    "\n",
    "</details> "
   ]
  },
  {
   "cell_type": "code",
   "execution_count": null,
   "metadata": {},
   "outputs": [],
   "source": []
  },
  {
   "cell_type": "code",
   "execution_count": null,
   "metadata": {},
   "outputs": [],
   "source": []
  },
  {
   "cell_type": "code",
   "execution_count": null,
   "metadata": {},
   "outputs": [],
   "source": []
  },
  {
   "cell_type": "code",
   "execution_count": null,
   "metadata": {},
   "outputs": [],
   "source": []
  }
 ],
 "metadata": {
  "kernelspec": {
   "display_name": "Python 3",
   "language": "python",
   "name": "python3"
  },
  "language_info": {
   "codemirror_mode": {
    "name": "ipython",
    "version": 3
   },
   "file_extension": ".py",
   "mimetype": "text/x-python",
   "name": "python",
   "nbconvert_exporter": "python",
   "pygments_lexer": "ipython3",
   "version": "3.6.8"
  },
  "toc": {
   "base_numbering": 1,
   "nav_menu": {},
   "number_sections": true,
   "sideBar": true,
   "skip_h1_title": false,
   "title_cell": "Table of Contents",
   "title_sidebar": "Contents",
   "toc_cell": false,
   "toc_position": {
    "height": "calc(100% - 180px)",
    "left": "10px",
    "top": "150px",
    "width": "371px"
   },
   "toc_section_display": true,
   "toc_window_display": true
  },
  "varInspector": {
   "cols": {
    "lenName": 16,
    "lenType": 16,
    "lenVar": 40
   },
   "kernels_config": {
    "python": {
     "delete_cmd_postfix": "",
     "delete_cmd_prefix": "del ",
     "library": "var_list.py",
     "varRefreshCmd": "print(var_dic_list())"
    },
    "r": {
     "delete_cmd_postfix": ") ",
     "delete_cmd_prefix": "rm(",
     "library": "var_list.r",
     "varRefreshCmd": "cat(var_dic_list()) "
    }
   },
   "types_to_exclude": [
    "module",
    "function",
    "builtin_function_or_method",
    "instance",
    "_Feature"
   ],
   "window_display": false
  }
 },
 "nbformat": 4,
 "nbformat_minor": 1
}
