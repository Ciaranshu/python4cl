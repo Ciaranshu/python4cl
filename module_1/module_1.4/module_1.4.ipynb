{
 "cells": [
  {
   "cell_type": "markdown",
   "metadata": {},
   "source": [
    "# Python for Linguists module 1.4"
   ]
  },
  {
   "cell_type": "markdown",
   "metadata": {},
   "source": [
    "Welcome to module 1.4. In this module, we will start calculating statistics using real corpus. \n",
    "\n",
    "Let's first refresh your memory on ngrams and probabilities by completing the following quiz:\n",
    "\n",
    "## Pre-module quiz\n",
    "\n",
    "Given the sequence 'aabbdab', what is *P*(b|a)?\n",
    "\n",
    "A. 1/2\n",
    "\n",
    "B. 1/3\n",
    "\n",
    "C. 2/3\n",
    "\n",
    "D. 0"
   ]
  },
  {
   "cell_type": "markdown",
   "metadata": {},
   "source": [
    "## Importing packages"
   ]
  },
  {
   "cell_type": "markdown",
   "metadata": {},
   "source": [
    "In python, there are many pre-built packages that contain modules (python scripts) that can be installed and imported easily. Once imported, we can use the functions defined in the imported modules, so that we do not need to write them yourselves. \n",
    "\n",
    "In this tutorial, we have already installed a package named spacy. Let's try importing a class named English from the spacy package, and create a default tokenizer from it. "
   ]
  },
  {
   "cell_type": "markdown",
   "metadata": {},
   "source": [
    "The English class is in a script named 'en.py' in the path spacy/lang/. To import the class variable, we could do the following:"
   ]
  },
  {
   "cell_type": "code",
   "execution_count": 1,
<<<<<<< HEAD
   "metadata": {},
   "outputs": [],
   "source": [
    "import spacy.lang.en #import the path\n",
    "nlp=spacy.lang.en.English() #call the class variable with full path"
   ]
  },
  {
   "cell_type": "code",
   "execution_count": 2,
   "metadata": {},
   "outputs": [],
   "source": [
    "import spacy.lang.en as en #import the path and give it a name\n",
    "nlp=en.English() #call the class variable with the name"
   ]
  },
  {
   "cell_type": "code",
   "execution_count": 3,
   "metadata": {},
   "outputs": [],
   "source": [
    "from spacy.lang.en import English # directly import the class variable\n",
    "nlp=English() # call the class directly"
   ]
  },
  {
   "cell_type": "markdown",
   "metadata": {},
=======
   "metadata": {},
   "outputs": [],
>>>>>>> 1911357dfd749674d27aed3af5437b55fcc44a0d
   "source": [
    "Now let's initialize a default English tokenizer"
   ]
  },
  {
   "cell_type": "code",
   "execution_count": 4,
   "metadata": {},
   "outputs": [],
   "source": [
    "tokenizer = nlp.Defaults.create_tokenizer(nlp)"
   ]
  },
  {
   "cell_type": "markdown",
   "metadata": {
    "collapsed": true
   },
   "source": [
    "## Processing the corpora"
   ]
  },
  {
   "cell_type": "markdown",
   "metadata": {},
   "source": [
    "We will be using the the full works of Shakespeare corpus. The relative path to the corpus file is ../../corpora/shakespeare (.. indicates the parent directory). \n",
    "Let's first load the corpus by using the open function:"
   ]
  },
  {
   "cell_type": "code",
<<<<<<< HEAD
   "execution_count": 5,
=======
   "execution_count": 2,
>>>>>>> 1911357dfd749674d27aed3af5437b55fcc44a0d
   "metadata": {},
   "outputs": [],
   "source": [
    "f=open('../../corpora/Shakespeare','r')"
   ]
  },
  {
   "cell_type": "markdown",
   "metadata": {},
   "source": [
    "We declared the variable f to open the Shakespeare file. open() takes 2 arguments, the path to the file that we want to open and a string that represents the kinds of permission or operation we want to do on the file. Here 'r' refers to the permission of 'read-only'. "
   ]
  },
  {
   "cell_type": "markdown",
   "metadata": {},
   "source": [
    "Remember to close the f variable after finishing reading:\n"
   ]
  },
  {
   "cell_type": "code",
<<<<<<< HEAD
   "execution_count": 6,
=======
   "execution_count": 3,
>>>>>>> 1911357dfd749674d27aed3af5437b55fcc44a0d
   "metadata": {},
   "outputs": [],
   "source": [
    "f.close()"
   ]
  },
  {
   "cell_type": "markdown",
   "metadata": {},
   "source": [
    "A more recommendable way is to use with keyword so that the file will be properly closed after its suite finishes"
   ]
  },
  {
   "cell_type": "code",
   "execution_count": 7,
   "metadata": {},
   "outputs": [
    {
     "name": "stdout",
     "output_type": "stream",
     "text": [
      "test\n"
     ]
    }
   ],
   "source": [
    "with open('../../corpora/Shakespeare','r') as f:\n",
    "    print ('test')"
   ]
  },
  {
   "cell_type": "markdown",
   "metadata": {},
   "source": [
    "Let's write a for loop to process each line of the file and store the processed lines as tokenized word lists into another variable"
   ]
  },
  {
   "cell_type": "code",
<<<<<<< HEAD
   "execution_count": 8,
=======
   "execution_count": 4,
>>>>>>> 1911357dfd749674d27aed3af5437b55fcc44a0d
   "metadata": {},
   "outputs": [],
   "source": [
    "f_processed=[] # a list to store the processed lines\n",
    "with open('../../corpora/Shakespeare','r') as f:\n",
    "    for line in f:\n",
    "        #for each line, we do:\n",
    "        #1. remove control characters like \\t \\r \\n\n",
    "        line=line.strip()\n",
    "        #2. skip the empty lines\n",
    "        if line=='':\n",
    "            continue\n",
    "        else: \n",
    "            #3. tokenize the sentence into word list:\n",
    "            tokens=tokenizer(line) #the tokenizer() function that we imported return a series of token items which are now Spacy classes\n",
    "            # To convert each item in tokens to strings, we need to loop over the line again and convert each token to strings by calling str()\n",
    "            tokens_str=[]\n",
    "            for tok in tokens:\n",
    "                tokens_str.append(str(tok))# str() converts into a string\n",
    "            f_processed.append(tokens_str)"
   ]
  },
  {
   "cell_type": "markdown",
   "metadata": {},
   "source": [
    "We can wrap up the above into a function to process files"
   ]
  },
  {
   "cell_type": "code",
   "execution_count": 9,
   "metadata": {},
   "outputs": [],
   "source": [
    "def process(filename):\n",
    "    '''\n",
    "    process file into a list of lines where each line is a list of words\n",
    "\n",
    "    Parameters\n",
    "    ----------\n",
    "    filename : file path\n",
    "\n",
    "    Returns\n",
    "    -------\n",
    "    a list of list of strings\n",
    "    [\n",
    "        [1609]\n",
    "        [THE, SONNETS]\n",
    "        ...\n",
    "    ]\n",
    "    '''\n",
    "    f_processed=[] # a list to store the processed lines\n",
    "    with open(filename,'r') as f:\n",
    "        for line in f:\n",
    "            #for each line, we do:\n",
    "            #1. remove control characters like \\t \\r \\n\n",
    "            line=line.strip()\n",
    "            #2. skip the empty lines\n",
    "            if line=='':\n",
    "                continue\n",
    "            else: \n",
    "                #3. tokenize the sentence into word list:\n",
    "                tokens=tokenizer(line) #the tokenizer() function that we imported return a series of token items which are now Spacy classes\n",
    "                # To convert each item in tokens to strings, we need to loop over the line again and convert each token to strings by calling str()\n",
    "                tokens_str=[]\n",
    "                for tok in tokens:\n",
    "                    tokens_str.append(str(tok))# str() converts into a string\n",
    "                f_processed.append(tokens_str)\n",
    "    return f_processed"
   ]
  },
  {
   "cell_type": "markdown",
   "metadata": {},
   "source": [
    "Call the function:"
   ]
  },
  {
   "cell_type": "code",
<<<<<<< HEAD
   "execution_count": 10,
=======
   "execution_count": 5,
>>>>>>> 1911357dfd749674d27aed3af5437b55fcc44a0d
   "metadata": {},
   "outputs": [],
   "source": [
    "f_processed=process('../../corpora/Shakespeare')"
   ]
  },
  {
   "cell_type": "markdown",
   "metadata": {},
   "source": [
    "You can check how many lines the corpus contains by calling len() function over f_processed. "
   ]
  },
  {
   "cell_type": "code",
<<<<<<< HEAD
   "execution_count": 11,
=======
   "execution_count": 6,
>>>>>>> 1911357dfd749674d27aed3af5437b55fcc44a0d
   "metadata": {},
   "outputs": [
    {
     "data": {
      "text/plain": [
       "114422"
      ]
     },
<<<<<<< HEAD
     "execution_count": 11,
=======
     "execution_count": 6,
>>>>>>> 1911357dfd749674d27aed3af5437b55fcc44a0d
     "metadata": {},
     "output_type": "execute_result"
    }
   ],
   "source": [
    "len(f_processed)"
   ]
  },
  {
   "cell_type": "markdown",
   "metadata": {},
   "source": [
    "### Practice quiz 1:\n",
    "In the following cell, please try processing the other corpus 'Marlowe' in the same directory of 'Shakespeare', and store the processed results in variable: marlowe_processed. \n",
    "\n",
    "Then, Answer the following question:\n",
    "\n",
    "How many lines does Marlowe corpus contain?\n",
    "\n",
    "A. 19492\n",
    "\n",
    "B. 114422\n",
    "\n",
    "C. 1949\n",
    "\n",
    "D. 45336"
   ]
  },
  {
   "cell_type": "markdown",
   "metadata": {},
   "source": [
    "You can insert your code below: "
   ]
  },
  {
   "cell_type": "code",
<<<<<<< HEAD
   "execution_count": 13,
=======
   "execution_count": 7,
   "metadata": {},
   "outputs": [
    {
     "name": "stdout",
     "output_type": "stream",
     "text": [
      "32864\n"
     ]
    }
   ],
   "source": [
    "type_count=len(vocab.keys())# the number of types is just the length of the key list\n",
    "print (type_count)"
   ]
  },
  {
   "cell_type": "markdown",
>>>>>>> 1911357dfd749674d27aed3af5437b55fcc44a0d
   "metadata": {},
   "outputs": [],
   "source": [
    "marlowe_processed=process('../../corpora/Marlowe')"
   ]
  },
  {
   "cell_type": "code",
<<<<<<< HEAD
   "execution_count": 14,
   "metadata": {},
   "outputs": [
    {
     "data": {
      "text/plain": [
       "19492"
      ]
     },
     "execution_count": 14,
     "metadata": {},
     "output_type": "execute_result"
=======
   "execution_count": 8,
   "metadata": {},
   "outputs": [
    {
     "name": "stdout",
     "output_type": "stream",
     "text": [
      "1133363\n"
     ]
>>>>>>> 1911357dfd749674d27aed3af5437b55fcc44a0d
    }
   ],
   "source": [
    "len(marlowe_processed)"
   ]
  },
  {
<<<<<<< HEAD
   "cell_type": "markdown",
   "metadata": {},
=======
   "cell_type": "code",
   "execution_count": 9,
   "metadata": {
    "scrolled": true
   },
   "outputs": [
    {
     "name": "stdout",
     "output_type": "stream",
     "text": [
      "0.028996888022637054\n"
     ]
    }
   ],
>>>>>>> 1911357dfd749674d27aed3af5437b55fcc44a0d
   "source": [
    "## Dictionary"
   ]
  },
  {
   "cell_type": "markdown",
   "metadata": {},
   "source": [
    "A dictionary is a collection which is unordered, changeable and indexed. \n",
    "In Python dictionaries are written with curly brackets, and they have keys and values.\n",
    "For example:"
   ]
  },
  {
   "cell_type": "code",
<<<<<<< HEAD
   "execution_count": 15,
=======
   "execution_count": 10,
>>>>>>> 1911357dfd749674d27aed3af5437b55fcc44a0d
   "metadata": {},
   "outputs": [],
   "source": [
    "thisdict =\t{\n",
    "  \"brand\": \"Ford\",\n",
    "  \"model\": \"Mustang\",\n",
    "  \"year\": 1964\n",
    "}"
   ]
  },
  {
<<<<<<< HEAD
   "cell_type": "markdown",
   "metadata": {},
=======
   "cell_type": "code",
   "execution_count": 11,
   "metadata": {},
   "outputs": [
    {
     "name": "stdout",
     "output_type": "stream",
     "text": [
      "0.028996888022637054\n"
     ]
    }
   ],
>>>>>>> 1911357dfd749674d27aed3af5437b55fcc44a0d
   "source": [
    "You can access the items of a dictionary by referring to its key name, inside square brackets:"
   ]
  },
  {
   "cell_type": "code",
   "execution_count": 16,
   "metadata": {},
   "outputs": [
    {
     "data": {
      "text/plain": [
       "'Ford'"
      ]
     },
     "execution_count": 16,
     "metadata": {},
     "output_type": "execute_result"
    }
   ],
   "source": [
    "thisdict['brand']"
   ]
  },
  {
   "cell_type": "markdown",
   "metadata": {},
   "source": [
    "You can change the value of a specific item by referring to its key name:"
   ]
  },
  {
   "cell_type": "code",
<<<<<<< HEAD
   "execution_count": 17,
=======
   "execution_count": 12,
>>>>>>> 1911357dfd749674d27aed3af5437b55fcc44a0d
   "metadata": {},
   "outputs": [],
   "source": [
    "thisdict['year']=2019"
   ]
  },
  {
   "cell_type": "markdown",
   "metadata": {},
   "source": [
    "Adding an item to the dictionary is done by using a new index key and assigning a value to it:"
   ]
  },
  {
   "cell_type": "code",
<<<<<<< HEAD
   "execution_count": 18,
=======
   "execution_count": 13,
>>>>>>> 1911357dfd749674d27aed3af5437b55fcc44a0d
   "metadata": {},
   "outputs": [],
   "source": [
    "thisdict[\"color\"] = \"red\""
   ]
  },
  {
   "cell_type": "markdown",
   "metadata": {},
   "source": [
    "You can loop through a dictionary by using a for loop"
   ]
  },
  {
   "cell_type": "code",
<<<<<<< HEAD
   "execution_count": 19,
=======
   "execution_count": 14,
>>>>>>> 1911357dfd749674d27aed3af5437b55fcc44a0d
   "metadata": {},
   "outputs": [
    {
     "name": "stdout",
     "output_type": "stream",
     "text": [
      "brand\n",
      "model\n",
      "year\n",
      "color\n"
     ]
    }
   ],
   "source": [
    "#Print all key names in the dictionary, one by one:\n",
    "\n",
    "for x in thisdict:\n",
    "  print(x)"
   ]
  },
  {
   "cell_type": "code",
   "execution_count": 20,
   "metadata": {},
   "outputs": [
    {
     "name": "stdout",
     "output_type": "stream",
     "text": [
      "Ford\n",
      "Mustang\n",
      "2019\n",
      "red\n"
     ]
    }
   ],
   "source": [
    "#Print all values in the dictionary, one by one:\n",
    "\n",
    "for x in thisdict:\n",
    "  print(thisdict[x])"
   ]
  },
  {
   "cell_type": "code",
<<<<<<< HEAD
   "execution_count": 21,
   "metadata": {},
   "outputs": [
    {
     "name": "stdout",
     "output_type": "stream",
     "text": [
      "Ford\n",
      "Mustang\n",
      "2019\n",
      "red\n"
     ]
=======
   "execution_count": 15,
   "metadata": {},
   "outputs": [
    {
     "data": {
      "image/png": "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\n",
      "text/plain": [
       "<Figure size 864x360 with 1 Axes>"
      ]
     },
     "metadata": {
      "needs_background": "light"
     },
     "output_type": "display_data"
>>>>>>> 1911357dfd749674d27aed3af5437b55fcc44a0d
    }
   ],
   "source": [
    "#You can also use the values() function to return values of a dictionary:\n",
    "\n",
    "for x in thisdict.values():\n",
    "  print(x)"
   ]
  },
  {
   "cell_type": "code",
   "execution_count": 22,
   "metadata": {},
   "outputs": [
    {
     "name": "stdout",
     "output_type": "stream",
     "text": [
      "brand Ford\n",
      "model Mustang\n",
      "year 2019\n",
      "color red\n"
     ]
    }
   ],
   "source": [
    "#Loop through both keys and values, by using the items() function:\n",
    "for x, y in thisdict.items():\n",
    "  print(x, y)"
   ]
  },
  {
   "cell_type": "markdown",
   "metadata": {},
   "source": [
    "To determine if a specified key is present in a dictionary use the 'in' keyword:"
   ]
  },
  {
   "cell_type": "code",
   "execution_count": 23,
   "metadata": {},
   "outputs": [
    {
     "name": "stdout",
     "output_type": "stream",
     "text": [
      "Yes, 'model' is one of the keys in the thisdict dictionary\n"
     ]
    }
   ],
   "source": [
    "if \"model\" in thisdict:\n",
    "  print(\"Yes, 'model' is one of the keys in the thisdict dictionary\")"
   ]
  },
  {
   "cell_type": "markdown",
   "metadata": {},
   "source": [
    "To determine how many items (key-value pairs) a dictionary has, use the len() method."
   ]
  },
  {
   "cell_type": "code",
<<<<<<< HEAD
   "execution_count": 24,
=======
   "execution_count": 16,
>>>>>>> 1911357dfd749674d27aed3af5437b55fcc44a0d
   "metadata": {},
   "outputs": [
    {
     "name": "stdout",
     "output_type": "stream",
     "text": [
      "4\n"
     ]
    }
   ],
   "source": [
    "#Print the number of items in the dictionary:\n",
    "print(len(thisdict))"
   ]
  },
  {
   "cell_type": "markdown",
   "metadata": {},
   "source": [
    "## Counting Vocabulary"
   ]
  },
  {
   "cell_type": "markdown",
   "metadata": {},
   "source": [
    "Now let's loop over the word lists in f_processed to create a vocabulary dictionary:"
   ]
  },
  {
   "cell_type": "code",
   "execution_count": 25,
   "metadata": {},
   "outputs": [],
   "source": [
    "vocab={}# create an empty vocabulary dictionary to store words as keys and counts as values later. \n",
    "for line in f_processed:\n",
    "    for word in line:\n",
    "        if word in vocab:\n",
    "            vocab[word]+=1 # update the count for an existing word\n",
    "        else:\n",
    "            vocab[word]=1 # initilize the count for a new word\n"
   ]
  },
  {
   "cell_type": "markdown",
   "metadata": {},
   "source": [
    "Again, we can wrap the above into a function"
   ]
  },
  {
   "cell_type": "code",
   "execution_count": 26,
   "metadata": {},
   "outputs": [],
   "source": [
    "def create_vocab_dict(f_processed_arg):\n",
    "    '''\n",
    "    Collect vocabulary counts from text\n",
    "\n",
    "    Parameters\n",
    "    ----------\n",
    "    f_processed_arg: a list of list of words processed from text as the output of process()\n",
    "\n",
    "    Returns\n",
    "    -------\n",
    "    a dictionary with words (str) as keys and counts(int) as values\n",
    "    vocab={\n",
    "    'SONNETS': 1\n",
    "    }\n",
    "    '''\n",
    "    vocab={}# create an empty vocabulary dictionary to store words as keys and counts as values later. \n",
    "    for line in f_processed_arg:\n",
    "        for word in line:\n",
    "            if word in vocab:\n",
    "                vocab[word]+=1 # update the count for an existing word\n",
    "            else:\n",
    "                vocab[word]=1 # initilize the count for a new word\n",
    "    return vocab"
   ]
  },
  {
   "cell_type": "markdown",
   "metadata": {},
   "source": [
    "We can call the function:"
   ]
  },
  {
   "cell_type": "code",
   "execution_count": 27,
   "metadata": {},
   "outputs": [],
   "source": [
    "vocab=create_vocab_dict(f_processed)"
   ]
  },
  {
   "cell_type": "markdown",
   "metadata": {},
   "source": [
    "We can then retrieve the count of a specific word by vocab[word], eg."
   ]
  },
  {
   "cell_type": "code",
   "execution_count": 28,
   "metadata": {},
   "outputs": [
    {
     "data": {
      "text/plain": [
       "3144"
      ]
     },
     "execution_count": 28,
     "metadata": {},
     "output_type": "execute_result"
    }
   ],
   "source": [
    "vocab['thee']"
   ]
  },
  {
   "cell_type": "markdown",
   "metadata": {},
   "source": [
    "### Practice quiz 2:\n",
    "Use the following cell to retrieve the counts of the following pronouns in Shakespeare: 'thou','thee','thy','thine','you','your'. Which order of the word counts is correct?\n",
    "\n",
    "A. 'you'>'thou'>'your'>'thy'>'thee'>'thine'\n",
    "\n",
    "B. 'you'>'your'>'thou'>'thy'>'thee'>'thine'\n",
    "\n",
    "C. 'thou'>'you'>'thy'>'thine'>'your'>'thee'\n",
    "\n",
    "D. 'you'>'thou'>'your'>'thy'>'thee'>'thine'"
   ]
  },
  {
   "cell_type": "markdown",
   "metadata": {},
   "source": [
    "You can insert your code here:"
   ]
  },
  {
   "cell_type": "code",
   "execution_count": 29,
   "metadata": {},
   "outputs": [
    {
     "data": {
      "text/plain": [
       "4557"
      ]
     },
     "execution_count": 29,
     "metadata": {},
     "output_type": "execute_result"
    }
   ],
   "source": [
    "vocab['thou']"
   ]
  },
  {
   "cell_type": "markdown",
   "metadata": {},
   "source": [
    "### Practice quiz 3:\n",
    "please collect a vocabulary dictionary from 'Marlowe' as well in the following cells, and answer the same question:\n",
    "\n",
    "Which order of the word counts is correct in Marlowe?\n",
    "\n",
    "A. 'you'>'thou'>'your'>'thy'>'thee'>'thine'\n",
    "\n",
    "B. 'you'>'your'>'thou'>'thy'>'thee'>'thine'\n",
    "\n",
    "C. 'thou'>'you'>'thy'>'thine'>'your'>'thee'\n",
    "\n",
    "D. 'you'>'thou'>'your'>'thy'>'thee'>'thine'"
   ]
  },
  {
   "cell_type": "markdown",
   "metadata": {},
   "source": [
    "You can insert your code here:"
   ]
  },
  {
   "cell_type": "code",
   "execution_count": 30,
   "metadata": {},
   "outputs": [],
   "source": [
    "vocab_marlowe=create_vocab_dict(marlowe_processed)"
   ]
  },
  {
   "cell_type": "code",
<<<<<<< HEAD
   "execution_count": 31,
=======
   "execution_count": 17,
>>>>>>> 1911357dfd749674d27aed3af5437b55fcc44a0d
   "metadata": {},
   "outputs": [
    {
     "data": {
      "text/plain": [
       "64"
      ]
     },
<<<<<<< HEAD
     "execution_count": 31,
=======
     "execution_count": 17,
>>>>>>> 1911357dfd749674d27aed3af5437b55fcc44a0d
     "metadata": {},
     "output_type": "execute_result"
    }
   ],
   "source": [
    "vocab_marlowe['thine']"
   ]
  },
  {
   "cell_type": "markdown",
   "metadata": {},
   "source": [
    "## Caluating Type-token ratio"
   ]
  },
  {
   "cell_type": "markdown",
   "metadata": {},
   "source": [
    "Let's calculate type count first:"
   ]
  },
  {
   "cell_type": "code",
   "execution_count": 32,
   "metadata": {},
   "outputs": [
    {
     "name": "stdout",
     "output_type": "stream",
     "text": [
      "32864\n"
     ]
    }
   ],
   "source": [
    "#Recall that vocab stores words as keys. Let's first retrieve the key list of the vocab dictioanry:\n",
    "key_list=vocab.keys()\n",
    "# the number of types is just the length of the key list\n",
    "type_count=len(vocab.keys())\n",
    "print (type_count)"
   ]
  },
  {
   "cell_type": "markdown",
   "metadata": {},
   "source": [
    "Let's caculate token count:"
   ]
  },
  {
   "cell_type": "code",
   "execution_count": 33,
   "metadata": {},
   "outputs": [
    {
     "name": "stdout",
     "output_type": "stream",
     "text": [
      "1133363\n"
     ]
    }
   ],
   "source": [
    "# Let's create a loop to aggregate the token counts in the vocabulary:\n",
    "token_count=0\n",
    "for word in vocab:\n",
    "    token_count+=vocab[word]\n",
    "print (token_count)\n"
   ]
  },
  {
   "cell_type": "code",
   "execution_count": 34,
   "metadata": {
    "scrolled": true
   },
   "outputs": [
    {
     "name": "stdout",
     "output_type": "stream",
     "text": [
      "0.028996888022637054\n"
     ]
    }
   ],
   "source": [
    "#Let's calculate the type-token ratio:\n",
    "ttr=type_count/token_count\n",
    "print (ttr)"
   ]
  },
  {
   "cell_type": "markdown",
   "metadata": {},
   "source": [
    "Alternatively, we could wrap the calculation up into a function that takes in vocab dictionary and outputs the ttr"
   ]
  },
  {
   "cell_type": "code",
   "execution_count": 35,
   "metadata": {},
   "outputs": [],
   "source": [
    "def ttr_cal(vocab_arg):\n",
    "    '''\n",
    "    calculate type-token ratio\n",
    "    \n",
    "    Parameters\n",
    "    ----------\n",
    "    vocab_arg: a vocab dictionary with words as keys and counts as values\n",
    "\n",
    "    Returns\n",
    "    -------\n",
    "    a float number indicating type-token ratio\n",
    "    '''\n",
    "    type_count=len(vocab_arg.keys())\n",
    "    token_count=0\n",
    "    for word in vocab_arg:\n",
    "        token_count+=vocab_arg[word]\n",
    "    ttr=type_count/token_count\n",
    "    return ttr"
   ]
  },
  {
   "cell_type": "code",
   "execution_count": 36,
   "metadata": {},
   "outputs": [
    {
     "name": "stdout",
     "output_type": "stream",
     "text": [
      "0.028996888022637054\n"
     ]
    }
   ],
   "source": [
    "print (ttr_cal(vocab))"
   ]
  },
  {
<<<<<<< HEAD
   "cell_type": "markdown",
   "metadata": {},
   "source": [
    "### Practice quiz 4:\n",
    "What does type-token ratio tell us about a corpus. Eg. lexical variation? \n",
    "\n",
    "Use the above functions to calculate the type-token ratio of Marlowe corpus and compare the results with the Shakespeare corpus. Who has more lexical variation?"
   ]
  },
  {
   "cell_type": "markdown",
   "metadata": {},
   "source": [
    "You can write your code below:"
   ]
  },
  {
   "cell_type": "code",
   "execution_count": 37,
   "metadata": {},
   "outputs": [
    {
     "data": {
      "text/plain": [
       "0.04869252015708204"
      ]
     },
     "execution_count": 37,
     "metadata": {},
     "output_type": "execute_result"
    }
   ],
   "source": [
    "vocab_marlowe=create_vocab_dict(marlowe_processed)\n",
    "ttr_cal(vocab_marlowe)"
   ]
  },
  {
   "cell_type": "markdown",
   "metadata": {},
   "source": [
    "## Plotting a frequency distribution"
   ]
  },
  {
   "cell_type": "markdown",
   "metadata": {},
   "source": [
    "Let's first import matplotlib for plotting"
   ]
  },
  {
   "cell_type": "code",
   "execution_count": 38,
   "metadata": {},
   "outputs": [],
   "source": [
    "import matplotlib.pyplot as plt"
   ]
  },
  {
   "cell_type": "markdown",
   "metadata": {},
   "source": [
    "Then we can sort the words to get the top 100 frequent words. You can change rank_start and rank_end to retrieve ranks that you want to show. "
   ]
  },
  {
   "cell_type": "code",
   "execution_count": 39,
   "metadata": {},
   "outputs": [],
   "source": [
    "rank_start=0\n",
    "rank_end=100\n",
    "vocab_sorted=sorted(vocab.items(),key=lambda x: x[1],reverse=True)[rank_start:rank_end] #sorting. returns sorted pairs of (word,count). Please don't worry if you can't understand this part\n"
   ]
  },
  {
   "cell_type": "markdown",
   "metadata": {},
   "source": [
    "loop through the sorted vocabulary to get words and counts for plotting the graphs\n"
   ]
  },
  {
   "cell_type": "code",
   "execution_count": 40,
   "metadata": {},
   "outputs": [],
   "source": [
    "words=[]\n",
    "counts=[]\n",
    "for w_c in vocab_sorted:\n",
    "    w=w_c[0]\n",
    "    words.append(w)\n",
    "    count=w_c[1]\n",
    "    counts.append(count)\n"
   ]
  },
  {
   "cell_type": "markdown",
   "metadata": {},
   "source": [
    "We could now plot a histogram using the words and counts"
   ]
  },
  {
   "cell_type": "code",
   "execution_count": 41,
   "metadata": {},
   "outputs": [
    {
     "data": {
      "image/png": "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\n",
      "text/plain": [
       "<Figure size 1080x576 with 1 Axes>"
      ]
     },
     "metadata": {
      "needs_background": "light"
     },
     "output_type": "display_data"
    }
   ],
   "source": [
    "\n",
    "\n",
    "plt.figure(figsize=(15,8)) #figure size\n",
    "plt.bar(words,counts) #plot the historgram\n",
    "plt.ylim(0,90000)\n",
    "plt.xticks(rotation=90) # rotate the x label\n",
    "plt.show()\n"
   ]
  },
  {
   "cell_type": "markdown",
   "metadata": {},
   "source": [
    "### Practice quiz 5:\n",
    "Try changing rank_start and rank_end and observe what kind of words the top-frequent words are? What about the low-frequent words?  How many top-frequent words do we have? How many low-frequent words do we have?\n"
   ]
  },
  {
   "cell_type": "markdown",
   "metadata": {},
   "source": [
    "## Counting bigrams"
   ]
  },
  {
   "cell_type": "markdown",
   "metadata": {},
   "source": [
    "A bigram is a sequence of adjacent two words. Let's create a nested dictionary to store the bigrams. The key will be each bigram and the value will be counts\n"
   ]
  },
  {
   "cell_type": "markdown",
   "metadata": {},
   "source": [
    "Let's first loop through the lines in f_processed"
   ]
  },
  {
   "cell_type": "code",
   "execution_count": 42,
   "metadata": {},
   "outputs": [],
   "source": [
    "bigram_dict={}\n",
    "for line in f_processed:\n",
    "    #insert start <start> and end <end> token\n",
    "    line=['<start>']+line+['<end>']\n",
    "    for i,w in enumerate(line):\n",
    "        w_first=w\n",
    "        if i+1<len(line): #not the end of the line\n",
    "            w_second=line[i+1]\n",
    "            bigram=(w_first,w_second) #a tuple to represent bigram\n",
    "            if bigram not in bigram_dict:\n",
    "                bigram_dict[bigram]=1\n",
    "            else:\n",
    "                bigram_dict[bigram]+=1\n",
    "                \n",
    "        "
   ]
  },
  {
   "cell_type": "markdown",
   "metadata": {},
   "source": [
    "### Practice quiz 6:\n",
    "Is gender associated with beauty? Try retrieving the count of 'his beauty' and 'her beauty'? Which has more counts?"
   ]
  },
  {
=======
   "attachments": {},
>>>>>>> 1911357dfd749674d27aed3af5437b55fcc44a0d
   "cell_type": "markdown",
   "metadata": {},
   "source": [
    "## Language modelling\n",
    "\n",
    "Language modelling is a fundamental task in computational lingustics where the aim is to predict the probablity of a sequence of tokens occuring. We will consider tokens to be words in this exercise, but they can be many other things depending on the application (perhaps characters, utterances, phonemes, _etc_). \n",
    "\n",
    "Formally, we want to estimate the probablity $P(w_{1},\\ldots ,w_{m})$ of an $m$-length sequence, using some given corpus.\n",
    "\n",
    "There are many techniques for language modelling; we will consider here a very simple approach called $n$-gram models. These models make the assumption that the probability of a word only depends on the previous $n-1$ context words in the sequence. If $n=1$, we call this a *unigram* model, if $n=2$, it's a *bigram* model etc.\n",
    "\n",
    "So for example, given a sequence of words: *'to be or not to'* what is the probablity the next word will be *'be'*?  In $n$-gram models, this is calculated using *conditional probablity*: $P(`be'\\mid \\text{`to be or not to'})$ where we estimate the probablity of the entire sequence using the probablity chain rule (_i.e_. multiplying the conditional probabilities of the sequence):\n",
    "\n",
    "\n",
    "$$P(w_{1},\\ldots ,w_{m})=\\prod _{{i=1}}^{m}P(w_{i}\\mid w_{1},\\ldots ,w_{{i-1}})\\approx \\prod _{{i=1}}^{m}P(w_{i}\\mid w_{{i-(n-1)}},\\ldots ,w_{{i-1}})$$\n",
    "\n",
    "We can estimate the conditional probility from our training corpus by simply counting:\n",
    "\n",
    "$$P(w_{i}\\mid w_{{i-(n-1)}},\\ldots ,w_{{i-1}})={\\frac  {{\\mathrm  {count}}(w_{{i-(n-1)}},\\ldots ,w_{{i-1}},w_{i})}{{\\mathrm  {count}}(w_{{i-(n-1)}},\\ldots ,w_{{i-1}})}}$$\n",
    "\n",
    "### Unigram language model\n",
    "Let's start by building the most basic $n$-gram model, a unigram model where the conditional probablity for each word is simply the probablity of the word occuring in the corpus data: it does not dependent on any of the previous words in the sequence.\n",
    "\n",
    "We can start by defining a function called *unigram_prob* which calculates the probability of a unigram given as an input parameter"
   ]
  },
  {
   "cell_type": "code",
<<<<<<< HEAD
   "execution_count": 66,
=======
   "execution_count": 18,
>>>>>>> 1911357dfd749674d27aed3af5437b55fcc44a0d
   "metadata": {},
   "outputs": [],
   "source": [
    "def unigram_prob(word):\n",
    "    return float(vocab[word]/token_count)"
   ]
  },
  {
   "cell_type": "markdown",
   "metadata": {},
   "source": [
    "Let's test this by calculating the probability of the word \"horse\" occuring in the corpus:"
   ]
  },
  {
   "cell_type": "code",
<<<<<<< HEAD
   "execution_count": 67,
=======
   "execution_count": 19,
>>>>>>> 1911357dfd749674d27aed3af5437b55fcc44a0d
   "metadata": {},
   "outputs": [
    {
     "data": {
      "text/plain": [
       "0.00021175916277485677"
      ]
     },
<<<<<<< HEAD
     "execution_count": 67,
=======
     "execution_count": 19,
>>>>>>> 1911357dfd749674d27aed3af5437b55fcc44a0d
     "metadata": {},
     "output_type": "execute_result"
    }
   ],
   "source": [
    "unigram_prob(\"horse\")"
   ]
  },
  {
   "cell_type": "markdown",
   "metadata": {},
   "source": [
<<<<<<< HEAD
    "### Practice quiz 7:\n",
=======
    "### Practice quiz 4:\n",
>>>>>>> 1911357dfd749674d27aed3af5437b55fcc44a0d
    "Calculate the probability and the effect of capitalisation on the definite article. Try \"The\" vs \"THE\" vs \"the\", and note how much the probability differs"
   ]
  },
  {
   "cell_type": "code",
<<<<<<< HEAD
   "execution_count": 68,
=======
   "execution_count": 20,
>>>>>>> 1911357dfd749674d27aed3af5437b55fcc44a0d
   "metadata": {},
   "outputs": [
    {
     "data": {
      "text/plain": [
       "0.0035452013167890607"
      ]
     },
<<<<<<< HEAD
     "execution_count": 68,
=======
     "execution_count": 20,
>>>>>>> 1911357dfd749674d27aed3af5437b55fcc44a0d
     "metadata": {},
     "output_type": "execute_result"
    }
   ],
   "source": [
    "unigram_prob(\"The\")"
   ]
  },
  {
   "cell_type": "code",
<<<<<<< HEAD
   "execution_count": 69,
=======
   "execution_count": 21,
>>>>>>> 1911357dfd749674d27aed3af5437b55fcc44a0d
   "metadata": {
    "scrolled": false
   },
   "outputs": [
    {
     "data": {
      "text/plain": [
       "0.00010323259185274268"
      ]
     },
<<<<<<< HEAD
     "execution_count": 69,
=======
     "execution_count": 21,
>>>>>>> 1911357dfd749674d27aed3af5437b55fcc44a0d
     "metadata": {},
     "output_type": "execute_result"
    }
   ],
   "source": [
    "unigram_prob(\"THE\")"
   ]
  },
  {
   "cell_type": "code",
<<<<<<< HEAD
   "execution_count": 70,
=======
   "execution_count": 22,
>>>>>>> 1911357dfd749674d27aed3af5437b55fcc44a0d
   "metadata": {
    "scrolled": false
   },
   "outputs": [
    {
     "data": {
      "text/plain": [
       "0.020503580935675506"
      ]
     },
<<<<<<< HEAD
     "execution_count": 70,
=======
     "execution_count": 22,
>>>>>>> 1911357dfd749674d27aed3af5437b55fcc44a0d
     "metadata": {},
     "output_type": "execute_result"
    }
   ],
   "source": [
    "unigram_prob(\"the\")"
   ]
  },
  {
   "cell_type": "markdown",
   "metadata": {},
   "source": [
    "To calculate the probability of a sequence (a sentence, paragraph, _etc_.) occurring, we use the chain rule of probability by multiplying the unigram probability of individual words. So lets calculate the probability of the sequence: *'To be, or not to be, that is the question:'*"
   ]
  },
  {
   "cell_type": "code",
<<<<<<< HEAD
   "execution_count": 71,
=======
   "execution_count": 23,
>>>>>>> 1911357dfd749674d27aed3af5437b55fcc44a0d
   "metadata": {},
   "outputs": [
    {
     "data": {
      "text/plain": [
       "5.408562399710954e-30"
      ]
     },
<<<<<<< HEAD
     "execution_count": 71,
=======
     "execution_count": 23,
>>>>>>> 1911357dfd749674d27aed3af5437b55fcc44a0d
     "metadata": {},
     "output_type": "execute_result"
    }
   ],
   "source": [
    "unigram_prob(\"To\") * unigram_prob(\"be\") * unigram_prob(\"or\")* unigram_prob(\"not\") * unigram_prob(\"to\") * unigram_prob(\"be\") * unigram_prob(\",\") * unigram_prob(\"that\") * unigram_prob(\"is\") * unigram_prob(\"the\") * unigram_prob(\"the\") * unigram_prob(\"question\") * unigram_prob(\":\")"
   ]
  },
  {
   "cell_type": "markdown",
   "metadata": {},
   "source": [
    "The probablity value of our example sequence is a very small number! In fact, it is so small that it's about the same probability of picking the same ant thrice at random from all the ants on the planet!\n",
    "\n",
    "What happens if we continue to add further words to this sequence?  "
   ]
  },
  {
   "cell_type": "markdown",
   "metadata": {},
   "source": [
    "### Log-probability\n",
    "\n",
    "Eventually the probability values will get so tiny that computers will not be able to represent them correctly in memory; this is known as an *underflow error*.  It will not require much more text to get an underflow error: a simple paragraph using our unigram model will result in one! \n",
    "\n",
    "Fortunately, there is a very simple way to avoid this: we can use log-probability instead of regular probability. To do so, we simply use the log function in our unigram_prob function as follows:"
   ]
  },
  {
   "cell_type": "code",
<<<<<<< HEAD
   "execution_count": 72,
=======
   "execution_count": 24,
>>>>>>> 1911357dfd749674d27aed3af5437b55fcc44a0d
   "metadata": {},
   "outputs": [],
   "source": [
    "import math\n",
    "\n",
    "def unigram_prob(word):\n",
    "    return math.log(float(vocab[word]/token_count))"
   ]
  },
  {
   "cell_type": "markdown",
   "metadata": {},
   "source": [
    "Now let's try calculacting the log-probability for the word \"horse\":"
   ]
  },
  {
   "cell_type": "code",
<<<<<<< HEAD
   "execution_count": 73,
=======
   "execution_count": 25,
>>>>>>> 1911357dfd749674d27aed3af5437b55fcc44a0d
   "metadata": {},
   "outputs": [
    {
     "data": {
      "text/plain": [
       "-8.460060953704279"
      ]
     },
<<<<<<< HEAD
     "execution_count": 73,
=======
     "execution_count": 25,
>>>>>>> 1911357dfd749674d27aed3af5437b55fcc44a0d
     "metadata": {},
     "output_type": "execute_result"
    }
   ],
   "source": [
    "unigram_prob(\"horse\")"
   ]
  },
  {
   "cell_type": "markdown",
   "metadata": {},
   "source": [
    "To calculate the log-probability of an entire sequence, we simply add the individual log-probablity values of individual unigrams instead of multiplying them. \n",
    "\n",
    "Let's write a function that calculates the log-probability of a given text sequence (as a single string). The function must tokenize the input string correctly before performing the calculation."
   ]
  },
  {
   "cell_type": "code",
<<<<<<< HEAD
   "execution_count": 74,
=======
   "execution_count": 26,
>>>>>>> 1911357dfd749674d27aed3af5437b55fcc44a0d
   "metadata": {},
   "outputs": [],
   "source": [
    "def unigram_prob_for_sequence(tokens):\n",
    "    return sum([unigram_prob(tok) for tok in tokens])"
   ]
  },
  {
   "cell_type": "markdown",
   "metadata": {},
   "source": [
    "Let's now calculate the log-probablity of our example sequence:"
   ]
  },
  {
   "cell_type": "code",
<<<<<<< HEAD
   "execution_count": 75,
=======
   "execution_count": 27,
>>>>>>> 1911357dfd749674d27aed3af5437b55fcc44a0d
   "metadata": {},
   "outputs": [
    {
     "data": {
      "text/plain": [
       "-66.11605999786988"
      ]
     },
<<<<<<< HEAD
     "execution_count": 75,
=======
     "execution_count": 27,
>>>>>>> 1911357dfd749674d27aed3af5437b55fcc44a0d
     "metadata": {},
     "output_type": "execute_result"
    }
   ],
   "source": [
    "text = \"To be, or not to be, that is the question:\"\n",
    "example_sequence = [str(tok) for tok in tokenizer(text)]\n",
    "unigram_prob_for_sequence(example_sequence)"
   ]
  },
  {
   "cell_type": "markdown",
   "metadata": {},
   "source": [
<<<<<<< HEAD
    "### Practice quiz 8:\n",
    "Calculate the log-probability of the sentence: *'A horse, a horse! My kingdom for a horse!'*. \n",
    "\n",
    "Is this sequence more or less likely to occur than *\"To be, or not to be, that is the question:\"* ?"
=======
    "### Practice quiz 5:\n",
    "Calculate the log-probability of the sentence: *'A horse, a horse! My kingdom for a horse!'*"
>>>>>>> 1911357dfd749674d27aed3af5437b55fcc44a0d
   ]
  },
  {
   "cell_type": "code",
<<<<<<< HEAD
   "execution_count": 76,
=======
   "execution_count": 28,
>>>>>>> 1911357dfd749674d27aed3af5437b55fcc44a0d
   "metadata": {},
   "outputs": [
    {
     "data": {
      "text/plain": [
       "-74.21539318177221"
      ]
     },
<<<<<<< HEAD
     "execution_count": 76,
=======
     "execution_count": 28,
>>>>>>> 1911357dfd749674d27aed3af5437b55fcc44a0d
     "metadata": {},
     "output_type": "execute_result"
    }
   ],
   "source": [
    "text = \"A horse, a horse! My kingdom for a horse!\"\n",
    "tokens = [str(tok) for tok in tokenizer(text)]\n",
    "unigram_prob_for_sequence(tokens)"
   ]
  },
  {
   "cell_type": "markdown",
   "metadata": {},
   "source": [
    "### Bigram language model\n",
    "\n",
    "Unlike the unigram language model above, a bigram language model uses the context history. It uses conditional probability to estimate the probability of a word occuring relative to the occurance of its predecessor in the sequence:\n",
    "\n",
    "$$P(w_{i}\\mid w_{i-1})={\\frac  {{\\mathrm  {count}}(w_{i-1},w_{i})}{{\\mathrm  {count}}(w_{i-1})}}$$\n",
    "\n",
    "Let's implement a bigram_prob function that calculates the bigram conditional probability for a single token:\n"
   ]
  },
  {
   "cell_type": "code",
<<<<<<< HEAD
   "execution_count": 77,
=======
   "execution_count": 29,
>>>>>>> 1911357dfd749674d27aed3af5437b55fcc44a0d
   "metadata": {},
   "outputs": [],
   "source": [
    "def bigram_prob(w1, w2):\n",
    "    return math.log(float(bigram_dict[(w1,w2)]/vocab[w1]))"
   ]
  },
  {
   "cell_type": "markdown",
   "metadata": {},
   "source": [
    "Let's test this by calculating the conditional log-probability for the bigram \"to be\", i.e., the log-probability of the word \"be\" given the word \"to\" appearing before it:"
   ]
  },
  {
   "cell_type": "code",
<<<<<<< HEAD
   "execution_count": 78,
=======
   "execution_count": 30,
>>>>>>> 1911357dfd749674d27aed3af5437b55fcc44a0d
   "metadata": {},
   "outputs": [
    {
     "data": {
      "text/plain": [
       "-3.0051406123266844"
      ]
     },
<<<<<<< HEAD
     "execution_count": 78,
=======
     "execution_count": 30,
>>>>>>> 1911357dfd749674d27aed3af5437b55fcc44a0d
     "metadata": {},
     "output_type": "execute_result"
    }
   ],
   "source": [
    "bigram_prob(\"to\", \"be\")"
   ]
  },
  {
   "cell_type": "markdown",
   "metadata": {},
   "source": [
    "As before, we can write a function to calculate the log-probability for a sequence of text using our bigram language model."
   ]
  },
  {
   "cell_type": "code",
<<<<<<< HEAD
   "execution_count": 79,
=======
   "execution_count": 31,
>>>>>>> 1911357dfd749674d27aed3af5437b55fcc44a0d
   "metadata": {},
   "outputs": [],
   "source": [
    "def bigram_prob_for_sequence(tokens):\n",
    "    return sum([bigram_prob(w1,w2) for w1,w2 in zip(tokens, tokens[1:])])"
   ]
  },
  {
   "cell_type": "markdown",
   "metadata": {},
   "source": [
    "Let's use this function to calculate the log probability of our example sequence, and compare it to the unigram language model."
   ]
  },
  {
   "cell_type": "code",
<<<<<<< HEAD
   "execution_count": 80,
=======
   "execution_count": 32,
>>>>>>> 1911357dfd749674d27aed3af5437b55fcc44a0d
   "metadata": {},
   "outputs": [
    {
     "data": {
      "text/plain": [
       "-66.11605999786988"
      ]
     },
<<<<<<< HEAD
     "execution_count": 80,
=======
     "execution_count": 32,
>>>>>>> 1911357dfd749674d27aed3af5437b55fcc44a0d
     "metadata": {},
     "output_type": "execute_result"
    }
   ],
   "source": [
    "unigram_prob_for_sequence(example_sequence) # log-probability using unigram"
   ]
  },
  {
   "cell_type": "code",
<<<<<<< HEAD
   "execution_count": 81,
=======
   "execution_count": 33,
>>>>>>> 1911357dfd749674d27aed3af5437b55fcc44a0d
   "metadata": {},
   "outputs": [
    {
     "data": {
      "text/plain": [
       "-49.81572109265195"
      ]
     },
<<<<<<< HEAD
     "execution_count": 81,
=======
     "execution_count": 33,
>>>>>>> 1911357dfd749674d27aed3af5437b55fcc44a0d
     "metadata": {},
     "output_type": "execute_result"
    }
   ],
   "source": [
    "bigram_prob_for_sequence(example_sequence) # log-probability using bigram"
   ]
  },
  {
   "cell_type": "markdown",
   "metadata": {},
   "source": [
    "It is interesting to note that the log-probability value using the bigram model is substantially larger (the sequence is much likelier to occur). Is this perhaps because the bigram language model takes the context history into account whereas a unigram language model does not?\n",
    "\n",
    "We discuss how to correctly evaluate language models in the next section."
   ]
  },
  {
   "cell_type": "markdown",
   "metadata": {},
   "source": [
<<<<<<< HEAD
    "### Practice quiz 9:\n",
=======
    "### Practice quiz 6:\n",
>>>>>>> 1911357dfd749674d27aed3af5437b55fcc44a0d
    "Calculate and compare the unigram and bigram log-probabilities of the sentence: *'Double, double, toil and trouble; fire burns, and cauldron bubble.'*"
   ]
  },
  {
   "cell_type": "code",
<<<<<<< HEAD
   "execution_count": 82,
=======
   "execution_count": 34,
>>>>>>> 1911357dfd749674d27aed3af5437b55fcc44a0d
   "metadata": {},
   "outputs": [
    {
     "data": {
      "text/plain": [
       "-107.52272746936798"
      ]
     },
<<<<<<< HEAD
     "execution_count": 82,
=======
     "execution_count": 34,
>>>>>>> 1911357dfd749674d27aed3af5437b55fcc44a0d
     "metadata": {},
     "output_type": "execute_result"
    }
   ],
   "source": [
    "text = \"Double, double, toil and trouble; fire burns, and cauldron bubble.\"\n",
    "tokens = [str(tok) for tok in tokenizer(text)]\n",
    "unigram_prob_for_sequence(tokens) # log-probability using unigram"
   ]
  },
  {
   "cell_type": "code",
<<<<<<< HEAD
   "execution_count": 83,
=======
   "execution_count": 35,
>>>>>>> 1911357dfd749674d27aed3af5437b55fcc44a0d
   "metadata": {},
   "outputs": [
    {
     "data": {
      "text/plain": [
       "-65.18214590870909"
      ]
     },
<<<<<<< HEAD
     "execution_count": 83,
=======
     "execution_count": 35,
>>>>>>> 1911357dfd749674d27aed3af5437b55fcc44a0d
     "metadata": {},
     "output_type": "execute_result"
    }
   ],
   "source": [
    "bigram_prob_for_sequence(tokens) # log-probability using bigram"
   ]
  },
  {
   "cell_type": "markdown",
   "metadata": {},
   "source": [
    "## Evaluating language models\n",
    "\n",
    "Language models are evaluated using *perplexity* ($P$), a measure of how well a probability model predicts a given sample (e.g. text sequences).\n",
    "\n",
    "Perplexity is defined as $P = 2^{{h(s)}}$ where $h$ is the information entropy per word for a given input $s$. $h(s)$ can be calculated as follows:\n",
    "\n",
    "$$h(s)=\\frac{-1}{|s|}\\sum _{w \\in s}\\log _{2}P(w)$$\n",
    "\n",
    "Here, $s$ is some sample text and $|s|$ is the number of tokens in $s$.\n",
    "\n",
    "The value of perplexity can be thought of as the number of choices the model needs to make on average per token of the input sequence. The lower the perplexity score, the better the language model is since the model has fewer choices on average for the input sequence. \n",
    "\n",
    "Let's implement a simple function to calculate the perplexity, taking as input the log-probability (calculated by a language model) and the length of a sequence (in number of tokens)."
   ]
  },
  {
   "cell_type": "code",
<<<<<<< HEAD
   "execution_count": 84,
=======
   "execution_count": 36,
>>>>>>> 1911357dfd749674d27aed3af5437b55fcc44a0d
   "metadata": {},
   "outputs": [],
   "source": [
    "def perplexity(log_prob, length):\n",
    "    H =  - (log_prob/ math.log(2)) / length  #change of log-base from base 10 to base 2, then normalize by length\n",
    "    return math.pow(2,H)"
   ]
  },
  {
   "cell_type": "markdown",
   "metadata": {},
   "source": [
    "Let's calculate the perplexity of both language models by simply calling the respective functions, and feed the results to the perplexity function above along with the length of the example sequence:"
   ]
  },
  {
   "cell_type": "code",
<<<<<<< HEAD
   "execution_count": 85,
=======
   "execution_count": 37,
>>>>>>> 1911357dfd749674d27aed3af5437b55fcc44a0d
   "metadata": {},
   "outputs": [
    {
     "data": {
      "text/plain": [
       "46.1537652847171"
      ]
     },
<<<<<<< HEAD
     "execution_count": 85,
=======
     "execution_count": 37,
>>>>>>> 1911357dfd749674d27aed3af5437b55fcc44a0d
     "metadata": {},
     "output_type": "execute_result"
    }
   ],
   "source": [
    "perplexity(bigram_prob_for_sequence(example_sequence),len(example_sequence))"
   ]
  },
  {
   "cell_type": "code",
<<<<<<< HEAD
   "execution_count": 86,
=======
   "execution_count": 38,
>>>>>>> 1911357dfd749674d27aed3af5437b55fcc44a0d
   "metadata": {},
   "outputs": [
    {
     "data": {
      "text/plain": [
       "161.7174649447508"
      ]
     },
<<<<<<< HEAD
     "execution_count": 86,
=======
     "execution_count": 38,
>>>>>>> 1911357dfd749674d27aed3af5437b55fcc44a0d
     "metadata": {},
     "output_type": "execute_result"
    }
   ],
   "source": [
    "perplexity(unigram_prob_for_sequence(example_sequence),len(example_sequence))"
   ]
  },
  {
   "cell_type": "markdown",
   "metadata": {},
   "source": [
<<<<<<< HEAD
    "### Practice quiz 10:\n",
=======
    "### Practice quiz 7:\n",
>>>>>>> 1911357dfd749674d27aed3af5437b55fcc44a0d
    "Which of the two models has a lower perplexity?  measure the perplixity of both models using the example text sentences from previous quizes. \n",
    "\n",
    "Can you find a text string where the unigram model has a lower perplexity than the bigram model?"
   ]
  },
  {
   "cell_type": "code",
   "execution_count": null,
   "metadata": {},
   "outputs": [],
   "source": []
  },
  {
   "cell_type": "code",
   "execution_count": null,
   "metadata": {},
   "outputs": [],
   "source": []
  },
  {
   "cell_type": "code",
   "execution_count": null,
   "metadata": {},
   "outputs": [],
   "source": []
<<<<<<< HEAD
  },
  {
   "cell_type": "code",
   "execution_count": null,
   "metadata": {},
   "outputs": [],
   "source": []
  },
  {
   "cell_type": "code",
   "execution_count": null,
   "metadata": {},
   "outputs": [],
   "source": []
=======
>>>>>>> 1911357dfd749674d27aed3af5437b55fcc44a0d
  }
 ],
 "metadata": {
  "kernelspec": {
   "display_name": "Python 3",
   "language": "python",
   "name": "python3"
  },
  "language_info": {
   "codemirror_mode": {
    "name": "ipython",
    "version": 3
   },
   "file_extension": ".py",
   "mimetype": "text/x-python",
   "name": "python",
   "nbconvert_exporter": "python",
   "pygments_lexer": "ipython3",
   "version": "3.7.4"
  },
  "toc": {
   "base_numbering": 1,
   "nav_menu": {},
   "number_sections": true,
   "sideBar": true,
   "skip_h1_title": false,
   "title_cell": "Table of Contents",
   "title_sidebar": "Contents",
   "toc_cell": false,
   "toc_position": {
    "height": "calc(100% - 180px)",
    "left": "10px",
    "top": "150px",
    "width": "371px"
   },
   "toc_section_display": true,
   "toc_window_display": true
  },
  "varInspector": {
   "cols": {
    "lenName": 16,
    "lenType": 16,
    "lenVar": 40
   },
   "kernels_config": {
    "python": {
     "delete_cmd_postfix": "",
     "delete_cmd_prefix": "del ",
     "library": "var_list.py",
     "varRefreshCmd": "print(var_dic_list())"
    },
    "r": {
     "delete_cmd_postfix": ") ",
     "delete_cmd_prefix": "rm(",
     "library": "var_list.r",
     "varRefreshCmd": "cat(var_dic_list()) "
    }
   },
   "types_to_exclude": [
    "module",
    "function",
    "builtin_function_or_method",
    "instance",
    "_Feature"
   ],
   "window_display": false
  }
 },
 "nbformat": 4,
 "nbformat_minor": 1
}
