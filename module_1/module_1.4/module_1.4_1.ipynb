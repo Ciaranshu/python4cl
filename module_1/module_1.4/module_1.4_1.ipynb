{
 "cells": [
  {
   "cell_type": "markdown",
   "metadata": {},
   "source": [
    "# Python for Linguists module 1.4"
   ]
  },
  {
   "cell_type": "markdown",
   "metadata": {},
   "source": [
    "Welcome to module 1.4. In this module, we will start calculating statistics using real corpus. \n",
    "\n",
    "Let's first refresh your memory on ngrams and probabilities by completing the following quiz:\n",
    "\n",
    "## Pre-module quiz\n",
    "\n",
    "Given the sequence 'aabbdab', what is *P*(b|a)?\n",
    "\n",
    "A. 1/2\n",
    "\n",
    "B. 1/3\n",
    "\n",
    "C. 2/3\n",
    "\n",
    "D. 0"
   ]
  },
  {
   "cell_type": "markdown",
   "metadata": {},
   "source": [
    "## Importing packages"
   ]
  },
  {
   "cell_type": "markdown",
   "metadata": {},
   "source": [
    "In python, there are many pre-built packages that contain modules (python scripts) that can be installed and imported easily. Once imported, we can use the functions defined in the imported modules, so that we do not need to write them yourselves. \n",
    "\n",
    "In this tutorial, we have already installed a package named spacy. Let's try importing a class named English from the spacy package, and create a default tokenizer from it. "
   ]
  },
  {
   "cell_type": "markdown",
   "metadata": {},
   "source": [
    "The English class is in a script named 'en.py' in the path spacy/lang/. To import the class variable, we could do the following:"
   ]
  },
  {
   "cell_type": "code",
   "execution_count": 9,
   "metadata": {},
   "outputs": [],
   "source": [
    "import spacy.lang.en #import the path\n",
    "nlp=spacy.lang.en.English() #call the class variable with full path"
   ]
  },
  {
   "cell_type": "code",
   "execution_count": 10,
   "metadata": {},
   "outputs": [],
   "source": [
    "import spacy.lang.en as en #import the path and give it a name\n",
    "nlp=en.English() #call the class variable with the name"
   ]
  },
  {
   "cell_type": "code",
   "execution_count": 12,
   "metadata": {},
   "outputs": [],
   "source": [
    "from spacy.lang.en import English # directly import the class variable\n",
    "nlp=English() # call the class directly"
   ]
  },
  {
   "cell_type": "markdown",
   "metadata": {},
   "source": [
    "Now let's initialize a default English tokenizer"
   ]
  },
  {
   "cell_type": "code",
   "execution_count": 15,
   "metadata": {},
   "outputs": [],
   "source": [
    "tokenizer = nlp.Defaults.create_tokenizer(nlp)"
   ]
  },
  {
   "cell_type": "markdown",
   "metadata": {
    "collapsed": true
   },
   "source": [
    "## Processing the corpora"
   ]
  },
  {
   "cell_type": "markdown",
   "metadata": {},
   "source": [
    "We will be using the the full works of Shakespeare corpus. The relative path to the corpus file is ../../corpora/shakespeare (.. indicates the parent directory). \n",
    "Let's first load the corpus by using the open function:"
   ]
  },
  {
   "cell_type": "code",
   "execution_count": 17,
   "metadata": {},
   "outputs": [],
   "source": [
    "f=open('../../corpora/Shakespeare','r')"
   ]
  },
  {
   "cell_type": "markdown",
   "metadata": {},
   "source": [
    "We declared the variable f to open the Shakespeare file. open() takes 2 arguments, the path to the file that we want to open and a string that represents the kinds of permission or operation we want to do on the file. Here 'r' refers to the permission of 'read-only'. "
   ]
  },
  {
   "cell_type": "markdown",
   "metadata": {},
   "source": [
    "Remember to close the f variable after finishing reading:\n"
   ]
  },
  {
   "cell_type": "code",
   "execution_count": 19,
   "metadata": {},
   "outputs": [],
   "source": [
    "f.close()"
   ]
  },
  {
   "cell_type": "markdown",
   "metadata": {},
   "source": [
    "A more recommendable way is to use with keyword so that the file will be properly closed after its suite finishes"
   ]
  },
  {
   "cell_type": "code",
   "execution_count": 119,
   "metadata": {},
   "outputs": [
    {
     "name": "stdout",
     "output_type": "stream",
     "text": [
      "test\n"
     ]
    }
   ],
   "source": [
    "with open('../../corpora/Shakespeare','r') as f:\n",
    "    print ('test')"
   ]
  },
  {
   "cell_type": "markdown",
   "metadata": {},
   "source": [
    "Let's write a for loop to process each line of the file and store the processed lines as tokenized word lists into another variable"
   ]
  },
  {
   "cell_type": "code",
   "execution_count": 123,
   "metadata": {},
   "outputs": [],
   "source": [
    "f_processed=[] # a list to store the processed lines\n",
    "with open('../../corpora/Shakespeare','r') as f:\n",
    "    for line in f:\n",
    "        #for each line, we do:\n",
    "        #1. remove control characters like \\t \\r \\n\n",
    "        line=line.strip()\n",
    "        #2. skip the empty lines\n",
    "        if line=='':\n",
    "            continue\n",
    "        else: \n",
    "            #3. tokenize the sentence into word list:\n",
    "            tokens=tokenizer(line) #the tokenizer() function that we imported return a series of token items which are now Spacy classes\n",
    "            # To convert each item in tokens to strings, we need to loop over the line again and convert each token to strings by calling str()\n",
    "            tokens_str=[]\n",
    "            for tok in tokens:\n",
    "                tokens_str.append(str(tok))# str() converts into a string\n",
    "            f_processed.append(tokens_str)"
   ]
  },
  {
   "cell_type": "markdown",
   "metadata": {},
   "source": [
    "We can wrap up the above into a function to process files"
   ]
  },
  {
   "cell_type": "code",
   "execution_count": 150,
   "metadata": {},
   "outputs": [],
   "source": [
    "def process(filename):\n",
    "    '''\n",
    "    process file into a list of lines where each line is a list of words\n",
    "\n",
    "    Parameters\n",
    "    ----------\n",
    "    filename : file path\n",
    "\n",
    "    Returns\n",
    "    -------\n",
    "    a list of list of strings\n",
    "    [\n",
    "        [1609]\n",
    "        [THE, SONNETS]\n",
    "        ...\n",
    "    ]\n",
    "    '''\n",
    "    f_processed=[] # a list to store the processed lines\n",
    "    with open(filename,'r') as f:\n",
    "        for line in f:\n",
    "            #for each line, we do:\n",
    "            #1. remove control characters like \\t \\r \\n\n",
    "            line=line.strip()\n",
    "            #2. skip the empty lines\n",
    "            if line=='':\n",
    "                continue\n",
    "            else: \n",
    "                #3. tokenize the sentence into word list:\n",
    "                tokens=tokenizer(line) #the tokenizer() function that we imported return a series of token items which are now Spacy classes\n",
    "                # To convert each item in tokens to strings, we need to loop over the line again and convert each token to strings by calling str()\n",
    "                tokens_str=[]\n",
    "                for tok in tokens:\n",
    "                    tokens_str.append(str(tok))# str() converts into a string\n",
    "                f_processed.append(tokens_str)\n",
    "    return f_processed"
   ]
  },
  {
   "cell_type": "markdown",
   "metadata": {},
   "source": [
    "Call the function:"
   ]
  },
  {
   "cell_type": "code",
   "execution_count": 122,
   "metadata": {},
   "outputs": [],
   "source": [
    "f_processed=process('../../corpora/Shakespeare')"
   ]
  },
  {
   "cell_type": "markdown",
   "metadata": {},
   "source": [
    "You can check how many lines the corpus contains by calling len() function over f_processed. "
   ]
  },
  {
   "cell_type": "code",
   "execution_count": 189,
   "metadata": {},
   "outputs": [
    {
     "data": {
      "text/plain": [
       "114422"
      ]
     },
     "execution_count": 189,
     "metadata": {},
     "output_type": "execute_result"
    }
   ],
   "source": [
    "len(f_processed)"
   ]
  },
  {
   "cell_type": "markdown",
   "metadata": {},
   "source": [
    "### Practice quiz 1:\n",
    "In the following cell, please try processing the other corpus 'Marlowe' in the same directory of 'Shakespeare', and store the processed results in variable: marlowe_processed. \n",
    "\n",
    "Then, Answer the following question:\n",
    "\n",
    "How many lines does Marlowe corpus contain?\n",
    "\n",
    "A. 19492\n",
    "\n",
    "B. 114422\n",
    "\n",
    "C. 1949\n",
    "\n",
    "D. 45336"
   ]
  },
  {
   "cell_type": "markdown",
   "metadata": {},
   "source": [
    "You can insert your code below: "
   ]
  },
  {
   "cell_type": "code",
   "execution_count": 160,
   "metadata": {},
   "outputs": [],
   "source": [
    "marlowe_processed=process('../../corpora/Marlowe')"
   ]
  },
  {
   "cell_type": "code",
   "execution_count": 190,
   "metadata": {},
   "outputs": [
    {
     "data": {
      "text/plain": [
       "19492"
      ]
     },
     "execution_count": 190,
     "metadata": {},
     "output_type": "execute_result"
    }
   ],
   "source": [
    "len(marlowe_processed)"
   ]
  },
  {
   "cell_type": "markdown",
   "metadata": {},
   "source": [
    "## Dictionary"
   ]
  },
  {
   "cell_type": "markdown",
   "metadata": {},
   "source": [
    "A dictionary is a collection which is unordered, changeable and indexed. \n",
    "In Python dictionaries are written with curly brackets, and they have keys and values.\n",
    "For example:"
   ]
  },
  {
   "cell_type": "code",
   "execution_count": 8,
   "metadata": {},
   "outputs": [],
   "source": [
    "thisdict =\t{\n",
    "  \"brand\": \"Ford\",\n",
    "  \"model\": \"Mustang\",\n",
    "  \"year\": 1964\n",
    "}"
   ]
  },
  {
   "cell_type": "markdown",
   "metadata": {},
   "source": [
    "You can access the items of a dictionary by referring to its key name, inside square brackets:"
   ]
  },
  {
   "cell_type": "code",
   "execution_count": 10,
   "metadata": {},
   "outputs": [
    {
     "data": {
      "text/plain": [
       "'Ford'"
      ]
     },
     "execution_count": 10,
     "metadata": {},
     "output_type": "execute_result"
    }
   ],
   "source": [
    "thisdict['brand']"
   ]
  },
  {
   "cell_type": "markdown",
   "metadata": {},
   "source": [
    "You can change the value of a specific item by referring to its key name:"
   ]
  },
  {
   "cell_type": "code",
   "execution_count": 9,
   "metadata": {},
   "outputs": [
    {
     "data": {
      "text/plain": [
       "1964"
      ]
     },
     "execution_count": 9,
     "metadata": {},
     "output_type": "execute_result"
    }
   ],
   "source": [
    "thisdict['year']=2019"
   ]
  },
  {
   "cell_type": "markdown",
   "metadata": {},
   "source": [
    "Adding an item to the dictionary is done by using a new index key and assigning a value to it:"
   ]
  },
  {
   "cell_type": "code",
   "execution_count": 12,
   "metadata": {},
   "outputs": [],
   "source": [
    "thisdict[\"color\"] = \"red\""
   ]
  },
  {
   "cell_type": "markdown",
   "metadata": {},
   "source": [
    "You can loop through a dictionary by using a for loop"
   ]
  },
  {
   "cell_type": "code",
   "execution_count": 13,
   "metadata": {},
   "outputs": [
    {
     "name": "stdout",
     "output_type": "stream",
     "text": [
      "brand\n",
      "model\n",
      "year\n",
      "color\n"
     ]
    }
   ],
   "source": [
    "#Print all key names in the dictionary, one by one:\n",
    "\n",
    "for x in thisdict:\n",
    "  print(x)"
   ]
  },
  {
   "cell_type": "code",
   "execution_count": 14,
   "metadata": {},
   "outputs": [
    {
     "name": "stdout",
     "output_type": "stream",
     "text": [
      "Ford\n",
      "Mustang\n",
      "1964\n",
      "red\n"
     ]
    }
   ],
   "source": [
    "#Print all values in the dictionary, one by one:\n",
    "\n",
    "for x in thisdict:\n",
    "  print(thisdict[x])"
   ]
  },
  {
   "cell_type": "code",
   "execution_count": 15,
   "metadata": {},
   "outputs": [
    {
     "name": "stdout",
     "output_type": "stream",
     "text": [
      "Ford\n",
      "Mustang\n",
      "1964\n",
      "red\n"
     ]
    }
   ],
   "source": [
    "#You can also use the values() function to return values of a dictionary:\n",
    "\n",
    "for x in thisdict.values():\n",
    "  print(x)"
   ]
  },
  {
   "cell_type": "code",
   "execution_count": 16,
   "metadata": {},
   "outputs": [
    {
     "name": "stdout",
     "output_type": "stream",
     "text": [
      "brand Ford\n",
      "model Mustang\n",
      "year 1964\n",
      "color red\n"
     ]
    }
   ],
   "source": [
    "#Loop through both keys and values, by using the items() function:\n",
    "for x, y in thisdict.items():\n",
    "  print(x, y)"
   ]
  },
  {
   "cell_type": "markdown",
   "metadata": {},
   "source": [
    "To determine if a specified key is present in a dictionary use the 'in' keyword:"
   ]
  },
  {
   "cell_type": "code",
   "execution_count": 17,
   "metadata": {},
   "outputs": [
    {
     "name": "stdout",
     "output_type": "stream",
     "text": [
      "Yes, 'model' is one of the keys in the thisdict dictionary\n"
     ]
    }
   ],
   "source": [
    "if \"model\" in thisdict:\n",
    "  print(\"Yes, 'model' is one of the keys in the thisdict dictionary\")"
   ]
  },
  {
   "cell_type": "markdown",
   "metadata": {},
   "source": [
    "To determine how many items (key-value pairs) a dictionary has, use the len() method."
   ]
  },
  {
   "cell_type": "code",
   "execution_count": 21,
   "metadata": {},
   "outputs": [
    {
     "name": "stdout",
     "output_type": "stream",
     "text": [
      "4\n"
     ]
    }
   ],
   "source": [
    "#Print the number of items in the dictionary:\n",
    "print(len(thisdict))"
   ]
  },
  {
   "cell_type": "markdown",
   "metadata": {},
   "source": [
    "## Counting Vocabulary"
   ]
  },
  {
   "cell_type": "markdown",
   "metadata": {},
   "source": [
    "Now let's loop over the word lists in f_processed to create a vocabulary dictionary:"
   ]
  },
  {
   "cell_type": "code",
   "execution_count": 44,
   "metadata": {},
   "outputs": [],
   "source": [
    "vocab={}# create an empty vocabulary dictionary to store words as keys and counts as values later. \n",
    "for line in f_processed:\n",
    "    for word in line:\n",
    "        if word in vocab:\n",
    "            vocab[word]+=1 # update the count for an existing word\n",
    "        else:\n",
    "            vocab[word]=1 # initilize the count for a new word\n"
   ]
  },
  {
   "cell_type": "markdown",
   "metadata": {},
   "source": [
    "Again, we can wrap the above into a function"
   ]
  },
  {
   "cell_type": "code",
   "execution_count": 45,
   "metadata": {},
   "outputs": [],
   "source": [
    "def create_vocab_dict(f_processed_arg):\n",
    "    '''\n",
    "    Collect vocabulary counts from text\n",
    "\n",
    "    Parameters\n",
    "    ----------\n",
    "    f_processed_arg: a list of list of words processed from text as the output of process()\n",
    "\n",
    "    Returns\n",
    "    -------\n",
    "    a dictionary with words (str) as keys and counts(int) as values\n",
    "    vocab={\n",
    "    'SONNETS': 1\n",
    "    }\n",
    "    '''\n",
    "    vocab={}# create an empty vocabulary dictionary to store words as keys and counts as values later. \n",
    "    for line in f_processed_arg:\n",
    "        for word in line:\n",
    "            if word in vocab:\n",
    "                vocab[word]+=1 # update the count for an existing word\n",
    "            else:\n",
    "                vocab[word]=1 # initilize the count for a new word\n",
    "    return vocab"
   ]
  },
  {
   "cell_type": "markdown",
   "metadata": {},
   "source": [
    "We can call the function:"
   ]
  },
  {
   "cell_type": "code",
   "execution_count": 46,
   "metadata": {},
   "outputs": [],
   "source": [
    "vocab=create_vocab_dict(f_processed)"
   ]
  },
  {
   "cell_type": "markdown",
   "metadata": {},
   "source": [
    "We can then retrieve the count of a specific word by vocab[word], eg."
   ]
  },
  {
   "cell_type": "code",
   "execution_count": 94,
   "metadata": {},
   "outputs": [
    {
     "data": {
      "text/plain": [
       "3144"
      ]
     },
     "execution_count": 94,
     "metadata": {},
     "output_type": "execute_result"
    }
   ],
   "source": [
    "vocab['thee']"
   ]
  },
  {
   "cell_type": "markdown",
   "metadata": {},
   "source": [
    "### Practice quiz 2:\n",
    "Use the following cell to retrieve the counts of the following pronouns in Shakespeare: 'thou','thee','thy','thine','you','your'. Which order of the word counts is correct?\n",
    "\n",
    "A. 'you'>'thou'>'your'>'thy'>'thee'>'thine'\n",
    "\n",
    "B. 'you'>'your'>'thou'>'thy'>'thee'>'thine'\n",
    "\n",
    "C. 'thou'>'you'>'thy'>'thine'>'your'>'thee'\n",
    "\n",
    "D. 'you'>'thou'>'your'>'thy'>'thee'>'thine'"
   ]
  },
  {
   "cell_type": "markdown",
   "metadata": {},
   "source": [
    "You can insert your code here:"
   ]
  },
  {
   "cell_type": "code",
   "execution_count": 202,
   "metadata": {},
   "outputs": [
    {
     "data": {
      "text/plain": [
       "4556"
      ]
     },
     "execution_count": 202,
     "metadata": {},
     "output_type": "execute_result"
    }
   ],
   "source": [
    "vocab['thou']"
   ]
  },
  {
   "cell_type": "markdown",
   "metadata": {},
   "source": [
    "### Practice quiz 3:\n",
    "please collect a vocabulary dictionary from 'Marlowe' as well in the following cells, and answer the same question:\n",
    "\n",
    "Which order of the word counts is correct in Marlowe?\n",
    "\n",
    "A. 'you'>'thou'>'your'>'thy'>'thee'>'thine'\n",
    "\n",
    "B. 'you'>'your'>'thou'>'thy'>'thee'>'thine'\n",
    "\n",
    "C. 'thou'>'you'>'thy'>'thine'>'your'>'thee'\n",
    "\n",
    "D. 'you'>'thou'>'your'>'thy'>'thee'>'thine'"
   ]
  },
  {
   "cell_type": "markdown",
   "metadata": {},
   "source": [
    "You can insert your code here:"
   ]
  },
  {
   "cell_type": "code",
   "execution_count": 203,
   "metadata": {},
   "outputs": [],
   "source": [
    "vocab_marlowe=create_vocab_dict(marlowe_processed)"
   ]
  },
  {
   "cell_type": "code",
   "execution_count": 209,
   "metadata": {},
   "outputs": [
    {
     "data": {
      "text/plain": [
       "64"
      ]
     },
     "execution_count": 209,
     "metadata": {},
     "output_type": "execute_result"
    }
   ],
   "source": [
    "vocab_marlowe['thine']"
   ]
  },
  {
   "cell_type": "markdown",
   "metadata": {},
   "source": [
    "## Caluating Type-token ratio"
   ]
  },
  {
   "cell_type": "markdown",
   "metadata": {},
   "source": [
    "Let's calculate type count first:"
   ]
  },
  {
   "cell_type": "code",
   "execution_count": 116,
   "metadata": {},
   "outputs": [
    {
     "name": "stdout",
     "output_type": "stream",
     "text": [
      "32951\n"
     ]
    }
   ],
   "source": [
    "#Recall that vocab stores words as keys. Let's first retrieve the key list of the vocab dictioanry:\n",
    "key_list=vocab.keys()\n",
    "# the number of types is just the length of the key list\n",
    "type_count=len(vocab.keys())\n",
    "print (type_count)"
   ]
  },
  {
   "cell_type": "markdown",
   "metadata": {},
   "source": [
    "Let's caculate token count:"
   ]
  },
  {
   "cell_type": "code",
   "execution_count": 75,
   "metadata": {},
   "outputs": [
    {
     "name": "stdout",
     "output_type": "stream",
     "text": [
      "1133110\n"
     ]
    }
   ],
   "source": [
    "# Let's create a loop to aggregate the token counts in the vocabulary:\n",
    "token_count=0\n",
    "for word in vocab:\n",
    "    token_count+=vocab[word]\n",
    "print (token_count)\n"
   ]
  },
  {
   "cell_type": "code",
   "execution_count": 77,
   "metadata": {
    "scrolled": true
   },
   "outputs": [
    {
     "name": "stdout",
     "output_type": "stream",
     "text": [
      "0.029080142263328362\n"
     ]
    }
   ],
   "source": [
    "#Let's calculate the type-token ratio:\n",
    "ttr=type_count/token_count\n",
    "print (ttr)"
   ]
  },
  {
   "cell_type": "markdown",
   "metadata": {},
   "source": [
    "Alternatively, we could wrap the calculation up into a function that takes in vocab dictionary and outputs the ttr"
   ]
  },
  {
   "cell_type": "code",
   "execution_count": 117,
   "metadata": {},
   "outputs": [],
   "source": [
    "def ttr_cal(vocab_arg):\n",
    "    '''\n",
    "    calculate type-token ratio\n",
    "    \n",
    "    Parameters\n",
    "    ----------\n",
    "    vocab_arg: a vocab dictionary with words as keys and counts as values\n",
    "\n",
    "    Returns\n",
    "    -------\n",
    "    a float number indicating type-token ratio\n",
    "    '''\n",
    "    type_count=len(vocab_arg.keys())\n",
    "    token_count=0\n",
    "    for word in vocab_arg:\n",
    "        token_count+=vocab_arg[word]\n",
    "    ttr=type_count/token_count\n",
    "    return ttr"
   ]
  },
  {
   "cell_type": "code",
   "execution_count": 118,
   "metadata": {},
   "outputs": [
    {
     "name": "stdout",
     "output_type": "stream",
     "text": [
      "0.029080142263328362\n"
     ]
    }
   ],
   "source": [
    "print (ttr_cal(vocab))"
   ]
  },
  {
   "cell_type": "markdown",
   "metadata": {},
   "source": [
    "### Practice quiz 4:\n",
    "What does type-token ratio tell us about a corpus. Eg. lexical variation? \n",
    "\n",
    "Use the above functions to calculate the type-token ratio of Marlowe corpus and compare the results with the Shakespeare corpus. Who has more lexical variation?"
   ]
  },
  {
   "cell_type": "markdown",
   "metadata": {},
   "source": [
    "You can write your code below:"
   ]
  },
  {
   "cell_type": "code",
   "execution_count": 211,
   "metadata": {},
   "outputs": [
    {
     "data": {
      "text/plain": [
       "0.04902041788375269"
      ]
     },
     "execution_count": 211,
     "metadata": {},
     "output_type": "execute_result"
    }
   ],
   "source": [
    "vocab_marlowe=create_vocab_dict(marlowe_processed)\n",
    "ttr_cal(vocab_marlowe)"
   ]
  },
  {
   "cell_type": "markdown",
   "metadata": {},
   "source": [
    "## Plotting a frequency distribution"
   ]
  },
  {
   "cell_type": "markdown",
   "metadata": {},
   "source": [
    "Let's first import matplotlib for plotting"
   ]
  },
  {
   "cell_type": "code",
   "execution_count": 213,
   "metadata": {},
   "outputs": [],
   "source": [
    "import matplotlib.pyplot as plt"
   ]
  },
  {
   "cell_type": "markdown",
   "metadata": {},
   "source": [
    "Then we can sort the words to get the top 100 frequent words. You can change rank_start and rank_end to retrieve ranks that you want to show. "
   ]
  },
  {
   "cell_type": "code",
   "execution_count": 278,
   "metadata": {},
   "outputs": [],
   "source": [
    "rank_start=0\n",
    "rank_end=100\n",
    "vocab_sorted=sorted(vocab.items(),key=lambda x: x[1],reverse=True)[rank_start:rank_end] #sorting. returns sorted pairs of (word,count). Please don't worry if you can't understand this part\n"
   ]
  },
  {
   "cell_type": "markdown",
   "metadata": {},
   "source": [
    "loop through the sorted vocabulary to get words and counts for plotting the graphs\n"
   ]
  },
  {
   "cell_type": "code",
   "execution_count": 279,
   "metadata": {},
   "outputs": [],
   "source": [
    "words=[]\n",
    "counts=[]\n",
    "for w_c in vocab_sorted:\n",
    "    w=w_c[0]\n",
    "    words.append(w)\n",
    "    count=w_c[1]\n",
    "    counts.append(count)\n"
   ]
  },
  {
   "cell_type": "markdown",
   "metadata": {},
   "source": [
    "We could now plot a histogram using the words and counts"
   ]
  },
  {
   "cell_type": "code",
   "execution_count": 280,
   "metadata": {},
   "outputs": [
    {
     "data": {
      "image/png": "[encoded data removed]",
      "text/plain": [
       "<Figure size 1080x576 with 1 Axes>"
      ]
     },
     "metadata": {
      "needs_background": "light"
     },
     "output_type": "display_data"
    }
   ],
   "source": [
    "\n",
    "\n",
    "plt.figure(figsize=(15,8)) #figure size\n",
    "plt.bar(words,counts) #plot the historgram\n",
    "plt.ylim(0,90000)\n",
    "plt.xticks(rotation=90) # rotate the x label\n",
    "plt.show()\n"
   ]
  },
  {
   "cell_type": "markdown",
   "metadata": {},
   "source": [
    "### Practice quiz 5:\n",
    "Try changing rank_start and rank_end and observe what kind of words the top-frequent words are? What about the low-frequent words?  How many top-frequent words do we have? How many low-frequent words do we have?\n"
   ]
  },
  {
   "cell_type": "markdown",
   "metadata": {},
   "source": [
    "## Counting bigrams"
   ]
  },
  {
   "cell_type": "markdown",
   "metadata": {},
   "source": [
    "A bigram is a sequence of adjacent two words. Let's create a nested dictionary to store the bigrams. The key will be each bigram and the value will be counts\n"
   ]
  },
  {
   "cell_type": "markdown",
   "metadata": {},
   "source": [
    "Let's first loop through the lines in f_processed"
   ]
  },
  {
   "cell_type": "code",
   "execution_count": 273,
   "metadata": {},
   "outputs": [],
   "source": [
    "bigram_dict={}\n",
    "for line in f_processed:\n",
    "    #insert start <start> and end <end> token\n",
    "    line=['<start>']+line+['<end>']\n",
    "    for i,w in enumerate(line):\n",
    "        w_first=w\n",
    "        if i+1<len(line): #not the end of the line\n",
    "            w_second=line[i+1]\n",
    "            bigram=(w_first,w_second) #a tuple to represent bigram\n",
    "            if bigram not in bigram_dict:\n",
    "                bigram_dict[bigram]=1\n",
    "            else:\n",
    "                bigram_dict[bigram]+=1\n",
    "                \n",
    "        "
   ]
  },
  {
   "cell_type": "markdown",
   "metadata": {},
   "source": [
    "### Practice quiz 6:\n",
    "Is gender associated with beauty? Try retrieving the count of 'his beauty' and 'her beauty'? Which has more counts?"
   ]
  },
  {
   "cell_type": "code",
   "execution_count": null,
   "metadata": {},
   "outputs": [],
   "source": []
  }
 ],
 "metadata": {
  "kernelspec": {
   "display_name": "Python 3",
   "language": "python",
   "name": "python3"
  },
  "language_info": {
   "codemirror_mode": {
    "name": "ipython",
    "version": 3
   },
   "file_extension": ".py",
   "mimetype": "text/x-python",
   "name": "python",
   "nbconvert_exporter": "python",
   "pygments_lexer": "ipython3",
   "version": "3.6.8"
  },
  "toc": {
   "base_numbering": 1.0,
   "nav_menu": {},
   "number_sections": true,
   "sideBar": true,
   "skip_h1_title": false,
   "title_cell": "Table of Contents",
   "title_sidebar": "Contents",
   "toc_cell": false,
   "toc_position": {
    "height": "calc(100% - 180px)",
    "left": "10px",
    "top": "150px",
    "width": "371px"
   },
   "toc_section_display": true,
   "toc_window_display": true
  },
  "varInspector": {
   "cols": {
    "lenName": 16.0,
    "lenType": 16.0,
    "lenVar": 40.0
   },
   "kernels_config": {
    "python": {
     "delete_cmd_postfix": "",
     "delete_cmd_prefix": "del ",
     "library": "var_list.py",
     "varRefreshCmd": "print(var_dic_list())"
    },
    "r": {
     "delete_cmd_postfix": ") ",
     "delete_cmd_prefix": "rm(",
     "library": "var_list.r",
     "varRefreshCmd": "cat(var_dic_list()) "
    }
   },
   "types_to_exclude": [
    "module",
    "function",
    "builtin_function_or_method",
    "instance",
    "_Feature"
   ],
   "window_display": false
  }
 },
 "nbformat": 4,
 "nbformat_minor": 1
}
