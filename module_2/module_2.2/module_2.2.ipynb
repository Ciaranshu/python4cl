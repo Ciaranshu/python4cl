{
 "cells": [
  {
   "cell_type": "markdown",
   "metadata": {},
   "source": [
    "Welcome to module 2.2! In the last module, we investigated how to use `scikit-learn` to build a simple Naive Bayes model to perform sentiment analysis. In this notebook we will look behind the scenes: we will build our own Naive Bayes model from scratch. We will reuse some of the code we wrote in the previous notebook - but this time, we'll write the maths from scratch."
   ]
  },
  {
   "cell_type": "markdown",
   "metadata": {},
   "source": [
    "## ❓ Pre-module quiz\n",
    "\n",
    "Why is Naive Bayes \"naive\"?\n",
    "\n",
    "A. Because it's the most basic, i.e. \"naive\" classifier we can build\n",
    "\n",
    "B. Because it \"naively\" assumes that the probabilities of features (i.e., in our case, words) are independent of each other\n",
    "\n",
    "C. Because the guy who invented it tought it was a cool name\n",
    "\n",
    "D. Because it \"naively\" assumes that the probabilities of features (i.e., in our case, words) are dependent of each other\n",
    "\n",
    "<hr>    <!-- please remember this! -->\n",
    "<details>\n",
    "  <summary>Click <b>here</b> to see the answer.</summary>\n",
    "  <p>The correct answer is B - Naive Bayes assumes that the probability of finding a certain word is independent from the probability of finding another word. So, for example, in the domain of movie reviews, it assumes that the probabilities of finding the words <code>Indiana</code> and <code>Jones</code> are not correlated, even if in practice we know that this is not the case.</p>\n",
    "\n",
    "</details> \n"
   ]
  },
  {
   "cell_type": "markdown",
   "metadata": {},
   "source": [
    "# Python for Computational Linguists 1.2: Breaking down Naive Bayes"
   ]
  },
  {
   "cell_type": "markdown",
   "metadata": {},
   "source": [
    "## Introduction"
   ]
  },
  {
   "cell_type": "markdown",
   "metadata": {},
   "source": [
    "### Recap of last notebook\n",
    "\n",
    "Module 2.1 introduced lots of new concepts and libraries - pre-processing, feature vectors, `numpy`, and so on. In fact, we have seen how to import data from a research dataset, how to clean them by removing punctuation and stop-words, how to use `numpy` to prepare test and training data for a model, and how to use `scikit-learn` to train, test and evaluate a simple Naive Bayes classifier for sentiment analysis.\n",
    "\n",
    "However, we didn't look 'behind the scenes' at how Naive Bayes actually works. This module will guide you through your first hand-written machine learning model, by showing you how to write the maths for Naive Bayes yourself. We will introduce the concept of \"class\", and we'll debug and improve our model by adding smoothing.\n",
    "\n",
    "If you're interested, you can also just go and look the code of `scikit-learn`'s implementation [here](https://github.com/scikit-learn/scikit-learn/blob/0fb307bf3/sklearn/naive_bayes.py#L669)!"
   ]
  },
  {
   "cell_type": "markdown",
   "metadata": {},
   "source": [
    "### Naive Bayes refresher\n",
    "\n",
    "> Note: this section borrows heavily from the Naive Bayes chapter of the lecture notes. Please refer to them or to the J&M for more details.\n",
    "\n",
    "Naive Bayes is a simple classifier based on two assumptions:\n",
    "- The **bag-of-words** assumption: word ordering doesn't matter. We represent each document in our dataset as a list of pairs $(word_i,frequency_i)$.\n",
    "- The **conditional independence** assumption: the probability of one word appearing in a sentence is by no means correlated to the occurrence of another word.\n",
    "\n",
    "These two assumptions heavily simplify our model, since they completely disregard grammar and and eventual domain knowledge (e.g. the `Indiana Jones` example in the pre-module quiz); but as we know now, they allow us to build a surprisingly efficient classifier.\n",
    "\n",
    "Let's quickly go through the maths of Naive Bayes. Remember that given a document $d$ and a set of classes $C$, the probability the document belong to a class $c \\in C$ is $\\hat{c}$, and is defined as:\n",
    "\n",
    "$$ \\hat{c} = \\text{argmax}_{c \\in C} P(c \\mid d)$$\n",
    "\n",
    "However, the Bayes Rule tells us that\n",
    "\n",
    "$$ P(c \\mid d) = \\frac{P(c) \\ P(d \\mid c)}{P(d)} $$\n",
    "\n",
    "Allowing us to rewrite \n",
    "\n",
    "$$\\begin{align} \n",
    "\\hat{c} &= \\text{argmax}_{c \\in C} P(c \\mid d) \\\\\n",
    "        &= \\text{argmax}_{c \\in C} \\frac{P(c) \\ P(d \\mid c)}{P(d)}\n",
    "\\end{align}$$\n",
    "\n",
    "However, the probability $d$ is constant for each class $c$, hence we can remove it, leaving only:\n",
    "\n",
    "$$\n",
    "\\hat{c} = \\text{argmax}_{c \\in C} \n",
    "    \\underbrace{P(c) \\ P(d \\mid c)}_\\text{likelihood}\n",
    "    \\underbrace{P(d)}_\\text{prior}\n",
    "$$\n",
    "\n",
    "Where the $prior$ is the **prior probability** of the class $c$ and the $likelihood$ is the probability of finding $d$ given the class $c$.\n",
    "\n",
    "Using words as features, we can represent $d$ as a list of words $w_1, \\dots , w_n$, hence \n",
    "\n",
    "$$\n",
    "\\hat{c} = \\text{argmax}_{c \\in C} \n",
    "    \\underbrace{P(c) \\ P(w_1, \\dots , w_n \\mid c)}_\\text{likelihood} \n",
    "    \\underbrace{P(d)}_\\text{prior}\n",
    "$$\n",
    "\n",
    "However, $P(w_1, \\dots , w_n \\mid c)$ may be prohibitively hard to calculate, since we would need to estimate the probability of every possible combination of words. Here, the **bag-of-words** assumption comes to the rescues, assuming the probability of the words (i.e. features) are independent, allowing us to finally rewrite\n",
    "\n",
    "$$\n",
    "\\begin{align}\n",
    "\\hat{c} &= \\text{argmax}_{c \\in C} \n",
    "       \\underbrace{P(d)}_\\text{prior}\n",
    "       \\underbrace{P(c) \\ P(w_1 \\mid c) \\times \\dots \\times P(w_n \\mid c)}_\\text{likelihood} \n",
    "       \\\\\n",
    "       &= \\text{argmax}_{c \\in C} \n",
    "       \\underbrace{P(d)}_\\text{prior}\n",
    "       \\underbrace{\\prod_{w \\in d}{P(w \\mid c)}}_\\text{likelihood} \n",
    "\\end{align}\n",
    "$$"
   ]
  },
  {
   "cell_type": "markdown",
   "metadata": {},
   "source": [
    "What does all of this mean in practice? Well, that if we have a document $d$, all we need to know to classify it is:\n",
    "- The *priors*, i.e. the probability of document $d$ to belong to each class $c$\n",
    "- The *likelihoods*, i.e. the probabilities for each word $w_i$ of the document to belong to each class $c$."
   ]
  },
  {
   "cell_type": "markdown",
   "metadata": {},
   "source": [
    "## Naive Bayes: a simple implementation\n",
    "\n",
    "Let's begin with a simple example from the Post Lecture exercises (taken from J&M-3, exercise 4.2). Given the following short movie reviews, each labeled with a genre, either comedy or action:\n",
    "\n",
    "| review                      | class  |\n",
    "|-----------------------------|--------|\n",
    "| fun, couple, love, love     | comedy |\n",
    "| fast, furious, shoot        | action |\n",
    "| couple, fly, fast, fun, fun | comedy |\n",
    "| curious, shoot, shoot, fun  | action |\n",
    "| fly, fast, shoot, love      | action |\n",
    "\n",
    "And a new document D: \n",
    "\n",
    "| review                     | class  |\n",
    "|----------------------------|--------|\n",
    "| fast, couple, shoot, fly   | ?      |\n",
    "\n",
    "Compute the most likely class for D.\n",
    "\n",
    "Let's start by saving our documents in some vectors:"
   ]
  },
  {
   "cell_type": "code",
   "execution_count": null,
   "metadata": {},
   "outputs": [],
   "source": [
    "train_docs = [\n",
    "    ['fun', 'couple', 'love', 'love'],\n",
    "    ['fast', 'furious', 'shoot'],\n",
    "    ['couple', 'fly', 'fast', 'fun', 'fun'],\n",
    "    ['curious', 'shoot', 'shoot', 'fun'],    \n",
    "    ['fly', 'fast', 'shoot', 'love']]\n",
    "\n",
    "train_labels = ['comedy', 'action', 'comedy', 'action', 'action']"
   ]
  },
  {
   "cell_type": "markdown",
   "metadata": {},
   "source": [
    "### Computing the priors\n",
    "\n",
    "Remember what we needed to do? The first step is to compute the **priors**. Let's do that with a simple function:"
   ]
  },
  {
   "cell_type": "code",
   "execution_count": null,
   "metadata": {},
   "outputs": [],
   "source": [
    "# What are our classes?\n",
    "classes = set(train_labels)\n",
    "print(classes)\n",
    "\n",
    "# initialise the priors\n",
    "priors = {}\n",
    "for _class in classes:\n",
    "    priors[_class] = 0\n",
    "\n",
    "# count how many train example in each class\n",
    "for _class in classes:\n",
    "    for label in train_labels:\n",
    "        if _class == label:\n",
    "            priors[_class] += 1\n",
    "\n",
    "print(priors)"
   ]
  },
  {
   "cell_type": "markdown",
   "metadata": {},
   "source": [
    "> **<h3>💻 Try it yourself!</h3>**\n",
    "\n",
    "Now the priors are not *normalised*, i.e. we have to bring each prior in the range $[0,1]$. Can you do that in the following cell?"
   ]
  },
  {
   "cell_type": "code",
   "execution_count": null,
   "metadata": {},
   "outputs": [],
   "source": [
    "# write your code here"
   ]
  },
  {
   "cell_type": "markdown",
   "metadata": {},
   "source": [
    "<hr>    <!-- please remember this! -->\n",
    "<details>\n",
    "  <summary>Click <b>here</b> to see the answer.</summary>\n",
    "    <p><pre><code>\n",
    "for _class in classes:\n",
    "    priors[_class] = priors[_class] / len(train_labels)\n",
    "    </code></pre></p>\n",
    "\n",
    "</details> "
   ]
  },
  {
   "cell_type": "markdown",
   "metadata": {},
   "source": [
    "If you've got the priors correct, you should have $P(comedy) = 0.4$ and $P(action)=0.6$."
   ]
  },
  {
   "cell_type": "code",
   "execution_count": null,
   "metadata": {},
   "outputs": [],
   "source": [
    "print(priors)"
   ]
  },
  {
   "cell_type": "markdown",
   "metadata": {},
   "source": [
    "> **<h3>💻 Try it yourself!</h3>**\n",
    "\n",
    "Now let's wrap everything nicely into a function. Can you complete the cell below?"
   ]
  },
  {
   "cell_type": "code",
   "execution_count": null,
   "metadata": {},
   "outputs": [],
   "source": [
    "def compute_priors(labels):\n",
    "    '''\n",
    "    Computes the priors for a set of labels.\n",
    "    '''\n",
    "\n",
    "    # What are our classes?\n",
    "    classes = set(labels)\n",
    "\n",
    "    # initialise the priors\n",
    "    priors = {}\n",
    "\n",
    "    # ...?\n",
    "\n",
    "    # count how many train example in each class\n",
    "    \n",
    "    # ...?\n",
    "    \n",
    "    # normalise the priors\n",
    "    \n",
    "    # ...?\n",
    "    \n",
    "    return priors"
   ]
  },
  {
   "cell_type": "markdown",
   "metadata": {},
   "source": [
    "<hr>    <!-- please remember this! -->\n",
    "<details>\n",
    "  <summary>Click <b>here</b> to see the answer.</summary>\n",
    "    <p><pre><code>\n",
    "def compute_priors(labels):\n",
    "    '''\n",
    "    Computes the priors for a set of labels.\n",
    "    '''\n",
    "    \n",
    "    # What are our classes?\n",
    "    classes = set(labels)\n",
    "\n",
    "    # initialise the priors\n",
    "    priors = {}\n",
    "    for _class in classes:\n",
    "        priors[_class] = 0\n",
    "\n",
    "    # count how many train example in each class\n",
    "    for _class in classes:\n",
    "        for label in labels:\n",
    "            if _class == label:\n",
    "                priors[_class] += 1\n",
    "    \n",
    "    # normalise the priors\n",
    "    for _class in classes:\n",
    "        priors[_class] = priors[_class] / len(labels)\n",
    "        \n",
    "    return priors\n",
    "    </code></pre></p>\n",
    "\n",
    "</details> "
   ]
  },
  {
   "cell_type": "code",
   "execution_count": null,
   "metadata": {},
   "outputs": [],
   "source": [
    "priors = compute_priors(train_labels)\n",
    "print(priors)"
   ]
  },
  {
   "cell_type": "markdown",
   "metadata": {},
   "source": [
    "### Computing the likelihoods"
   ]
  },
  {
   "cell_type": "markdown",
   "metadata": {},
   "source": [
    "Now we need to compute the likelihoods of the words w.r.t. to each class. To do that, we can build a `dict` for each class, where `dict[word] = P(word|class)`. To do that we can slightly modify the function `create_vocab_dict` that we defined in [Module 1.4](../../module_1/module_1.4/module_1.4.ipynb). The function we defined was the following:"
   ]
  },
  {
   "cell_type": "code",
   "execution_count": null,
   "metadata": {},
   "outputs": [],
   "source": [
    "def create_vocab_dict(lines):\n",
    "    '''\n",
    "    Collect vocabulary counts from text\n",
    "\n",
    "    Parameters\n",
    "    ----------\n",
    "    f_processed_arg: a list of list of words\n",
    "\n",
    "    Returns\n",
    "    -------\n",
    "    a dictionary with words (str) as keys and counts(int) as values\n",
    "    vocab={\n",
    "    'SONNETS': 1\n",
    "    }\n",
    "    '''\n",
    "    vocab={}# create an empty vocabulary dictionary to store words as keys and counts as values later. \n",
    "    for line in lines:\n",
    "        for word in line:\n",
    "            if word in vocab:\n",
    "                vocab[word]+=1 # update the count for an existing word\n",
    "            else:\n",
    "                vocab[word]=1 # initilize the count for a new word\n",
    "    return vocab"
   ]
  },
  {
   "cell_type": "code",
   "execution_count": null,
   "metadata": {},
   "outputs": [],
   "source": [
    "print(create_vocab_dict(train_docs))"
   ]
  },
  {
   "cell_type": "markdown",
   "metadata": {},
   "source": [
    "> **<h3>💻 Try it yourself!</h3>**\n",
    "\n",
    "How can we modify this function to give us the likelihoods for each class? Modify the function below, directly derived from `create_vocab_dict`, to return the likelihoods instead of the raw counts."
   ]
  },
  {
   "cell_type": "code",
   "execution_count": null,
   "metadata": {},
   "outputs": [],
   "source": [
    "def create_vocab_dict(lines):\n",
    "    '''\n",
    "    Computes the likelihoods of words in a list of strings.\n",
    "\n",
    "    Parameters\n",
    "    ----------\n",
    "    f_processed_arg: a list of list of words\n",
    "\n",
    "    Returns\n",
    "    -------\n",
    "    a dictionary with words (str) as keys and likelihoods(floats) as values\n",
    "    vocab={\n",
    "    'SONNETS': 0.01\n",
    "    }\n",
    "    '''\n",
    "    vocab={}# create an empty vocabulary dictionary to store words as keys and counts as values later. \n",
    "    for line in lines:\n",
    "        for word in line:\n",
    "            if word in vocab:\n",
    "                vocab[word]+=1 # update the count for an existing word\n",
    "            else:\n",
    "                vocab[word]=1 # initilize the count for a new word\n",
    "                \n",
    "    # how many words we have in our vocabulary?\n",
    "    vocab_size = # complete this line\n",
    "    for word in vocab:\n",
    "        vocab[word] = # complete this line\n",
    "    \n",
    "    return vocab"
   ]
  },
  {
   "cell_type": "markdown",
   "metadata": {},
   "source": [
    "<hr>    <!-- please remember this! -->\n",
    "<details>\n",
    "  <summary>Click <b>here</b> to see the answer.</summary>\n",
    "    <p><pre><code>\n",
    "def create_vocab_dict(lines):\n",
    "    '''\n",
    "    Computes the likelihoods of words in a list of strings.\n",
    "\n",
    "    Parameters\n",
    "    ----------\n",
    "    f_processed_arg: a list of list of words\n",
    "\n",
    "    Returns\n",
    "    -------\n",
    "    a dictionary with words (str) as keys and likelihoods(floats) as values\n",
    "    vocab={\n",
    "    'SONNETS': 0.01\n",
    "    }\n",
    "    '''\n",
    "    vocab={}# create an empty vocabulary dictionary to store words as keys and counts as values later. \n",
    "    for line in lines:\n",
    "        for word in line:\n",
    "            if word in vocab:\n",
    "                vocab[word]+=1 # update the count for an existing word\n",
    "            else:\n",
    "                vocab[word]=1 # initilize the count for a new word\n",
    "                \n",
    "    # how many words we have in our vocabulary?\n",
    "    vocab_size = len(vocab)\n",
    "    for word in vocab:\n",
    "        vocab[word] = vocab[word]/vocab_size\n",
    "    \n",
    "    return vocab\n",
    "    </code></pre></p>\n",
    "\n",
    "</details> "
   ]
  },
  {
   "cell_type": "code",
   "execution_count": null,
   "metadata": {},
   "outputs": [],
   "source": [
    "print(create_vocab_dict(train_docs))"
   ]
  },
  {
   "cell_type": "markdown",
   "metadata": {},
   "source": [
    "### The training function"
   ]
  },
  {
   "cell_type": "markdown",
   "metadata": {},
   "source": [
    "### Object-oriented programming in a nutshell"
   ]
  },
  {
   "cell_type": "markdown",
   "metadata": {},
   "source": [
    "#### Your first class: `Dataset`"
   ]
  },
  {
   "cell_type": "markdown",
   "metadata": {},
   "source": [
    "#### The `NaiveBayes` class"
   ]
  },
  {
   "cell_type": "markdown",
   "metadata": {},
   "source": [
    "### Adding 1-smoothing"
   ]
  },
  {
   "cell_type": "markdown",
   "metadata": {},
   "source": [
    "## Re-classify the *Thumbs up?* dataset"
   ]
  },
  {
   "cell_type": "markdown",
   "metadata": {},
   "source": [
    "### Recap of loader functions"
   ]
  },
  {
   "cell_type": "markdown",
   "metadata": {},
   "source": [
    "### Applying our model"
   ]
  },
  {
   "cell_type": "markdown",
   "metadata": {},
   "source": [
    "### Improving the results"
   ]
  },
  {
   "cell_type": "markdown",
   "metadata": {},
   "source": [
    "### Differences between our model and `scikit-learn`"
   ]
  },
  {
   "cell_type": "markdown",
   "metadata": {},
   "source": [
    "## Wrapping up"
   ]
  },
  {
   "cell_type": "code",
   "execution_count": null,
   "metadata": {},
   "outputs": [],
   "source": []
  }
 ],
 "metadata": {
  "kernelspec": {
   "display_name": "Python 3",
   "language": "python",
   "name": "python3"
  },
  "language_info": {
   "codemirror_mode": {
    "name": "ipython",
    "version": 3
   },
   "file_extension": ".py",
   "mimetype": "text/x-python",
   "name": "python",
   "nbconvert_exporter": "python",
   "pygments_lexer": "ipython3",
   "version": "3.6.9"
  },
  "toc": {
   "base_numbering": 1,
   "nav_menu": {},
   "number_sections": true,
   "sideBar": true,
   "skip_h1_title": false,
   "title_cell": "Table of Contents",
   "title_sidebar": "Contents",
   "toc_cell": false,
   "toc_position": {
    "height": "calc(100% - 180px)",
    "left": "10px",
    "top": "150px",
    "width": "352px"
   },
   "toc_section_display": true,
   "toc_window_display": true
  },
  "varInspector": {
   "cols": {
    "lenName": 16,
    "lenType": 16,
    "lenVar": 40
   },
   "kernels_config": {
    "python": {
     "delete_cmd_postfix": "",
     "delete_cmd_prefix": "del ",
     "library": "var_list.py",
     "varRefreshCmd": "print(var_dic_list())"
    },
    "r": {
     "delete_cmd_postfix": ") ",
     "delete_cmd_prefix": "rm(",
     "library": "var_list.r",
     "varRefreshCmd": "cat(var_dic_list()) "
    }
   },
   "types_to_exclude": [
    "module",
    "function",
    "builtin_function_or_method",
    "instance",
    "_Feature"
   ],
   "window_display": false
  }
 },
 "nbformat": 4,
 "nbformat_minor": 4
}
