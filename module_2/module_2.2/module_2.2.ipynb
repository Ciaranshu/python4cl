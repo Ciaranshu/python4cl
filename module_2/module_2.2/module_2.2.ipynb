{
  "nbformat": 4,
  "nbformat_minor": 0,
  "metadata": {
    "kernelspec": {
      "display_name": "Python 3",
      "language": "python",
      "name": "python3"
    },
    "language_info": {
      "codemirror_mode": {
        "name": "ipython",
        "version": 3
      },
      "file_extension": ".py",
      "mimetype": "text/x-python",
      "name": "python",
      "nbconvert_exporter": "python",
      "pygments_lexer": "ipython3",
      "version": "3.6.9"
    },
    "toc": {
      "base_numbering": 1,
      "nav_menu": {},
      "number_sections": true,
      "sideBar": true,
      "skip_h1_title": false,
      "title_cell": "Table of Contents",
      "title_sidebar": "Contents",
      "toc_cell": false,
      "toc_position": {
        "height": "calc(100% - 180px)",
        "left": "10px",
        "top": "150px",
        "width": "352px"
      },
      "toc_section_display": true,
      "toc_window_display": true
    },
    "varInspector": {
      "cols": {
        "lenName": 16,
        "lenType": 16,
        "lenVar": 40
      },
      "kernels_config": {
        "python": {
          "delete_cmd_postfix": "",
          "delete_cmd_prefix": "del ",
          "library": "var_list.py",
          "varRefreshCmd": "print(var_dic_list())"
        },
        "r": {
          "delete_cmd_postfix": ") ",
          "delete_cmd_prefix": "rm(",
          "library": "var_list.r",
          "varRefreshCmd": "cat(var_dic_list()) "
        }
      },
      "types_to_exclude": [
        "module",
        "function",
        "builtin_function_or_method",
        "instance",
        "_Feature"
      ],
      "window_display": false
    },
    "colab": {
      "name": "module_2.2.ipynb",
      "provenance": [],
      "toc_visible": true
    }
  },
  "cells": [
    {
      "cell_type": "markdown",
      "metadata": {
        "id": "EJwy3etY_kvW"
      },
      "source": [
        "## ❓ Pre-module quiz\n",
        "\n",
        "Why is Naive Bayes \"naive\"?\n",
        "\n",
        "A. Because it's the most basic, i.e. \"naive\" classifier we can build\n",
        "\n",
        "B. Because it \"naively\" assumes that the probabilities of features (i.e., in our case, words) are independent of each other\n",
        "\n",
        "C. Because the guy who invented it tought it was a cool name\n",
        "\n",
        "D. Because it \"naively\" assumes that the probabilities of features (i.e., in our case, words) are dependent of each other\n",
        "\n",
        "<hr>    <!-- please remember this! -->\n",
        "<details>\n",
        "  <summary>Click <b>here</b> to see the answer.</summary>\n",
        "  <p>The correct answer is B - Naive Bayes assumes that the probability of finding a certain word is independent from the probability of finding another word. So, for example, in the domain of movie reviews, it assumes that the probabilities of finding the words <code>Indiana</code> and <code>Jones</code> are not correlated, even if in practice we know that this is not the case.</p>\n",
        "\n",
        "</details> \n"
      ]
    },
    {
      "cell_type": "markdown",
      "metadata": {
        "id": "AQQUUduw_kvZ"
      },
      "source": [
        "# Python for Computational Linguists 1.2: Breaking down Naive Bayes"
      ]
    },
    {
      "cell_type": "markdown",
      "metadata": {
        "id": "daKwHNgO_kvd"
      },
      "source": [
        "## Introduction\n",
        "\n",
        "Welcome to module 2.1! In this module we will review Naive Bayes and we will write our own implementation of the algorithm. We will use it to classify some toy examples, and then we will turn to Sentiment Analysis, by training our simple model on a research dataset."
      ]
    },
    {
      "cell_type": "markdown",
      "metadata": {
        "id": "oY6y8zPC_kvf"
      },
      "source": [
        "### (⚠️ UPDATE ME!) Recap of last notebook\n",
        "\n",
        "Module 2.1 introduced lots of new concepts and libraries - pre-processing, feature vectors, `numpy`, and so on. In fact, we have seen how to import data from a research dataset, how to clean them by removing punctuation and stop-words, how to use `numpy` to prepare test and training data for a model, and how to use `scikit-learn` to train, test and evaluate a simple Naive Bayes classifier for sentiment analysis.\n",
        "\n",
        "However, we didn't look 'behind the scenes' at how Naive Bayes actually works. This module will guide you through your first hand-written machine learning model, by showing you how to write the maths for Naive Bayes yourself. "
      ]
    },
    {
      "cell_type": "markdown",
      "metadata": {
        "id": "L6O7PrvS_kvh"
      },
      "source": [
        "### Naive Bayes refresher\n",
        "\n",
        "> Note: this section borrows heavily from the Naive Bayes chapter of the lecture notes. Please refer to them or to the J&M for more details.\n",
        "\n",
        "Naive Bayes is a simple classifier based on two assumptions:\n",
        "- The **bag-of-words** assumption: word ordering doesn't matter. We represent each document in our dataset as a list of pairs $(word_i,frequency_i)$.\n",
        "- The **conditional independence** assumption: the probability of one word appearing in a sentence is by no means correlated to the occurrence of another word.\n",
        "\n",
        "These two assumptions heavily simplify our model, since they completely disregard grammar and and any domain knowledge (e.g. the `Indiana Jones` example in the pre-module quiz); but as we know now, they allow us to build a surprisingly efficient classifier.\n",
        "\n",
        "Let's quickly go through the maths of Naive Bayes. Remember that given a document $d$ and a set of classes $C$, we need to assign the document to the class $\\hat{c} \\in C$ which has the maximum *a posteriori probability*, i.e. where $\\hat{c}$ is defined as follows:\n",
        "\n",
        "$$ \\hat{c} = \\text{argmax}_{c \\in C} P(c \\mid d)$$\n",
        "\n",
        "How do we calculate $\\hat{c}$ efficiently? Well, the Bayes Rule tells us that\n",
        "\n",
        "$$ P(c \\mid d) = \\frac{P(c) \\ P(d \\mid c)}{P(d)} $$\n",
        "\n",
        "Allowing us to rewrite \n",
        "\n",
        "$$\\begin{align} \n",
        "\\hat{c} &= \\text{argmax}_{c \\in C} P(c \\mid d) \\\\\n",
        "        &= \\text{argmax}_{c \\in C} \\frac{P(c) \\ P(d \\mid c)}{P(d)}\n",
        "\\end{align}$$\n",
        "\n",
        "However, the probability $d$ is constant for each class $c$, hence we can remove it, leaving only:\n",
        "\n",
        "$$\n",
        "\\hat{c} = \\text{argmax}_{c \\in C} \n",
        "    \\underbrace{P(c)}_\\text{prior}\n",
        "    \\underbrace{P(d \\mid c)}_\\text{likelihood}\n",
        "$$\n",
        "\n",
        "Where the $prior$ is the **prior probability** of the class $c$ and the $likelihood$ is the probability of finding $d$ given the class $c$.\n",
        "\n",
        "Using words as features, we can represent $d$ as a list of words $w_1, \\dots , w_n$, hence \n",
        "\n",
        "$$\n",
        "\\hat{c} = \\text{argmax}_{c \\in C} \n",
        "    \\underbrace{P(c)}_\\text{prior}\n",
        "    \\underbrace{P(w_1, \\dots , w_n \\mid c)}_\\text{likelihood} \n",
        "$$\n",
        "\n",
        "However, $P(w_1, \\dots , w_n \\mid c)$ may be prohibitively hard to calculate, since we would need to estimate the probability of every possible combination of words. Here, the **conditional independence** assumption comes to the rescue, assuming the probability of the words (i.e. features) are independent, allowing us to finally rewrite\n",
        "\n",
        "$$\n",
        "\\begin{align}\n",
        "\\hat{c} &= \\text{argmax}_{c \\in C} \n",
        "       \\underbrace{P(c)}_\\text{prior}\n",
        "       \\underbrace{P(w_1 \\mid c) \\times \\dots \\times P(w_n \\mid c)}_\\text{likelihood} \n",
        "       \\\\\n",
        "       &= \\text{argmax}_{c \\in C} \n",
        "       \\underbrace{P(c)}_\\text{prior}\n",
        "       \\underbrace{\\prod_{w \\in d}{P(w \\mid c)}}_\\text{likelihood} \n",
        "\\end{align}\n",
        "$$"
      ]
    },
    {
      "cell_type": "markdown",
      "metadata": {
        "id": "aZ_apZnz_kvi"
      },
      "source": [
        "What does all of this mean in practice? Well, that if we have a document $d$, all we need to know to classify it is:\n",
        "- The *priors*, i.e. the probability of document $d$ to belong to each class $c$\n",
        "- The *likelihoods*, i.e. the probabilities for each word $w_i$ of the document to belong to each class $c$."
      ]
    },
    {
      "cell_type": "markdown",
      "metadata": {
        "id": "gS63pmVB_kvk"
      },
      "source": [
        "## Naive Bayes: a simple implementation\n",
        "\n",
        "Let's begin with a simple example from the Post Lecture exercises (taken from J&M-3, exercise 4.2). Given the following short movie reviews, each labeled with a genre, either comedy or action:\n",
        "\n",
        "| review                      | class  |\n",
        "|-----------------------------|--------|\n",
        "| fun, couple, love, love     | comedy |\n",
        "| fast, furious, shoot        | action |\n",
        "| couple, fly, fast, fun, fun | comedy |\n",
        "| furious, shoot, shoot, fun  | action |\n",
        "| fly, fast, shoot, love      | action |\n",
        "\n",
        "And a new document D: \n",
        "\n",
        "| review                     | class  |\n",
        "|----------------------------|--------|\n",
        "| fast, couple, shoot, fly   | ?      |\n",
        "\n",
        "We have to compute the most likely class for D.\n",
        "\n",
        "Let's start by saving our documents in some vectors:"
      ]
    },
    {
      "cell_type": "code",
      "metadata": {
        "id": "JOi3Bhuy_kvo"
      },
      "source": [
        "train_docs = [\n",
        "    ['fun', 'couple', 'love', 'love'],\n",
        "    ['fast', 'furious', 'shoot'],\n",
        "    ['couple', 'fly', 'fast', 'fun', 'fun'],\n",
        "    ['furious', 'shoot', 'shoot', 'fun'],    \n",
        "    ['fly', 'fast', 'shoot', 'love']]\n",
        "\n",
        "train_labels = ['comedy', 'action', 'comedy', 'action', 'action']\n",
        "test_doc = ['fast', 'couple', 'shoot', 'fly']"
      ],
      "execution_count": 1,
      "outputs": []
    },
    {
      "cell_type": "markdown",
      "metadata": {
        "id": "SijxNVEO_kvx"
      },
      "source": [
        "### Computing the priors\n",
        "\n",
        "Remember what we needed to do? The first step is to compute the **priors**. Let's do that with a simple function:"
      ]
    },
    {
      "cell_type": "code",
      "metadata": {
        "id": "-9nDUv_2_kvz",
        "outputId": "e72676af-162a-4c65-a23d-683e29cb830c",
        "colab": {
          "base_uri": "https://localhost:8080/"
        }
      },
      "source": [
        "# What are our classes?\n",
        "classes = set(train_labels)\n",
        "print(classes)\n",
        "\n",
        "# initialise the priors\n",
        "priors = {}\n",
        "for _class in classes:\n",
        "    priors[_class] = 0\n",
        "\n",
        "# count how many train example in each class\n",
        "for _class in classes:\n",
        "    for label in train_labels:\n",
        "        if _class == label:\n",
        "            priors[_class] += 1\n",
        "\n",
        "print(priors)"
      ],
      "execution_count": 2,
      "outputs": [
        {
          "output_type": "stream",
          "text": [
            "{'comedy', 'action'}\n",
            "{'comedy': 2, 'action': 3}\n"
          ],
          "name": "stdout"
        }
      ]
    },
    {
      "cell_type": "markdown",
      "metadata": {
        "id": "R0WAam8n_kv8"
      },
      "source": [
        "> **<h3>💻 Try it yourself!</h3>**\n",
        "\n",
        "Now the priors are not *normalised*, i.e. we have to bring each prior in the range $[0,1]$. Can you do that in the following cell?"
      ]
    },
    {
      "cell_type": "code",
      "metadata": {
        "id": "JHSnm0A1_kv9"
      },
      "source": [
        "# write your code here"
      ],
      "execution_count": 3,
      "outputs": []
    },
    {
      "cell_type": "markdown",
      "metadata": {
        "id": "Um716nfM_kwG"
      },
      "source": [
        "<hr>    <!-- please remember this! -->\n",
        "<details>\n",
        "  <summary>Click <b>here</b> to see the answer.</summary>\n",
        "    <p><pre><code>\n",
        "for _class in classes:\n",
        "    priors[_class] = priors[_class] / len(train_labels)\n",
        "    </code></pre></p>\n",
        "\n",
        "</details> "
      ]
    },
    {
      "cell_type": "markdown",
      "metadata": {
        "id": "_AuK1-Hd_kwH"
      },
      "source": [
        "If you've got the priors correct, you should have $P(comedy) = 0.4$ and $P(action)=0.6$."
      ]
    },
    {
      "cell_type": "code",
      "metadata": {
        "id": "dRhugs1L_kwI",
        "outputId": "f6346deb-8f30-4791-a2c7-3884f134741c",
        "colab": {
          "base_uri": "https://localhost:8080/"
        }
      },
      "source": [
        "print(priors)"
      ],
      "execution_count": 6,
      "outputs": [
        {
          "output_type": "stream",
          "text": [
            "{'comedy': 0.4, 'action': 0.6}\n"
          ],
          "name": "stdout"
        }
      ]
    },
    {
      "cell_type": "markdown",
      "metadata": {
        "id": "qHLdsavi_kwQ"
      },
      "source": [
        "> **<h3>💻 Try it yourself!</h3>**\n",
        "\n",
        "Now let's wrap everything nicely into a function. Can you complete the cell below?"
      ]
    },
    {
      "cell_type": "code",
      "metadata": {
        "id": "02WdjzT5_kwR"
      },
      "source": [
        "def compute_priors(labels):\n",
        "    '''\n",
        "    Computes the priors for a set of labels.\n",
        "    '''\n",
        "\n",
        "    # What are our classes?\n",
        "    classes = set(labels)\n",
        "\n",
        "    # -------------------------#\n",
        "    #      E X E R C I S E     #\n",
        "    # -------------------------#\n",
        "    # initialise the priors\n",
        "    priors = {}\n",
        "\n",
        "    # ...?\n",
        "\n",
        "    # count how many train example in each class\n",
        "    \n",
        "    # ...?\n",
        "    \n",
        "    # normalise the priors\n",
        "    \n",
        "    # ...?\n",
        "    \n",
        "    # ~      end exercise    ~ #\n",
        "    \n",
        "    return priors"
      ],
      "execution_count": null,
      "outputs": []
    },
    {
      "cell_type": "markdown",
      "metadata": {
        "id": "7W3Ep5J8_kwW"
      },
      "source": [
        "<hr>    <!-- please remember this! -->\n",
        "<details>\n",
        "  <summary>Click <b>here</b> to see the answer.</summary>\n",
        "  <p><pre><code>\n",
        "def compute_priors(labels):\n",
        "    '''\n",
        "    Computes the priors for a set of labels.\n",
        "    '''    \n",
        "    # What are our classes?\n",
        "    classes = set(labels)\n",
        "    # initialise the priors\n",
        "    priors = {}\n",
        "    for _class in classes:\n",
        "        priors[_class] = 0\n",
        "    # count how many train example in each class\n",
        "    for _class in classes:\n",
        "        for label in labels:\n",
        "            if _class == label:\n",
        "                priors[_class] += 1 \n",
        "    # normalise the priors\n",
        "    for _class in classes:\n",
        "        priors[_class] = priors[_class] / len(labels)        \n",
        "    return priors\n",
        "  </code></pre></p>\n",
        "</details> "
      ]
    },
    {
      "cell_type": "code",
      "metadata": {
        "id": "xzr0sUmr_kwY",
        "outputId": "f9b1e41e-5bd3-4690-e7c3-0831b60067d8",
        "colab": {
          "base_uri": "https://localhost:8080/"
        }
      },
      "source": [
        "priors = compute_priors(train_labels)\n",
        "print(priors)"
      ],
      "execution_count": 8,
      "outputs": [
        {
          "output_type": "stream",
          "text": [
            "{'comedy': 0.4, 'action': 0.6}\n"
          ],
          "name": "stdout"
        }
      ]
    },
    {
      "cell_type": "markdown",
      "metadata": {
        "id": "vQWjpa70_kwf"
      },
      "source": [
        "### Find the vocabulary\n",
        "\n",
        "Since we need to compute the likelihoods for all words in our vocabulary, we need to find all the words in our corpus first. Let's build our vocabulary with a simple function:"
      ]
    },
    {
      "cell_type": "code",
      "metadata": {
        "id": "AA0fBu4T_kwg"
      },
      "source": [
        "def create_vocabulary(lines):\n",
        "    '''\n",
        "    Creates a vocabulary from test.\n",
        "    \n",
        "    Parameters\n",
        "    ----------\n",
        "    lines: a list of lists of words\n",
        "    \n",
        "    Returns\n",
        "    -------\n",
        "    a set with all the words in the lines.\n",
        "    \n",
        "    '''\n",
        "    \n",
        "    words = set()\n",
        "    for line in lines:\n",
        "        for word in line:\n",
        "            words.add(word)\n",
        "            \n",
        "    return words"
      ],
      "execution_count": 9,
      "outputs": []
    },
    {
      "cell_type": "code",
      "metadata": {
        "id": "piKh8c9Z_kwo",
        "outputId": "5c84ed3c-ea61-41ce-8eee-30a39b179d0d",
        "colab": {
          "base_uri": "https://localhost:8080/"
        }
      },
      "source": [
        "create_vocabulary(train_docs)"
      ],
      "execution_count": 10,
      "outputs": [
        {
          "output_type": "execute_result",
          "data": {
            "text/plain": [
              "{'couple', 'fast', 'fly', 'fun', 'furious', 'love', 'shoot'}"
            ]
          },
          "metadata": {
            "tags": []
          },
          "execution_count": 10
        }
      ]
    },
    {
      "cell_type": "markdown",
      "metadata": {
        "id": "Qa5UuKDZ_kwu"
      },
      "source": [
        "### Computing the likelihoods"
      ]
    },
    {
      "cell_type": "markdown",
      "metadata": {
        "id": "tZNdLSAH_kwv"
      },
      "source": [
        "Now we need to compute the likelihoods of the words w.r.t. to each class. To do that, we can build a `dict` for each class, where `dict[word] = P(word|class)`. To do that we can slightly modify the function `create_vocab_dict` that we defined in [Module 1.4](../../module_1/module_1.4/module_1.4.ipynb). The function we defined was the following:"
      ]
    },
    {
      "cell_type": "code",
      "metadata": {
        "id": "cnPAawQI_kww"
      },
      "source": [
        "def create_vocab_dict(lines):\n",
        "    '''\n",
        "    Collect vocabulary counts from text\n",
        "\n",
        "    Parameters\n",
        "    ----------\n",
        "    f_processed_arg: a list of lists of words\n",
        "\n",
        "    Returns\n",
        "    -------\n",
        "    a dictionary with words (str) as keys and counts(int) as values\n",
        "    vocab={\n",
        "    'SONNETS': 1\n",
        "    }\n",
        "    '''\n",
        "    vocab={}# create an empty vocabulary dictionary to store words as keys and counts as values later. \n",
        "    for line in lines:\n",
        "        for word in line:\n",
        "            if word in vocab:\n",
        "                vocab[word]+=1 # update the count for an existing word\n",
        "            else:\n",
        "                vocab[word]=1 # initilize the count for a new word\n",
        "    return vocab"
      ],
      "execution_count": 11,
      "outputs": []
    },
    {
      "cell_type": "code",
      "metadata": {
        "id": "PP2YFStX_kw2",
        "outputId": "a3d4a510-ddab-4f57-c892-e19561665523",
        "colab": {
          "base_uri": "https://localhost:8080/"
        }
      },
      "source": [
        "print(create_vocab_dict(train_docs))"
      ],
      "execution_count": 12,
      "outputs": [
        {
          "output_type": "stream",
          "text": [
            "{'fun': 4, 'couple': 2, 'love': 3, 'fast': 3, 'furious': 2, 'shoot': 4, 'fly': 2}\n"
          ],
          "name": "stdout"
        }
      ]
    },
    {
      "cell_type": "markdown",
      "metadata": {
        "id": "sfIYzoRt_kw_"
      },
      "source": [
        "> **<h3>💻 Try it yourself!</h3>**\n",
        "\n",
        "How can we modify this function to give us the likelihoods for each class? Modify the function below, directly derived from `create_vocab_dict`, to return the likelihoods instead of the raw counts."
      ]
    },
    {
      "cell_type": "code",
      "metadata": {
        "id": "eJ6JXi0M_kw_"
      },
      "source": [
        "def compute_likelihoods(lines, vocabulary):\n",
        "    '''\n",
        "    Computes the likelihoods of words in a list of strings.\n",
        "\n",
        "    Parameters\n",
        "    ----------\n",
        "    lines: a list of list of words\n",
        "    vocabulary: the vocabulary of the full corpus\n",
        "\n",
        "    Returns\n",
        "    -------\n",
        "    a dictionary with words (str) as keys and likelihoods(floats) as values\n",
        "    vocab={\n",
        "    'SONNETS': 0.01\n",
        "    }\n",
        "    '''\n",
        "    \n",
        "    \n",
        "    # -------------------------#\n",
        "    #      E X E R C I S E     #\n",
        "    # -------------------------#\n",
        "    # create an empty vocabulary dictionary to store words \n",
        "    # as keys and counts as values later. \n",
        "    \n",
        "    likelihoods = {}\n",
        "    \n",
        "    # initialise the likelihoods\n",
        "    # hint: iterate through the vocabulary and initialise\n",
        "    # a new element of the likelihoods dict to 0\n",
        "\n",
        "    \n",
        "    \n",
        "    # ~      end exercise    ~ #    \n",
        "    \n",
        "    # Now we iterate through the lines\n",
        "    for line in lines:\n",
        "        for word in line:\n",
        "            likelihoods[word] += 1 \n",
        "\n",
        "    # -------------------------#\n",
        "    #      E X E R C I S E     #\n",
        "    # -------------------------#\n",
        "    # how long are our documents?\n",
        "    total_tokens = 0\n",
        "    \n",
        "    # write your code here\n",
        "    # (hint: sum the length of the lines in total_tokens!)\n",
        "    \n",
        "    for word in likelihoods:\n",
        "        likelihoods[word] = # Write your code here\n",
        "    \n",
        "    # ~      end exercise    ~ #\n",
        "\n",
        "    return likelihoods"
      ],
      "execution_count": null,
      "outputs": []
    },
    {
      "cell_type": "markdown",
      "metadata": {
        "id": "sLOZrphY_kxI"
      },
      "source": [
        "<hr>    <!-- please remember this! -->\n",
        "<details>\n",
        "  <summary>Click <b>here</b> to see the answer.</summary>\n",
        "    <p><pre><code>\n",
        "def compute_likelihoods(lines, vocabulary):\n",
        "    '''\n",
        "    Computes the likelihoods of words in a list of strings.\n",
        "    Parameters\n",
        "    ----------\n",
        "    lines: a list of list of words\n",
        "    vocabulary: the vocabulary of the full corpus\n",
        "    Returns\n",
        "    -------\n",
        "    a dictionary with words (str) as keys and likelihoods(floats) as values\n",
        "    vocab={\n",
        "    'SONNETS': 0.01\n",
        "    }\n",
        "    '''\n",
        "    # -------------------------#\n",
        "    #      E X E R C I S E     #\n",
        "    # -------------------------#\n",
        "    # create an empty vocabulary dictionary to store words \n",
        "    # as keys and counts as values later. \n",
        "    likelihoods = {}\n",
        "    # initialise the likelihoods\n",
        "    # hint: iterate through the vocabulary and initialise\n",
        "    # a new element of the likelihoods dict to 0\n",
        "    for word in vocabulary:\n",
        "        likelihoods[word] = 0\n",
        "    # ~      end exercise    ~ #    \n",
        "    # Now we iterate through the lines\n",
        "    for line in lines:\n",
        "        for word in line:\n",
        "            likelihoods[word] +=1 \n",
        "    # -------------------------#\n",
        "    #      E X E R C I S E     #\n",
        "    # -------------------------#\n",
        "    # how long are our documents?\n",
        "    total_tokens = 0\n",
        "    # write your code here\n",
        "    # (hint: sum the length of the lines in total_tokens!)\n",
        "    for line in lines:\n",
        "        for word in line:\n",
        "            total_tokens +=1    \n",
        "    for word in likelihoods:\n",
        "        likelihoods[word] = likelihoods[word]/total_tokens\n",
        "    # ~      end exercise    ~ #\n",
        "    return likelihoods\n",
        "  </code></pre></p>\n",
        "</details> "
      ]
    },
    {
      "cell_type": "code",
      "metadata": {
        "id": "PVjCTr12_kxJ",
        "outputId": "c287da8f-12b7-4760-b689-fac2f0bc8cfb",
        "colab": {
          "base_uri": "https://localhost:8080/"
        }
      },
      "source": [
        "print(compute_likelihoods(train_docs, create_vocabulary(train_docs)))"
      ],
      "execution_count": 15,
      "outputs": [
        {
          "output_type": "stream",
          "text": [
            "{'fun': 0.2, 'fly': 0.1, 'fast': 0.15, 'love': 0.15, 'couple': 0.1, 'furious': 0.1, 'shoot': 0.2}\n"
          ],
          "name": "stdout"
        }
      ]
    },
    {
      "cell_type": "markdown",
      "metadata": {
        "id": "I3tkdY-S_kxR"
      },
      "source": [
        "Note that this method computes the likelihoods of the words in the whole vocabulary, irregardless of the classes. To get the likelihoods for each class we need to do as follows:"
      ]
    },
    {
      "cell_type": "code",
      "metadata": {
        "id": "dSXTfO49_kxS",
        "outputId": "5d9e6c8e-1efc-40f4-be49-35857b490722",
        "colab": {
          "base_uri": "https://localhost:8080/"
        }
      },
      "source": [
        "target_class = 'action'\n",
        "target_docs = []\n",
        "vocabulary = create_vocabulary(train_docs)\n",
        "\n",
        "# enumerate builds an (index, doc) list, hence allowing\n",
        "# us to retrieve the label for each doc\n",
        "for i, doc in enumerate(train_docs):\n",
        "    if train_labels[i] == target_class:\n",
        "        target_docs.append(doc)\n",
        "        \n",
        "print(target_docs)\n",
        "print(compute_likelihoods(target_docs, vocabulary))"
      ],
      "execution_count": 16,
      "outputs": [
        {
          "output_type": "stream",
          "text": [
            "[['fast', 'furious', 'shoot'], ['furious', 'shoot', 'shoot', 'fun'], ['fly', 'fast', 'shoot', 'love']]\n",
            "{'fun': 0.09090909090909091, 'fly': 0.09090909090909091, 'fast': 0.18181818181818182, 'love': 0.09090909090909091, 'couple': 0.0, 'furious': 0.18181818181818182, 'shoot': 0.36363636363636365}\n"
          ],
          "name": "stdout"
        }
      ]
    },
    {
      "cell_type": "markdown",
      "metadata": {
        "id": "1inBcK22_kxY"
      },
      "source": [
        "### The training function"
      ]
    },
    {
      "cell_type": "markdown",
      "metadata": {
        "id": "qXeYGgaw_kxZ"
      },
      "source": [
        "> **<h3>💻 Try it yourself!</h3>**\n",
        "\n",
        "Now we have all the instruments to build our training function. Can you complete it?"
      ]
    },
    {
      "cell_type": "code",
      "metadata": {
        "id": "RPx6Dp45_kxd"
      },
      "source": [
        "def train_naive_bayes(documents, labels):\n",
        "    \n",
        "    classes = set(labels)\n",
        "    \n",
        "    # compute the priors\n",
        "    priors = compute_priors(labels)\n",
        "    vocabulary = create_vocabulary(documents)\n",
        "    \n",
        "    # this dict will contain the likelihoods, e.g.\n",
        "    # likelihoods['action'] = {'fast': 0.2, 'furious': 0.1...\n",
        "    likelihoods = {}\n",
        "    \n",
        "    # -------------------------#\n",
        "    #      E X E R C I S E     #\n",
        "    # -------------------------#\n",
        "    for _class in classes:\n",
        "        # get the documents belonging to each class:\n",
        "        class_docs = []\n",
        "\n",
        "        # put your code here\n",
        "        for #...\n",
        "        \n",
        "        # compute the likelihood of this class\n",
        "        likelihoods[_class] = # hint: use compute_likekihood defined above\n",
        "        \n",
        "    # ~      end exercise    ~ #\n",
        "        \n",
        "    return priors, likelihoods    "
      ],
      "execution_count": null,
      "outputs": []
    },
    {
      "cell_type": "markdown",
      "metadata": {
        "id": "A5QqYtkD_kxi"
      },
      "source": [
        "<hr>    <!-- please remember this! -->\n",
        "<details>\n",
        "  <summary>Click <b>here</b> to see the answer.</summary>\n",
        "    <p><pre><code>\n",
        "def train_naive_bayes(documents, labels):\n",
        "    classes = set(labels)\n",
        "    # compute the priors\n",
        "    priors = compute_priors(labels)\n",
        "    vocabulary = create_vocabulary(documents)\n",
        "    # this dict will contain the likelihoods, e.g.\n",
        "    # likelihoods['action'] = {'fast': 0.2, 'furious': 0.1...\n",
        "    likelihoods = {}\n",
        "    for _class in classes:\n",
        "        # get the documents belonging to each class:\n",
        "        class_docs = []\n",
        "        for i, doc in enumerate(documents):\n",
        "            if labels[i] == _class:\n",
        "                class_docs.append(doc)\n",
        "        # compute the likelihood of this class\n",
        "        likelihoods[_class] = compute_likelihoods(class_docs, vocabulary)\n",
        "    return priors, likelihoods \n",
        "    </code></pre></p>\n",
        "</details> "
      ]
    },
    {
      "cell_type": "code",
      "metadata": {
        "id": "2aIWjnxx_kxk",
        "outputId": "9f5b0751-b60a-42e8-a892-1c99a6a8ca8d",
        "colab": {
          "base_uri": "https://localhost:8080/"
        }
      },
      "source": [
        "priors, likelihoods = train_naive_bayes(train_docs, train_labels)\n",
        "\n",
        "print('Priors:')\n",
        "print(priors)\n",
        "\n",
        "print('')\n",
        "print('Likelihoods:')\n",
        "print(likelihoods)"
      ],
      "execution_count": 18,
      "outputs": [
        {
          "output_type": "stream",
          "text": [
            "Priors:\n",
            "{'comedy': 0.4, 'action': 0.6}\n",
            "\n",
            "Likelihoods:\n",
            "{'comedy': {'fun': 0.3333333333333333, 'fly': 0.1111111111111111, 'fast': 0.1111111111111111, 'love': 0.2222222222222222, 'couple': 0.2222222222222222, 'furious': 0.0, 'shoot': 0.0}, 'action': {'fun': 0.09090909090909091, 'fly': 0.09090909090909091, 'fast': 0.18181818181818182, 'love': 0.09090909090909091, 'couple': 0.0, 'furious': 0.18181818181818182, 'shoot': 0.36363636363636365}}\n"
          ],
          "name": "stdout"
        }
      ]
    },
    {
      "cell_type": "markdown",
      "metadata": {
        "id": "UAa3kz4y_kxq"
      },
      "source": [
        "### Predict unknown classes\n",
        "\n",
        "So now we have trained our model. How can we predict the likelihood of new sentences belonging to each class? Remember from above that\n",
        "\n",
        "$$\n",
        "\\hat{c} = \\text{argmax}_{c \\in C} \n",
        "       \\underbrace{P(d)}_\\text{prior}\n",
        "       \\underbrace{\\prod_{w \\in d}{P(w \\mid c)}}_\\text{likelihood} \n",
        "$$\n",
        "\n",
        "So, to predict the class of our new sentence `fast, couple, shoot, fly`, we need to:\n",
        "- for each class `c`, we need to calculate `prob_c` by\n",
        "    - multiplying the probability of each word `w` given that class `c`\n",
        "\n",
        "Then, we'll just have to look at the maximum of our `prob_c`s. So, can we predict the class of `fast, fun, love, fly`? Let's write a function to do this."
      ]
    },
    {
      "cell_type": "code",
      "metadata": {
        "id": "6MBJ8rbx_kxr"
      },
      "source": [
        "def bayes_predict(document, priors, likelihoods):\n",
        "    '''\n",
        "    Predicts the label for a document given the trained\n",
        "    priors and likelihoods.\n",
        "    \n",
        "    Parameters\n",
        "    ----------\n",
        "    document: the document to analyse\n",
        "    priors: the trained priors\n",
        "    likelihoods: the trained likelihoods\n",
        "    \n",
        "    Return\n",
        "    ------\n",
        "    The probability for each class.\n",
        "    '''\n",
        "    \n",
        "    classes_probabilities = {}\n",
        "\n",
        "    # unpack the dictionary and iterate \n",
        "    # through the priors\n",
        "    for label, prior in priors.items():\n",
        "        \n",
        "        # initialise the probability of a class to its prior\n",
        "        prob_class = prior\n",
        "        for word in document:\n",
        "            if word in likelihoods[label]:\n",
        "                # multiply the prior for the likelihood of each word\n",
        "                prob_class = prob_class*likelihoods[label][word]\n",
        "        classes_probabilities[label] = prob_class\n",
        "        \n",
        "    return classes_probabilities\n",
        "    "
      ],
      "execution_count": 19,
      "outputs": []
    },
    {
      "cell_type": "markdown",
      "metadata": {
        "id": "LLBPW0WM_kxw"
      },
      "source": [
        "Good! Let's try it with:"
      ]
    },
    {
      "cell_type": "code",
      "metadata": {
        "id": "v1Z5mFi3_kxx",
        "outputId": "6389d327-7465-4e7a-d9ea-9965de544eb8",
        "colab": {
          "base_uri": "https://localhost:8080/"
        }
      },
      "source": [
        "document = ['fast', 'fun', 'love', 'fly']\n",
        "bayes_predict(document, priors, likelihoods)"
      ],
      "execution_count": 20,
      "outputs": [
        {
          "output_type": "execute_result",
          "data": {
            "text/plain": [
              "{'action': 8.19616146438085e-05, 'comedy': 0.0003657978966620942}"
            ]
          },
          "metadata": {
            "tags": []
          },
          "execution_count": 20
        }
      ]
    },
    {
      "cell_type": "markdown",
      "metadata": {
        "id": "2x2iXnZG_kx2"
      },
      "source": [
        "So for this document, `comedy` is the most likely class! \n",
        "\n",
        "Now let's try with the document for the assignment:"
      ]
    },
    {
      "cell_type": "code",
      "metadata": {
        "id": "In0vOLF8_kx4",
        "outputId": "b2e5e27a-3506-447c-99fd-d3bb04a111a4",
        "colab": {
          "base_uri": "https://localhost:8080/"
        }
      },
      "source": [
        "print(test_doc)\n",
        "bayes_predict(test_doc, priors, likelihoods)"
      ],
      "execution_count": 21,
      "outputs": [
        {
          "output_type": "stream",
          "text": [
            "['fast', 'couple', 'shoot', 'fly']\n"
          ],
          "name": "stdout"
        },
        {
          "output_type": "execute_result",
          "data": {
            "text/plain": [
              "{'action': 0.0, 'comedy': 0.0}"
            ]
          },
          "metadata": {
            "tags": []
          },
          "execution_count": 21
        }
      ]
    },
    {
      "cell_type": "markdown",
      "metadata": {
        "id": "uZfVYM2f_kx9"
      },
      "source": [
        "Now the classes are both zero! How come? Well, we didn't apply any smoothing, so obviously at some point we are multiplying the likelihoods by zero, since $P(couple \\ \\mid action) = 0$ and $P(shoot \\mid love) = 0$."
      ]
    },
    {
      "cell_type": "markdown",
      "metadata": {
        "id": "XpcuGGvz_kx_"
      },
      "source": [
        "### Adding 1-smoothing"
      ]
    },
    {
      "cell_type": "markdown",
      "metadata": {
        "id": "TsgjY4Ck_kyA"
      },
      "source": [
        "> **<h3>💻 Try it yourself!</h3>**\n",
        "\n",
        "How can we modify `compute_likelihoods` to add 1-smoothing? Please update the function below.\n",
        "\n",
        "Note that:\n",
        "- We added a parameter (`smoothing`) to select the smoothing mode\n",
        "- You will need to change how to normalise the likelihoods."
      ]
    },
    {
      "cell_type": "code",
      "metadata": {
        "id": "9FvcUGOc_kyB",
        "outputId": "5fbbd14d-7bbc-424f-da70-aecc55578829",
        "colab": {
          "base_uri": "https://localhost:8080/",
          "height": 135
        }
      },
      "source": [
        "def compute_likelihoods(lines, vocabulary, smoothing):\n",
        "    '''\n",
        "    Computes the likelihoods of words in a list of strings.\n",
        "\n",
        "    Parameters\n",
        "    ----------\n",
        "    lines: a list of list of words\n",
        "    vocabulary: the vocabulary of the training corpus\n",
        "    smooething: the smoothing method to use\n",
        "\n",
        "    Returns\n",
        "    -------\n",
        "    a dictionary with the probability for each class\n",
        "    '''\n",
        "    \n",
        "    likelihoods = {}\n",
        "\n",
        "    # populate the likelihoods\n",
        "    for word in vocabulary:\n",
        "        likelihoods[word] = 0\n",
        " \n",
        "\n",
        "    # Now we iterate through the lines to count\n",
        "    # the appearances of each word\n",
        "    for line in lines:\n",
        "        for word in line:\n",
        "            likelihoods[word] +=1 \n",
        "\n",
        "    # how long are our documents?\n",
        "    total_tokens = 0\n",
        "    for line in lines:\n",
        "        for word in line:\n",
        "            total_tokens +=1\n",
        "\n",
        "    # Apply smoothing, if needed\n",
        "    for word in likelihoods:\n",
        "        if smoothing == 'none':\n",
        "            \n",
        "            for line in lines:\n",
        "                for word in line:\n",
        "                    total_tokens +=1\n",
        "\n",
        "            for word in likelihoods:\n",
        "                likelihoods[word] = likelihoods[word]/total_tokens\n",
        "            \n",
        "        elif smoothing == 'add1':\n",
        "            # -------------------------#\n",
        "            #      E X E R C I S E     #\n",
        "            # -------------------------#\n",
        "            # calculate the smoothing parameter for each word.\n",
        "            smoothing_param = # ...?\n",
        "            \n",
        "            likelihoods[word] = # ...?\n",
        "            # ~      end exercise    ~ #\n",
        "        else:\n",
        "            print('Unknown smoothing!')\n",
        "            return\n",
        "\n",
        "    return likelihoods"
      ],
      "execution_count": 22,
      "outputs": [
        {
          "output_type": "error",
          "ename": "SyntaxError",
          "evalue": "ignored",
          "traceback": [
            "\u001b[0;36m  File \u001b[0;32m\"<ipython-input-22-2563f7e9939a>\"\u001b[0;36m, line \u001b[0;32m51\u001b[0m\n\u001b[0;31m    smoothing_param = # ...?\u001b[0m\n\u001b[0m                            ^\u001b[0m\n\u001b[0;31mSyntaxError\u001b[0m\u001b[0;31m:\u001b[0m invalid syntax\n"
          ]
        }
      ]
    },
    {
      "cell_type": "markdown",
      "metadata": {
        "id": "DvLuDidS_kyF"
      },
      "source": [
        "<hr>    <!-- please remember this! -->\n",
        "<details>\n",
        "  <summary>Click <b>here</b> to see the answer.</summary>\n",
        "    <p><pre><code>\n",
        "def compute_likelihoods(lines, vocabulary, smoothing):\n",
        "    '''\n",
        "    Computes the likelihoods of words in a list of strings.\n",
        "    Parameters\n",
        "    ----------\n",
        "    lines: a list of list of words\n",
        "    vocabulary: the vocabulary of the training corpus\n",
        "    smooething: the smoothing method to use\n",
        "    Returns\n",
        "    -------\n",
        "    a dictionary with the probability for each class\n",
        "    '''\n",
        "    likelihoods = {}\n",
        "    # populate the likelihoods\n",
        "    for word in vocabulary:\n",
        "        likelihoods[word] = 0\n",
        "    # Now we iterate through the lines to count\n",
        "    # the appearances of each word\n",
        "    for line in lines:\n",
        "        for word in line:\n",
        "            likelihoods[word] +=1 \n",
        "    # how long are our documents?\n",
        "    total_tokens = 0\n",
        "    for line in lines:\n",
        "        for word in line:\n",
        "            total_tokens +=1\n",
        "    # Apply smoothing, if needed\n",
        "    for word in likelihoods:\n",
        "        if smoothing == 'none':       \n",
        "            for line in lines:\n",
        "                for word in line:\n",
        "                    total_tokens +=1\n",
        "            for word in likelihoods:\n",
        "                likelihoods[word] = likelihoods[word]/total_tokens\n",
        "        elif smoothing == 'add1':\n",
        "            # -------------------------#\n",
        "            #      E X E R C I S E     #\n",
        "            # -------------------------#\n",
        "            # calculate the smoothing parameter for each word.\n",
        "            smoothing_param = total_tokens + len(vocabulary)\n",
        "            likelihoods[word] = (likelihoods[word] + 1)/smoothing_param\n",
        "            # ~      end exercise    ~ #\n",
        "        else:\n",
        "            print('Unknown smoothing!')\n",
        "            return\n",
        "    return likelihoods\n",
        "    </code></pre></p>\n",
        "\n",
        "</details> "
      ]
    },
    {
      "cell_type": "markdown",
      "metadata": {
        "id": "tT7Fu_na_kyH"
      },
      "source": [
        "Now let's update `train_naive_bayes` to instruct it to use smoothing, and let's see if the results we obtain are correct:"
      ]
    },
    {
      "cell_type": "code",
      "metadata": {
        "id": "3GdzIeP4_kyI"
      },
      "source": [
        "def train_naive_bayes(documents, labels, smoothing):\n",
        "\n",
        "    classes = set(labels)\n",
        "\n",
        "    # compute the priors\n",
        "    priors = compute_priors(labels)\n",
        "    vocabulary = create_vocabulary(documents)\n",
        "\n",
        "    # this dict will contain the likelihoods, e.g.\n",
        "    # likelihoods['action'] = {'fast': 0.2, 'furious': 0.1...\n",
        "    likelihoods = {}\n",
        "\n",
        "    for _class in classes:\n",
        "        # get the documents belonging to each class:\n",
        "        class_docs = []\n",
        "\n",
        "        for i, doc in enumerate(documents):\n",
        "            if labels[i] == _class:\n",
        "                class_docs.append(doc)\n",
        "\n",
        "        # compute the likelihood of this class\n",
        "        likelihoods[_class] = compute_likelihoods(class_docs, vocabulary, smoothing)\n",
        "\n",
        "    return priors, likelihoods "
      ],
      "execution_count": 24,
      "outputs": []
    },
    {
      "cell_type": "code",
      "metadata": {
        "id": "mfQculIr_kyO",
        "outputId": "f0ddaa87-c3e3-498d-a01f-618ba5e95495",
        "colab": {
          "base_uri": "https://localhost:8080/"
        }
      },
      "source": [
        "priors, likelihoods = train_naive_bayes(train_docs, train_labels, 'add1')\n",
        "\n",
        "print('Priors:')\n",
        "print(priors)\n",
        "\n",
        "print('')\n",
        "print('Likelihoods:')\n",
        "print(likelihoods)"
      ],
      "execution_count": 25,
      "outputs": [
        {
          "output_type": "stream",
          "text": [
            "Priors:\n",
            "{'comedy': 0.4, 'action': 0.6}\n",
            "\n",
            "Likelihoods:\n",
            "{'comedy': {'fun': 0.25, 'fly': 0.125, 'fast': 0.125, 'love': 0.1875, 'couple': 0.1875, 'furious': 0.0625, 'shoot': 0.0625}, 'action': {'fun': 0.1111111111111111, 'fly': 0.1111111111111111, 'fast': 0.16666666666666666, 'love': 0.1111111111111111, 'couple': 0.05555555555555555, 'furious': 0.16666666666666666, 'shoot': 0.2777777777777778}}\n"
          ],
          "name": "stdout"
        }
      ]
    },
    {
      "cell_type": "code",
      "metadata": {
        "id": "0gGI2tRh_kyS",
        "outputId": "b7f8f3bf-a1c0-44c8-b871-5272ecb8cbaa",
        "colab": {
          "base_uri": "https://localhost:8080/"
        }
      },
      "source": [
        "bayes_predict(test_doc, priors, likelihoods)"
      ],
      "execution_count": 26,
      "outputs": [
        {
          "output_type": "execute_result",
          "data": {
            "text/plain": [
              "{'action': 0.00017146776406035664, 'comedy': 7.324218750000001e-05}"
            ]
          },
          "metadata": {
            "tags": []
          },
          "execution_count": 26
        }
      ]
    },
    {
      "cell_type": "markdown",
      "metadata": {
        "id": "X29n2Y1d_kyZ"
      },
      "source": [
        "Great! We successfully implemented Naive Bayes in Python. "
      ]
    },
    {
      "cell_type": "markdown",
      "metadata": {
        "id": "xxxV7z0e_kyc"
      },
      "source": [
        "### Improving Naive Bayes: `argmax` and log-likelihoods"
      ]
    },
    {
      "cell_type": "markdown",
      "metadata": {
        "id": "hDJ4r56__kyd"
      },
      "source": [
        "What we've done until now is good - but there are still a couple of open issues. \n",
        "- First, we should note that the original function of Naive Bayes is based on $\\text{argmax}$: how do we implement it in Python?\n",
        "- Then, we may note that the probabilities returned by our model are very small (i.e. in the order of $10^{-5}$), which means that for big vocabularies we may reach probabilities close to zero.\n",
        "\n",
        "While the latter may not sound like a big issue for you, unfortunately dealing with very small numbers may be problematic for a computer - as mentioned in Module 1.2, computers use [floating-point arithmetic](https://en.wikipedia.org/wiki/Floating-point_arithmetic), which in practice means that they aren't actually very good at dealing with very small or very big numbers.\n",
        "\n",
        "Actually, machines are not very good at representing any number that can't be expressed as a sum of powers of $2$. Take for example $0.1$. If we ask Python to show it, it will print"
      ]
    },
    {
      "cell_type": "code",
      "metadata": {
        "id": "FObHawUm_kye",
        "outputId": "67e57ebe-df4a-4efb-bce9-9063e98f0ee2",
        "colab": {
          "base_uri": "https://localhost:8080/"
        }
      },
      "source": [
        "0.1"
      ],
      "execution_count": 27,
      "outputs": [
        {
          "output_type": "execute_result",
          "data": {
            "text/plain": [
              "0.1"
            ]
          },
          "metadata": {
            "tags": []
          },
          "execution_count": 27
        }
      ]
    },
    {
      "cell_type": "markdown",
      "metadata": {
        "id": "bFUfXyXN_kyi"
      },
      "source": [
        "Which looks fine. But what if we ask Python to show the first 40 decimal digits of $0.1$? That shouldn't make sense, right? Let's see:"
      ]
    },
    {
      "cell_type": "code",
      "metadata": {
        "id": "p_pMoKok_kyi",
        "outputId": "14c7ae06-7a4f-46f2-d395-d9fa6746c511",
        "colab": {
          "base_uri": "https://localhost:8080/"
        }
      },
      "source": [
        "print(f'{0.1:.40f}')"
      ],
      "execution_count": 28,
      "outputs": [
        {
          "output_type": "stream",
          "text": [
            "0.1000000000000000055511151231257827021182\n"
          ],
          "name": "stdout"
        }
      ]
    },
    {
      "cell_type": "markdown",
      "metadata": {
        "id": "92zHWEOC_kym"
      },
      "source": [
        "See? Under the hood Python represents 0.1 as the infinitely repeating binary fraction `0.0001100110011001100110011001100110011001100110011...`. Since we stop at 32 bits, we won't be able to exactly represent $0.1$, but we will get an approximation, i.e. the value printed in the cell above.\n",
        "\n",
        "This does not mean that our code is buggy or that Python is getting it wrong. It's just how computers work! Unfortunately, this means that, since Naive Bayes will generate very small numbers, it will be more prone to error. For this reason, we use the **log-likelihoods** instead of the actual likelihoods, i.e. we will rewrite:\n",
        "$$\n",
        "\\begin{align}\n",
        "\\hat{c} &= \\text{argmax}_{c \\in C} \n",
        "       \\underbrace{P(c)}_\\text{prior}\n",
        "       \\underbrace{\\prod_{w \\in d}{P(w \\mid c)}}_\\text{likelihood} \\\\\n",
        "       &= \\text{argmax}_{c \\in C} \\log(  \n",
        "       \\underbrace{P(c)}_\\text{prior}\n",
        "       \\underbrace{\\prod_{w \\in d}{P(w \\mid c)}}_\\text{likelihood} ) \\\\\n",
        "       &= \\text{argmax}_{c \\in C} \n",
        "       \\underbrace{\\log P(c)}_\\text{prior} +\n",
        "       \\underbrace{\\sum_{w \\in d}{\\log P(w \\mid c)}}_\\text{likelihood} \n",
        "\\end{align}\n",
        "$$\n",
        "\n",
        "To do that, we will use `numpy`, arguably Python's most popular mathematical library, which offers the function `log`.\n",
        "\n",
        "In the next cells we'll install numpy (if it's not already installed), and the we'll import it. You'll almost always find numpy imported as `np` - so if in any Python code you see something like `np.` you can assume that it's based on numpy."
      ]
    },
    {
      "cell_type": "code",
      "metadata": {
        "id": "7cqYN878_kyo",
        "outputId": "63288cb3-272c-4edd-bc3d-8ced30f85f0a",
        "colab": {
          "base_uri": "https://localhost:8080/"
        }
      },
      "source": [
        "!pip install numpy"
      ],
      "execution_count": 29,
      "outputs": [
        {
          "output_type": "stream",
          "text": [
            "Requirement already satisfied: numpy in /usr/local/lib/python3.6/dist-packages (1.18.5)\n"
          ],
          "name": "stdout"
        }
      ]
    },
    {
      "cell_type": "code",
      "metadata": {
        "id": "3RVCM5fX_kys",
        "outputId": "25460bed-1e02-4b5a-f3b0-da7d84fbbbfd",
        "colab": {
          "base_uri": "https://localhost:8080/"
        }
      },
      "source": [
        "# import and test with ln(e), i.e. the logarithm to the base e of e\n",
        "import numpy as np\n",
        "np.log(np.e)"
      ],
      "execution_count": 30,
      "outputs": [
        {
          "output_type": "execute_result",
          "data": {
            "text/plain": [
              "1.0"
            ]
          },
          "metadata": {
            "tags": []
          },
          "execution_count": 30
        }
      ]
    },
    {
      "cell_type": "markdown",
      "metadata": {
        "id": "ChYiGMkL_kyv"
      },
      "source": [
        "Numpy also offers a convenient `argmax` function. Remember that `argmax` works by selecting the *index* of the biggest element of a list:"
      ]
    },
    {
      "cell_type": "code",
      "metadata": {
        "id": "5n5M0ggp_kyw",
        "outputId": "b655ee16-5a73-4282-be5a-41090e09e6eb",
        "colab": {
          "base_uri": "https://localhost:8080/"
        }
      },
      "source": [
        "np.argmax([0,-2,10,3])   # Remember that we use 0-based indexing!"
      ],
      "execution_count": 31,
      "outputs": [
        {
          "output_type": "execute_result",
          "data": {
            "text/plain": [
              "2"
            ]
          },
          "metadata": {
            "tags": []
          },
          "execution_count": 31
        }
      ]
    },
    {
      "cell_type": "markdown",
      "metadata": {
        "id": "WfaI3PuD_ky0"
      },
      "source": [
        "Now can wrap everything in an updated `bayes_predict_log` function, which will be the log-based version of `bayes_predict`. Can you update it yourself?\n",
        "\n",
        "> **<h3>💻 Try it yourself!</h3>**"
      ]
    },
    {
      "cell_type": "code",
      "metadata": {
        "id": "SVi0BmHs_ky2"
      },
      "source": [
        "def bayes_predict_log(document, priors, likelihoods):\n",
        "    '''\n",
        "    Predicts the label for a document given the trained\n",
        "    priors and likelihoods.\n",
        "    \n",
        "    Parameters\n",
        "    ----------\n",
        "    document: the document to analyse\n",
        "    priors: the trained priors\n",
        "    likelihoods: the trained likelihoods\n",
        "    \n",
        "    Return\n",
        "    ------\n",
        "    A tuple (best_class, probabilities), where the first element\n",
        "    is the name of the best class, and the second element is the dictionary of\n",
        "    the computed probabilities.\n",
        "    '''\n",
        "    \n",
        "    classes_probabilities = {}\n",
        "\n",
        "    # unpack the dictionary and iterate \n",
        "    # through the priors\n",
        "    for label, prior in priors.items():\n",
        "        \n",
        "        # -------------------------#\n",
        "        #      E X E R C I S E     #\n",
        "        # -------------------------#\n",
        "        # initialise the probability of a class to the log of its its prior\n",
        "        prob_class = # ...?\n",
        "        for word in document:\n",
        "            if word in likelihoods[label]:\n",
        "                # sum the prior with the log-likelihood of each word\n",
        "                prob_class =  # ...?\n",
        "        classes_probabilities[label] = prob_class\n",
        "    \n",
        "    # get the names of the classes\n",
        "    class_names = list(priors.keys())\n",
        "\n",
        "    # -------------------------#\n",
        "    #      E X E R C I S E     #\n",
        "    # -------------------------#\n",
        "    # complete the next line by selecting the name of the best class.\n",
        "    # hint: the probabilities are saved in the dictionaries, and\n",
        "    # you can access them by using classes_probabilities.values().\n",
        "    # note that you can use more than 1 line if you need!\n",
        "    \n",
        "    best_class = # ...?\n",
        "\n",
        "    # ~      end exercise    ~ #\n",
        "    \n",
        "    return best_class, classes_probabilities    "
      ],
      "execution_count": null,
      "outputs": []
    },
    {
      "cell_type": "markdown",
      "metadata": {
        "id": "8-UQsDyp_ky7"
      },
      "source": [
        "<hr>    <!-- please remember this! -->\n",
        "<details>\n",
        "  <summary>Click <b>here</b> to see the answer.</summary>\n",
        "  <p><pre><code>\n",
        "def bayes_predict_log(document, priors, likelihoods):\n",
        "    '''\n",
        "    Predicts the label for a document given the trained\n",
        "    priors and likelihoods.\n",
        "    Parameters\n",
        "    ----------\n",
        "    document: the document to analyse\n",
        "    priors: the trained priors\n",
        "    likelihoods: the trained likelihoods\n",
        "    Return\n",
        "    ------\n",
        "    A tuple (best_class, probabilities), where the first element\n",
        "    is the name of the best class, and the second element is the dictionary of\n",
        "    the computed probabilities.\n",
        "    '''\n",
        "    classes_probabilities = {}\n",
        "    # unpack the dictionary and iterate \n",
        "    # through the priors\n",
        "    for label, prior in priors.items():   \n",
        "        # -------------------------#\n",
        "        #      E X E R C I S E     #\n",
        "        # -------------------------#\n",
        "        # initialise the probability of a class to the log of its its prior\n",
        "        prob_class = np.log(prior)\n",
        "        for word in document:\n",
        "            if word in likelihoods[label]:\n",
        "                # sum the prior with the log-likelihood of each word\n",
        "                prob_class = prob_class + np.log(likelihoods[label][word])\n",
        "        classes_probabilities[label] = prob_class\n",
        "    # get the names of the classes\n",
        "    class_names = list(priors.keys())\n",
        "    # -------------------------#\n",
        "    #      E X E R C I S E     #\n",
        "    # -------------------------#\n",
        "    # complete the next line by selecting the name of the best class.\n",
        "    # hint: the probabilities are saved in the dictionaries, and\n",
        "    # you can access them by using classes_probabilities.values(), which\n",
        "    # can be converted to a list using list(x)\n",
        "    best_class = class_names[np.argmax(list(classes_probabilities.values()))]\n",
        "    # ~      end exercise    ~ #\n",
        "    return best_class, classes_probabilities          \n",
        "  </code></pre></p>\n",
        "\n",
        "</details> "
      ]
    },
    {
      "cell_type": "code",
      "metadata": {
        "id": "k0QBD28e_ky7",
        "outputId": "f152b7e4-1c99-4150-fdf5-9fa44fd4fc9c",
        "colab": {
          "base_uri": "https://localhost:8080/"
        }
      },
      "source": [
        "document = ['fast', 'couple', 'shoot', 'fly']\n",
        "bayes_predict_log(document, priors, likelihoods)"
      ],
      "execution_count": 33,
      "outputs": [
        {
          "output_type": "execute_result",
          "data": {
            "text/plain": [
              "('action', {'action': -8.671115273688494, 'comedy': -9.52173897104528})"
            ]
          },
          "metadata": {
            "tags": []
          },
          "execution_count": 33
        }
      ]
    },
    {
      "cell_type": "markdown",
      "metadata": {
        "id": "GLWdEYHx_ky-"
      },
      "source": [
        "Good! Now the values are more reasonable and we can expect our computer to make less errors. Also, the code will run quicker, as summing typically requires less computational time than multiplying."
      ]
    },
    {
      "cell_type": "markdown",
      "metadata": {
        "id": "dw743DKd_ky_"
      },
      "source": [
        "### Other improvements\n",
        "\n",
        "Naturally, we could improve our Naive Bayes implementation even further. We could try different smoothing techniques, we could cache the log-likelihoods in the `likelihoods` dictionary instead of applying `np.log` every time, and so on. For now, let's just be happy with what we've done, and let's apply our code to the data of the previous lecture."
      ]
    },
    {
      "cell_type": "markdown",
      "metadata": {
        "id": "M9rRFTGW_ky_"
      },
      "source": [
        "## Classify the *Thumbs up?* dataset\n",
        "\n",
        "Now let's test our model on a real research dataset. We will use the data from the paper [*Thumbs up? Sentiment Classification using Machine Learning Techniques*](https://www.aclweb.org/anthology/W02-1011.pdf). The dataset consists in 1301 positive reviews and 752 negative reviews from [IMDb](https://www.imdb.com/), a large online database of facts and reviews of movies.\n",
        "\n",
        "For this part, you are **not** required to understand how the data loading and preparation works, but we encourage you to study the code anyway. After we have loaded the dataset, ou will use the model you just wrote to classify it. \n",
        "The paper reports 78.7 accuracy for their Naive Bayes unigrams model; let's see if your code is able to reach this performance."
      ]
    },
    {
      "cell_type": "markdown",
      "metadata": {
        "id": "Mbp7qlp-_kzB"
      },
      "source": [
        "### Data preprocessing\n",
        "\n",
        "In this section, we will download the data from GitHub and we'll preprocess them so that they are in the same format as above. As a reminder, training data is formatted this way:\n",
        "\n",
        "```python\n",
        "train_docs = [['fun', 'couple', 'love', 'love'],\n",
        " ['fast', 'furious', 'shoot'],\n",
        " ['couple', 'fly', 'fast', 'fun', 'fun'],\n",
        " ['furious', 'shoot', 'shoot', 'fun'],\n",
        " ['fly', 'fast', 'shoot', 'love']]\n",
        "\n",
        " train_labels = ['comedy', 'action', 'comedy', 'action', 'action']\n",
        "```\n",
        "\n",
        "Our goal is to transform the Thumb Up! dataset in this format in order to use\n",
        "the functions we defined above without any modification."
      ]
    },
    {
      "cell_type": "markdown",
      "metadata": {
        "id": "F7G2To1gt6Pv"
      },
      "source": [
        "Let's start by downloading the data. We use the UNIX utility `wget` for this; please be aware that if you're running this code on a Windows machine it most likely won't work, and you'll have to download the dataset by yourself and unzip it in the same folder of this notebook."
      ]
    },
    {
      "cell_type": "code",
      "metadata": {
        "id": "mbG1EoQdDGF7",
        "outputId": "126e64a7-ea1d-473a-cb9c-4e0659b8aee1",
        "colab": {
          "base_uri": "https://localhost:8080/"
        }
      },
      "source": [
        "!wget https://github.com/cambridgeltl/python4cl/raw/module_2.1/module_2/module_2.1/data.zip\n",
        "!unzip -n -q data.zip"
      ],
      "execution_count": 122,
      "outputs": [
        {
          "output_type": "stream",
          "text": [
            "--2020-11-04 14:39:06--  https://github.com/cambridgeltl/python4cl/raw/module_2.1/module_2/module_2.1/data.zip\n",
            "Resolving github.com (github.com)... 140.82.112.3\n",
            "Connecting to github.com (github.com)|140.82.112.3|:443... connected.\n",
            "HTTP request sent, awaiting response... 302 Found\n",
            "Location: https://raw.githubusercontent.com/cambridgeltl/python4cl/module_2.1/module_2/module_2.1/data.zip [following]\n",
            "--2020-11-04 14:39:07--  https://raw.githubusercontent.com/cambridgeltl/python4cl/module_2.1/module_2/module_2.1/data.zip\n",
            "Resolving raw.githubusercontent.com (raw.githubusercontent.com)... 151.101.0.133, 151.101.64.133, 151.101.128.133, ...\n",
            "Connecting to raw.githubusercontent.com (raw.githubusercontent.com)|151.101.0.133|:443... connected.\n",
            "HTTP request sent, awaiting response... 200 OK\n",
            "Length: 4848090 (4.6M) [application/zip]\n",
            "Saving to: ‘data.zip.1’\n",
            "\n",
            "data.zip.1          100%[===================>]   4.62M  13.2MB/s    in 0.4s    \n",
            "\n",
            "2020-11-04 14:39:08 (13.2 MB/s) - ‘data.zip.1’ saved [4848090/4848090]\n",
            "\n"
          ],
          "name": "stdout"
        }
      ]
    },
    {
      "cell_type": "markdown",
      "metadata": {
        "id": "6FSY9LFa3t4o"
      },
      "source": [
        "Let's now load the data. We will define a function that:\n",
        "\n",
        "1. Finds all the files in a directory;\n",
        "2. For each file:\n",
        "  - Loads the content of the file in a string, and\n",
        "  - Extracts all the words from the document by using `re.findall`;\n",
        "3. Finally, it returns the data as a list of lists of words, e.g.:\n",
        "\n",
        "```python\n",
        "[['hello', 'world', '...' ],   # document 1\n",
        " ['lorem', 'ipsum', '...' ],   # document 2\n",
        " ...\n",
        "]\n",
        "```\n",
        "\n",
        "You should rememeber `re.findall` from Module 1, but we encourage you to have a look at the [documentation](https://docs.python.org/3/library/re.html#re.findall)\n",
        "and play with this function."
      ]
    },
    {
      "cell_type": "code",
      "metadata": {
        "id": "092x5LN5DGtO"
      },
      "source": [
        "# modules needed to locate and split the data\n",
        "import os\n",
        "import random\n",
        "import re\n",
        "\n",
        "\n",
        "def process_docs(directory):\n",
        "    \"\"\"\n",
        "    Parameters\n",
        "    ----------\n",
        "    directory: a directory containing positive/negative samples from the Thumbs\n",
        "    Up! dataset.\n",
        "\n",
        "    Return\n",
        "    ------\n",
        "    A list of of documents, where each document is a list of words.\n",
        "    \"\"\"\n",
        "    \n",
        "    \n",
        "    docs=[] # this will contain the documents we'll find\n",
        "\n",
        "    # walk through all files in the folder\n",
        "    for filename in os.listdir(directory):\n",
        "\n",
        "        # skip files that do not have the right extension\n",
        "        if not filename.endswith(\".txt\"):\n",
        "            continue\n",
        "        \n",
        "        # Load the document:\n",
        "        # open the file as read only\n",
        "        with open(os.path.join(directory,filename), 'r') as f:\n",
        "          # read all text and put it in a single long string\n",
        "          doc = ''.join(f.readlines())\n",
        "          # extract all the words; \n",
        "          # re.findall finds all the substrings matching a regular expression.\n",
        "          # try the line below on some toy examples to understand how it works.\n",
        "          doc = re.findall(r'\\w+', doc)\n",
        "\n",
        "        # add the new document to the list of documents\n",
        "        docs.append(doc)\n",
        "\n",
        "    # return everything we've found\n",
        "    return docs\n",
        " \n",
        "# load positive examples\n",
        "positive_docs = process_docs(os.path.join('data', 'pos'))\n",
        "# load negative examples\n",
        "negative_docs = process_docs(os.path.join('data', 'neg'))"
      ],
      "execution_count": 125,
      "outputs": []
    },
    {
      "cell_type": "markdown",
      "metadata": {
        "id": "ZE8539Fh5gXP"
      },
      "source": [
        "Now we have our lists of documents:"
      ]
    },
    {
      "cell_type": "code",
      "metadata": {
        "id": "B7yR3D6J5j79",
        "outputId": "02a038ba-6d95-44cc-a6f3-80b8491b156c",
        "colab": {
          "base_uri": "https://localhost:8080/"
        }
      },
      "source": [
        "print('First 10 words of the first 2 positive documents:')\n",
        "print(positive_docs[0][:10])\n",
        "print(positive_docs[1][:10])\n",
        "print('First 10 words of the first 2 negative documents:')\n",
        "print(negative_docs[0][:10])\n",
        "print(negative_docs[1][:10])"
      ],
      "execution_count": 129,
      "outputs": [
        {
          "output_type": "stream",
          "text": [
            "First 10 words of the first 2 positive documents:\n",
            "['ingredients', 'starving', 'artist', 'lusting', 'after', 'a', 'beautiful', 'woman', 'from', 'his']\n",
            "['since', '1990', 'the', 'dramatic', 'picture', 'has', 'undergone', 'a', 'certain', 'change']\n",
            "First 10 words of the first 2 negative documents:\n",
            "['jessica', 'lange', 'is', 'one', 'of', 'the', 'most', 'inconsistent', 'actresses', 'working']\n",
            "['writer', 'director', 'lawrence', 'kasdan', 'had', 'a', 'hand', 'in', 'penning', 'some']\n"
          ],
          "name": "stdout"
        }
      ]
    },
    {
      "cell_type": "markdown",
      "metadata": {
        "id": "i4VJcqL35kRF"
      },
      "source": [
        "Now we need to shuffle this data to obtain a training and testing set. We will \n",
        "use [`zip()`](https://docs.python.org/3/library/functions.html#zip), which \n",
        "allows us to create two list of tuples `[(positive_doc_1, 'pos'), ... (positive_doc_n, 'pos')]`\n",
        "and `[(negative_doc_1, 'neg'), ... (negative_doc_n, 'neg')]` for positive and \n",
        "negative documents respectively."
      ]
    },
    {
      "cell_type": "code",
      "metadata": {
        "id": "KB8jwu5qDG3X"
      },
      "source": [
        "all_docs = list(zip(positive_docs, ['pos'] * len(positive_docs))) +\\\n",
        "  list(zip(negative_docs, ['neg'] * len(negative_docs)))"
      ],
      "execution_count": 103,
      "outputs": []
    },
    {
      "cell_type": "markdown",
      "metadata": {
        "id": "nfuVqsrB7N2K"
      },
      "source": [
        "> **<h3>💻 Try it yourself!</h3>**\n",
        "\n",
        "Have a look at the list `all_docs` in the cell below. Reassure yourself that the data is in the \n",
        "format defined above; check that the first element has a `pos` label and that the last element has a `neg` label."
      ]
    },
    {
      "cell_type": "code",
      "metadata": {
        "id": "_bu0W5H1DHA6"
      },
      "source": [
        ""
      ],
      "execution_count": 129,
      "outputs": []
    },
    {
      "cell_type": "markdown",
      "metadata": {
        "id": "xHebWM3C7sY_"
      },
      "source": [
        "### Shuffle the data\n",
        "\n",
        "Now we need to shuffle the data. We will use the function [`random.shuffle()`](https://docs.python.org/3/library/random.html#random.shuffle), which shuffles an array using a [pseudorandom number generator](https://en.wikipedia.org/wiki/Pseudorandom_number_generator). You don't really need to know the nuts and bolts\n",
        "of random number generation, but it's very important to stress that in computer\n",
        "science, random number are not actually that random, but they are generated by\n",
        "a function that emulates a random distribution.\n",
        "\n",
        "This function starts from a value, called seed. If we manually set the seed, we \n",
        "can ensure that the data generated by our random function is consistent \n",
        "throughout different runs, hence guaranteeing the repetibility of our experiments.\n",
        "\n",
        "> 💻 Try it yourself!\n",
        "\n",
        "Look at the cell below and run it. Then, change the parameter of `random.seed()` with a value of your choice and then run it again. Now change it again to the original value (`1203`). What happens? Why? Have a very quick look at the \n",
        "Wikipedia page of  pseudorandom number generators using the link above. "
      ]
    },
    {
      "cell_type": "code",
      "metadata": {
        "id": "fxuSHwGT9oeO",
        "outputId": "adb49c3c-691e-41d9-f065-385c874ffd0a",
        "colab": {
          "base_uri": "https://localhost:8080/"
        }
      },
      "source": [
        "random.seed(1203)\n",
        "print(random.randrange(100))  # generates a random number between 0 and 100\n",
        "print(random.randrange(100))  \n",
        "print(random.randrange(100))  "
      ],
      "execution_count": 138,
      "outputs": [
        {
          "output_type": "stream",
          "text": [
            "26\n",
            "46\n",
            "23\n"
          ],
          "name": "stdout"
        }
      ]
    },
    {
      "cell_type": "markdown",
      "metadata": {
        "id": "D5riSGTb9pOo"
      },
      "source": [
        "Now that you understand how pseudo random number generation works, let's shuffle\n",
        "the array:"
      ]
    },
    {
      "cell_type": "code",
      "metadata": {
        "id": "A9YywrB1DHG7"
      },
      "source": [
        "random.seed(18)\n",
        "random.shuffle(all_docs)"
      ],
      "execution_count": 104,
      "outputs": []
    },
    {
      "cell_type": "markdown",
      "metadata": {
        "id": "kyEZPozU-Kqn"
      },
      "source": [
        "Retain the first 70% of the documents for training, and the remaining 30% for testing:"
      ]
    },
    {
      "cell_type": "code",
      "metadata": {
        "id": "3MSRHc1CDHNI"
      },
      "source": [
        "train_docs_thumbsup = all_docs[:int(len(all_docs)*(0.7))]\n",
        "test_docs_thumbsup =all_docs[int(len(all_docs)*(0.7)):]"
      ],
      "execution_count": 106,
      "outputs": []
    },
    {
      "cell_type": "markdown",
      "metadata": {
        "id": "BR3PW_-L-SAM"
      },
      "source": [
        "Now, extract the documents and the labels:"
      ]
    },
    {
      "cell_type": "code",
      "metadata": {
        "id": "hOOfi0a1Npoy"
      },
      "source": [
        "train_txts_thumbsup = [txt for txt, _ in train_docs_thumbsup]\n",
        "train_labels_thumbsup = [label for _, label in train_docs_thumbsup]"
      ],
      "execution_count": 107,
      "outputs": []
    },
    {
      "cell_type": "markdown",
      "metadata": {
        "id": "bUH2L_ab-VVU"
      },
      "source": [
        "Is the array really random? Let's have a look at the first 10 labels. Now they shouldn't be all positives:"
      ]
    },
    {
      "cell_type": "code",
      "metadata": {
        "id": "b3EQVKFrNpy5",
        "outputId": "0a91fa02-5b55-483a-d970-884ff7e61d77",
        "colab": {
          "base_uri": "https://localhost:8080/"
        }
      },
      "source": [
        "train_labels_thumbsup[:10]"
      ],
      "execution_count": 109,
      "outputs": [
        {
          "output_type": "execute_result",
          "data": {
            "text/plain": [
              "['neg', 'pos', 'neg', 'pos', 'pos', 'neg', 'neg', 'neg', 'neg', 'pos']"
            ]
          },
          "metadata": {
            "tags": []
          },
          "execution_count": 109
        }
      ]
    },
    {
      "cell_type": "markdown",
      "metadata": {
        "id": "tb9IcHd37uEE"
      },
      "source": [
        "### Run the model\n",
        "\n",
        "Now we have our documents and labels arrays in the same format as before. Let's feed them to our `train_naive_bayes()` function and train the model."
      ]
    },
    {
      "cell_type": "code",
      "metadata": {
        "id": "zVXOzoVTNp7K"
      },
      "source": [
        "tu_priors, tu_likelihoods = train_naive_bayes(train_txts_thumbsup, train_labels_thumbsup, 'add1')"
      ],
      "execution_count": 112,
      "outputs": []
    },
    {
      "cell_type": "markdown",
      "metadata": {
        "id": "F82khtdX-gxP"
      },
      "source": [
        "> 💻 Try it yourself!\n",
        "\n",
        "Very well! Now let's see how well our classifier works. In the cell below, let's\n",
        "calculate the accuracy of our algorithm.\n",
        "\n",
        "Accuracy is a metric that calculates how many times the algorithm returns the correct result. Update the cell below to obtain the accuracy of our Naive Bayes classifier on the test set."
      ]
    },
    {
      "cell_type": "code",
      "metadata": {
        "id": "hyw_GHGhOWvT",
        "outputId": "95072731-3ff3-4dfb-d220-1fbd22172cb4",
        "colab": {
          "base_uri": "https://localhost:8080/"
        }
      },
      "source": [
        "correct_answers = 0\n",
        "# iterate over the documents in the training set;\n",
        "# unpack each (document, label) tuple\n",
        "for doc, true_label in test_docs_thumbsup:\n",
        "  # predict the label for the document\n",
        "  predicted_label, _ = bayes_predict_log(doc, tu_priors, tu_likelihoods)\n",
        "  # if the predicted label is the same as the true label, \n",
        "  # update the counter\n",
        "  # write your code here!\n",
        "\n",
        "# calculate the accuracy score\n",
        "accuracy = # write your code here!\n",
        "\n",
        "# print the accuracy\n",
        "print(accuracy)"
      ],
      "execution_count": 140,
      "outputs": [
        {
          "output_type": "stream",
          "text": [
            "0.7883333333333333\n"
          ],
          "name": "stdout"
        }
      ]
    },
    {
      "cell_type": "markdown",
      "metadata": {
        "id": "cG_0f79xCiJ5"
      },
      "source": [
        "<hr>    <!-- please remember this! -->\n",
        "<details>\n",
        "  <summary>Click <b>here</b> to see the answer.</summary>\n",
        "    <p><pre><code>correct_answers = 0\n",
        "# iterate over the documents in the training set;\n",
        "# unpack each (document, label) tuple\n",
        "for doc, true_label in test_docs_thumbsup:\n",
        "  # predict the label for the document\n",
        "  predicted_label, _ = bayes_predict_log(doc, tu_priors, tu_likelihoods)\n",
        "  # if the predicted label is the same as the true label, \n",
        "  # update the counter\n",
        "  if true_label == predicted_label:\n",
        "    correct_answers += 1\n",
        "# calculate the accuracy score\n",
        "accuracy = correct_answers/len(test_docs_thumbsup)\n",
        "# print the accuracy\n",
        "print(accuracy)\n",
        "    </code></pre></p>\n",
        "</details> "
      ]
    },
    {
      "cell_type": "markdown",
      "metadata": {
        "id": "lMI1GBZ8_XkL"
      },
      "source": [
        "Great! $78.\\overline{3}\\%$ accuracy with such a simple model. The original paper obtained \n",
        "$78.7\\%$ with a similar configuration; however, we must note that their score is obtained by averaging the score of the models with three different training/test split, and they used further preprocessing steps, so the scores are not directly comparable. \n",
        "\n",
        "However, your score is very similar to the one obtained in the paper, which is \n",
        "very good! In the next module we will use another popular Python library, `scikit-learn`, to try and improve this result."
      ]
    },
    {
      "cell_type": "markdown",
      "metadata": {
        "id": "LskAC01y-3Le"
      },
      "source": [
        "# Final Test\n",
        "\n",
        "Possibilities:\n",
        "\n",
        "1. Calculate P/R/F of positives\n",
        "2. Run 5-fold cross validation to introduce the concepts of statistical significance\n",
        "3. Find another smoothing function and have the students update the training function with it"
      ]
    },
    {
      "cell_type": "markdown",
      "metadata": {
        "id": "qSML4-ci_kzC"
      },
      "source": [
        "## Wrapping up\n",
        "\n",
        "### Additional resources\n",
        "\n",
        "- Naive Bayes chapter from [Manning, Raghavan and Schütze's Introduction to Information Retrieval](https://nlp.stanford.edu/IR-book/html/htmledition/naive-bayes-text-classification-1.html)\n",
        "- Python's official documentation on [floating-point arithmetics and its issues](https://docs.python.org/3/tutorial/floatingpoint.html)\n",
        "-  `scikit-learn`'s [implementation of Naive Bayes](https://github.com/scikit-learn/scikit-learn/blob/0fb307bf3/sklearn/naive_bayes.py#L669)\n",
        "- Zhai and Lafferty, *A study of smoothing methods for language models applied to information retrieval*: a paper comparing different smoothing techniques for language models. [[pdf](http://citeseerx.ist.psu.edu/viewdoc/download?doi=10.1.1.58.8978&rep=rep1&type=pdf)]"
      ]
    }
  ]
}